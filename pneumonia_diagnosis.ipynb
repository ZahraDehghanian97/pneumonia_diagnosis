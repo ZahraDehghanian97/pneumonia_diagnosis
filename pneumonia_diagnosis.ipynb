{
  "metadata": {
    "kernelspec": {
      "name": "python3",
      "display_name": "Python 3",
      "language": "python"
    },
    "language_info": {
      "name": "python",
      "version": "3.7.12",
      "mimetype": "text/x-python",
      "codemirror_mode": {
        "name": "ipython",
        "version": 3
      },
      "pygments_lexer": "ipython3",
      "nbconvert_exporter": "python",
      "file_extension": ".py"
    },
    "colab": {
      "provenance": [],
      "include_colab_link": true
    }
  },
  "nbformat_minor": 5,
  "nbformat": 4,
  "cells": [
    {
      "cell_type": "markdown",
      "metadata": {
        "id": "view-in-github",
        "colab_type": "text"
      },
      "source": [
        "<a href=\"https://colab.research.google.com/github/zahraDehghanian97/pneumonia_dignosis/blob/master/pneumonia_diagnosis.ipynb\" target=\"_parent\"><img src=\"https://colab.research.google.com/assets/colab-badge.svg\" alt=\"Open In Colab\"/></a>"
      ]
    },
    {
      "cell_type": "markdown",
      "source": [
        "## What is Pneumonia?\n",
        "**Pneumonia is an inflammatory condition of the lung affecting primarily the small air sacs known as alveoli.Symptoms typically include some combination of productive or dry cough, chest pain, fever and difficulty breathing. The severity of the condition is variable. Pneumonia is usually caused by infection with viruses or bacteria and less commonly by other microorganisms, certain medications or conditions such as autoimmune diseases.Risk factors include cystic fibrosis, chronic obstructive pulmonary disease (COPD), asthma, diabetes, heart failure, a history of smoking, a poor ability to cough such as following a stroke and a weak immune system. Diagnosis is often based on symptoms and physical examination. Chest X-ray, blood tests, and culture of the sputum may help confirm the diagnosis.The disease may be classified by where it was acquired, such as community- or hospital-acquired or healthcare-associated pneumonia.**\n",
        "\n",
        "\n",
        "\n",
        "<img src=\"https://www.pulmonologyadvisor.com/wp-content/uploads/sites/21/2020/01/respiratory.pathogens_G_1059134060.jpg\" width=\"820\" height=\"360\" align=\"center\"/>"
      ],
      "metadata": {
        "execution": {
          "iopub.status.busy": "2022-11-01T11:49:51.739464Z",
          "iopub.execute_input": "2022-11-01T11:49:51.740198Z",
          "iopub.status.idle": "2022-11-01T11:49:51.753237Z",
          "shell.execute_reply.started": "2022-11-01T11:49:51.740157Z",
          "shell.execute_reply": "2022-11-01T11:49:51.751833Z"
        },
        "id": "nZdhpIDL8JQR"
      },
      "id": "nZdhpIDL8JQR"
    },
    {
      "cell_type": "markdown",
      "source": [
        "## Description of the Pneumonia Dataset\n",
        "**The dataset is organized into 3 folders (train, test, val) and contains subfolders for each image category (Pneumonia/Normal). There are 5,863 X-Ray images (JPEG) and 2 categories (Pneumonia/Normal).\n",
        "Chest X-ray images (anterior-posterior) were selected from retrospective cohorts of pediatric patients of one to five years old from Guangzhou Women and Children’s Medical Center, Guangzhou. All chest X-ray imaging was performed as part of patients’ routine clinical care.\n",
        "For the analysis of chest x-ray images, all chest radiographs were initially screened for quality control by removing all low quality or unreadable scans. The diagnoses for the images were then graded by two expert physicians before being cleared for training the AI system. In order to account for any grading errors, the evaluation set was also checked by a third expert.**\n",
        "\n",
        "<img src=\"https://www.ecanadanow.com/wp-content/uploads/2015/08/download-1000x600.jpg\" width=\"820\" height=\"360\" align=\"center\"/>"
      ],
      "metadata": {
        "id": "EAtw3Dk18JQX"
      },
      "id": "EAtw3Dk18JQX"
    },
    {
      "cell_type": "markdown",
      "source": [
        "----------------------------------------------------\n",
        "## Import libraries"
      ],
      "metadata": {
        "id": "1ipkkQGd8JQY"
      },
      "id": "1ipkkQGd8JQY"
    },
    {
      "cell_type": "code",
      "source": [
        "import pandas as pd       \n",
        "import numpy as np\n",
        "\n",
        "import matplotlib.pyplot as plt\n",
        "import seaborn as sns\n",
        "import plotly.offline as py\n",
        "py.init_notebook_mode(connected=True)\n",
        "import plotly.graph_objs as go\n",
        "import plotly.tools as tls\n",
        "import plotly.figure_factory as ff\n",
        "\n",
        "import keras\n",
        "from keras.models import Sequential\n",
        "from keras.layers import Dense, Conv2D , MaxPool2D , Flatten , Dropout , BatchNormalization\n",
        "from keras.callbacks import ReduceLROnPlateau\n",
        "from keras.preprocessing.image import ImageDataGenerator\n",
        "\n",
        "from sklearn.model_selection import train_test_split\n",
        "from sklearn.metrics import classification_report,confusion_matrix\n",
        "from sklearn.model_selection import train_test_split\n",
        "from sklearn import metrics\n",
        "from sklearn.metrics import accuracy_score\n",
        "\n",
        "\n",
        "import tensorflow as tf\n",
        "from tensorflow import keras\n",
        "from tensorflow.keras import layers\n",
        "from tensorflow.keras import callbacks\n",
        "from tensorflow.keras.models import Model\n",
        "from tensorflow.keras.preprocessing.image import ImageDataGenerator\n",
        "\n",
        "\n",
        "import cv2\n",
        "\n",
        "import warnings\n",
        "warnings.filterwarnings('ignore')\n",
        "\n",
        "import random\n",
        "import os\n",
        "import glob\n",
        "from numpy.random import seed\n",
        "seed(42)\n",
        "\n",
        "random.seed(42)\n",
        "os.environ['PYTHONHASHSEED'] = str(42)\n",
        "os.environ['TF_DETERMINISTIC_OPS'] = '1'\n",
        "\n",
        "from tensorflow.random import set_seed\n",
        "set_seed(42)"
      ],
      "metadata": {
        "execution": {
          "iopub.status.busy": "2022-11-01T13:52:52.419593Z",
          "iopub.execute_input": "2022-11-01T13:52:52.419982Z",
          "iopub.status.idle": "2022-11-01T13:52:52.438645Z",
          "shell.execute_reply.started": "2022-11-01T13:52:52.419952Z",
          "shell.execute_reply": "2022-11-01T13:52:52.437549Z"
        },
        "trusted": true,
        "id": "7BvYf3TL8JQY",
        "outputId": "cbbab62d-7f81-4a9b-cbe7-9f53d5c82766"
      },
      "execution_count": null,
      "outputs": [
        {
          "output_type": "display_data",
          "data": {
            "text/html": "        <script type=\"text/javascript\">\n        window.PlotlyConfig = {MathJaxConfig: 'local'};\n        if (window.MathJax && window.MathJax.Hub && window.MathJax.Hub.Config) {window.MathJax.Hub.Config({SVG: {font: \"STIX-Web\"}});}\n        if (typeof require !== 'undefined') {\n        require.undef(\"plotly\");\n        requirejs.config({\n            paths: {\n                'plotly': ['https://cdn.plot.ly/plotly-2.14.0.min']\n            }\n        });\n        require(['plotly'], function(Plotly) {\n            window._Plotly = Plotly;\n        });\n        }\n        </script>\n        "
          },
          "metadata": {}
        }
      ],
      "id": "7BvYf3TL8JQY"
    },
    {
      "cell_type": "code",
      "source": [
        "IMG_SIZE = 224\n",
        "BATCH = 32\n",
        "SEED = 42"
      ],
      "metadata": {
        "execution": {
          "iopub.status.busy": "2022-11-01T13:52:52.440845Z",
          "iopub.execute_input": "2022-11-01T13:52:52.441277Z",
          "iopub.status.idle": "2022-11-01T13:52:52.446299Z",
          "shell.execute_reply.started": "2022-11-01T13:52:52.441242Z",
          "shell.execute_reply": "2022-11-01T13:52:52.445376Z"
        },
        "trusted": true,
        "id": "Hs4rnmj98JQc"
      },
      "execution_count": null,
      "outputs": [],
      "id": "Hs4rnmj98JQc"
    },
    {
      "cell_type": "markdown",
      "source": [
        "------------------------------\n",
        "## Read Data"
      ],
      "metadata": {
        "id": "NUbrE5ou8JQc"
      },
      "id": "NUbrE5ou8JQc"
    },
    {
      "cell_type": "code",
      "source": [
        "main_path = \"../input/chest-xray-pneumonia/chest_xray/\"\n",
        "\n",
        "\n",
        "train_path = os.path.join(main_path,\"train\")\n",
        "test_path=os.path.join(main_path,\"test\")\n",
        "val_path=os.path.join(main_path,\"val\")\n",
        "\n",
        "train_normal = glob.glob(train_path+\"/NORMAL/*.jpeg\")\n",
        "train_pneumonia = glob.glob(train_path+\"/PNEUMONIA/*.jpeg\")\n",
        "\n",
        "test_normal = glob.glob(test_path+\"/NORMAL/*.jpeg\")\n",
        "test_pneumonia = glob.glob(test_path+\"/PNEUMONIA/*.jpeg\")\n",
        "\n",
        "val_normal = glob.glob(val_path+\"/NORMAL/*.jpeg\")\n",
        "val_pneumonia = glob.glob(val_path+\"/PNEUMONIA/*.jpeg\")"
      ],
      "metadata": {
        "execution": {
          "iopub.status.busy": "2022-11-01T13:52:52.447961Z",
          "iopub.execute_input": "2022-11-01T13:52:52.448958Z",
          "iopub.status.idle": "2022-11-01T13:52:52.483865Z",
          "shell.execute_reply.started": "2022-11-01T13:52:52.448923Z",
          "shell.execute_reply": "2022-11-01T13:52:52.482975Z"
        },
        "trusted": true,
        "id": "RQYCn2fP8JQd"
      },
      "execution_count": null,
      "outputs": [],
      "id": "RQYCn2fP8JQd"
    },
    {
      "cell_type": "code",
      "source": [
        "train_list = [x for x in train_normal]\n",
        "train_list.extend([x for x in train_pneumonia])\n",
        "\n",
        "df_train = pd.DataFrame(np.concatenate([['Normal']*len(train_normal) , ['Pneumonia']*len(train_pneumonia)]), columns = ['class'])\n",
        "df_train['image'] = [x for x in train_list]\n",
        "\n",
        "\n",
        "\n",
        "test_list = [x for x in test_normal]\n",
        "test_list.extend([x for x in test_pneumonia])\n",
        "\n",
        "df_test = pd.DataFrame(np.concatenate([['Normal']*len(test_normal) , ['Pneumonia']*len(test_pneumonia)]), columns = ['class'])\n",
        "df_test['image'] = [x for x in test_list]\n",
        "\n",
        "\n",
        "val_list = [x for x in val_normal]\n",
        "val_list.extend([x for x in val_pneumonia])\n",
        "\n",
        "df_val = pd.DataFrame(np.concatenate([['Normal']*len(val_normal) , ['Pneumonia']*len(val_pneumonia)]), columns = ['class'])\n",
        "df_val['image'] = [x for x in val_list]"
      ],
      "metadata": {
        "execution": {
          "iopub.status.busy": "2022-11-01T13:52:52.485786Z",
          "iopub.execute_input": "2022-11-01T13:52:52.486136Z",
          "iopub.status.idle": "2022-11-01T13:52:52.501002Z",
          "shell.execute_reply.started": "2022-11-01T13:52:52.486102Z",
          "shell.execute_reply": "2022-11-01T13:52:52.500123Z"
        },
        "trusted": true,
        "id": "e1FXzoIM8JQd"
      },
      "execution_count": null,
      "outputs": [],
      "id": "e1FXzoIM8JQd"
    },
    {
      "cell_type": "code",
      "source": [
        "df_train"
      ],
      "metadata": {
        "execution": {
          "iopub.status.busy": "2022-11-01T13:52:52.502850Z",
          "iopub.execute_input": "2022-11-01T13:52:52.503546Z",
          "iopub.status.idle": "2022-11-01T13:52:52.516913Z",
          "shell.execute_reply.started": "2022-11-01T13:52:52.503512Z",
          "shell.execute_reply": "2022-11-01T13:52:52.515858Z"
        },
        "trusted": true,
        "id": "wCeTPy1Y8JQe",
        "outputId": "7e2f1a73-45d2-4f0d-b5c6-59eebeae1054"
      },
      "execution_count": null,
      "outputs": [
        {
          "execution_count": 26,
          "output_type": "execute_result",
          "data": {
            "text/plain": "          class                                              image\n0        Normal  ../input/chest-xray-pneumonia/chest_xray/train...\n1        Normal  ../input/chest-xray-pneumonia/chest_xray/train...\n2        Normal  ../input/chest-xray-pneumonia/chest_xray/train...\n3        Normal  ../input/chest-xray-pneumonia/chest_xray/train...\n4        Normal  ../input/chest-xray-pneumonia/chest_xray/train...\n...         ...                                                ...\n5211  Pneumonia  ../input/chest-xray-pneumonia/chest_xray/train...\n5212  Pneumonia  ../input/chest-xray-pneumonia/chest_xray/train...\n5213  Pneumonia  ../input/chest-xray-pneumonia/chest_xray/train...\n5214  Pneumonia  ../input/chest-xray-pneumonia/chest_xray/train...\n5215  Pneumonia  ../input/chest-xray-pneumonia/chest_xray/train...\n\n[5216 rows x 2 columns]",
            "text/html": "<div>\n<style scoped>\n    .dataframe tbody tr th:only-of-type {\n        vertical-align: middle;\n    }\n\n    .dataframe tbody tr th {\n        vertical-align: top;\n    }\n\n    .dataframe thead th {\n        text-align: right;\n    }\n</style>\n<table border=\"1\" class=\"dataframe\">\n  <thead>\n    <tr style=\"text-align: right;\">\n      <th></th>\n      <th>class</th>\n      <th>image</th>\n    </tr>\n  </thead>\n  <tbody>\n    <tr>\n      <th>0</th>\n      <td>Normal</td>\n      <td>../input/chest-xray-pneumonia/chest_xray/train...</td>\n    </tr>\n    <tr>\n      <th>1</th>\n      <td>Normal</td>\n      <td>../input/chest-xray-pneumonia/chest_xray/train...</td>\n    </tr>\n    <tr>\n      <th>2</th>\n      <td>Normal</td>\n      <td>../input/chest-xray-pneumonia/chest_xray/train...</td>\n    </tr>\n    <tr>\n      <th>3</th>\n      <td>Normal</td>\n      <td>../input/chest-xray-pneumonia/chest_xray/train...</td>\n    </tr>\n    <tr>\n      <th>4</th>\n      <td>Normal</td>\n      <td>../input/chest-xray-pneumonia/chest_xray/train...</td>\n    </tr>\n    <tr>\n      <th>...</th>\n      <td>...</td>\n      <td>...</td>\n    </tr>\n    <tr>\n      <th>5211</th>\n      <td>Pneumonia</td>\n      <td>../input/chest-xray-pneumonia/chest_xray/train...</td>\n    </tr>\n    <tr>\n      <th>5212</th>\n      <td>Pneumonia</td>\n      <td>../input/chest-xray-pneumonia/chest_xray/train...</td>\n    </tr>\n    <tr>\n      <th>5213</th>\n      <td>Pneumonia</td>\n      <td>../input/chest-xray-pneumonia/chest_xray/train...</td>\n    </tr>\n    <tr>\n      <th>5214</th>\n      <td>Pneumonia</td>\n      <td>../input/chest-xray-pneumonia/chest_xray/train...</td>\n    </tr>\n    <tr>\n      <th>5215</th>\n      <td>Pneumonia</td>\n      <td>../input/chest-xray-pneumonia/chest_xray/train...</td>\n    </tr>\n  </tbody>\n</table>\n<p>5216 rows × 2 columns</p>\n</div>"
          },
          "metadata": {}
        }
      ],
      "id": "wCeTPy1Y8JQe"
    },
    {
      "cell_type": "code",
      "source": [
        "df_test"
      ],
      "metadata": {
        "execution": {
          "iopub.status.busy": "2022-11-01T13:52:52.519054Z",
          "iopub.execute_input": "2022-11-01T13:52:52.519400Z",
          "iopub.status.idle": "2022-11-01T13:52:52.532806Z",
          "shell.execute_reply.started": "2022-11-01T13:52:52.519362Z",
          "shell.execute_reply": "2022-11-01T13:52:52.531810Z"
        },
        "trusted": true,
        "id": "WEjtur7M8JQf",
        "outputId": "85893881-ba39-443e-881d-5d2e61aeb9e8"
      },
      "execution_count": null,
      "outputs": [
        {
          "execution_count": 27,
          "output_type": "execute_result",
          "data": {
            "text/plain": "         class                                              image\n0       Normal  ../input/chest-xray-pneumonia/chest_xray/test/...\n1       Normal  ../input/chest-xray-pneumonia/chest_xray/test/...\n2       Normal  ../input/chest-xray-pneumonia/chest_xray/test/...\n3       Normal  ../input/chest-xray-pneumonia/chest_xray/test/...\n4       Normal  ../input/chest-xray-pneumonia/chest_xray/test/...\n..         ...                                                ...\n619  Pneumonia  ../input/chest-xray-pneumonia/chest_xray/test/...\n620  Pneumonia  ../input/chest-xray-pneumonia/chest_xray/test/...\n621  Pneumonia  ../input/chest-xray-pneumonia/chest_xray/test/...\n622  Pneumonia  ../input/chest-xray-pneumonia/chest_xray/test/...\n623  Pneumonia  ../input/chest-xray-pneumonia/chest_xray/test/...\n\n[624 rows x 2 columns]",
            "text/html": "<div>\n<style scoped>\n    .dataframe tbody tr th:only-of-type {\n        vertical-align: middle;\n    }\n\n    .dataframe tbody tr th {\n        vertical-align: top;\n    }\n\n    .dataframe thead th {\n        text-align: right;\n    }\n</style>\n<table border=\"1\" class=\"dataframe\">\n  <thead>\n    <tr style=\"text-align: right;\">\n      <th></th>\n      <th>class</th>\n      <th>image</th>\n    </tr>\n  </thead>\n  <tbody>\n    <tr>\n      <th>0</th>\n      <td>Normal</td>\n      <td>../input/chest-xray-pneumonia/chest_xray/test/...</td>\n    </tr>\n    <tr>\n      <th>1</th>\n      <td>Normal</td>\n      <td>../input/chest-xray-pneumonia/chest_xray/test/...</td>\n    </tr>\n    <tr>\n      <th>2</th>\n      <td>Normal</td>\n      <td>../input/chest-xray-pneumonia/chest_xray/test/...</td>\n    </tr>\n    <tr>\n      <th>3</th>\n      <td>Normal</td>\n      <td>../input/chest-xray-pneumonia/chest_xray/test/...</td>\n    </tr>\n    <tr>\n      <th>4</th>\n      <td>Normal</td>\n      <td>../input/chest-xray-pneumonia/chest_xray/test/...</td>\n    </tr>\n    <tr>\n      <th>...</th>\n      <td>...</td>\n      <td>...</td>\n    </tr>\n    <tr>\n      <th>619</th>\n      <td>Pneumonia</td>\n      <td>../input/chest-xray-pneumonia/chest_xray/test/...</td>\n    </tr>\n    <tr>\n      <th>620</th>\n      <td>Pneumonia</td>\n      <td>../input/chest-xray-pneumonia/chest_xray/test/...</td>\n    </tr>\n    <tr>\n      <th>621</th>\n      <td>Pneumonia</td>\n      <td>../input/chest-xray-pneumonia/chest_xray/test/...</td>\n    </tr>\n    <tr>\n      <th>622</th>\n      <td>Pneumonia</td>\n      <td>../input/chest-xray-pneumonia/chest_xray/test/...</td>\n    </tr>\n    <tr>\n      <th>623</th>\n      <td>Pneumonia</td>\n      <td>../input/chest-xray-pneumonia/chest_xray/test/...</td>\n    </tr>\n  </tbody>\n</table>\n<p>624 rows × 2 columns</p>\n</div>"
          },
          "metadata": {}
        }
      ],
      "id": "WEjtur7M8JQf"
    },
    {
      "cell_type": "code",
      "source": [
        "df_val"
      ],
      "metadata": {
        "execution": {
          "iopub.status.busy": "2022-11-01T13:52:52.534161Z",
          "iopub.execute_input": "2022-11-01T13:52:52.535129Z",
          "iopub.status.idle": "2022-11-01T13:52:52.545213Z",
          "shell.execute_reply.started": "2022-11-01T13:52:52.535084Z",
          "shell.execute_reply": "2022-11-01T13:52:52.544173Z"
        },
        "trusted": true,
        "id": "7fZw1tFT8JQf",
        "outputId": "70917997-e082-461d-a3e8-18f32e1c0e5f"
      },
      "execution_count": null,
      "outputs": [
        {
          "execution_count": 28,
          "output_type": "execute_result",
          "data": {
            "text/plain": "        class                                              image\n0      Normal  ../input/chest-xray-pneumonia/chest_xray/val/N...\n1      Normal  ../input/chest-xray-pneumonia/chest_xray/val/N...\n2      Normal  ../input/chest-xray-pneumonia/chest_xray/val/N...\n3      Normal  ../input/chest-xray-pneumonia/chest_xray/val/N...\n4      Normal  ../input/chest-xray-pneumonia/chest_xray/val/N...\n5      Normal  ../input/chest-xray-pneumonia/chest_xray/val/N...\n6      Normal  ../input/chest-xray-pneumonia/chest_xray/val/N...\n7      Normal  ../input/chest-xray-pneumonia/chest_xray/val/N...\n8   Pneumonia  ../input/chest-xray-pneumonia/chest_xray/val/P...\n9   Pneumonia  ../input/chest-xray-pneumonia/chest_xray/val/P...\n10  Pneumonia  ../input/chest-xray-pneumonia/chest_xray/val/P...\n11  Pneumonia  ../input/chest-xray-pneumonia/chest_xray/val/P...\n12  Pneumonia  ../input/chest-xray-pneumonia/chest_xray/val/P...\n13  Pneumonia  ../input/chest-xray-pneumonia/chest_xray/val/P...\n14  Pneumonia  ../input/chest-xray-pneumonia/chest_xray/val/P...\n15  Pneumonia  ../input/chest-xray-pneumonia/chest_xray/val/P...",
            "text/html": "<div>\n<style scoped>\n    .dataframe tbody tr th:only-of-type {\n        vertical-align: middle;\n    }\n\n    .dataframe tbody tr th {\n        vertical-align: top;\n    }\n\n    .dataframe thead th {\n        text-align: right;\n    }\n</style>\n<table border=\"1\" class=\"dataframe\">\n  <thead>\n    <tr style=\"text-align: right;\">\n      <th></th>\n      <th>class</th>\n      <th>image</th>\n    </tr>\n  </thead>\n  <tbody>\n    <tr>\n      <th>0</th>\n      <td>Normal</td>\n      <td>../input/chest-xray-pneumonia/chest_xray/val/N...</td>\n    </tr>\n    <tr>\n      <th>1</th>\n      <td>Normal</td>\n      <td>../input/chest-xray-pneumonia/chest_xray/val/N...</td>\n    </tr>\n    <tr>\n      <th>2</th>\n      <td>Normal</td>\n      <td>../input/chest-xray-pneumonia/chest_xray/val/N...</td>\n    </tr>\n    <tr>\n      <th>3</th>\n      <td>Normal</td>\n      <td>../input/chest-xray-pneumonia/chest_xray/val/N...</td>\n    </tr>\n    <tr>\n      <th>4</th>\n      <td>Normal</td>\n      <td>../input/chest-xray-pneumonia/chest_xray/val/N...</td>\n    </tr>\n    <tr>\n      <th>5</th>\n      <td>Normal</td>\n      <td>../input/chest-xray-pneumonia/chest_xray/val/N...</td>\n    </tr>\n    <tr>\n      <th>6</th>\n      <td>Normal</td>\n      <td>../input/chest-xray-pneumonia/chest_xray/val/N...</td>\n    </tr>\n    <tr>\n      <th>7</th>\n      <td>Normal</td>\n      <td>../input/chest-xray-pneumonia/chest_xray/val/N...</td>\n    </tr>\n    <tr>\n      <th>8</th>\n      <td>Pneumonia</td>\n      <td>../input/chest-xray-pneumonia/chest_xray/val/P...</td>\n    </tr>\n    <tr>\n      <th>9</th>\n      <td>Pneumonia</td>\n      <td>../input/chest-xray-pneumonia/chest_xray/val/P...</td>\n    </tr>\n    <tr>\n      <th>10</th>\n      <td>Pneumonia</td>\n      <td>../input/chest-xray-pneumonia/chest_xray/val/P...</td>\n    </tr>\n    <tr>\n      <th>11</th>\n      <td>Pneumonia</td>\n      <td>../input/chest-xray-pneumonia/chest_xray/val/P...</td>\n    </tr>\n    <tr>\n      <th>12</th>\n      <td>Pneumonia</td>\n      <td>../input/chest-xray-pneumonia/chest_xray/val/P...</td>\n    </tr>\n    <tr>\n      <th>13</th>\n      <td>Pneumonia</td>\n      <td>../input/chest-xray-pneumonia/chest_xray/val/P...</td>\n    </tr>\n    <tr>\n      <th>14</th>\n      <td>Pneumonia</td>\n      <td>../input/chest-xray-pneumonia/chest_xray/val/P...</td>\n    </tr>\n    <tr>\n      <th>15</th>\n      <td>Pneumonia</td>\n      <td>../input/chest-xray-pneumonia/chest_xray/val/P...</td>\n    </tr>\n  </tbody>\n</table>\n</div>"
          },
          "metadata": {}
        }
      ],
      "id": "7fZw1tFT8JQf"
    },
    {
      "cell_type": "markdown",
      "source": [
        "----------------------------------------\n",
        "## EDA"
      ],
      "metadata": {
        "id": "Su8xlDJg8JQg"
      },
      "id": "Su8xlDJg8JQg"
    },
    {
      "cell_type": "code",
      "source": [
        "Pneumonia = df_train[(df_train['class'] == 'Pneumonia')]\n",
        "Normal = df_train[(df_train['class'] == 'Normal')]\n",
        "\n",
        "trace = go.Bar(x = (len(Pneumonia), len(Normal)), y = ['Pneumonia', 'Normal'], orientation = 'h', opacity = 0.8, marker=dict(\n",
        "        color=['gold', 'lightskyblue'],\n",
        "        line=dict(color='#000000',width=1.5)))\n",
        "\n",
        "layout = dict(title =  'Count of class variable in train dataset')\n",
        "                    \n",
        "fig = dict(data = [trace], layout=layout)\n",
        "py.iplot(fig)"
      ],
      "metadata": {
        "execution": {
          "iopub.status.busy": "2022-11-01T13:52:52.547365Z",
          "iopub.execute_input": "2022-11-01T13:52:52.548230Z",
          "iopub.status.idle": "2022-11-01T13:52:52.585516Z",
          "shell.execute_reply.started": "2022-11-01T13:52:52.548204Z",
          "shell.execute_reply": "2022-11-01T13:52:52.584583Z"
        },
        "trusted": true,
        "id": "bs-0gK7d8JQg",
        "outputId": "c2fb39c3-f98f-4a54-c050-4c468b7de2ae"
      },
      "execution_count": null,
      "outputs": [
        {
          "output_type": "display_data",
          "data": {
            "application/vnd.plotly.v1+json": {
              "data": [
                {
                  "marker": {
                    "color": [
                      "gold",
                      "lightskyblue"
                    ],
                    "line": {
                      "color": "#000000",
                      "width": 1.5
                    }
                  },
                  "opacity": 0.8,
                  "orientation": "h",
                  "x": [
                    3875,
                    1341
                  ],
                  "y": [
                    "Pneumonia",
                    "Normal"
                  ],
                  "type": "bar"
                }
              ],
              "layout": {
                "template": {
                  "data": {
                    "barpolar": [
                      {
                        "marker": {
                          "line": {
                            "color": "#E5ECF6",
                            "width": 0.5
                          },
                          "pattern": {
                            "fillmode": "overlay",
                            "size": 10,
                            "solidity": 0.2
                          }
                        },
                        "type": "barpolar"
                      }
                    ],
                    "bar": [
                      {
                        "error_x": {
                          "color": "#2a3f5f"
                        },
                        "error_y": {
                          "color": "#2a3f5f"
                        },
                        "marker": {
                          "line": {
                            "color": "#E5ECF6",
                            "width": 0.5
                          },
                          "pattern": {
                            "fillmode": "overlay",
                            "size": 10,
                            "solidity": 0.2
                          }
                        },
                        "type": "bar"
                      }
                    ],
                    "carpet": [
                      {
                        "aaxis": {
                          "endlinecolor": "#2a3f5f",
                          "gridcolor": "white",
                          "linecolor": "white",
                          "minorgridcolor": "white",
                          "startlinecolor": "#2a3f5f"
                        },
                        "baxis": {
                          "endlinecolor": "#2a3f5f",
                          "gridcolor": "white",
                          "linecolor": "white",
                          "minorgridcolor": "white",
                          "startlinecolor": "#2a3f5f"
                        },
                        "type": "carpet"
                      }
                    ],
                    "choropleth": [
                      {
                        "colorbar": {
                          "outlinewidth": 0,
                          "ticks": ""
                        },
                        "type": "choropleth"
                      }
                    ],
                    "contourcarpet": [
                      {
                        "colorbar": {
                          "outlinewidth": 0,
                          "ticks": ""
                        },
                        "type": "contourcarpet"
                      }
                    ],
                    "contour": [
                      {
                        "colorbar": {
                          "outlinewidth": 0,
                          "ticks": ""
                        },
                        "colorscale": [
                          [
                            0,
                            "#0d0887"
                          ],
                          [
                            0.1111111111111111,
                            "#46039f"
                          ],
                          [
                            0.2222222222222222,
                            "#7201a8"
                          ],
                          [
                            0.3333333333333333,
                            "#9c179e"
                          ],
                          [
                            0.4444444444444444,
                            "#bd3786"
                          ],
                          [
                            0.5555555555555556,
                            "#d8576b"
                          ],
                          [
                            0.6666666666666666,
                            "#ed7953"
                          ],
                          [
                            0.7777777777777778,
                            "#fb9f3a"
                          ],
                          [
                            0.8888888888888888,
                            "#fdca26"
                          ],
                          [
                            1,
                            "#f0f921"
                          ]
                        ],
                        "type": "contour"
                      }
                    ],
                    "heatmapgl": [
                      {
                        "colorbar": {
                          "outlinewidth": 0,
                          "ticks": ""
                        },
                        "colorscale": [
                          [
                            0,
                            "#0d0887"
                          ],
                          [
                            0.1111111111111111,
                            "#46039f"
                          ],
                          [
                            0.2222222222222222,
                            "#7201a8"
                          ],
                          [
                            0.3333333333333333,
                            "#9c179e"
                          ],
                          [
                            0.4444444444444444,
                            "#bd3786"
                          ],
                          [
                            0.5555555555555556,
                            "#d8576b"
                          ],
                          [
                            0.6666666666666666,
                            "#ed7953"
                          ],
                          [
                            0.7777777777777778,
                            "#fb9f3a"
                          ],
                          [
                            0.8888888888888888,
                            "#fdca26"
                          ],
                          [
                            1,
                            "#f0f921"
                          ]
                        ],
                        "type": "heatmapgl"
                      }
                    ],
                    "heatmap": [
                      {
                        "colorbar": {
                          "outlinewidth": 0,
                          "ticks": ""
                        },
                        "colorscale": [
                          [
                            0,
                            "#0d0887"
                          ],
                          [
                            0.1111111111111111,
                            "#46039f"
                          ],
                          [
                            0.2222222222222222,
                            "#7201a8"
                          ],
                          [
                            0.3333333333333333,
                            "#9c179e"
                          ],
                          [
                            0.4444444444444444,
                            "#bd3786"
                          ],
                          [
                            0.5555555555555556,
                            "#d8576b"
                          ],
                          [
                            0.6666666666666666,
                            "#ed7953"
                          ],
                          [
                            0.7777777777777778,
                            "#fb9f3a"
                          ],
                          [
                            0.8888888888888888,
                            "#fdca26"
                          ],
                          [
                            1,
                            "#f0f921"
                          ]
                        ],
                        "type": "heatmap"
                      }
                    ],
                    "histogram2dcontour": [
                      {
                        "colorbar": {
                          "outlinewidth": 0,
                          "ticks": ""
                        },
                        "colorscale": [
                          [
                            0,
                            "#0d0887"
                          ],
                          [
                            0.1111111111111111,
                            "#46039f"
                          ],
                          [
                            0.2222222222222222,
                            "#7201a8"
                          ],
                          [
                            0.3333333333333333,
                            "#9c179e"
                          ],
                          [
                            0.4444444444444444,
                            "#bd3786"
                          ],
                          [
                            0.5555555555555556,
                            "#d8576b"
                          ],
                          [
                            0.6666666666666666,
                            "#ed7953"
                          ],
                          [
                            0.7777777777777778,
                            "#fb9f3a"
                          ],
                          [
                            0.8888888888888888,
                            "#fdca26"
                          ],
                          [
                            1,
                            "#f0f921"
                          ]
                        ],
                        "type": "histogram2dcontour"
                      }
                    ],
                    "histogram2d": [
                      {
                        "colorbar": {
                          "outlinewidth": 0,
                          "ticks": ""
                        },
                        "colorscale": [
                          [
                            0,
                            "#0d0887"
                          ],
                          [
                            0.1111111111111111,
                            "#46039f"
                          ],
                          [
                            0.2222222222222222,
                            "#7201a8"
                          ],
                          [
                            0.3333333333333333,
                            "#9c179e"
                          ],
                          [
                            0.4444444444444444,
                            "#bd3786"
                          ],
                          [
                            0.5555555555555556,
                            "#d8576b"
                          ],
                          [
                            0.6666666666666666,
                            "#ed7953"
                          ],
                          [
                            0.7777777777777778,
                            "#fb9f3a"
                          ],
                          [
                            0.8888888888888888,
                            "#fdca26"
                          ],
                          [
                            1,
                            "#f0f921"
                          ]
                        ],
                        "type": "histogram2d"
                      }
                    ],
                    "histogram": [
                      {
                        "marker": {
                          "pattern": {
                            "fillmode": "overlay",
                            "size": 10,
                            "solidity": 0.2
                          }
                        },
                        "type": "histogram"
                      }
                    ],
                    "mesh3d": [
                      {
                        "colorbar": {
                          "outlinewidth": 0,
                          "ticks": ""
                        },
                        "type": "mesh3d"
                      }
                    ],
                    "parcoords": [
                      {
                        "line": {
                          "colorbar": {
                            "outlinewidth": 0,
                            "ticks": ""
                          }
                        },
                        "type": "parcoords"
                      }
                    ],
                    "pie": [
                      {
                        "automargin": true,
                        "type": "pie"
                      }
                    ],
                    "scatter3d": [
                      {
                        "line": {
                          "colorbar": {
                            "outlinewidth": 0,
                            "ticks": ""
                          }
                        },
                        "marker": {
                          "colorbar": {
                            "outlinewidth": 0,
                            "ticks": ""
                          }
                        },
                        "type": "scatter3d"
                      }
                    ],
                    "scattercarpet": [
                      {
                        "marker": {
                          "colorbar": {
                            "outlinewidth": 0,
                            "ticks": ""
                          }
                        },
                        "type": "scattercarpet"
                      }
                    ],
                    "scattergeo": [
                      {
                        "marker": {
                          "colorbar": {
                            "outlinewidth": 0,
                            "ticks": ""
                          }
                        },
                        "type": "scattergeo"
                      }
                    ],
                    "scattergl": [
                      {
                        "marker": {
                          "colorbar": {
                            "outlinewidth": 0,
                            "ticks": ""
                          }
                        },
                        "type": "scattergl"
                      }
                    ],
                    "scattermapbox": [
                      {
                        "marker": {
                          "colorbar": {
                            "outlinewidth": 0,
                            "ticks": ""
                          }
                        },
                        "type": "scattermapbox"
                      }
                    ],
                    "scatterpolargl": [
                      {
                        "marker": {
                          "colorbar": {
                            "outlinewidth": 0,
                            "ticks": ""
                          }
                        },
                        "type": "scatterpolargl"
                      }
                    ],
                    "scatterpolar": [
                      {
                        "marker": {
                          "colorbar": {
                            "outlinewidth": 0,
                            "ticks": ""
                          }
                        },
                        "type": "scatterpolar"
                      }
                    ],
                    "scatter": [
                      {
                        "fillpattern": {
                          "fillmode": "overlay",
                          "size": 10,
                          "solidity": 0.2
                        },
                        "type": "scatter"
                      }
                    ],
                    "scatterternary": [
                      {
                        "marker": {
                          "colorbar": {
                            "outlinewidth": 0,
                            "ticks": ""
                          }
                        },
                        "type": "scatterternary"
                      }
                    ],
                    "surface": [
                      {
                        "colorbar": {
                          "outlinewidth": 0,
                          "ticks": ""
                        },
                        "colorscale": [
                          [
                            0,
                            "#0d0887"
                          ],
                          [
                            0.1111111111111111,
                            "#46039f"
                          ],
                          [
                            0.2222222222222222,
                            "#7201a8"
                          ],
                          [
                            0.3333333333333333,
                            "#9c179e"
                          ],
                          [
                            0.4444444444444444,
                            "#bd3786"
                          ],
                          [
                            0.5555555555555556,
                            "#d8576b"
                          ],
                          [
                            0.6666666666666666,
                            "#ed7953"
                          ],
                          [
                            0.7777777777777778,
                            "#fb9f3a"
                          ],
                          [
                            0.8888888888888888,
                            "#fdca26"
                          ],
                          [
                            1,
                            "#f0f921"
                          ]
                        ],
                        "type": "surface"
                      }
                    ],
                    "table": [
                      {
                        "cells": {
                          "fill": {
                            "color": "#EBF0F8"
                          },
                          "line": {
                            "color": "white"
                          }
                        },
                        "header": {
                          "fill": {
                            "color": "#C8D4E3"
                          },
                          "line": {
                            "color": "white"
                          }
                        },
                        "type": "table"
                      }
                    ]
                  },
                  "layout": {
                    "annotationdefaults": {
                      "arrowcolor": "#2a3f5f",
                      "arrowhead": 0,
                      "arrowwidth": 1
                    },
                    "autotypenumbers": "strict",
                    "coloraxis": {
                      "colorbar": {
                        "outlinewidth": 0,
                        "ticks": ""
                      }
                    },
                    "colorscale": {
                      "diverging": [
                        [
                          0,
                          "#8e0152"
                        ],
                        [
                          0.1,
                          "#c51b7d"
                        ],
                        [
                          0.2,
                          "#de77ae"
                        ],
                        [
                          0.3,
                          "#f1b6da"
                        ],
                        [
                          0.4,
                          "#fde0ef"
                        ],
                        [
                          0.5,
                          "#f7f7f7"
                        ],
                        [
                          0.6,
                          "#e6f5d0"
                        ],
                        [
                          0.7,
                          "#b8e186"
                        ],
                        [
                          0.8,
                          "#7fbc41"
                        ],
                        [
                          0.9,
                          "#4d9221"
                        ],
                        [
                          1,
                          "#276419"
                        ]
                      ],
                      "sequential": [
                        [
                          0,
                          "#0d0887"
                        ],
                        [
                          0.1111111111111111,
                          "#46039f"
                        ],
                        [
                          0.2222222222222222,
                          "#7201a8"
                        ],
                        [
                          0.3333333333333333,
                          "#9c179e"
                        ],
                        [
                          0.4444444444444444,
                          "#bd3786"
                        ],
                        [
                          0.5555555555555556,
                          "#d8576b"
                        ],
                        [
                          0.6666666666666666,
                          "#ed7953"
                        ],
                        [
                          0.7777777777777778,
                          "#fb9f3a"
                        ],
                        [
                          0.8888888888888888,
                          "#fdca26"
                        ],
                        [
                          1,
                          "#f0f921"
                        ]
                      ],
                      "sequentialminus": [
                        [
                          0,
                          "#0d0887"
                        ],
                        [
                          0.1111111111111111,
                          "#46039f"
                        ],
                        [
                          0.2222222222222222,
                          "#7201a8"
                        ],
                        [
                          0.3333333333333333,
                          "#9c179e"
                        ],
                        [
                          0.4444444444444444,
                          "#bd3786"
                        ],
                        [
                          0.5555555555555556,
                          "#d8576b"
                        ],
                        [
                          0.6666666666666666,
                          "#ed7953"
                        ],
                        [
                          0.7777777777777778,
                          "#fb9f3a"
                        ],
                        [
                          0.8888888888888888,
                          "#fdca26"
                        ],
                        [
                          1,
                          "#f0f921"
                        ]
                      ]
                    },
                    "colorway": [
                      "#636efa",
                      "#EF553B",
                      "#00cc96",
                      "#ab63fa",
                      "#FFA15A",
                      "#19d3f3",
                      "#FF6692",
                      "#B6E880",
                      "#FF97FF",
                      "#FECB52"
                    ],
                    "font": {
                      "color": "#2a3f5f"
                    },
                    "geo": {
                      "bgcolor": "white",
                      "lakecolor": "white",
                      "landcolor": "#E5ECF6",
                      "showlakes": true,
                      "showland": true,
                      "subunitcolor": "white"
                    },
                    "hoverlabel": {
                      "align": "left"
                    },
                    "hovermode": "closest",
                    "mapbox": {
                      "style": "light"
                    },
                    "paper_bgcolor": "white",
                    "plot_bgcolor": "#E5ECF6",
                    "polar": {
                      "angularaxis": {
                        "gridcolor": "white",
                        "linecolor": "white",
                        "ticks": ""
                      },
                      "bgcolor": "#E5ECF6",
                      "radialaxis": {
                        "gridcolor": "white",
                        "linecolor": "white",
                        "ticks": ""
                      }
                    },
                    "scene": {
                      "xaxis": {
                        "backgroundcolor": "#E5ECF6",
                        "gridcolor": "white",
                        "gridwidth": 2,
                        "linecolor": "white",
                        "showbackground": true,
                        "ticks": "",
                        "zerolinecolor": "white"
                      },
                      "yaxis": {
                        "backgroundcolor": "#E5ECF6",
                        "gridcolor": "white",
                        "gridwidth": 2,
                        "linecolor": "white",
                        "showbackground": true,
                        "ticks": "",
                        "zerolinecolor": "white"
                      },
                      "zaxis": {
                        "backgroundcolor": "#E5ECF6",
                        "gridcolor": "white",
                        "gridwidth": 2,
                        "linecolor": "white",
                        "showbackground": true,
                        "ticks": "",
                        "zerolinecolor": "white"
                      }
                    },
                    "shapedefaults": {
                      "line": {
                        "color": "#2a3f5f"
                      }
                    },
                    "ternary": {
                      "aaxis": {
                        "gridcolor": "white",
                        "linecolor": "white",
                        "ticks": ""
                      },
                      "baxis": {
                        "gridcolor": "white",
                        "linecolor": "white",
                        "ticks": ""
                      },
                      "bgcolor": "#E5ECF6",
                      "caxis": {
                        "gridcolor": "white",
                        "linecolor": "white",
                        "ticks": ""
                      }
                    },
                    "title": {
                      "x": 0.05
                    },
                    "xaxis": {
                      "automargin": true,
                      "gridcolor": "white",
                      "linecolor": "white",
                      "ticks": "",
                      "title": {
                        "standoff": 15
                      },
                      "zerolinecolor": "white",
                      "zerolinewidth": 2
                    },
                    "yaxis": {
                      "automargin": true,
                      "gridcolor": "white",
                      "linecolor": "white",
                      "ticks": "",
                      "title": {
                        "standoff": 15
                      },
                      "zerolinecolor": "white",
                      "zerolinewidth": 2
                    }
                  }
                },
                "title": {
                  "text": "Count of class variable in train dataset"
                },
                "xaxis": {
                  "type": "linear",
                  "range": [
                    0,
                    4078.9473684210525
                  ],
                  "autorange": true
                },
                "yaxis": {
                  "type": "category",
                  "range": [
                    -0.5,
                    1.5
                  ],
                  "autorange": true
                },
                "autosize": true
              },
              "config": {
                "showLink": false,
                "linkText": "Export to plot.ly",
                "plotlyServerURL": "https://plot.ly"
              }
            },
            "text/html": "<div>                            <div id=\"9fadeb78-4b5d-4e65-be5f-d558c49858e8\" class=\"plotly-graph-div\" style=\"height:525px; width:100%;\"></div>            <script type=\"text/javascript\">                require([\"plotly\"], function(Plotly) {                    window.PLOTLYENV=window.PLOTLYENV || {};                                    if (document.getElementById(\"9fadeb78-4b5d-4e65-be5f-d558c49858e8\")) {                    Plotly.newPlot(                        \"9fadeb78-4b5d-4e65-be5f-d558c49858e8\",                        [{\"marker\":{\"color\":[\"gold\",\"lightskyblue\"],\"line\":{\"color\":\"#000000\",\"width\":1.5}},\"opacity\":0.8,\"orientation\":\"h\",\"x\":[3875,1341],\"y\":[\"Pneumonia\",\"Normal\"],\"type\":\"bar\"}],                        {\"template\":{\"data\":{\"barpolar\":[{\"marker\":{\"line\":{\"color\":\"#E5ECF6\",\"width\":0.5},\"pattern\":{\"fillmode\":\"overlay\",\"size\":10,\"solidity\":0.2}},\"type\":\"barpolar\"}],\"bar\":[{\"error_x\":{\"color\":\"#2a3f5f\"},\"error_y\":{\"color\":\"#2a3f5f\"},\"marker\":{\"line\":{\"color\":\"#E5ECF6\",\"width\":0.5},\"pattern\":{\"fillmode\":\"overlay\",\"size\":10,\"solidity\":0.2}},\"type\":\"bar\"}],\"carpet\":[{\"aaxis\":{\"endlinecolor\":\"#2a3f5f\",\"gridcolor\":\"white\",\"linecolor\":\"white\",\"minorgridcolor\":\"white\",\"startlinecolor\":\"#2a3f5f\"},\"baxis\":{\"endlinecolor\":\"#2a3f5f\",\"gridcolor\":\"white\",\"linecolor\":\"white\",\"minorgridcolor\":\"white\",\"startlinecolor\":\"#2a3f5f\"},\"type\":\"carpet\"}],\"choropleth\":[{\"colorbar\":{\"outlinewidth\":0,\"ticks\":\"\"},\"type\":\"choropleth\"}],\"contourcarpet\":[{\"colorbar\":{\"outlinewidth\":0,\"ticks\":\"\"},\"type\":\"contourcarpet\"}],\"contour\":[{\"colorbar\":{\"outlinewidth\":0,\"ticks\":\"\"},\"colorscale\":[[0.0,\"#0d0887\"],[0.1111111111111111,\"#46039f\"],[0.2222222222222222,\"#7201a8\"],[0.3333333333333333,\"#9c179e\"],[0.4444444444444444,\"#bd3786\"],[0.5555555555555556,\"#d8576b\"],[0.6666666666666666,\"#ed7953\"],[0.7777777777777778,\"#fb9f3a\"],[0.8888888888888888,\"#fdca26\"],[1.0,\"#f0f921\"]],\"type\":\"contour\"}],\"heatmapgl\":[{\"colorbar\":{\"outlinewidth\":0,\"ticks\":\"\"},\"colorscale\":[[0.0,\"#0d0887\"],[0.1111111111111111,\"#46039f\"],[0.2222222222222222,\"#7201a8\"],[0.3333333333333333,\"#9c179e\"],[0.4444444444444444,\"#bd3786\"],[0.5555555555555556,\"#d8576b\"],[0.6666666666666666,\"#ed7953\"],[0.7777777777777778,\"#fb9f3a\"],[0.8888888888888888,\"#fdca26\"],[1.0,\"#f0f921\"]],\"type\":\"heatmapgl\"}],\"heatmap\":[{\"colorbar\":{\"outlinewidth\":0,\"ticks\":\"\"},\"colorscale\":[[0.0,\"#0d0887\"],[0.1111111111111111,\"#46039f\"],[0.2222222222222222,\"#7201a8\"],[0.3333333333333333,\"#9c179e\"],[0.4444444444444444,\"#bd3786\"],[0.5555555555555556,\"#d8576b\"],[0.6666666666666666,\"#ed7953\"],[0.7777777777777778,\"#fb9f3a\"],[0.8888888888888888,\"#fdca26\"],[1.0,\"#f0f921\"]],\"type\":\"heatmap\"}],\"histogram2dcontour\":[{\"colorbar\":{\"outlinewidth\":0,\"ticks\":\"\"},\"colorscale\":[[0.0,\"#0d0887\"],[0.1111111111111111,\"#46039f\"],[0.2222222222222222,\"#7201a8\"],[0.3333333333333333,\"#9c179e\"],[0.4444444444444444,\"#bd3786\"],[0.5555555555555556,\"#d8576b\"],[0.6666666666666666,\"#ed7953\"],[0.7777777777777778,\"#fb9f3a\"],[0.8888888888888888,\"#fdca26\"],[1.0,\"#f0f921\"]],\"type\":\"histogram2dcontour\"}],\"histogram2d\":[{\"colorbar\":{\"outlinewidth\":0,\"ticks\":\"\"},\"colorscale\":[[0.0,\"#0d0887\"],[0.1111111111111111,\"#46039f\"],[0.2222222222222222,\"#7201a8\"],[0.3333333333333333,\"#9c179e\"],[0.4444444444444444,\"#bd3786\"],[0.5555555555555556,\"#d8576b\"],[0.6666666666666666,\"#ed7953\"],[0.7777777777777778,\"#fb9f3a\"],[0.8888888888888888,\"#fdca26\"],[1.0,\"#f0f921\"]],\"type\":\"histogram2d\"}],\"histogram\":[{\"marker\":{\"pattern\":{\"fillmode\":\"overlay\",\"size\":10,\"solidity\":0.2}},\"type\":\"histogram\"}],\"mesh3d\":[{\"colorbar\":{\"outlinewidth\":0,\"ticks\":\"\"},\"type\":\"mesh3d\"}],\"parcoords\":[{\"line\":{\"colorbar\":{\"outlinewidth\":0,\"ticks\":\"\"}},\"type\":\"parcoords\"}],\"pie\":[{\"automargin\":true,\"type\":\"pie\"}],\"scatter3d\":[{\"line\":{\"colorbar\":{\"outlinewidth\":0,\"ticks\":\"\"}},\"marker\":{\"colorbar\":{\"outlinewidth\":0,\"ticks\":\"\"}},\"type\":\"scatter3d\"}],\"scattercarpet\":[{\"marker\":{\"colorbar\":{\"outlinewidth\":0,\"ticks\":\"\"}},\"type\":\"scattercarpet\"}],\"scattergeo\":[{\"marker\":{\"colorbar\":{\"outlinewidth\":0,\"ticks\":\"\"}},\"type\":\"scattergeo\"}],\"scattergl\":[{\"marker\":{\"colorbar\":{\"outlinewidth\":0,\"ticks\":\"\"}},\"type\":\"scattergl\"}],\"scattermapbox\":[{\"marker\":{\"colorbar\":{\"outlinewidth\":0,\"ticks\":\"\"}},\"type\":\"scattermapbox\"}],\"scatterpolargl\":[{\"marker\":{\"colorbar\":{\"outlinewidth\":0,\"ticks\":\"\"}},\"type\":\"scatterpolargl\"}],\"scatterpolar\":[{\"marker\":{\"colorbar\":{\"outlinewidth\":0,\"ticks\":\"\"}},\"type\":\"scatterpolar\"}],\"scatter\":[{\"fillpattern\":{\"fillmode\":\"overlay\",\"size\":10,\"solidity\":0.2},\"type\":\"scatter\"}],\"scatterternary\":[{\"marker\":{\"colorbar\":{\"outlinewidth\":0,\"ticks\":\"\"}},\"type\":\"scatterternary\"}],\"surface\":[{\"colorbar\":{\"outlinewidth\":0,\"ticks\":\"\"},\"colorscale\":[[0.0,\"#0d0887\"],[0.1111111111111111,\"#46039f\"],[0.2222222222222222,\"#7201a8\"],[0.3333333333333333,\"#9c179e\"],[0.4444444444444444,\"#bd3786\"],[0.5555555555555556,\"#d8576b\"],[0.6666666666666666,\"#ed7953\"],[0.7777777777777778,\"#fb9f3a\"],[0.8888888888888888,\"#fdca26\"],[1.0,\"#f0f921\"]],\"type\":\"surface\"}],\"table\":[{\"cells\":{\"fill\":{\"color\":\"#EBF0F8\"},\"line\":{\"color\":\"white\"}},\"header\":{\"fill\":{\"color\":\"#C8D4E3\"},\"line\":{\"color\":\"white\"}},\"type\":\"table\"}]},\"layout\":{\"annotationdefaults\":{\"arrowcolor\":\"#2a3f5f\",\"arrowhead\":0,\"arrowwidth\":1},\"autotypenumbers\":\"strict\",\"coloraxis\":{\"colorbar\":{\"outlinewidth\":0,\"ticks\":\"\"}},\"colorscale\":{\"diverging\":[[0,\"#8e0152\"],[0.1,\"#c51b7d\"],[0.2,\"#de77ae\"],[0.3,\"#f1b6da\"],[0.4,\"#fde0ef\"],[0.5,\"#f7f7f7\"],[0.6,\"#e6f5d0\"],[0.7,\"#b8e186\"],[0.8,\"#7fbc41\"],[0.9,\"#4d9221\"],[1,\"#276419\"]],\"sequential\":[[0.0,\"#0d0887\"],[0.1111111111111111,\"#46039f\"],[0.2222222222222222,\"#7201a8\"],[0.3333333333333333,\"#9c179e\"],[0.4444444444444444,\"#bd3786\"],[0.5555555555555556,\"#d8576b\"],[0.6666666666666666,\"#ed7953\"],[0.7777777777777778,\"#fb9f3a\"],[0.8888888888888888,\"#fdca26\"],[1.0,\"#f0f921\"]],\"sequentialminus\":[[0.0,\"#0d0887\"],[0.1111111111111111,\"#46039f\"],[0.2222222222222222,\"#7201a8\"],[0.3333333333333333,\"#9c179e\"],[0.4444444444444444,\"#bd3786\"],[0.5555555555555556,\"#d8576b\"],[0.6666666666666666,\"#ed7953\"],[0.7777777777777778,\"#fb9f3a\"],[0.8888888888888888,\"#fdca26\"],[1.0,\"#f0f921\"]]},\"colorway\":[\"#636efa\",\"#EF553B\",\"#00cc96\",\"#ab63fa\",\"#FFA15A\",\"#19d3f3\",\"#FF6692\",\"#B6E880\",\"#FF97FF\",\"#FECB52\"],\"font\":{\"color\":\"#2a3f5f\"},\"geo\":{\"bgcolor\":\"white\",\"lakecolor\":\"white\",\"landcolor\":\"#E5ECF6\",\"showlakes\":true,\"showland\":true,\"subunitcolor\":\"white\"},\"hoverlabel\":{\"align\":\"left\"},\"hovermode\":\"closest\",\"mapbox\":{\"style\":\"light\"},\"paper_bgcolor\":\"white\",\"plot_bgcolor\":\"#E5ECF6\",\"polar\":{\"angularaxis\":{\"gridcolor\":\"white\",\"linecolor\":\"white\",\"ticks\":\"\"},\"bgcolor\":\"#E5ECF6\",\"radialaxis\":{\"gridcolor\":\"white\",\"linecolor\":\"white\",\"ticks\":\"\"}},\"scene\":{\"xaxis\":{\"backgroundcolor\":\"#E5ECF6\",\"gridcolor\":\"white\",\"gridwidth\":2,\"linecolor\":\"white\",\"showbackground\":true,\"ticks\":\"\",\"zerolinecolor\":\"white\"},\"yaxis\":{\"backgroundcolor\":\"#E5ECF6\",\"gridcolor\":\"white\",\"gridwidth\":2,\"linecolor\":\"white\",\"showbackground\":true,\"ticks\":\"\",\"zerolinecolor\":\"white\"},\"zaxis\":{\"backgroundcolor\":\"#E5ECF6\",\"gridcolor\":\"white\",\"gridwidth\":2,\"linecolor\":\"white\",\"showbackground\":true,\"ticks\":\"\",\"zerolinecolor\":\"white\"}},\"shapedefaults\":{\"line\":{\"color\":\"#2a3f5f\"}},\"ternary\":{\"aaxis\":{\"gridcolor\":\"white\",\"linecolor\":\"white\",\"ticks\":\"\"},\"baxis\":{\"gridcolor\":\"white\",\"linecolor\":\"white\",\"ticks\":\"\"},\"bgcolor\":\"#E5ECF6\",\"caxis\":{\"gridcolor\":\"white\",\"linecolor\":\"white\",\"ticks\":\"\"}},\"title\":{\"x\":0.05},\"xaxis\":{\"automargin\":true,\"gridcolor\":\"white\",\"linecolor\":\"white\",\"ticks\":\"\",\"title\":{\"standoff\":15},\"zerolinecolor\":\"white\",\"zerolinewidth\":2},\"yaxis\":{\"automargin\":true,\"gridcolor\":\"white\",\"linecolor\":\"white\",\"ticks\":\"\",\"title\":{\"standoff\":15},\"zerolinecolor\":\"white\",\"zerolinewidth\":2}}},\"title\":{\"text\":\"Count of class variable in train dataset\"}},                        {\"responsive\": true}                    ).then(function(){\n                            \nvar gd = document.getElementById('9fadeb78-4b5d-4e65-be5f-d558c49858e8');\nvar x = new MutationObserver(function (mutations, observer) {{\n        var display = window.getComputedStyle(gd).display;\n        if (!display || display === 'none') {{\n            console.log([gd, 'removed!']);\n            Plotly.purge(gd);\n            observer.disconnect();\n        }}\n}});\n\n// Listen for the removal of the full notebook cells\nvar notebookContainer = gd.closest('#notebook-container');\nif (notebookContainer) {{\n    x.observe(notebookContainer, {childList: true});\n}}\n\n// Listen for the clearing of the current output cell\nvar outputEl = gd.closest('.output');\nif (outputEl) {{\n    x.observe(outputEl, {childList: true});\n}}\n\n                        })                };                });            </script>        </div>",
            "image/png": "[encoded data removed]"
          },
          "metadata": {}
        }
      ],
      "id": "bs-0gK7d8JQg"
    },
    {
      "cell_type": "code",
      "source": [
        "trace = go.Pie(labels = ['Pneumonia', 'Normal'], values = df_train['class'].value_counts(), \n",
        "               textfont=dict(size=15), opacity = 0.8,\n",
        "               marker=dict(colors=['lightskyblue','gold'], \n",
        "                           line=dict(color='#000000', width=1.5)))\n",
        "\n",
        "\n",
        "layout = dict(title =  'Distribution of class variable in train dataset')\n",
        "           \n",
        "fig = dict(data = [trace], layout=layout)\n",
        "py.iplot(fig)"
      ],
      "metadata": {
        "execution": {
          "iopub.status.busy": "2022-11-01T13:52:52.587450Z",
          "iopub.execute_input": "2022-11-01T13:52:52.587814Z",
          "iopub.status.idle": "2022-11-01T13:52:52.623439Z",
          "shell.execute_reply.started": "2022-11-01T13:52:52.587780Z",
          "shell.execute_reply": "2022-11-01T13:52:52.622440Z"
        },
        "trusted": true,
        "id": "SZEspHSD8JQh",
        "outputId": "c7208c31-9735-40af-a3ca-512b8b8d58b2"
      },
      "execution_count": null,
      "outputs": [
        {
          "output_type": "display_data",
          "data": {
            "application/vnd.plotly.v1+json": {
              "data": [
                {
                  "labels": [
                    "Pneumonia",
                    "Normal"
                  ],
                  "marker": {
                    "colors": [
                      "lightskyblue",
                      "gold"
                    ],
                    "line": {
                      "color": "#000000",
                      "width": 1.5
                    }
                  },
                  "opacity": 0.8,
                  "textfont": {
                    "size": 15
                  },
                  "values": [
                    3875,
                    1341
                  ],
                  "type": "pie"
                }
              ],
              "layout": {
                "template": {
                  "data": {
                    "barpolar": [
                      {
                        "marker": {
                          "line": {
                            "color": "#E5ECF6",
                            "width": 0.5
                          },
                          "pattern": {
                            "fillmode": "overlay",
                            "size": 10,
                            "solidity": 0.2
                          }
                        },
                        "type": "barpolar"
                      }
                    ],
                    "bar": [
                      {
                        "error_x": {
                          "color": "#2a3f5f"
                        },
                        "error_y": {
                          "color": "#2a3f5f"
                        },
                        "marker": {
                          "line": {
                            "color": "#E5ECF6",
                            "width": 0.5
                          },
                          "pattern": {
                            "fillmode": "overlay",
                            "size": 10,
                            "solidity": 0.2
                          }
                        },
                        "type": "bar"
                      }
                    ],
                    "carpet": [
                      {
                        "aaxis": {
                          "endlinecolor": "#2a3f5f",
                          "gridcolor": "white",
                          "linecolor": "white",
                          "minorgridcolor": "white",
                          "startlinecolor": "#2a3f5f"
                        },
                        "baxis": {
                          "endlinecolor": "#2a3f5f",
                          "gridcolor": "white",
                          "linecolor": "white",
                          "minorgridcolor": "white",
                          "startlinecolor": "#2a3f5f"
                        },
                        "type": "carpet"
                      }
                    ],
                    "choropleth": [
                      {
                        "colorbar": {
                          "outlinewidth": 0,
                          "ticks": ""
                        },
                        "type": "choropleth"
                      }
                    ],
                    "contourcarpet": [
                      {
                        "colorbar": {
                          "outlinewidth": 0,
                          "ticks": ""
                        },
                        "type": "contourcarpet"
                      }
                    ],
                    "contour": [
                      {
                        "colorbar": {
                          "outlinewidth": 0,
                          "ticks": ""
                        },
                        "colorscale": [
                          [
                            0,
                            "#0d0887"
                          ],
                          [
                            0.1111111111111111,
                            "#46039f"
                          ],
                          [
                            0.2222222222222222,
                            "#7201a8"
                          ],
                          [
                            0.3333333333333333,
                            "#9c179e"
                          ],
                          [
                            0.4444444444444444,
                            "#bd3786"
                          ],
                          [
                            0.5555555555555556,
                            "#d8576b"
                          ],
                          [
                            0.6666666666666666,
                            "#ed7953"
                          ],
                          [
                            0.7777777777777778,
                            "#fb9f3a"
                          ],
                          [
                            0.8888888888888888,
                            "#fdca26"
                          ],
                          [
                            1,
                            "#f0f921"
                          ]
                        ],
                        "type": "contour"
                      }
                    ],
                    "heatmapgl": [
                      {
                        "colorbar": {
                          "outlinewidth": 0,
                          "ticks": ""
                        },
                        "colorscale": [
                          [
                            0,
                            "#0d0887"
                          ],
                          [
                            0.1111111111111111,
                            "#46039f"
                          ],
                          [
                            0.2222222222222222,
                            "#7201a8"
                          ],
                          [
                            0.3333333333333333,
                            "#9c179e"
                          ],
                          [
                            0.4444444444444444,
                            "#bd3786"
                          ],
                          [
                            0.5555555555555556,
                            "#d8576b"
                          ],
                          [
                            0.6666666666666666,
                            "#ed7953"
                          ],
                          [
                            0.7777777777777778,
                            "#fb9f3a"
                          ],
                          [
                            0.8888888888888888,
                            "#fdca26"
                          ],
                          [
                            1,
                            "#f0f921"
                          ]
                        ],
                        "type": "heatmapgl"
                      }
                    ],
                    "heatmap": [
                      {
                        "colorbar": {
                          "outlinewidth": 0,
                          "ticks": ""
                        },
                        "colorscale": [
                          [
                            0,
                            "#0d0887"
                          ],
                          [
                            0.1111111111111111,
                            "#46039f"
                          ],
                          [
                            0.2222222222222222,
                            "#7201a8"
                          ],
                          [
                            0.3333333333333333,
                            "#9c179e"
                          ],
                          [
                            0.4444444444444444,
                            "#bd3786"
                          ],
                          [
                            0.5555555555555556,
                            "#d8576b"
                          ],
                          [
                            0.6666666666666666,
                            "#ed7953"
                          ],
                          [
                            0.7777777777777778,
                            "#fb9f3a"
                          ],
                          [
                            0.8888888888888888,
                            "#fdca26"
                          ],
                          [
                            1,
                            "#f0f921"
                          ]
                        ],
                        "type": "heatmap"
                      }
                    ],
                    "histogram2dcontour": [
                      {
                        "colorbar": {
                          "outlinewidth": 0,
                          "ticks": ""
                        },
                        "colorscale": [
                          [
                            0,
                            "#0d0887"
                          ],
                          [
                            0.1111111111111111,
                            "#46039f"
                          ],
                          [
                            0.2222222222222222,
                            "#7201a8"
                          ],
                          [
                            0.3333333333333333,
                            "#9c179e"
                          ],
                          [
                            0.4444444444444444,
                            "#bd3786"
                          ],
                          [
                            0.5555555555555556,
                            "#d8576b"
                          ],
                          [
                            0.6666666666666666,
                            "#ed7953"
                          ],
                          [
                            0.7777777777777778,
                            "#fb9f3a"
                          ],
                          [
                            0.8888888888888888,
                            "#fdca26"
                          ],
                          [
                            1,
                            "#f0f921"
                          ]
                        ],
                        "type": "histogram2dcontour"
                      }
                    ],
                    "histogram2d": [
                      {
                        "colorbar": {
                          "outlinewidth": 0,
                          "ticks": ""
                        },
                        "colorscale": [
                          [
                            0,
                            "#0d0887"
                          ],
                          [
                            0.1111111111111111,
                            "#46039f"
                          ],
                          [
                            0.2222222222222222,
                            "#7201a8"
                          ],
                          [
                            0.3333333333333333,
                            "#9c179e"
                          ],
                          [
                            0.4444444444444444,
                            "#bd3786"
                          ],
                          [
                            0.5555555555555556,
                            "#d8576b"
                          ],
                          [
                            0.6666666666666666,
                            "#ed7953"
                          ],
                          [
                            0.7777777777777778,
                            "#fb9f3a"
                          ],
                          [
                            0.8888888888888888,
                            "#fdca26"
                          ],
                          [
                            1,
                            "#f0f921"
                          ]
                        ],
                        "type": "histogram2d"
                      }
                    ],
                    "histogram": [
                      {
                        "marker": {
                          "pattern": {
                            "fillmode": "overlay",
                            "size": 10,
                            "solidity": 0.2
                          }
                        },
                        "type": "histogram"
                      }
                    ],
                    "mesh3d": [
                      {
                        "colorbar": {
                          "outlinewidth": 0,
                          "ticks": ""
                        },
                        "type": "mesh3d"
                      }
                    ],
                    "parcoords": [
                      {
                        "line": {
                          "colorbar": {
                            "outlinewidth": 0,
                            "ticks": ""
                          }
                        },
                        "type": "parcoords"
                      }
                    ],
                    "pie": [
                      {
                        "automargin": true,
                        "type": "pie"
                      }
                    ],
                    "scatter3d": [
                      {
                        "line": {
                          "colorbar": {
                            "outlinewidth": 0,
                            "ticks": ""
                          }
                        },
                        "marker": {
                          "colorbar": {
                            "outlinewidth": 0,
                            "ticks": ""
                          }
                        },
                        "type": "scatter3d"
                      }
                    ],
                    "scattercarpet": [
                      {
                        "marker": {
                          "colorbar": {
                            "outlinewidth": 0,
                            "ticks": ""
                          }
                        },
                        "type": "scattercarpet"
                      }
                    ],
                    "scattergeo": [
                      {
                        "marker": {
                          "colorbar": {
                            "outlinewidth": 0,
                            "ticks": ""
                          }
                        },
                        "type": "scattergeo"
                      }
                    ],
                    "scattergl": [
                      {
                        "marker": {
                          "colorbar": {
                            "outlinewidth": 0,
                            "ticks": ""
                          }
                        },
                        "type": "scattergl"
                      }
                    ],
                    "scattermapbox": [
                      {
                        "marker": {
                          "colorbar": {
                            "outlinewidth": 0,
                            "ticks": ""
                          }
                        },
                        "type": "scattermapbox"
                      }
                    ],
                    "scatterpolargl": [
                      {
                        "marker": {
                          "colorbar": {
                            "outlinewidth": 0,
                            "ticks": ""
                          }
                        },
                        "type": "scatterpolargl"
                      }
                    ],
                    "scatterpolar": [
                      {
                        "marker": {
                          "colorbar": {
                            "outlinewidth": 0,
                            "ticks": ""
                          }
                        },
                        "type": "scatterpolar"
                      }
                    ],
                    "scatter": [
                      {
                        "fillpattern": {
                          "fillmode": "overlay",
                          "size": 10,
                          "solidity": 0.2
                        },
                        "type": "scatter"
                      }
                    ],
                    "scatterternary": [
                      {
                        "marker": {
                          "colorbar": {
                            "outlinewidth": 0,
                            "ticks": ""
                          }
                        },
                        "type": "scatterternary"
                      }
                    ],
                    "surface": [
                      {
                        "colorbar": {
                          "outlinewidth": 0,
                          "ticks": ""
                        },
                        "colorscale": [
                          [
                            0,
                            "#0d0887"
                          ],
                          [
                            0.1111111111111111,
                            "#46039f"
                          ],
                          [
                            0.2222222222222222,
                            "#7201a8"
                          ],
                          [
                            0.3333333333333333,
                            "#9c179e"
                          ],
                          [
                            0.4444444444444444,
                            "#bd3786"
                          ],
                          [
                            0.5555555555555556,
                            "#d8576b"
                          ],
                          [
                            0.6666666666666666,
                            "#ed7953"
                          ],
                          [
                            0.7777777777777778,
                            "#fb9f3a"
                          ],
                          [
                            0.8888888888888888,
                            "#fdca26"
                          ],
                          [
                            1,
                            "#f0f921"
                          ]
                        ],
                        "type": "surface"
                      }
                    ],
                    "table": [
                      {
                        "cells": {
                          "fill": {
                            "color": "#EBF0F8"
                          },
                          "line": {
                            "color": "white"
                          }
                        },
                        "header": {
                          "fill": {
                            "color": "#C8D4E3"
                          },
                          "line": {
                            "color": "white"
                          }
                        },
                        "type": "table"
                      }
                    ]
                  },
                  "layout": {
                    "annotationdefaults": {
                      "arrowcolor": "#2a3f5f",
                      "arrowhead": 0,
                      "arrowwidth": 1
                    },
                    "autotypenumbers": "strict",
                    "coloraxis": {
                      "colorbar": {
                        "outlinewidth": 0,
                        "ticks": ""
                      }
                    },
                    "colorscale": {
                      "diverging": [
                        [
                          0,
                          "#8e0152"
                        ],
                        [
                          0.1,
                          "#c51b7d"
                        ],
                        [
                          0.2,
                          "#de77ae"
                        ],
                        [
                          0.3,
                          "#f1b6da"
                        ],
                        [
                          0.4,
                          "#fde0ef"
                        ],
                        [
                          0.5,
                          "#f7f7f7"
                        ],
                        [
                          0.6,
                          "#e6f5d0"
                        ],
                        [
                          0.7,
                          "#b8e186"
                        ],
                        [
                          0.8,
                          "#7fbc41"
                        ],
                        [
                          0.9,
                          "#4d9221"
                        ],
                        [
                          1,
                          "#276419"
                        ]
                      ],
                      "sequential": [
                        [
                          0,
                          "#0d0887"
                        ],
                        [
                          0.1111111111111111,
                          "#46039f"
                        ],
                        [
                          0.2222222222222222,
                          "#7201a8"
                        ],
                        [
                          0.3333333333333333,
                          "#9c179e"
                        ],
                        [
                          0.4444444444444444,
                          "#bd3786"
                        ],
                        [
                          0.5555555555555556,
                          "#d8576b"
                        ],
                        [
                          0.6666666666666666,
                          "#ed7953"
                        ],
                        [
                          0.7777777777777778,
                          "#fb9f3a"
                        ],
                        [
                          0.8888888888888888,
                          "#fdca26"
                        ],
                        [
                          1,
                          "#f0f921"
                        ]
                      ],
                      "sequentialminus": [
                        [
                          0,
                          "#0d0887"
                        ],
                        [
                          0.1111111111111111,
                          "#46039f"
                        ],
                        [
                          0.2222222222222222,
                          "#7201a8"
                        ],
                        [
                          0.3333333333333333,
                          "#9c179e"
                        ],
                        [
                          0.4444444444444444,
                          "#bd3786"
                        ],
                        [
                          0.5555555555555556,
                          "#d8576b"
                        ],
                        [
                          0.6666666666666666,
                          "#ed7953"
                        ],
                        [
                          0.7777777777777778,
                          "#fb9f3a"
                        ],
                        [
                          0.8888888888888888,
                          "#fdca26"
                        ],
                        [
                          1,
                          "#f0f921"
                        ]
                      ]
                    },
                    "colorway": [
                      "#636efa",
                      "#EF553B",
                      "#00cc96",
                      "#ab63fa",
                      "#FFA15A",
                      "#19d3f3",
                      "#FF6692",
                      "#B6E880",
                      "#FF97FF",
                      "#FECB52"
                    ],
                    "font": {
                      "color": "#2a3f5f"
                    },
                    "geo": {
                      "bgcolor": "white",
                      "lakecolor": "white",
                      "landcolor": "#E5ECF6",
                      "showlakes": true,
                      "showland": true,
                      "subunitcolor": "white"
                    },
                    "hoverlabel": {
                      "align": "left"
                    },
                    "hovermode": "closest",
                    "mapbox": {
                      "style": "light"
                    },
                    "paper_bgcolor": "white",
                    "plot_bgcolor": "#E5ECF6",
                    "polar": {
                      "angularaxis": {
                        "gridcolor": "white",
                        "linecolor": "white",
                        "ticks": ""
                      },
                      "bgcolor": "#E5ECF6",
                      "radialaxis": {
                        "gridcolor": "white",
                        "linecolor": "white",
                        "ticks": ""
                      }
                    },
                    "scene": {
                      "xaxis": {
                        "backgroundcolor": "#E5ECF6",
                        "gridcolor": "white",
                        "gridwidth": 2,
                        "linecolor": "white",
                        "showbackground": true,
                        "ticks": "",
                        "zerolinecolor": "white"
                      },
                      "yaxis": {
                        "backgroundcolor": "#E5ECF6",
                        "gridcolor": "white",
                        "gridwidth": 2,
                        "linecolor": "white",
                        "showbackground": true,
                        "ticks": "",
                        "zerolinecolor": "white"
                      },
                      "zaxis": {
                        "backgroundcolor": "#E5ECF6",
                        "gridcolor": "white",
                        "gridwidth": 2,
                        "linecolor": "white",
                        "showbackground": true,
                        "ticks": "",
                        "zerolinecolor": "white"
                      }
                    },
                    "shapedefaults": {
                      "line": {
                        "color": "#2a3f5f"
                      }
                    },
                    "ternary": {
                      "aaxis": {
                        "gridcolor": "white",
                        "linecolor": "white",
                        "ticks": ""
                      },
                      "baxis": {
                        "gridcolor": "white",
                        "linecolor": "white",
                        "ticks": ""
                      },
                      "bgcolor": "#E5ECF6",
                      "caxis": {
                        "gridcolor": "white",
                        "linecolor": "white",
                        "ticks": ""
                      }
                    },
                    "title": {
                      "x": 0.05
                    },
                    "xaxis": {
                      "automargin": true,
                      "gridcolor": "white",
                      "linecolor": "white",
                      "ticks": "",
                      "title": {
                        "standoff": 15
                      },
                      "zerolinecolor": "white",
                      "zerolinewidth": 2
                    },
                    "yaxis": {
                      "automargin": true,
                      "gridcolor": "white",
                      "linecolor": "white",
                      "ticks": "",
                      "title": {
                        "standoff": 15
                      },
                      "zerolinecolor": "white",
                      "zerolinewidth": 2
                    }
                  }
                },
                "title": {
                  "text": "Distribution of class variable in train dataset"
                },
                "autosize": true
              },
              "config": {
                "showLink": false,
                "linkText": "Export to plot.ly",
                "plotlyServerURL": "https://plot.ly"
              }
            },
            "text/html": "<div>                            <div id=\"95723854-c88f-4ad6-b723-3fce29baffc8\" class=\"plotly-graph-div\" style=\"height:525px; width:100%;\"></div>            <script type=\"text/javascript\">                require([\"plotly\"], function(Plotly) {                    window.PLOTLYENV=window.PLOTLYENV || {};                                    if (document.getElementById(\"95723854-c88f-4ad6-b723-3fce29baffc8\")) {                    Plotly.newPlot(                        \"95723854-c88f-4ad6-b723-3fce29baffc8\",                        [{\"labels\":[\"Pneumonia\",\"Normal\"],\"marker\":{\"colors\":[\"lightskyblue\",\"gold\"],\"line\":{\"color\":\"#000000\",\"width\":1.5}},\"opacity\":0.8,\"textfont\":{\"size\":15},\"values\":[3875,1341],\"type\":\"pie\"}],                        {\"template\":{\"data\":{\"barpolar\":[{\"marker\":{\"line\":{\"color\":\"#E5ECF6\",\"width\":0.5},\"pattern\":{\"fillmode\":\"overlay\",\"size\":10,\"solidity\":0.2}},\"type\":\"barpolar\"}],\"bar\":[{\"error_x\":{\"color\":\"#2a3f5f\"},\"error_y\":{\"color\":\"#2a3f5f\"},\"marker\":{\"line\":{\"color\":\"#E5ECF6\",\"width\":0.5},\"pattern\":{\"fillmode\":\"overlay\",\"size\":10,\"solidity\":0.2}},\"type\":\"bar\"}],\"carpet\":[{\"aaxis\":{\"endlinecolor\":\"#2a3f5f\",\"gridcolor\":\"white\",\"linecolor\":\"white\",\"minorgridcolor\":\"white\",\"startlinecolor\":\"#2a3f5f\"},\"baxis\":{\"endlinecolor\":\"#2a3f5f\",\"gridcolor\":\"white\",\"linecolor\":\"white\",\"minorgridcolor\":\"white\",\"startlinecolor\":\"#2a3f5f\"},\"type\":\"carpet\"}],\"choropleth\":[{\"colorbar\":{\"outlinewidth\":0,\"ticks\":\"\"},\"type\":\"choropleth\"}],\"contourcarpet\":[{\"colorbar\":{\"outlinewidth\":0,\"ticks\":\"\"},\"type\":\"contourcarpet\"}],\"contour\":[{\"colorbar\":{\"outlinewidth\":0,\"ticks\":\"\"},\"colorscale\":[[0.0,\"#0d0887\"],[0.1111111111111111,\"#46039f\"],[0.2222222222222222,\"#7201a8\"],[0.3333333333333333,\"#9c179e\"],[0.4444444444444444,\"#bd3786\"],[0.5555555555555556,\"#d8576b\"],[0.6666666666666666,\"#ed7953\"],[0.7777777777777778,\"#fb9f3a\"],[0.8888888888888888,\"#fdca26\"],[1.0,\"#f0f921\"]],\"type\":\"contour\"}],\"heatmapgl\":[{\"colorbar\":{\"outlinewidth\":0,\"ticks\":\"\"},\"colorscale\":[[0.0,\"#0d0887\"],[0.1111111111111111,\"#46039f\"],[0.2222222222222222,\"#7201a8\"],[0.3333333333333333,\"#9c179e\"],[0.4444444444444444,\"#bd3786\"],[0.5555555555555556,\"#d8576b\"],[0.6666666666666666,\"#ed7953\"],[0.7777777777777778,\"#fb9f3a\"],[0.8888888888888888,\"#fdca26\"],[1.0,\"#f0f921\"]],\"type\":\"heatmapgl\"}],\"heatmap\":[{\"colorbar\":{\"outlinewidth\":0,\"ticks\":\"\"},\"colorscale\":[[0.0,\"#0d0887\"],[0.1111111111111111,\"#46039f\"],[0.2222222222222222,\"#7201a8\"],[0.3333333333333333,\"#9c179e\"],[0.4444444444444444,\"#bd3786\"],[0.5555555555555556,\"#d8576b\"],[0.6666666666666666,\"#ed7953\"],[0.7777777777777778,\"#fb9f3a\"],[0.8888888888888888,\"#fdca26\"],[1.0,\"#f0f921\"]],\"type\":\"heatmap\"}],\"histogram2dcontour\":[{\"colorbar\":{\"outlinewidth\":0,\"ticks\":\"\"},\"colorscale\":[[0.0,\"#0d0887\"],[0.1111111111111111,\"#46039f\"],[0.2222222222222222,\"#7201a8\"],[0.3333333333333333,\"#9c179e\"],[0.4444444444444444,\"#bd3786\"],[0.5555555555555556,\"#d8576b\"],[0.6666666666666666,\"#ed7953\"],[0.7777777777777778,\"#fb9f3a\"],[0.8888888888888888,\"#fdca26\"],[1.0,\"#f0f921\"]],\"type\":\"histogram2dcontour\"}],\"histogram2d\":[{\"colorbar\":{\"outlinewidth\":0,\"ticks\":\"\"},\"colorscale\":[[0.0,\"#0d0887\"],[0.1111111111111111,\"#46039f\"],[0.2222222222222222,\"#7201a8\"],[0.3333333333333333,\"#9c179e\"],[0.4444444444444444,\"#bd3786\"],[0.5555555555555556,\"#d8576b\"],[0.6666666666666666,\"#ed7953\"],[0.7777777777777778,\"#fb9f3a\"],[0.8888888888888888,\"#fdca26\"],[1.0,\"#f0f921\"]],\"type\":\"histogram2d\"}],\"histogram\":[{\"marker\":{\"pattern\":{\"fillmode\":\"overlay\",\"size\":10,\"solidity\":0.2}},\"type\":\"histogram\"}],\"mesh3d\":[{\"colorbar\":{\"outlinewidth\":0,\"ticks\":\"\"},\"type\":\"mesh3d\"}],\"parcoords\":[{\"line\":{\"colorbar\":{\"outlinewidth\":0,\"ticks\":\"\"}},\"type\":\"parcoords\"}],\"pie\":[{\"automargin\":true,\"type\":\"pie\"}],\"scatter3d\":[{\"line\":{\"colorbar\":{\"outlinewidth\":0,\"ticks\":\"\"}},\"marker\":{\"colorbar\":{\"outlinewidth\":0,\"ticks\":\"\"}},\"type\":\"scatter3d\"}],\"scattercarpet\":[{\"marker\":{\"colorbar\":{\"outlinewidth\":0,\"ticks\":\"\"}},\"type\":\"scattercarpet\"}],\"scattergeo\":[{\"marker\":{\"colorbar\":{\"outlinewidth\":0,\"ticks\":\"\"}},\"type\":\"scattergeo\"}],\"scattergl\":[{\"marker\":{\"colorbar\":{\"outlinewidth\":0,\"ticks\":\"\"}},\"type\":\"scattergl\"}],\"scattermapbox\":[{\"marker\":{\"colorbar\":{\"outlinewidth\":0,\"ticks\":\"\"}},\"type\":\"scattermapbox\"}],\"scatterpolargl\":[{\"marker\":{\"colorbar\":{\"outlinewidth\":0,\"ticks\":\"\"}},\"type\":\"scatterpolargl\"}],\"scatterpolar\":[{\"marker\":{\"colorbar\":{\"outlinewidth\":0,\"ticks\":\"\"}},\"type\":\"scatterpolar\"}],\"scatter\":[{\"fillpattern\":{\"fillmode\":\"overlay\",\"size\":10,\"solidity\":0.2},\"type\":\"scatter\"}],\"scatterternary\":[{\"marker\":{\"colorbar\":{\"outlinewidth\":0,\"ticks\":\"\"}},\"type\":\"scatterternary\"}],\"surface\":[{\"colorbar\":{\"outlinewidth\":0,\"ticks\":\"\"},\"colorscale\":[[0.0,\"#0d0887\"],[0.1111111111111111,\"#46039f\"],[0.2222222222222222,\"#7201a8\"],[0.3333333333333333,\"#9c179e\"],[0.4444444444444444,\"#bd3786\"],[0.5555555555555556,\"#d8576b\"],[0.6666666666666666,\"#ed7953\"],[0.7777777777777778,\"#fb9f3a\"],[0.8888888888888888,\"#fdca26\"],[1.0,\"#f0f921\"]],\"type\":\"surface\"}],\"table\":[{\"cells\":{\"fill\":{\"color\":\"#EBF0F8\"},\"line\":{\"color\":\"white\"}},\"header\":{\"fill\":{\"color\":\"#C8D4E3\"},\"line\":{\"color\":\"white\"}},\"type\":\"table\"}]},\"layout\":{\"annotationdefaults\":{\"arrowcolor\":\"#2a3f5f\",\"arrowhead\":0,\"arrowwidth\":1},\"autotypenumbers\":\"strict\",\"coloraxis\":{\"colorbar\":{\"outlinewidth\":0,\"ticks\":\"\"}},\"colorscale\":{\"diverging\":[[0,\"#8e0152\"],[0.1,\"#c51b7d\"],[0.2,\"#de77ae\"],[0.3,\"#f1b6da\"],[0.4,\"#fde0ef\"],[0.5,\"#f7f7f7\"],[0.6,\"#e6f5d0\"],[0.7,\"#b8e186\"],[0.8,\"#7fbc41\"],[0.9,\"#4d9221\"],[1,\"#276419\"]],\"sequential\":[[0.0,\"#0d0887\"],[0.1111111111111111,\"#46039f\"],[0.2222222222222222,\"#7201a8\"],[0.3333333333333333,\"#9c179e\"],[0.4444444444444444,\"#bd3786\"],[0.5555555555555556,\"#d8576b\"],[0.6666666666666666,\"#ed7953\"],[0.7777777777777778,\"#fb9f3a\"],[0.8888888888888888,\"#fdca26\"],[1.0,\"#f0f921\"]],\"sequentialminus\":[[0.0,\"#0d0887\"],[0.1111111111111111,\"#46039f\"],[0.2222222222222222,\"#7201a8\"],[0.3333333333333333,\"#9c179e\"],[0.4444444444444444,\"#bd3786\"],[0.5555555555555556,\"#d8576b\"],[0.6666666666666666,\"#ed7953\"],[0.7777777777777778,\"#fb9f3a\"],[0.8888888888888888,\"#fdca26\"],[1.0,\"#f0f921\"]]},\"colorway\":[\"#636efa\",\"#EF553B\",\"#00cc96\",\"#ab63fa\",\"#FFA15A\",\"#19d3f3\",\"#FF6692\",\"#B6E880\",\"#FF97FF\",\"#FECB52\"],\"font\":{\"color\":\"#2a3f5f\"},\"geo\":{\"bgcolor\":\"white\",\"lakecolor\":\"white\",\"landcolor\":\"#E5ECF6\",\"showlakes\":true,\"showland\":true,\"subunitcolor\":\"white\"},\"hoverlabel\":{\"align\":\"left\"},\"hovermode\":\"closest\",\"mapbox\":{\"style\":\"light\"},\"paper_bgcolor\":\"white\",\"plot_bgcolor\":\"#E5ECF6\",\"polar\":{\"angularaxis\":{\"gridcolor\":\"white\",\"linecolor\":\"white\",\"ticks\":\"\"},\"bgcolor\":\"#E5ECF6\",\"radialaxis\":{\"gridcolor\":\"white\",\"linecolor\":\"white\",\"ticks\":\"\"}},\"scene\":{\"xaxis\":{\"backgroundcolor\":\"#E5ECF6\",\"gridcolor\":\"white\",\"gridwidth\":2,\"linecolor\":\"white\",\"showbackground\":true,\"ticks\":\"\",\"zerolinecolor\":\"white\"},\"yaxis\":{\"backgroundcolor\":\"#E5ECF6\",\"gridcolor\":\"white\",\"gridwidth\":2,\"linecolor\":\"white\",\"showbackground\":true,\"ticks\":\"\",\"zerolinecolor\":\"white\"},\"zaxis\":{\"backgroundcolor\":\"#E5ECF6\",\"gridcolor\":\"white\",\"gridwidth\":2,\"linecolor\":\"white\",\"showbackground\":true,\"ticks\":\"\",\"zerolinecolor\":\"white\"}},\"shapedefaults\":{\"line\":{\"color\":\"#2a3f5f\"}},\"ternary\":{\"aaxis\":{\"gridcolor\":\"white\",\"linecolor\":\"white\",\"ticks\":\"\"},\"baxis\":{\"gridcolor\":\"white\",\"linecolor\":\"white\",\"ticks\":\"\"},\"bgcolor\":\"#E5ECF6\",\"caxis\":{\"gridcolor\":\"white\",\"linecolor\":\"white\",\"ticks\":\"\"}},\"title\":{\"x\":0.05},\"xaxis\":{\"automargin\":true,\"gridcolor\":\"white\",\"linecolor\":\"white\",\"ticks\":\"\",\"title\":{\"standoff\":15},\"zerolinecolor\":\"white\",\"zerolinewidth\":2},\"yaxis\":{\"automargin\":true,\"gridcolor\":\"white\",\"linecolor\":\"white\",\"ticks\":\"\",\"title\":{\"standoff\":15},\"zerolinecolor\":\"white\",\"zerolinewidth\":2}}},\"title\":{\"text\":\"Distribution of class variable in train dataset\"}},                        {\"responsive\": true}                    ).then(function(){\n                            \nvar gd = document.getElementById('95723854-c88f-4ad6-b723-3fce29baffc8');\nvar x = new MutationObserver(function (mutations, observer) {{\n        var display = window.getComputedStyle(gd).display;\n        if (!display || display === 'none') {{\n            console.log([gd, 'removed!']);\n            Plotly.purge(gd);\n            observer.disconnect();\n        }}\n}});\n\n// Listen for the removal of the full notebook cells\nvar notebookContainer = gd.closest('#notebook-container');\nif (notebookContainer) {{\n    x.observe(notebookContainer, {childList: true});\n}}\n\n// Listen for the clearing of the current output cell\nvar outputEl = gd.closest('.output');\nif (outputEl) {{\n    x.observe(outputEl, {childList: true});\n}}\n\n                        })                };                });            </script>        </div>",
            "image/png": "[encoded data removed]"
          },
          "metadata": {}
        }
      ],
      "id": "SZEspHSD8JQh"
    },
    {
      "cell_type": "code",
      "source": [
        "Pneumonia = df_test[(df_test['class'] == 'Pneumonia')]\n",
        "Normal = df_test[(df_test['class'] == 'Normal')]\n",
        "\n",
        "trace = go.Bar(x = (len(Pneumonia), len(Normal)), y = ['Pneumonia', 'Normal'], orientation = 'h', opacity = 0.8, marker=dict(\n",
        "        color=['gold', 'lightskyblue'],\n",
        "        line=dict(color='#000000',width=1.5)))\n",
        "\n",
        "layout = dict(title =  'Count of class variable in test dataset')\n",
        "                    \n",
        "fig = dict(data = [trace], layout=layout)\n",
        "py.iplot(fig)"
      ],
      "metadata": {
        "execution": {
          "iopub.status.busy": "2022-11-01T13:52:52.626774Z",
          "iopub.execute_input": "2022-11-01T13:52:52.627056Z",
          "iopub.status.idle": "2022-11-01T13:52:52.660575Z",
          "shell.execute_reply.started": "2022-11-01T13:52:52.627031Z",
          "shell.execute_reply": "2022-11-01T13:52:52.659695Z"
        },
        "trusted": true,
        "id": "UuoPn2pN8JQh",
        "outputId": "30253dbf-8019-41a8-c65c-fd38f8091b69"
      },
      "execution_count": null,
      "outputs": [
        {
          "output_type": "display_data",
          "data": {
            "application/vnd.plotly.v1+json": {
              "data": [
                {
                  "marker": {
                    "color": [
                      "gold",
                      "lightskyblue"
                    ],
                    "line": {
                      "color": "#000000",
                      "width": 1.5
                    }
                  },
                  "opacity": 0.8,
                  "orientation": "h",
                  "x": [
                    390,
                    234
                  ],
                  "y": [
                    "Pneumonia",
                    "Normal"
                  ],
                  "type": "bar"
                }
              ],
              "layout": {
                "template": {
                  "data": {
                    "barpolar": [
                      {
                        "marker": {
                          "line": {
                            "color": "#E5ECF6",
                            "width": 0.5
                          },
                          "pattern": {
                            "fillmode": "overlay",
                            "size": 10,
                            "solidity": 0.2
                          }
                        },
                        "type": "barpolar"
                      }
                    ],
                    "bar": [
                      {
                        "error_x": {
                          "color": "#2a3f5f"
                        },
                        "error_y": {
                          "color": "#2a3f5f"
                        },
                        "marker": {
                          "line": {
                            "color": "#E5ECF6",
                            "width": 0.5
                          },
                          "pattern": {
                            "fillmode": "overlay",
                            "size": 10,
                            "solidity": 0.2
                          }
                        },
                        "type": "bar"
                      }
                    ],
                    "carpet": [
                      {
                        "aaxis": {
                          "endlinecolor": "#2a3f5f",
                          "gridcolor": "white",
                          "linecolor": "white",
                          "minorgridcolor": "white",
                          "startlinecolor": "#2a3f5f"
                        },
                        "baxis": {
                          "endlinecolor": "#2a3f5f",
                          "gridcolor": "white",
                          "linecolor": "white",
                          "minorgridcolor": "white",
                          "startlinecolor": "#2a3f5f"
                        },
                        "type": "carpet"
                      }
                    ],
                    "choropleth": [
                      {
                        "colorbar": {
                          "outlinewidth": 0,
                          "ticks": ""
                        },
                        "type": "choropleth"
                      }
                    ],
                    "contourcarpet": [
                      {
                        "colorbar": {
                          "outlinewidth": 0,
                          "ticks": ""
                        },
                        "type": "contourcarpet"
                      }
                    ],
                    "contour": [
                      {
                        "colorbar": {
                          "outlinewidth": 0,
                          "ticks": ""
                        },
                        "colorscale": [
                          [
                            0,
                            "#0d0887"
                          ],
                          [
                            0.1111111111111111,
                            "#46039f"
                          ],
                          [
                            0.2222222222222222,
                            "#7201a8"
                          ],
                          [
                            0.3333333333333333,
                            "#9c179e"
                          ],
                          [
                            0.4444444444444444,
                            "#bd3786"
                          ],
                          [
                            0.5555555555555556,
                            "#d8576b"
                          ],
                          [
                            0.6666666666666666,
                            "#ed7953"
                          ],
                          [
                            0.7777777777777778,
                            "#fb9f3a"
                          ],
                          [
                            0.8888888888888888,
                            "#fdca26"
                          ],
                          [
                            1,
                            "#f0f921"
                          ]
                        ],
                        "type": "contour"
                      }
                    ],
                    "heatmapgl": [
                      {
                        "colorbar": {
                          "outlinewidth": 0,
                          "ticks": ""
                        },
                        "colorscale": [
                          [
                            0,
                            "#0d0887"
                          ],
                          [
                            0.1111111111111111,
                            "#46039f"
                          ],
                          [
                            0.2222222222222222,
                            "#7201a8"
                          ],
                          [
                            0.3333333333333333,
                            "#9c179e"
                          ],
                          [
                            0.4444444444444444,
                            "#bd3786"
                          ],
                          [
                            0.5555555555555556,
                            "#d8576b"
                          ],
                          [
                            0.6666666666666666,
                            "#ed7953"
                          ],
                          [
                            0.7777777777777778,
                            "#fb9f3a"
                          ],
                          [
                            0.8888888888888888,
                            "#fdca26"
                          ],
                          [
                            1,
                            "#f0f921"
                          ]
                        ],
                        "type": "heatmapgl"
                      }
                    ],
                    "heatmap": [
                      {
                        "colorbar": {
                          "outlinewidth": 0,
                          "ticks": ""
                        },
                        "colorscale": [
                          [
                            0,
                            "#0d0887"
                          ],
                          [
                            0.1111111111111111,
                            "#46039f"
                          ],
                          [
                            0.2222222222222222,
                            "#7201a8"
                          ],
                          [
                            0.3333333333333333,
                            "#9c179e"
                          ],
                          [
                            0.4444444444444444,
                            "#bd3786"
                          ],
                          [
                            0.5555555555555556,
                            "#d8576b"
                          ],
                          [
                            0.6666666666666666,
                            "#ed7953"
                          ],
                          [
                            0.7777777777777778,
                            "#fb9f3a"
                          ],
                          [
                            0.8888888888888888,
                            "#fdca26"
                          ],
                          [
                            1,
                            "#f0f921"
                          ]
                        ],
                        "type": "heatmap"
                      }
                    ],
                    "histogram2dcontour": [
                      {
                        "colorbar": {
                          "outlinewidth": 0,
                          "ticks": ""
                        },
                        "colorscale": [
                          [
                            0,
                            "#0d0887"
                          ],
                          [
                            0.1111111111111111,
                            "#46039f"
                          ],
                          [
                            0.2222222222222222,
                            "#7201a8"
                          ],
                          [
                            0.3333333333333333,
                            "#9c179e"
                          ],
                          [
                            0.4444444444444444,
                            "#bd3786"
                          ],
                          [
                            0.5555555555555556,
                            "#d8576b"
                          ],
                          [
                            0.6666666666666666,
                            "#ed7953"
                          ],
                          [
                            0.7777777777777778,
                            "#fb9f3a"
                          ],
                          [
                            0.8888888888888888,
                            "#fdca26"
                          ],
                          [
                            1,
                            "#f0f921"
                          ]
                        ],
                        "type": "histogram2dcontour"
                      }
                    ],
                    "histogram2d": [
                      {
                        "colorbar": {
                          "outlinewidth": 0,
                          "ticks": ""
                        },
                        "colorscale": [
                          [
                            0,
                            "#0d0887"
                          ],
                          [
                            0.1111111111111111,
                            "#46039f"
                          ],
                          [
                            0.2222222222222222,
                            "#7201a8"
                          ],
                          [
                            0.3333333333333333,
                            "#9c179e"
                          ],
                          [
                            0.4444444444444444,
                            "#bd3786"
                          ],
                          [
                            0.5555555555555556,
                            "#d8576b"
                          ],
                          [
                            0.6666666666666666,
                            "#ed7953"
                          ],
                          [
                            0.7777777777777778,
                            "#fb9f3a"
                          ],
                          [
                            0.8888888888888888,
                            "#fdca26"
                          ],
                          [
                            1,
                            "#f0f921"
                          ]
                        ],
                        "type": "histogram2d"
                      }
                    ],
                    "histogram": [
                      {
                        "marker": {
                          "pattern": {
                            "fillmode": "overlay",
                            "size": 10,
                            "solidity": 0.2
                          }
                        },
                        "type": "histogram"
                      }
                    ],
                    "mesh3d": [
                      {
                        "colorbar": {
                          "outlinewidth": 0,
                          "ticks": ""
                        },
                        "type": "mesh3d"
                      }
                    ],
                    "parcoords": [
                      {
                        "line": {
                          "colorbar": {
                            "outlinewidth": 0,
                            "ticks": ""
                          }
                        },
                        "type": "parcoords"
                      }
                    ],
                    "pie": [
                      {
                        "automargin": true,
                        "type": "pie"
                      }
                    ],
                    "scatter3d": [
                      {
                        "line": {
                          "colorbar": {
                            "outlinewidth": 0,
                            "ticks": ""
                          }
                        },
                        "marker": {
                          "colorbar": {
                            "outlinewidth": 0,
                            "ticks": ""
                          }
                        },
                        "type": "scatter3d"
                      }
                    ],
                    "scattercarpet": [
                      {
                        "marker": {
                          "colorbar": {
                            "outlinewidth": 0,
                            "ticks": ""
                          }
                        },
                        "type": "scattercarpet"
                      }
                    ],
                    "scattergeo": [
                      {
                        "marker": {
                          "colorbar": {
                            "outlinewidth": 0,
                            "ticks": ""
                          }
                        },
                        "type": "scattergeo"
                      }
                    ],
                    "scattergl": [
                      {
                        "marker": {
                          "colorbar": {
                            "outlinewidth": 0,
                            "ticks": ""
                          }
                        },
                        "type": "scattergl"
                      }
                    ],
                    "scattermapbox": [
                      {
                        "marker": {
                          "colorbar": {
                            "outlinewidth": 0,
                            "ticks": ""
                          }
                        },
                        "type": "scattermapbox"
                      }
                    ],
                    "scatterpolargl": [
                      {
                        "marker": {
                          "colorbar": {
                            "outlinewidth": 0,
                            "ticks": ""
                          }
                        },
                        "type": "scatterpolargl"
                      }
                    ],
                    "scatterpolar": [
                      {
                        "marker": {
                          "colorbar": {
                            "outlinewidth": 0,
                            "ticks": ""
                          }
                        },
                        "type": "scatterpolar"
                      }
                    ],
                    "scatter": [
                      {
                        "fillpattern": {
                          "fillmode": "overlay",
                          "size": 10,
                          "solidity": 0.2
                        },
                        "type": "scatter"
                      }
                    ],
                    "scatterternary": [
                      {
                        "marker": {
                          "colorbar": {
                            "outlinewidth": 0,
                            "ticks": ""
                          }
                        },
                        "type": "scatterternary"
                      }
                    ],
                    "surface": [
                      {
                        "colorbar": {
                          "outlinewidth": 0,
                          "ticks": ""
                        },
                        "colorscale": [
                          [
                            0,
                            "#0d0887"
                          ],
                          [
                            0.1111111111111111,
                            "#46039f"
                          ],
                          [
                            0.2222222222222222,
                            "#7201a8"
                          ],
                          [
                            0.3333333333333333,
                            "#9c179e"
                          ],
                          [
                            0.4444444444444444,
                            "#bd3786"
                          ],
                          [
                            0.5555555555555556,
                            "#d8576b"
                          ],
                          [
                            0.6666666666666666,
                            "#ed7953"
                          ],
                          [
                            0.7777777777777778,
                            "#fb9f3a"
                          ],
                          [
                            0.8888888888888888,
                            "#fdca26"
                          ],
                          [
                            1,
                            "#f0f921"
                          ]
                        ],
                        "type": "surface"
                      }
                    ],
                    "table": [
                      {
                        "cells": {
                          "fill": {
                            "color": "#EBF0F8"
                          },
                          "line": {
                            "color": "white"
                          }
                        },
                        "header": {
                          "fill": {
                            "color": "#C8D4E3"
                          },
                          "line": {
                            "color": "white"
                          }
                        },
                        "type": "table"
                      }
                    ]
                  },
                  "layout": {
                    "annotationdefaults": {
                      "arrowcolor": "#2a3f5f",
                      "arrowhead": 0,
                      "arrowwidth": 1
                    },
                    "autotypenumbers": "strict",
                    "coloraxis": {
                      "colorbar": {
                        "outlinewidth": 0,
                        "ticks": ""
                      }
                    },
                    "colorscale": {
                      "diverging": [
                        [
                          0,
                          "#8e0152"
                        ],
                        [
                          0.1,
                          "#c51b7d"
                        ],
                        [
                          0.2,
                          "#de77ae"
                        ],
                        [
                          0.3,
                          "#f1b6da"
                        ],
                        [
                          0.4,
                          "#fde0ef"
                        ],
                        [
                          0.5,
                          "#f7f7f7"
                        ],
                        [
                          0.6,
                          "#e6f5d0"
                        ],
                        [
                          0.7,
                          "#b8e186"
                        ],
                        [
                          0.8,
                          "#7fbc41"
                        ],
                        [
                          0.9,
                          "#4d9221"
                        ],
                        [
                          1,
                          "#276419"
                        ]
                      ],
                      "sequential": [
                        [
                          0,
                          "#0d0887"
                        ],
                        [
                          0.1111111111111111,
                          "#46039f"
                        ],
                        [
                          0.2222222222222222,
                          "#7201a8"
                        ],
                        [
                          0.3333333333333333,
                          "#9c179e"
                        ],
                        [
                          0.4444444444444444,
                          "#bd3786"
                        ],
                        [
                          0.5555555555555556,
                          "#d8576b"
                        ],
                        [
                          0.6666666666666666,
                          "#ed7953"
                        ],
                        [
                          0.7777777777777778,
                          "#fb9f3a"
                        ],
                        [
                          0.8888888888888888,
                          "#fdca26"
                        ],
                        [
                          1,
                          "#f0f921"
                        ]
                      ],
                      "sequentialminus": [
                        [
                          0,
                          "#0d0887"
                        ],
                        [
                          0.1111111111111111,
                          "#46039f"
                        ],
                        [
                          0.2222222222222222,
                          "#7201a8"
                        ],
                        [
                          0.3333333333333333,
                          "#9c179e"
                        ],
                        [
                          0.4444444444444444,
                          "#bd3786"
                        ],
                        [
                          0.5555555555555556,
                          "#d8576b"
                        ],
                        [
                          0.6666666666666666,
                          "#ed7953"
                        ],
                        [
                          0.7777777777777778,
                          "#fb9f3a"
                        ],
                        [
                          0.8888888888888888,
                          "#fdca26"
                        ],
                        [
                          1,
                          "#f0f921"
                        ]
                      ]
                    },
                    "colorway": [
                      "#636efa",
                      "#EF553B",
                      "#00cc96",
                      "#ab63fa",
                      "#FFA15A",
                      "#19d3f3",
                      "#FF6692",
                      "#B6E880",
                      "#FF97FF",
                      "#FECB52"
                    ],
                    "font": {
                      "color": "#2a3f5f"
                    },
                    "geo": {
                      "bgcolor": "white",
                      "lakecolor": "white",
                      "landcolor": "#E5ECF6",
                      "showlakes": true,
                      "showland": true,
                      "subunitcolor": "white"
                    },
                    "hoverlabel": {
                      "align": "left"
                    },
                    "hovermode": "closest",
                    "mapbox": {
                      "style": "light"
                    },
                    "paper_bgcolor": "white",
                    "plot_bgcolor": "#E5ECF6",
                    "polar": {
                      "angularaxis": {
                        "gridcolor": "white",
                        "linecolor": "white",
                        "ticks": ""
                      },
                      "bgcolor": "#E5ECF6",
                      "radialaxis": {
                        "gridcolor": "white",
                        "linecolor": "white",
                        "ticks": ""
                      }
                    },
                    "scene": {
                      "xaxis": {
                        "backgroundcolor": "#E5ECF6",
                        "gridcolor": "white",
                        "gridwidth": 2,
                        "linecolor": "white",
                        "showbackground": true,
                        "ticks": "",
                        "zerolinecolor": "white"
                      },
                      "yaxis": {
                        "backgroundcolor": "#E5ECF6",
                        "gridcolor": "white",
                        "gridwidth": 2,
                        "linecolor": "white",
                        "showbackground": true,
                        "ticks": "",
                        "zerolinecolor": "white"
                      },
                      "zaxis": {
                        "backgroundcolor": "#E5ECF6",
                        "gridcolor": "white",
                        "gridwidth": 2,
                        "linecolor": "white",
                        "showbackground": true,
                        "ticks": "",
                        "zerolinecolor": "white"
                      }
                    },
                    "shapedefaults": {
                      "line": {
                        "color": "#2a3f5f"
                      }
                    },
                    "ternary": {
                      "aaxis": {
                        "gridcolor": "white",
                        "linecolor": "white",
                        "ticks": ""
                      },
                      "baxis": {
                        "gridcolor": "white",
                        "linecolor": "white",
                        "ticks": ""
                      },
                      "bgcolor": "#E5ECF6",
                      "caxis": {
                        "gridcolor": "white",
                        "linecolor": "white",
                        "ticks": ""
                      }
                    },
                    "title": {
                      "x": 0.05
                    },
                    "xaxis": {
                      "automargin": true,
                      "gridcolor": "white",
                      "linecolor": "white",
                      "ticks": "",
                      "title": {
                        "standoff": 15
                      },
                      "zerolinecolor": "white",
                      "zerolinewidth": 2
                    },
                    "yaxis": {
                      "automargin": true,
                      "gridcolor": "white",
                      "linecolor": "white",
                      "ticks": "",
                      "title": {
                        "standoff": 15
                      },
                      "zerolinecolor": "white",
                      "zerolinewidth": 2
                    }
                  }
                },
                "title": {
                  "text": "Count of class variable in test dataset"
                },
                "xaxis": {
                  "type": "linear",
                  "range": [
                    0,
                    410.5263157894737
                  ],
                  "autorange": true
                },
                "yaxis": {
                  "type": "category",
                  "range": [
                    -0.5,
                    1.5
                  ],
                  "autorange": true
                },
                "autosize": true
              },
              "config": {
                "showLink": false,
                "linkText": "Export to plot.ly",
                "plotlyServerURL": "https://plot.ly"
              }
            },
            "text/html": "<div>                            <div id=\"dcbbd65f-e32c-4fa9-a208-d759d3a6dee7\" class=\"plotly-graph-div\" style=\"height:525px; width:100%;\"></div>            <script type=\"text/javascript\">                require([\"plotly\"], function(Plotly) {                    window.PLOTLYENV=window.PLOTLYENV || {};                                    if (document.getElementById(\"dcbbd65f-e32c-4fa9-a208-d759d3a6dee7\")) {                    Plotly.newPlot(                        \"dcbbd65f-e32c-4fa9-a208-d759d3a6dee7\",                        [{\"marker\":{\"color\":[\"gold\",\"lightskyblue\"],\"line\":{\"color\":\"#000000\",\"width\":1.5}},\"opacity\":0.8,\"orientation\":\"h\",\"x\":[390,234],\"y\":[\"Pneumonia\",\"Normal\"],\"type\":\"bar\"}],                        {\"template\":{\"data\":{\"barpolar\":[{\"marker\":{\"line\":{\"color\":\"#E5ECF6\",\"width\":0.5},\"pattern\":{\"fillmode\":\"overlay\",\"size\":10,\"solidity\":0.2}},\"type\":\"barpolar\"}],\"bar\":[{\"error_x\":{\"color\":\"#2a3f5f\"},\"error_y\":{\"color\":\"#2a3f5f\"},\"marker\":{\"line\":{\"color\":\"#E5ECF6\",\"width\":0.5},\"pattern\":{\"fillmode\":\"overlay\",\"size\":10,\"solidity\":0.2}},\"type\":\"bar\"}],\"carpet\":[{\"aaxis\":{\"endlinecolor\":\"#2a3f5f\",\"gridcolor\":\"white\",\"linecolor\":\"white\",\"minorgridcolor\":\"white\",\"startlinecolor\":\"#2a3f5f\"},\"baxis\":{\"endlinecolor\":\"#2a3f5f\",\"gridcolor\":\"white\",\"linecolor\":\"white\",\"minorgridcolor\":\"white\",\"startlinecolor\":\"#2a3f5f\"},\"type\":\"carpet\"}],\"choropleth\":[{\"colorbar\":{\"outlinewidth\":0,\"ticks\":\"\"},\"type\":\"choropleth\"}],\"contourcarpet\":[{\"colorbar\":{\"outlinewidth\":0,\"ticks\":\"\"},\"type\":\"contourcarpet\"}],\"contour\":[{\"colorbar\":{\"outlinewidth\":0,\"ticks\":\"\"},\"colorscale\":[[0.0,\"#0d0887\"],[0.1111111111111111,\"#46039f\"],[0.2222222222222222,\"#7201a8\"],[0.3333333333333333,\"#9c179e\"],[0.4444444444444444,\"#bd3786\"],[0.5555555555555556,\"#d8576b\"],[0.6666666666666666,\"#ed7953\"],[0.7777777777777778,\"#fb9f3a\"],[0.8888888888888888,\"#fdca26\"],[1.0,\"#f0f921\"]],\"type\":\"contour\"}],\"heatmapgl\":[{\"colorbar\":{\"outlinewidth\":0,\"ticks\":\"\"},\"colorscale\":[[0.0,\"#0d0887\"],[0.1111111111111111,\"#46039f\"],[0.2222222222222222,\"#7201a8\"],[0.3333333333333333,\"#9c179e\"],[0.4444444444444444,\"#bd3786\"],[0.5555555555555556,\"#d8576b\"],[0.6666666666666666,\"#ed7953\"],[0.7777777777777778,\"#fb9f3a\"],[0.8888888888888888,\"#fdca26\"],[1.0,\"#f0f921\"]],\"type\":\"heatmapgl\"}],\"heatmap\":[{\"colorbar\":{\"outlinewidth\":0,\"ticks\":\"\"},\"colorscale\":[[0.0,\"#0d0887\"],[0.1111111111111111,\"#46039f\"],[0.2222222222222222,\"#7201a8\"],[0.3333333333333333,\"#9c179e\"],[0.4444444444444444,\"#bd3786\"],[0.5555555555555556,\"#d8576b\"],[0.6666666666666666,\"#ed7953\"],[0.7777777777777778,\"#fb9f3a\"],[0.8888888888888888,\"#fdca26\"],[1.0,\"#f0f921\"]],\"type\":\"heatmap\"}],\"histogram2dcontour\":[{\"colorbar\":{\"outlinewidth\":0,\"ticks\":\"\"},\"colorscale\":[[0.0,\"#0d0887\"],[0.1111111111111111,\"#46039f\"],[0.2222222222222222,\"#7201a8\"],[0.3333333333333333,\"#9c179e\"],[0.4444444444444444,\"#bd3786\"],[0.5555555555555556,\"#d8576b\"],[0.6666666666666666,\"#ed7953\"],[0.7777777777777778,\"#fb9f3a\"],[0.8888888888888888,\"#fdca26\"],[1.0,\"#f0f921\"]],\"type\":\"histogram2dcontour\"}],\"histogram2d\":[{\"colorbar\":{\"outlinewidth\":0,\"ticks\":\"\"},\"colorscale\":[[0.0,\"#0d0887\"],[0.1111111111111111,\"#46039f\"],[0.2222222222222222,\"#7201a8\"],[0.3333333333333333,\"#9c179e\"],[0.4444444444444444,\"#bd3786\"],[0.5555555555555556,\"#d8576b\"],[0.6666666666666666,\"#ed7953\"],[0.7777777777777778,\"#fb9f3a\"],[0.8888888888888888,\"#fdca26\"],[1.0,\"#f0f921\"]],\"type\":\"histogram2d\"}],\"histogram\":[{\"marker\":{\"pattern\":{\"fillmode\":\"overlay\",\"size\":10,\"solidity\":0.2}},\"type\":\"histogram\"}],\"mesh3d\":[{\"colorbar\":{\"outlinewidth\":0,\"ticks\":\"\"},\"type\":\"mesh3d\"}],\"parcoords\":[{\"line\":{\"colorbar\":{\"outlinewidth\":0,\"ticks\":\"\"}},\"type\":\"parcoords\"}],\"pie\":[{\"automargin\":true,\"type\":\"pie\"}],\"scatter3d\":[{\"line\":{\"colorbar\":{\"outlinewidth\":0,\"ticks\":\"\"}},\"marker\":{\"colorbar\":{\"outlinewidth\":0,\"ticks\":\"\"}},\"type\":\"scatter3d\"}],\"scattercarpet\":[{\"marker\":{\"colorbar\":{\"outlinewidth\":0,\"ticks\":\"\"}},\"type\":\"scattercarpet\"}],\"scattergeo\":[{\"marker\":{\"colorbar\":{\"outlinewidth\":0,\"ticks\":\"\"}},\"type\":\"scattergeo\"}],\"scattergl\":[{\"marker\":{\"colorbar\":{\"outlinewidth\":0,\"ticks\":\"\"}},\"type\":\"scattergl\"}],\"scattermapbox\":[{\"marker\":{\"colorbar\":{\"outlinewidth\":0,\"ticks\":\"\"}},\"type\":\"scattermapbox\"}],\"scatterpolargl\":[{\"marker\":{\"colorbar\":{\"outlinewidth\":0,\"ticks\":\"\"}},\"type\":\"scatterpolargl\"}],\"scatterpolar\":[{\"marker\":{\"colorbar\":{\"outlinewidth\":0,\"ticks\":\"\"}},\"type\":\"scatterpolar\"}],\"scatter\":[{\"fillpattern\":{\"fillmode\":\"overlay\",\"size\":10,\"solidity\":0.2},\"type\":\"scatter\"}],\"scatterternary\":[{\"marker\":{\"colorbar\":{\"outlinewidth\":0,\"ticks\":\"\"}},\"type\":\"scatterternary\"}],\"surface\":[{\"colorbar\":{\"outlinewidth\":0,\"ticks\":\"\"},\"colorscale\":[[0.0,\"#0d0887\"],[0.1111111111111111,\"#46039f\"],[0.2222222222222222,\"#7201a8\"],[0.3333333333333333,\"#9c179e\"],[0.4444444444444444,\"#bd3786\"],[0.5555555555555556,\"#d8576b\"],[0.6666666666666666,\"#ed7953\"],[0.7777777777777778,\"#fb9f3a\"],[0.8888888888888888,\"#fdca26\"],[1.0,\"#f0f921\"]],\"type\":\"surface\"}],\"table\":[{\"cells\":{\"fill\":{\"color\":\"#EBF0F8\"},\"line\":{\"color\":\"white\"}},\"header\":{\"fill\":{\"color\":\"#C8D4E3\"},\"line\":{\"color\":\"white\"}},\"type\":\"table\"}]},\"layout\":{\"annotationdefaults\":{\"arrowcolor\":\"#2a3f5f\",\"arrowhead\":0,\"arrowwidth\":1},\"autotypenumbers\":\"strict\",\"coloraxis\":{\"colorbar\":{\"outlinewidth\":0,\"ticks\":\"\"}},\"colorscale\":{\"diverging\":[[0,\"#8e0152\"],[0.1,\"#c51b7d\"],[0.2,\"#de77ae\"],[0.3,\"#f1b6da\"],[0.4,\"#fde0ef\"],[0.5,\"#f7f7f7\"],[0.6,\"#e6f5d0\"],[0.7,\"#b8e186\"],[0.8,\"#7fbc41\"],[0.9,\"#4d9221\"],[1,\"#276419\"]],\"sequential\":[[0.0,\"#0d0887\"],[0.1111111111111111,\"#46039f\"],[0.2222222222222222,\"#7201a8\"],[0.3333333333333333,\"#9c179e\"],[0.4444444444444444,\"#bd3786\"],[0.5555555555555556,\"#d8576b\"],[0.6666666666666666,\"#ed7953\"],[0.7777777777777778,\"#fb9f3a\"],[0.8888888888888888,\"#fdca26\"],[1.0,\"#f0f921\"]],\"sequentialminus\":[[0.0,\"#0d0887\"],[0.1111111111111111,\"#46039f\"],[0.2222222222222222,\"#7201a8\"],[0.3333333333333333,\"#9c179e\"],[0.4444444444444444,\"#bd3786\"],[0.5555555555555556,\"#d8576b\"],[0.6666666666666666,\"#ed7953\"],[0.7777777777777778,\"#fb9f3a\"],[0.8888888888888888,\"#fdca26\"],[1.0,\"#f0f921\"]]},\"colorway\":[\"#636efa\",\"#EF553B\",\"#00cc96\",\"#ab63fa\",\"#FFA15A\",\"#19d3f3\",\"#FF6692\",\"#B6E880\",\"#FF97FF\",\"#FECB52\"],\"font\":{\"color\":\"#2a3f5f\"},\"geo\":{\"bgcolor\":\"white\",\"lakecolor\":\"white\",\"landcolor\":\"#E5ECF6\",\"showlakes\":true,\"showland\":true,\"subunitcolor\":\"white\"},\"hoverlabel\":{\"align\":\"left\"},\"hovermode\":\"closest\",\"mapbox\":{\"style\":\"light\"},\"paper_bgcolor\":\"white\",\"plot_bgcolor\":\"#E5ECF6\",\"polar\":{\"angularaxis\":{\"gridcolor\":\"white\",\"linecolor\":\"white\",\"ticks\":\"\"},\"bgcolor\":\"#E5ECF6\",\"radialaxis\":{\"gridcolor\":\"white\",\"linecolor\":\"white\",\"ticks\":\"\"}},\"scene\":{\"xaxis\":{\"backgroundcolor\":\"#E5ECF6\",\"gridcolor\":\"white\",\"gridwidth\":2,\"linecolor\":\"white\",\"showbackground\":true,\"ticks\":\"\",\"zerolinecolor\":\"white\"},\"yaxis\":{\"backgroundcolor\":\"#E5ECF6\",\"gridcolor\":\"white\",\"gridwidth\":2,\"linecolor\":\"white\",\"showbackground\":true,\"ticks\":\"\",\"zerolinecolor\":\"white\"},\"zaxis\":{\"backgroundcolor\":\"#E5ECF6\",\"gridcolor\":\"white\",\"gridwidth\":2,\"linecolor\":\"white\",\"showbackground\":true,\"ticks\":\"\",\"zerolinecolor\":\"white\"}},\"shapedefaults\":{\"line\":{\"color\":\"#2a3f5f\"}},\"ternary\":{\"aaxis\":{\"gridcolor\":\"white\",\"linecolor\":\"white\",\"ticks\":\"\"},\"baxis\":{\"gridcolor\":\"white\",\"linecolor\":\"white\",\"ticks\":\"\"},\"bgcolor\":\"#E5ECF6\",\"caxis\":{\"gridcolor\":\"white\",\"linecolor\":\"white\",\"ticks\":\"\"}},\"title\":{\"x\":0.05},\"xaxis\":{\"automargin\":true,\"gridcolor\":\"white\",\"linecolor\":\"white\",\"ticks\":\"\",\"title\":{\"standoff\":15},\"zerolinecolor\":\"white\",\"zerolinewidth\":2},\"yaxis\":{\"automargin\":true,\"gridcolor\":\"white\",\"linecolor\":\"white\",\"ticks\":\"\",\"title\":{\"standoff\":15},\"zerolinecolor\":\"white\",\"zerolinewidth\":2}}},\"title\":{\"text\":\"Count of class variable in test dataset\"}},                        {\"responsive\": true}                    ).then(function(){\n                            \nvar gd = document.getElementById('dcbbd65f-e32c-4fa9-a208-d759d3a6dee7');\nvar x = new MutationObserver(function (mutations, observer) {{\n        var display = window.getComputedStyle(gd).display;\n        if (!display || display === 'none') {{\n            console.log([gd, 'removed!']);\n            Plotly.purge(gd);\n            observer.disconnect();\n        }}\n}});\n\n// Listen for the removal of the full notebook cells\nvar notebookContainer = gd.closest('#notebook-container');\nif (notebookContainer) {{\n    x.observe(notebookContainer, {childList: true});\n}}\n\n// Listen for the clearing of the current output cell\nvar outputEl = gd.closest('.output');\nif (outputEl) {{\n    x.observe(outputEl, {childList: true});\n}}\n\n                        })                };                });            </script>        </div>",
            "image/png": "[encoded data removed]"
          },
          "metadata": {}
        }
      ],
      "id": "UuoPn2pN8JQh"
    },
    {
      "cell_type": "code",
      "source": [
        "trace = go.Pie(labels = ['Pneumonia', 'Normal'], values = df_test['class'].value_counts(), \n",
        "               textfont=dict(size=15), opacity = 0.8,\n",
        "               marker=dict(colors=['lightskyblue','gold'], \n",
        "                           line=dict(color='#000000', width=1.5)))\n",
        "\n",
        "\n",
        "layout = dict(title =  'Distribution of class variable in test dataset')\n",
        "           \n",
        "fig = dict(data = [trace], layout=layout)\n",
        "py.iplot(fig)"
      ],
      "metadata": {
        "execution": {
          "iopub.status.busy": "2022-11-01T13:52:52.662721Z",
          "iopub.execute_input": "2022-11-01T13:52:52.663722Z",
          "iopub.status.idle": "2022-11-01T13:52:52.696530Z",
          "shell.execute_reply.started": "2022-11-01T13:52:52.663685Z",
          "shell.execute_reply": "2022-11-01T13:52:52.695597Z"
        },
        "trusted": true,
        "id": "qHjV-9l_8JQi",
        "outputId": "ccdff6e1-4e32-4efa-b3a1-4659ca7fcdd1"
      },
      "execution_count": null,
      "outputs": [
        {
          "output_type": "display_data",
          "data": {
            "application/vnd.plotly.v1+json": {
              "data": [
                {
                  "labels": [
                    "Pneumonia",
                    "Normal"
                  ],
                  "marker": {
                    "colors": [
                      "lightskyblue",
                      "gold"
                    ],
                    "line": {
                      "color": "#000000",
                      "width": 1.5
                    }
                  },
                  "opacity": 0.8,
                  "textfont": {
                    "size": 15
                  },
                  "values": [
                    390,
                    234
                  ],
                  "type": "pie"
                }
              ],
              "layout": {
                "template": {
                  "data": {
                    "barpolar": [
                      {
                        "marker": {
                          "line": {
                            "color": "#E5ECF6",
                            "width": 0.5
                          },
                          "pattern": {
                            "fillmode": "overlay",
                            "size": 10,
                            "solidity": 0.2
                          }
                        },
                        "type": "barpolar"
                      }
                    ],
                    "bar": [
                      {
                        "error_x": {
                          "color": "#2a3f5f"
                        },
                        "error_y": {
                          "color": "#2a3f5f"
                        },
                        "marker": {
                          "line": {
                            "color": "#E5ECF6",
                            "width": 0.5
                          },
                          "pattern": {
                            "fillmode": "overlay",
                            "size": 10,
                            "solidity": 0.2
                          }
                        },
                        "type": "bar"
                      }
                    ],
                    "carpet": [
                      {
                        "aaxis": {
                          "endlinecolor": "#2a3f5f",
                          "gridcolor": "white",
                          "linecolor": "white",
                          "minorgridcolor": "white",
                          "startlinecolor": "#2a3f5f"
                        },
                        "baxis": {
                          "endlinecolor": "#2a3f5f",
                          "gridcolor": "white",
                          "linecolor": "white",
                          "minorgridcolor": "white",
                          "startlinecolor": "#2a3f5f"
                        },
                        "type": "carpet"
                      }
                    ],
                    "choropleth": [
                      {
                        "colorbar": {
                          "outlinewidth": 0,
                          "ticks": ""
                        },
                        "type": "choropleth"
                      }
                    ],
                    "contourcarpet": [
                      {
                        "colorbar": {
                          "outlinewidth": 0,
                          "ticks": ""
                        },
                        "type": "contourcarpet"
                      }
                    ],
                    "contour": [
                      {
                        "colorbar": {
                          "outlinewidth": 0,
                          "ticks": ""
                        },
                        "colorscale": [
                          [
                            0,
                            "#0d0887"
                          ],
                          [
                            0.1111111111111111,
                            "#46039f"
                          ],
                          [
                            0.2222222222222222,
                            "#7201a8"
                          ],
                          [
                            0.3333333333333333,
                            "#9c179e"
                          ],
                          [
                            0.4444444444444444,
                            "#bd3786"
                          ],
                          [
                            0.5555555555555556,
                            "#d8576b"
                          ],
                          [
                            0.6666666666666666,
                            "#ed7953"
                          ],
                          [
                            0.7777777777777778,
                            "#fb9f3a"
                          ],
                          [
                            0.8888888888888888,
                            "#fdca26"
                          ],
                          [
                            1,
                            "#f0f921"
                          ]
                        ],
                        "type": "contour"
                      }
                    ],
                    "heatmapgl": [
                      {
                        "colorbar": {
                          "outlinewidth": 0,
                          "ticks": ""
                        },
                        "colorscale": [
                          [
                            0,
                            "#0d0887"
                          ],
                          [
                            0.1111111111111111,
                            "#46039f"
                          ],
                          [
                            0.2222222222222222,
                            "#7201a8"
                          ],
                          [
                            0.3333333333333333,
                            "#9c179e"
                          ],
                          [
                            0.4444444444444444,
                            "#bd3786"
                          ],
                          [
                            0.5555555555555556,
                            "#d8576b"
                          ],
                          [
                            0.6666666666666666,
                            "#ed7953"
                          ],
                          [
                            0.7777777777777778,
                            "#fb9f3a"
                          ],
                          [
                            0.8888888888888888,
                            "#fdca26"
                          ],
                          [
                            1,
                            "#f0f921"
                          ]
                        ],
                        "type": "heatmapgl"
                      }
                    ],
                    "heatmap": [
                      {
                        "colorbar": {
                          "outlinewidth": 0,
                          "ticks": ""
                        },
                        "colorscale": [
                          [
                            0,
                            "#0d0887"
                          ],
                          [
                            0.1111111111111111,
                            "#46039f"
                          ],
                          [
                            0.2222222222222222,
                            "#7201a8"
                          ],
                          [
                            0.3333333333333333,
                            "#9c179e"
                          ],
                          [
                            0.4444444444444444,
                            "#bd3786"
                          ],
                          [
                            0.5555555555555556,
                            "#d8576b"
                          ],
                          [
                            0.6666666666666666,
                            "#ed7953"
                          ],
                          [
                            0.7777777777777778,
                            "#fb9f3a"
                          ],
                          [
                            0.8888888888888888,
                            "#fdca26"
                          ],
                          [
                            1,
                            "#f0f921"
                          ]
                        ],
                        "type": "heatmap"
                      }
                    ],
                    "histogram2dcontour": [
                      {
                        "colorbar": {
                          "outlinewidth": 0,
                          "ticks": ""
                        },
                        "colorscale": [
                          [
                            0,
                            "#0d0887"
                          ],
                          [
                            0.1111111111111111,
                            "#46039f"
                          ],
                          [
                            0.2222222222222222,
                            "#7201a8"
                          ],
                          [
                            0.3333333333333333,
                            "#9c179e"
                          ],
                          [
                            0.4444444444444444,
                            "#bd3786"
                          ],
                          [
                            0.5555555555555556,
                            "#d8576b"
                          ],
                          [
                            0.6666666666666666,
                            "#ed7953"
                          ],
                          [
                            0.7777777777777778,
                            "#fb9f3a"
                          ],
                          [
                            0.8888888888888888,
                            "#fdca26"
                          ],
                          [
                            1,
                            "#f0f921"
                          ]
                        ],
                        "type": "histogram2dcontour"
                      }
                    ],
                    "histogram2d": [
                      {
                        "colorbar": {
                          "outlinewidth": 0,
                          "ticks": ""
                        },
                        "colorscale": [
                          [
                            0,
                            "#0d0887"
                          ],
                          [
                            0.1111111111111111,
                            "#46039f"
                          ],
                          [
                            0.2222222222222222,
                            "#7201a8"
                          ],
                          [
                            0.3333333333333333,
                            "#9c179e"
                          ],
                          [
                            0.4444444444444444,
                            "#bd3786"
                          ],
                          [
                            0.5555555555555556,
                            "#d8576b"
                          ],
                          [
                            0.6666666666666666,
                            "#ed7953"
                          ],
                          [
                            0.7777777777777778,
                            "#fb9f3a"
                          ],
                          [
                            0.8888888888888888,
                            "#fdca26"
                          ],
                          [
                            1,
                            "#f0f921"
                          ]
                        ],
                        "type": "histogram2d"
                      }
                    ],
                    "histogram": [
                      {
                        "marker": {
                          "pattern": {
                            "fillmode": "overlay",
                            "size": 10,
                            "solidity": 0.2
                          }
                        },
                        "type": "histogram"
                      }
                    ],
                    "mesh3d": [
                      {
                        "colorbar": {
                          "outlinewidth": 0,
                          "ticks": ""
                        },
                        "type": "mesh3d"
                      }
                    ],
                    "parcoords": [
                      {
                        "line": {
                          "colorbar": {
                            "outlinewidth": 0,
                            "ticks": ""
                          }
                        },
                        "type": "parcoords"
                      }
                    ],
                    "pie": [
                      {
                        "automargin": true,
                        "type": "pie"
                      }
                    ],
                    "scatter3d": [
                      {
                        "line": {
                          "colorbar": {
                            "outlinewidth": 0,
                            "ticks": ""
                          }
                        },
                        "marker": {
                          "colorbar": {
                            "outlinewidth": 0,
                            "ticks": ""
                          }
                        },
                        "type": "scatter3d"
                      }
                    ],
                    "scattercarpet": [
                      {
                        "marker": {
                          "colorbar": {
                            "outlinewidth": 0,
                            "ticks": ""
                          }
                        },
                        "type": "scattercarpet"
                      }
                    ],
                    "scattergeo": [
                      {
                        "marker": {
                          "colorbar": {
                            "outlinewidth": 0,
                            "ticks": ""
                          }
                        },
                        "type": "scattergeo"
                      }
                    ],
                    "scattergl": [
                      {
                        "marker": {
                          "colorbar": {
                            "outlinewidth": 0,
                            "ticks": ""
                          }
                        },
                        "type": "scattergl"
                      }
                    ],
                    "scattermapbox": [
                      {
                        "marker": {
                          "colorbar": {
                            "outlinewidth": 0,
                            "ticks": ""
                          }
                        },
                        "type": "scattermapbox"
                      }
                    ],
                    "scatterpolargl": [
                      {
                        "marker": {
                          "colorbar": {
                            "outlinewidth": 0,
                            "ticks": ""
                          }
                        },
                        "type": "scatterpolargl"
                      }
                    ],
                    "scatterpolar": [
                      {
                        "marker": {
                          "colorbar": {
                            "outlinewidth": 0,
                            "ticks": ""
                          }
                        },
                        "type": "scatterpolar"
                      }
                    ],
                    "scatter": [
                      {
                        "fillpattern": {
                          "fillmode": "overlay",
                          "size": 10,
                          "solidity": 0.2
                        },
                        "type": "scatter"
                      }
                    ],
                    "scatterternary": [
                      {
                        "marker": {
                          "colorbar": {
                            "outlinewidth": 0,
                            "ticks": ""
                          }
                        },
                        "type": "scatterternary"
                      }
                    ],
                    "surface": [
                      {
                        "colorbar": {
                          "outlinewidth": 0,
                          "ticks": ""
                        },
                        "colorscale": [
                          [
                            0,
                            "#0d0887"
                          ],
                          [
                            0.1111111111111111,
                            "#46039f"
                          ],
                          [
                            0.2222222222222222,
                            "#7201a8"
                          ],
                          [
                            0.3333333333333333,
                            "#9c179e"
                          ],
                          [
                            0.4444444444444444,
                            "#bd3786"
                          ],
                          [
                            0.5555555555555556,
                            "#d8576b"
                          ],
                          [
                            0.6666666666666666,
                            "#ed7953"
                          ],
                          [
                            0.7777777777777778,
                            "#fb9f3a"
                          ],
                          [
                            0.8888888888888888,
                            "#fdca26"
                          ],
                          [
                            1,
                            "#f0f921"
                          ]
                        ],
                        "type": "surface"
                      }
                    ],
                    "table": [
                      {
                        "cells": {
                          "fill": {
                            "color": "#EBF0F8"
                          },
                          "line": {
                            "color": "white"
                          }
                        },
                        "header": {
                          "fill": {
                            "color": "#C8D4E3"
                          },
                          "line": {
                            "color": "white"
                          }
                        },
                        "type": "table"
                      }
                    ]
                  },
                  "layout": {
                    "annotationdefaults": {
                      "arrowcolor": "#2a3f5f",
                      "arrowhead": 0,
                      "arrowwidth": 1
                    },
                    "autotypenumbers": "strict",
                    "coloraxis": {
                      "colorbar": {
                        "outlinewidth": 0,
                        "ticks": ""
                      }
                    },
                    "colorscale": {
                      "diverging": [
                        [
                          0,
                          "#8e0152"
                        ],
                        [
                          0.1,
                          "#c51b7d"
                        ],
                        [
                          0.2,
                          "#de77ae"
                        ],
                        [
                          0.3,
                          "#f1b6da"
                        ],
                        [
                          0.4,
                          "#fde0ef"
                        ],
                        [
                          0.5,
                          "#f7f7f7"
                        ],
                        [
                          0.6,
                          "#e6f5d0"
                        ],
                        [
                          0.7,
                          "#b8e186"
                        ],
                        [
                          0.8,
                          "#7fbc41"
                        ],
                        [
                          0.9,
                          "#4d9221"
                        ],
                        [
                          1,
                          "#276419"
                        ]
                      ],
                      "sequential": [
                        [
                          0,
                          "#0d0887"
                        ],
                        [
                          0.1111111111111111,
                          "#46039f"
                        ],
                        [
                          0.2222222222222222,
                          "#7201a8"
                        ],
                        [
                          0.3333333333333333,
                          "#9c179e"
                        ],
                        [
                          0.4444444444444444,
                          "#bd3786"
                        ],
                        [
                          0.5555555555555556,
                          "#d8576b"
                        ],
                        [
                          0.6666666666666666,
                          "#ed7953"
                        ],
                        [
                          0.7777777777777778,
                          "#fb9f3a"
                        ],
                        [
                          0.8888888888888888,
                          "#fdca26"
                        ],
                        [
                          1,
                          "#f0f921"
                        ]
                      ],
                      "sequentialminus": [
                        [
                          0,
                          "#0d0887"
                        ],
                        [
                          0.1111111111111111,
                          "#46039f"
                        ],
                        [
                          0.2222222222222222,
                          "#7201a8"
                        ],
                        [
                          0.3333333333333333,
                          "#9c179e"
                        ],
                        [
                          0.4444444444444444,
                          "#bd3786"
                        ],
                        [
                          0.5555555555555556,
                          "#d8576b"
                        ],
                        [
                          0.6666666666666666,
                          "#ed7953"
                        ],
                        [
                          0.7777777777777778,
                          "#fb9f3a"
                        ],
                        [
                          0.8888888888888888,
                          "#fdca26"
                        ],
                        [
                          1,
                          "#f0f921"
                        ]
                      ]
                    },
                    "colorway": [
                      "#636efa",
                      "#EF553B",
                      "#00cc96",
                      "#ab63fa",
                      "#FFA15A",
                      "#19d3f3",
                      "#FF6692",
                      "#B6E880",
                      "#FF97FF",
                      "#FECB52"
                    ],
                    "font": {
                      "color": "#2a3f5f"
                    },
                    "geo": {
                      "bgcolor": "white",
                      "lakecolor": "white",
                      "landcolor": "#E5ECF6",
                      "showlakes": true,
                      "showland": true,
                      "subunitcolor": "white"
                    },
                    "hoverlabel": {
                      "align": "left"
                    },
                    "hovermode": "closest",
                    "mapbox": {
                      "style": "light"
                    },
                    "paper_bgcolor": "white",
                    "plot_bgcolor": "#E5ECF6",
                    "polar": {
                      "angularaxis": {
                        "gridcolor": "white",
                        "linecolor": "white",
                        "ticks": ""
                      },
                      "bgcolor": "#E5ECF6",
                      "radialaxis": {
                        "gridcolor": "white",
                        "linecolor": "white",
                        "ticks": ""
                      }
                    },
                    "scene": {
                      "xaxis": {
                        "backgroundcolor": "#E5ECF6",
                        "gridcolor": "white",
                        "gridwidth": 2,
                        "linecolor": "white",
                        "showbackground": true,
                        "ticks": "",
                        "zerolinecolor": "white"
                      },
                      "yaxis": {
                        "backgroundcolor": "#E5ECF6",
                        "gridcolor": "white",
                        "gridwidth": 2,
                        "linecolor": "white",
                        "showbackground": true,
                        "ticks": "",
                        "zerolinecolor": "white"
                      },
                      "zaxis": {
                        "backgroundcolor": "#E5ECF6",
                        "gridcolor": "white",
                        "gridwidth": 2,
                        "linecolor": "white",
                        "showbackground": true,
                        "ticks": "",
                        "zerolinecolor": "white"
                      }
                    },
                    "shapedefaults": {
                      "line": {
                        "color": "#2a3f5f"
                      }
                    },
                    "ternary": {
                      "aaxis": {
                        "gridcolor": "white",
                        "linecolor": "white",
                        "ticks": ""
                      },
                      "baxis": {
                        "gridcolor": "white",
                        "linecolor": "white",
                        "ticks": ""
                      },
                      "bgcolor": "#E5ECF6",
                      "caxis": {
                        "gridcolor": "white",
                        "linecolor": "white",
                        "ticks": ""
                      }
                    },
                    "title": {
                      "x": 0.05
                    },
                    "xaxis": {
                      "automargin": true,
                      "gridcolor": "white",
                      "linecolor": "white",
                      "ticks": "",
                      "title": {
                        "standoff": 15
                      },
                      "zerolinecolor": "white",
                      "zerolinewidth": 2
                    },
                    "yaxis": {
                      "automargin": true,
                      "gridcolor": "white",
                      "linecolor": "white",
                      "ticks": "",
                      "title": {
                        "standoff": 15
                      },
                      "zerolinecolor": "white",
                      "zerolinewidth": 2
                    }
                  }
                },
                "title": {
                  "text": "Distribution of class variable in test dataset"
                },
                "autosize": true
              },
              "config": {
                "showLink": false,
                "linkText": "Export to plot.ly",
                "plotlyServerURL": "https://plot.ly"
              }
            },
            "text/html": "<div>                            <div id=\"ab657990-8ed4-47dc-b9e1-1ebc3fe43804\" class=\"plotly-graph-div\" style=\"height:525px; width:100%;\"></div>            <script type=\"text/javascript\">                require([\"plotly\"], function(Plotly) {                    window.PLOTLYENV=window.PLOTLYENV || {};                                    if (document.getElementById(\"ab657990-8ed4-47dc-b9e1-1ebc3fe43804\")) {                    Plotly.newPlot(                        \"ab657990-8ed4-47dc-b9e1-1ebc3fe43804\",                        [{\"labels\":[\"Pneumonia\",\"Normal\"],\"marker\":{\"colors\":[\"lightskyblue\",\"gold\"],\"line\":{\"color\":\"#000000\",\"width\":1.5}},\"opacity\":0.8,\"textfont\":{\"size\":15},\"values\":[390,234],\"type\":\"pie\"}],                        {\"template\":{\"data\":{\"barpolar\":[{\"marker\":{\"line\":{\"color\":\"#E5ECF6\",\"width\":0.5},\"pattern\":{\"fillmode\":\"overlay\",\"size\":10,\"solidity\":0.2}},\"type\":\"barpolar\"}],\"bar\":[{\"error_x\":{\"color\":\"#2a3f5f\"},\"error_y\":{\"color\":\"#2a3f5f\"},\"marker\":{\"line\":{\"color\":\"#E5ECF6\",\"width\":0.5},\"pattern\":{\"fillmode\":\"overlay\",\"size\":10,\"solidity\":0.2}},\"type\":\"bar\"}],\"carpet\":[{\"aaxis\":{\"endlinecolor\":\"#2a3f5f\",\"gridcolor\":\"white\",\"linecolor\":\"white\",\"minorgridcolor\":\"white\",\"startlinecolor\":\"#2a3f5f\"},\"baxis\":{\"endlinecolor\":\"#2a3f5f\",\"gridcolor\":\"white\",\"linecolor\":\"white\",\"minorgridcolor\":\"white\",\"startlinecolor\":\"#2a3f5f\"},\"type\":\"carpet\"}],\"choropleth\":[{\"colorbar\":{\"outlinewidth\":0,\"ticks\":\"\"},\"type\":\"choropleth\"}],\"contourcarpet\":[{\"colorbar\":{\"outlinewidth\":0,\"ticks\":\"\"},\"type\":\"contourcarpet\"}],\"contour\":[{\"colorbar\":{\"outlinewidth\":0,\"ticks\":\"\"},\"colorscale\":[[0.0,\"#0d0887\"],[0.1111111111111111,\"#46039f\"],[0.2222222222222222,\"#7201a8\"],[0.3333333333333333,\"#9c179e\"],[0.4444444444444444,\"#bd3786\"],[0.5555555555555556,\"#d8576b\"],[0.6666666666666666,\"#ed7953\"],[0.7777777777777778,\"#fb9f3a\"],[0.8888888888888888,\"#fdca26\"],[1.0,\"#f0f921\"]],\"type\":\"contour\"}],\"heatmapgl\":[{\"colorbar\":{\"outlinewidth\":0,\"ticks\":\"\"},\"colorscale\":[[0.0,\"#0d0887\"],[0.1111111111111111,\"#46039f\"],[0.2222222222222222,\"#7201a8\"],[0.3333333333333333,\"#9c179e\"],[0.4444444444444444,\"#bd3786\"],[0.5555555555555556,\"#d8576b\"],[0.6666666666666666,\"#ed7953\"],[0.7777777777777778,\"#fb9f3a\"],[0.8888888888888888,\"#fdca26\"],[1.0,\"#f0f921\"]],\"type\":\"heatmapgl\"}],\"heatmap\":[{\"colorbar\":{\"outlinewidth\":0,\"ticks\":\"\"},\"colorscale\":[[0.0,\"#0d0887\"],[0.1111111111111111,\"#46039f\"],[0.2222222222222222,\"#7201a8\"],[0.3333333333333333,\"#9c179e\"],[0.4444444444444444,\"#bd3786\"],[0.5555555555555556,\"#d8576b\"],[0.6666666666666666,\"#ed7953\"],[0.7777777777777778,\"#fb9f3a\"],[0.8888888888888888,\"#fdca26\"],[1.0,\"#f0f921\"]],\"type\":\"heatmap\"}],\"histogram2dcontour\":[{\"colorbar\":{\"outlinewidth\":0,\"ticks\":\"\"},\"colorscale\":[[0.0,\"#0d0887\"],[0.1111111111111111,\"#46039f\"],[0.2222222222222222,\"#7201a8\"],[0.3333333333333333,\"#9c179e\"],[0.4444444444444444,\"#bd3786\"],[0.5555555555555556,\"#d8576b\"],[0.6666666666666666,\"#ed7953\"],[0.7777777777777778,\"#fb9f3a\"],[0.8888888888888888,\"#fdca26\"],[1.0,\"#f0f921\"]],\"type\":\"histogram2dcontour\"}],\"histogram2d\":[{\"colorbar\":{\"outlinewidth\":0,\"ticks\":\"\"},\"colorscale\":[[0.0,\"#0d0887\"],[0.1111111111111111,\"#46039f\"],[0.2222222222222222,\"#7201a8\"],[0.3333333333333333,\"#9c179e\"],[0.4444444444444444,\"#bd3786\"],[0.5555555555555556,\"#d8576b\"],[0.6666666666666666,\"#ed7953\"],[0.7777777777777778,\"#fb9f3a\"],[0.8888888888888888,\"#fdca26\"],[1.0,\"#f0f921\"]],\"type\":\"histogram2d\"}],\"histogram\":[{\"marker\":{\"pattern\":{\"fillmode\":\"overlay\",\"size\":10,\"solidity\":0.2}},\"type\":\"histogram\"}],\"mesh3d\":[{\"colorbar\":{\"outlinewidth\":0,\"ticks\":\"\"},\"type\":\"mesh3d\"}],\"parcoords\":[{\"line\":{\"colorbar\":{\"outlinewidth\":0,\"ticks\":\"\"}},\"type\":\"parcoords\"}],\"pie\":[{\"automargin\":true,\"type\":\"pie\"}],\"scatter3d\":[{\"line\":{\"colorbar\":{\"outlinewidth\":0,\"ticks\":\"\"}},\"marker\":{\"colorbar\":{\"outlinewidth\":0,\"ticks\":\"\"}},\"type\":\"scatter3d\"}],\"scattercarpet\":[{\"marker\":{\"colorbar\":{\"outlinewidth\":0,\"ticks\":\"\"}},\"type\":\"scattercarpet\"}],\"scattergeo\":[{\"marker\":{\"colorbar\":{\"outlinewidth\":0,\"ticks\":\"\"}},\"type\":\"scattergeo\"}],\"scattergl\":[{\"marker\":{\"colorbar\":{\"outlinewidth\":0,\"ticks\":\"\"}},\"type\":\"scattergl\"}],\"scattermapbox\":[{\"marker\":{\"colorbar\":{\"outlinewidth\":0,\"ticks\":\"\"}},\"type\":\"scattermapbox\"}],\"scatterpolargl\":[{\"marker\":{\"colorbar\":{\"outlinewidth\":0,\"ticks\":\"\"}},\"type\":\"scatterpolargl\"}],\"scatterpolar\":[{\"marker\":{\"colorbar\":{\"outlinewidth\":0,\"ticks\":\"\"}},\"type\":\"scatterpolar\"}],\"scatter\":[{\"fillpattern\":{\"fillmode\":\"overlay\",\"size\":10,\"solidity\":0.2},\"type\":\"scatter\"}],\"scatterternary\":[{\"marker\":{\"colorbar\":{\"outlinewidth\":0,\"ticks\":\"\"}},\"type\":\"scatterternary\"}],\"surface\":[{\"colorbar\":{\"outlinewidth\":0,\"ticks\":\"\"},\"colorscale\":[[0.0,\"#0d0887\"],[0.1111111111111111,\"#46039f\"],[0.2222222222222222,\"#7201a8\"],[0.3333333333333333,\"#9c179e\"],[0.4444444444444444,\"#bd3786\"],[0.5555555555555556,\"#d8576b\"],[0.6666666666666666,\"#ed7953\"],[0.7777777777777778,\"#fb9f3a\"],[0.8888888888888888,\"#fdca26\"],[1.0,\"#f0f921\"]],\"type\":\"surface\"}],\"table\":[{\"cells\":{\"fill\":{\"color\":\"#EBF0F8\"},\"line\":{\"color\":\"white\"}},\"header\":{\"fill\":{\"color\":\"#C8D4E3\"},\"line\":{\"color\":\"white\"}},\"type\":\"table\"}]},\"layout\":{\"annotationdefaults\":{\"arrowcolor\":\"#2a3f5f\",\"arrowhead\":0,\"arrowwidth\":1},\"autotypenumbers\":\"strict\",\"coloraxis\":{\"colorbar\":{\"outlinewidth\":0,\"ticks\":\"\"}},\"colorscale\":{\"diverging\":[[0,\"#8e0152\"],[0.1,\"#c51b7d\"],[0.2,\"#de77ae\"],[0.3,\"#f1b6da\"],[0.4,\"#fde0ef\"],[0.5,\"#f7f7f7\"],[0.6,\"#e6f5d0\"],[0.7,\"#b8e186\"],[0.8,\"#7fbc41\"],[0.9,\"#4d9221\"],[1,\"#276419\"]],\"sequential\":[[0.0,\"#0d0887\"],[0.1111111111111111,\"#46039f\"],[0.2222222222222222,\"#7201a8\"],[0.3333333333333333,\"#9c179e\"],[0.4444444444444444,\"#bd3786\"],[0.5555555555555556,\"#d8576b\"],[0.6666666666666666,\"#ed7953\"],[0.7777777777777778,\"#fb9f3a\"],[0.8888888888888888,\"#fdca26\"],[1.0,\"#f0f921\"]],\"sequentialminus\":[[0.0,\"#0d0887\"],[0.1111111111111111,\"#46039f\"],[0.2222222222222222,\"#7201a8\"],[0.3333333333333333,\"#9c179e\"],[0.4444444444444444,\"#bd3786\"],[0.5555555555555556,\"#d8576b\"],[0.6666666666666666,\"#ed7953\"],[0.7777777777777778,\"#fb9f3a\"],[0.8888888888888888,\"#fdca26\"],[1.0,\"#f0f921\"]]},\"colorway\":[\"#636efa\",\"#EF553B\",\"#00cc96\",\"#ab63fa\",\"#FFA15A\",\"#19d3f3\",\"#FF6692\",\"#B6E880\",\"#FF97FF\",\"#FECB52\"],\"font\":{\"color\":\"#2a3f5f\"},\"geo\":{\"bgcolor\":\"white\",\"lakecolor\":\"white\",\"landcolor\":\"#E5ECF6\",\"showlakes\":true,\"showland\":true,\"subunitcolor\":\"white\"},\"hoverlabel\":{\"align\":\"left\"},\"hovermode\":\"closest\",\"mapbox\":{\"style\":\"light\"},\"paper_bgcolor\":\"white\",\"plot_bgcolor\":\"#E5ECF6\",\"polar\":{\"angularaxis\":{\"gridcolor\":\"white\",\"linecolor\":\"white\",\"ticks\":\"\"},\"bgcolor\":\"#E5ECF6\",\"radialaxis\":{\"gridcolor\":\"white\",\"linecolor\":\"white\",\"ticks\":\"\"}},\"scene\":{\"xaxis\":{\"backgroundcolor\":\"#E5ECF6\",\"gridcolor\":\"white\",\"gridwidth\":2,\"linecolor\":\"white\",\"showbackground\":true,\"ticks\":\"\",\"zerolinecolor\":\"white\"},\"yaxis\":{\"backgroundcolor\":\"#E5ECF6\",\"gridcolor\":\"white\",\"gridwidth\":2,\"linecolor\":\"white\",\"showbackground\":true,\"ticks\":\"\",\"zerolinecolor\":\"white\"},\"zaxis\":{\"backgroundcolor\":\"#E5ECF6\",\"gridcolor\":\"white\",\"gridwidth\":2,\"linecolor\":\"white\",\"showbackground\":true,\"ticks\":\"\",\"zerolinecolor\":\"white\"}},\"shapedefaults\":{\"line\":{\"color\":\"#2a3f5f\"}},\"ternary\":{\"aaxis\":{\"gridcolor\":\"white\",\"linecolor\":\"white\",\"ticks\":\"\"},\"baxis\":{\"gridcolor\":\"white\",\"linecolor\":\"white\",\"ticks\":\"\"},\"bgcolor\":\"#E5ECF6\",\"caxis\":{\"gridcolor\":\"white\",\"linecolor\":\"white\",\"ticks\":\"\"}},\"title\":{\"x\":0.05},\"xaxis\":{\"automargin\":true,\"gridcolor\":\"white\",\"linecolor\":\"white\",\"ticks\":\"\",\"title\":{\"standoff\":15},\"zerolinecolor\":\"white\",\"zerolinewidth\":2},\"yaxis\":{\"automargin\":true,\"gridcolor\":\"white\",\"linecolor\":\"white\",\"ticks\":\"\",\"title\":{\"standoff\":15},\"zerolinecolor\":\"white\",\"zerolinewidth\":2}}},\"title\":{\"text\":\"Distribution of class variable in test dataset\"}},                        {\"responsive\": true}                    ).then(function(){\n                            \nvar gd = document.getElementById('ab657990-8ed4-47dc-b9e1-1ebc3fe43804');\nvar x = new MutationObserver(function (mutations, observer) {{\n        var display = window.getComputedStyle(gd).display;\n        if (!display || display === 'none') {{\n            console.log([gd, 'removed!']);\n            Plotly.purge(gd);\n            observer.disconnect();\n        }}\n}});\n\n// Listen for the removal of the full notebook cells\nvar notebookContainer = gd.closest('#notebook-container');\nif (notebookContainer) {{\n    x.observe(notebookContainer, {childList: true});\n}}\n\n// Listen for the clearing of the current output cell\nvar outputEl = gd.closest('.output');\nif (outputEl) {{\n    x.observe(outputEl, {childList: true});\n}}\n\n                        })                };                });            </script>        </div>",
            "image/png": "[encoded data removed]"
          },
          "metadata": {}
        }
      ],
      "id": "qHjV-9l_8JQi"
    },
    {
      "cell_type": "markdown",
      "source": [
        "The data seems imbalanced . To increase the no. of training examples\n"
      ],
      "metadata": {
        "id": "MeE0Y-OS8JQi"
      },
      "id": "MeE0Y-OS8JQi"
    },
    {
      "cell_type": "markdown",
      "source": [
        "-----------------------------\n",
        "## Previewing the images"
      ],
      "metadata": {
        "id": "3_yv-j1L8JQi"
      },
      "id": "3_yv-j1L8JQi"
    },
    {
      "cell_type": "code",
      "source": [
        "print('Train Set - Normal')\n",
        "\n",
        "plt.figure(figsize=(12,12))\n",
        "\n",
        "for i in range(0, 3):\n",
        "    plt.subplot(3,4,i + 1)\n",
        "    img = cv2.imread(train_normal[i])\n",
        "    img = cv2.resize(img, (244,244))\n",
        "    plt.imshow(img)\n",
        "    plt.axis(\"off\")\n",
        "\n",
        "plt.tight_layout()\n",
        "\n",
        "plt.show()\n",
        "\n",
        "\n",
        "print('Train Set - Pneumonia')\n",
        "\n",
        "plt.figure(figsize=(12,12))\n",
        "\n",
        "for i in range(0, 3):\n",
        "    plt.subplot(3,4,i + 1)\n",
        "    img = cv2.imread(train_pneumonia[i])\n",
        "    img = cv2.resize(img, (244,244))\n",
        "    plt.imshow(img)\n",
        "    plt.axis(\"off\")\n",
        "\n",
        "plt.tight_layout()\n",
        "\n",
        "plt.show()"
      ],
      "metadata": {
        "execution": {
          "iopub.status.busy": "2022-11-01T13:52:52.697906Z",
          "iopub.execute_input": "2022-11-01T13:52:52.698633Z",
          "iopub.status.idle": "2022-11-01T13:52:53.307553Z",
          "shell.execute_reply.started": "2022-11-01T13:52:52.698577Z",
          "shell.execute_reply": "2022-11-01T13:52:53.306531Z"
        },
        "trusted": true,
        "id": "t6xUosVj8JQj",
        "outputId": "16c141f7-6b4b-4287-e3b5-5708566d9970"
      },
      "execution_count": null,
      "outputs": [
        {
          "name": "stdout",
          "text": "Train Set - Normal\n",
          "output_type": "stream"
        },
        {
          "output_type": "display_data",
          "data": {
            "text/plain": "<Figure size 864x864 with 3 Axes>",
            "image/png": "[encoded data removed]"
          },
          "metadata": {
            "needs_background": "light"
          }
        },
        {
          "name": "stdout",
          "text": "Train Set - Pneumonia\n",
          "output_type": "stream"
        },
        {
          "output_type": "display_data",
          "data": {
            "text/plain": "<Figure size 864x864 with 3 Axes>",
            "image/png": "[encoded data removed]"
          },
          "metadata": {
            "needs_background": "light"
          }
        }
      ],
      "id": "t6xUosVj8JQj"
    },
    {
      "cell_type": "markdown",
      "source": [
        "----------------------------------------\n",
        "## Data Splitting"
      ],
      "metadata": {
        "id": "d0N6RYNf8JQj"
      },
      "id": "d0N6RYNf8JQj"
    },
    {
      "cell_type": "code",
      "source": [
        "train_df, val_df = train_test_split(df_train, test_size = 0.20, random_state = SEED, stratify = df_train['class'])"
      ],
      "metadata": {
        "execution": {
          "iopub.status.busy": "2022-11-01T13:52:53.308974Z",
          "iopub.execute_input": "2022-11-01T13:52:53.309956Z",
          "iopub.status.idle": "2022-11-01T13:52:53.322773Z",
          "shell.execute_reply.started": "2022-11-01T13:52:53.309919Z",
          "shell.execute_reply": "2022-11-01T13:52:53.321575Z"
        },
        "trusted": true,
        "id": "bbhFYsHL8JQk"
      },
      "execution_count": null,
      "outputs": [],
      "id": "bbhFYsHL8JQk"
    },
    {
      "cell_type": "markdown",
      "source": [
        "------------------------\n",
        "## Data Augmentation"
      ],
      "metadata": {
        "id": "BpHm07u98JQk"
      },
      "id": "BpHm07u98JQk"
    },
    {
      "cell_type": "code",
      "source": [
        "\n",
        "train_datagen = ImageDataGenerator(rescale=1/255.,\n",
        "                                  zoom_range = 0.1,\n",
        "                                  width_shift_range = 0.1,\n",
        "                                  height_shift_range = 0.1)\n",
        "\n",
        "val_datagen = ImageDataGenerator(rescale=1/255.)\n",
        "\n",
        "ds_train = train_datagen.flow_from_dataframe(train_df,\n",
        "                                             x_col = 'image',\n",
        "                                             y_col = 'class',\n",
        "                                             target_size = (IMG_SIZE, IMG_SIZE),\n",
        "                                             class_mode = 'binary',\n",
        "                                             batch_size = BATCH,\n",
        "                                             seed = SEED)\n",
        "\n",
        "ds_val = val_datagen.flow_from_dataframe(val_df,\n",
        "                                            x_col = 'image',\n",
        "                                            y_col = 'class',\n",
        "                                            target_size = (IMG_SIZE, IMG_SIZE),\n",
        "                                            class_mode = 'binary',\n",
        "                                            batch_size = BATCH,\n",
        "                                            seed = SEED)\n",
        "\n",
        "ds_test = val_datagen.flow_from_dataframe(df_test,\n",
        "                                            x_col = 'image',\n",
        "                                            y_col = 'class',\n",
        "                                            target_size = (IMG_SIZE, IMG_SIZE),\n",
        "                                            class_mode = 'binary',\n",
        "                                            batch_size = 1,\n",
        "                                            shuffle = False)"
      ],
      "metadata": {
        "execution": {
          "iopub.status.busy": "2022-11-01T13:52:53.325801Z",
          "iopub.execute_input": "2022-11-01T13:52:53.326167Z",
          "iopub.status.idle": "2022-11-01T13:52:56.067361Z",
          "shell.execute_reply.started": "2022-11-01T13:52:53.326129Z",
          "shell.execute_reply": "2022-11-01T13:52:56.066287Z"
        },
        "trusted": true,
        "id": "dykuY5Ah8JQk",
        "outputId": "52eb6cb8-ec53-40be-a502-562d19477b30"
      },
      "execution_count": null,
      "outputs": [
        {
          "name": "stdout",
          "text": "Found 4172 validated image filenames belonging to 2 classes.\nFound 1044 validated image filenames belonging to 2 classes.\nFound 624 validated image filenames belonging to 2 classes.\n",
          "output_type": "stream"
        }
      ],
      "id": "dykuY5Ah8JQk"
    },
    {
      "cell_type": "markdown",
      "source": [
        "----------------\n",
        "## Setting callbakcs"
      ],
      "metadata": {
        "id": "onRLwKQE8JQl"
      },
      "id": "onRLwKQE8JQl"
    },
    {
      "cell_type": "code",
      "source": [
        "early_stopping = callbacks.EarlyStopping(\n",
        "    monitor='val_loss',\n",
        "    patience=5,\n",
        "    min_delta=1e-7,\n",
        "    restore_best_weights=True,\n",
        ")\n",
        "\n",
        "plateau = callbacks.ReduceLROnPlateau(\n",
        "    monitor='val_loss',\n",
        "    factor = 0.2,                                     \n",
        "    patience = 2,                                   \n",
        "    min_delt = 1e-7,                                \n",
        "    cooldown = 0,                               \n",
        "    verbose = 1\n",
        ") "
      ],
      "metadata": {
        "execution": {
          "iopub.status.busy": "2022-11-01T13:52:56.068967Z",
          "iopub.execute_input": "2022-11-01T13:52:56.069319Z",
          "iopub.status.idle": "2022-11-01T13:52:56.075244Z",
          "shell.execute_reply.started": "2022-11-01T13:52:56.069283Z",
          "shell.execute_reply": "2022-11-01T13:52:56.073911Z"
        },
        "trusted": true,
        "id": "nZp0XNtx8JQl"
      },
      "execution_count": null,
      "outputs": [],
      "id": "nZp0XNtx8JQl"
    },
    {
      "cell_type": "markdown",
      "source": [
        "----------------------------\n",
        "## Create Model"
      ],
      "metadata": {
        "id": "pBplD5AI8JQm"
      },
      "id": "pBplD5AI8JQm"
    },
    {
      "cell_type": "code",
      "source": [
        "def get_model():\n",
        "    \n",
        "    inputs = layers.Input(shape=(IMG_SIZE, IMG_SIZE, 3))\n",
        "    \n",
        "    # Block One\n",
        "    x = layers.Conv2D(filters=16, kernel_size=3, padding='valid')(inputs)\n",
        "    x = layers.BatchNormalization()(x)\n",
        "    x = layers.Activation('relu')(x)\n",
        "    x = layers.MaxPool2D()(x)\n",
        "    x = layers.Dropout(0.2)(x)\n",
        "\n",
        "    # Block Two\n",
        "    x = layers.Conv2D(filters=32, kernel_size=3, padding='valid')(x)\n",
        "    x = layers.BatchNormalization()(x)\n",
        "    x = layers.Activation('relu')(x)\n",
        "    x = layers.MaxPool2D()(x)\n",
        "    x = layers.Dropout(0.2)(x)\n",
        "    \n",
        "    # Block Three\n",
        "    x = layers.Conv2D(filters=64, kernel_size=3, padding='valid')(x)\n",
        "    x = layers.Conv2D(filters=64, kernel_size=3, padding='valid')(x)\n",
        "    x = layers.BatchNormalization()(x)\n",
        "    x = layers.Activation('relu')(x)\n",
        "    x = layers.MaxPool2D()(x)\n",
        "    x = layers.Dropout(0.4)(x)\n",
        "\n",
        "    # Head\n",
        "    #x = layers.BatchNormalization()(x)\n",
        "    x = layers.Flatten()(x)\n",
        "    x = layers.Dense(64, activation='relu')(x)\n",
        "    x = layers.Dropout(0.5)(x)\n",
        "    \n",
        "    #Final Layer (Output)\n",
        "    output = layers.Dense(1, activation='sigmoid')(x)\n",
        "    \n",
        "    model = keras.Model(inputs=[inputs], outputs=output)\n",
        "    \n",
        "    return model"
      ],
      "metadata": {
        "execution": {
          "iopub.status.busy": "2022-11-01T13:52:56.076992Z",
          "iopub.execute_input": "2022-11-01T13:52:56.077736Z",
          "iopub.status.idle": "2022-11-01T13:52:56.089530Z",
          "shell.execute_reply.started": "2022-11-01T13:52:56.077700Z",
          "shell.execute_reply": "2022-11-01T13:52:56.088564Z"
        },
        "trusted": true,
        "id": "nitmRk8w8JQm"
      },
      "execution_count": null,
      "outputs": [],
      "id": "nitmRk8w8JQm"
    },
    {
      "cell_type": "code",
      "source": [
        "keras.backend.clear_session()\n",
        "\n",
        "model = get_model()\n",
        "model.compile(loss='binary_crossentropy'\n",
        "              , optimizer = keras.optimizers.Adam(learning_rate=3e-5), metrics='binary_accuracy')\n",
        "\n",
        "model.summary()\n"
      ],
      "metadata": {
        "execution": {
          "iopub.status.busy": "2022-11-01T13:52:56.091231Z",
          "iopub.execute_input": "2022-11-01T13:52:56.091950Z",
          "iopub.status.idle": "2022-11-01T13:52:56.194562Z",
          "shell.execute_reply.started": "2022-11-01T13:52:56.091866Z",
          "shell.execute_reply": "2022-11-01T13:52:56.193649Z"
        },
        "trusted": true,
        "id": "O5d8cjdU8JQm",
        "outputId": "e8d17b95-8fb9-48d3-e675-da3e874a1e09"
      },
      "execution_count": null,
      "outputs": [
        {
          "name": "stdout",
          "text": "Model: \"model\"\n_________________________________________________________________\nLayer (type)                 Output Shape              Param #   \n=================================================================\ninput_1 (InputLayer)         [(None, 224, 224, 3)]     0         \n_________________________________________________________________\nconv2d (Conv2D)              (None, 222, 222, 16)      448       \n_________________________________________________________________\nbatch_normalization (BatchNo (None, 222, 222, 16)      64        \n_________________________________________________________________\nactivation (Activation)      (None, 222, 222, 16)      0         \n_________________________________________________________________\nmax_pooling2d (MaxPooling2D) (None, 111, 111, 16)      0         \n_________________________________________________________________\ndropout (Dropout)            (None, 111, 111, 16)      0         \n_________________________________________________________________\nconv2d_1 (Conv2D)            (None, 109, 109, 32)      4640      \n_________________________________________________________________\nbatch_normalization_1 (Batch (None, 109, 109, 32)      128       \n_________________________________________________________________\nactivation_1 (Activation)    (None, 109, 109, 32)      0         \n_________________________________________________________________\nmax_pooling2d_1 (MaxPooling2 (None, 54, 54, 32)        0         \n_________________________________________________________________\ndropout_1 (Dropout)          (None, 54, 54, 32)        0         \n_________________________________________________________________\nconv2d_2 (Conv2D)            (None, 52, 52, 64)        18496     \n_________________________________________________________________\nconv2d_3 (Conv2D)            (None, 50, 50, 64)        36928     \n_________________________________________________________________\nbatch_normalization_2 (Batch (None, 50, 50, 64)        256       \n_________________________________________________________________\nactivation_2 (Activation)    (None, 50, 50, 64)        0         \n_________________________________________________________________\nmax_pooling2d_2 (MaxPooling2 (None, 25, 25, 64)        0         \n_________________________________________________________________\ndropout_2 (Dropout)          (None, 25, 25, 64)        0         \n_________________________________________________________________\nflatten (Flatten)            (None, 40000)             0         \n_________________________________________________________________\ndense (Dense)                (None, 64)                2560064   \n_________________________________________________________________\ndropout_3 (Dropout)          (None, 64)                0         \n_________________________________________________________________\ndense_1 (Dense)              (None, 1)                 65        \n=================================================================\nTotal params: 2,621,089\nTrainable params: 2,620,865\nNon-trainable params: 224\n_________________________________________________________________\n",
          "output_type": "stream"
        }
      ],
      "id": "O5d8cjdU8JQm"
    },
    {
      "cell_type": "code",
      "source": [
        "history = model.fit(ds_train,\n",
        "          batch_size = BATCH, epochs = 50,\n",
        "          validation_data=ds_val,\n",
        "          callbacks=[early_stopping, plateau],\n",
        "          steps_per_epoch=(len(train_df)/BATCH),\n",
        "          validation_steps=(len(val_df)/BATCH));"
      ],
      "metadata": {
        "_kg_hide-output": true,
        "execution": {
          "iopub.status.busy": "2022-11-01T13:52:56.195878Z",
          "iopub.execute_input": "2022-11-01T13:52:56.196266Z",
          "iopub.status.idle": "2022-11-01T14:38:50.327682Z",
          "shell.execute_reply.started": "2022-11-01T13:52:56.196230Z",
          "shell.execute_reply": "2022-11-01T14:38:50.326744Z"
        },
        "trusted": true,
        "id": "vfyWaspM8JQn",
        "outputId": "548a11cc-b76c-491c-d6dd-586f8a405d95"
      },
      "execution_count": null,
      "outputs": [
        {
          "name": "stdout",
          "text": "Epoch 1/50\n130/130 [==============================] - 121s 926ms/step - loss: 0.5344 - binary_accuracy: 0.7541 - val_loss: 0.6266 - val_binary_accuracy: 0.7433\nEpoch 2/50\n130/130 [==============================] - 100s 764ms/step - loss: 0.3446 - binary_accuracy: 0.8468 - val_loss: 1.2509 - val_binary_accuracy: 0.7433\nEpoch 3/50\n130/130 [==============================] - 112s 857ms/step - loss: 0.2715 - binary_accuracy: 0.8895 - val_loss: 1.3821 - val_binary_accuracy: 0.7433\n\nEpoch 00003: ReduceLROnPlateau reducing learning rate to 5.9999998484272515e-06.\nEpoch 4/50\n130/130 [==============================] - 98s 750ms/step - loss: 0.2375 - binary_accuracy: 0.9022 - val_loss: 1.1220 - val_binary_accuracy: 0.7433\nEpoch 5/50\n130/130 [==============================] - 103s 787ms/step - loss: 0.2222 - binary_accuracy: 0.9144 - val_loss: 0.3901 - val_binary_accuracy: 0.8075\nEpoch 6/50\n130/130 [==============================] - 100s 769ms/step - loss: 0.2165 - binary_accuracy: 0.9185 - val_loss: 0.2740 - val_binary_accuracy: 0.8621\nEpoch 7/50\n130/130 [==============================] - 98s 750ms/step - loss: 0.2144 - binary_accuracy: 0.9130 - val_loss: 0.1855 - val_binary_accuracy: 0.9262\nEpoch 8/50\n130/130 [==============================] - 99s 759ms/step - loss: 0.2056 - binary_accuracy: 0.9187 - val_loss: 0.1567 - val_binary_accuracy: 0.9368\nEpoch 9/50\n130/130 [==============================] - 102s 784ms/step - loss: 0.1927 - binary_accuracy: 0.9192 - val_loss: 0.1502 - val_binary_accuracy: 0.9397\nEpoch 10/50\n130/130 [==============================] - 99s 758ms/step - loss: 0.1943 - binary_accuracy: 0.9207 - val_loss: 0.1485 - val_binary_accuracy: 0.9444\nEpoch 11/50\n130/130 [==============================] - 98s 755ms/step - loss: 0.1926 - binary_accuracy: 0.9231 - val_loss: 0.1473 - val_binary_accuracy: 0.9464\nEpoch 12/50\n130/130 [==============================] - 99s 763ms/step - loss: 0.1842 - binary_accuracy: 0.9314 - val_loss: 0.1450 - val_binary_accuracy: 0.9464\nEpoch 13/50\n130/130 [==============================] - 99s 758ms/step - loss: 0.1762 - binary_accuracy: 0.9329 - val_loss: 0.1399 - val_binary_accuracy: 0.9435\nEpoch 14/50\n130/130 [==============================] - 98s 754ms/step - loss: 0.1831 - binary_accuracy: 0.9243 - val_loss: 0.1413 - val_binary_accuracy: 0.9444\nEpoch 15/50\n130/130 [==============================] - 99s 764ms/step - loss: 0.1776 - binary_accuracy: 0.9331 - val_loss: 0.1383 - val_binary_accuracy: 0.9464\nEpoch 16/50\n130/130 [==============================] - 105s 807ms/step - loss: 0.1744 - binary_accuracy: 0.9331 - val_loss: 0.1420 - val_binary_accuracy: 0.9464\nEpoch 17/50\n130/130 [==============================] - 99s 757ms/step - loss: 0.1688 - binary_accuracy: 0.9324 - val_loss: 0.1361 - val_binary_accuracy: 0.9492\nEpoch 18/50\n130/130 [==============================] - 106s 814ms/step - loss: 0.1652 - binary_accuracy: 0.9358 - val_loss: 0.1339 - val_binary_accuracy: 0.9492\nEpoch 19/50\n130/130 [==============================] - 106s 814ms/step - loss: 0.1625 - binary_accuracy: 0.9370 - val_loss: 0.1436 - val_binary_accuracy: 0.9444\nEpoch 20/50\n130/130 [==============================] - 99s 756ms/step - loss: 0.1606 - binary_accuracy: 0.9334 - val_loss: 0.1386 - val_binary_accuracy: 0.9425\n\nEpoch 00020: ReduceLROnPlateau reducing learning rate to 1.1999999514955563e-06.\nEpoch 21/50\n130/130 [==============================] - 98s 751ms/step - loss: 0.1682 - binary_accuracy: 0.9348 - val_loss: 0.1331 - val_binary_accuracy: 0.9473\nEpoch 22/50\n130/130 [==============================] - 109s 837ms/step - loss: 0.1574 - binary_accuracy: 0.9418 - val_loss: 0.1310 - val_binary_accuracy: 0.9492\nEpoch 23/50\n130/130 [==============================] - 97s 747ms/step - loss: 0.1493 - binary_accuracy: 0.9444 - val_loss: 0.1317 - val_binary_accuracy: 0.9464\nEpoch 24/50\n130/130 [==============================] - 98s 749ms/step - loss: 0.1693 - binary_accuracy: 0.9307 - val_loss: 0.1326 - val_binary_accuracy: 0.9464\n\nEpoch 00024: ReduceLROnPlateau reducing learning rate to 2.3999998575163774e-07.\nEpoch 25/50\n130/130 [==============================] - 97s 747ms/step - loss: 0.1579 - binary_accuracy: 0.9403 - val_loss: 0.1319 - val_binary_accuracy: 0.9473\nEpoch 26/50\n130/130 [==============================] - 105s 808ms/step - loss: 0.1488 - binary_accuracy: 0.9413 - val_loss: 0.1319 - val_binary_accuracy: 0.9464\n\nEpoch 00026: ReduceLROnPlateau reducing learning rate to 4.799999828719592e-08.\nEpoch 27/50\n130/130 [==============================] - 109s 835ms/step - loss: 0.1614 - binary_accuracy: 0.9384 - val_loss: 0.1318 - val_binary_accuracy: 0.9464\n",
          "output_type": "stream"
        }
      ],
      "id": "vfyWaspM8JQn"
    },
    {
      "cell_type": "code",
      "source": [
        "fig, ax = plt.subplots(figsize=(20,8))\n",
        "sns.lineplot(x = history.epoch, y = history.history['loss'])\n",
        "sns.lineplot(x = history.epoch, y = history.history['val_loss'])\n",
        "ax.set_title('Learning Curve (Loss)')\n",
        "ax.set_ylabel('Loss')\n",
        "ax.set_xlabel('Epoch')\n",
        "ax.set_ylim(0, 0.5)\n",
        "ax.legend(['train', 'val'], loc='best')\n",
        "plt.show()"
      ],
      "metadata": {
        "execution": {
          "iopub.status.busy": "2022-11-01T14:38:50.329223Z",
          "iopub.execute_input": "2022-11-01T14:38:50.329564Z",
          "iopub.status.idle": "2022-11-01T14:38:50.619462Z",
          "shell.execute_reply.started": "2022-11-01T14:38:50.329529Z",
          "shell.execute_reply": "2022-11-01T14:38:50.618521Z"
        },
        "trusted": true,
        "id": "NsDG9wo48JQn",
        "outputId": "8431817b-1501-4b98-c2f7-669777cf0018"
      },
      "execution_count": null,
      "outputs": [
        {
          "output_type": "display_data",
          "data": {
            "text/plain": "<Figure size 1440x576 with 1 Axes>",
            "image/png": "[encoded data removed]"
          },
          "metadata": {
            "needs_background": "light"
          }
        }
      ],
      "id": "NsDG9wo48JQn"
    },
    {
      "cell_type": "code",
      "source": [
        "fig, ax = plt.subplots(figsize=(20,8))\n",
        "sns.lineplot(x = history.epoch, y = history.history['binary_accuracy'])\n",
        "sns.lineplot(x = history.epoch, y = history.history['val_binary_accuracy'])\n",
        "ax.set_title('Learning Curve (Accuracy)')\n",
        "ax.set_ylabel('Accuracy')\n",
        "ax.set_xlabel('Epoch')\n",
        "ax.set_ylim(0.80, 1.0)\n",
        "ax.legend(['train', 'val'], loc='best')\n",
        "plt.show()"
      ],
      "metadata": {
        "execution": {
          "iopub.status.busy": "2022-11-01T14:38:50.620942Z",
          "iopub.execute_input": "2022-11-01T14:38:50.621256Z",
          "iopub.status.idle": "2022-11-01T14:38:50.896598Z",
          "shell.execute_reply.started": "2022-11-01T14:38:50.621230Z",
          "shell.execute_reply": "2022-11-01T14:38:50.895615Z"
        },
        "trusted": true,
        "id": "mkvfMe8d8JQo",
        "outputId": "d8d269ac-cd25-4453-a16c-4db08d32e9ee"
      },
      "execution_count": null,
      "outputs": [
        {
          "output_type": "display_data",
          "data": {
            "text/plain": "<Figure size 1440x576 with 1 Axes>",
            "image/png": "[encoded data removed]"
          },
          "metadata": {
            "needs_background": "light"
          }
        }
      ],
      "id": "mkvfMe8d8JQo"
    },
    {
      "cell_type": "code",
      "source": [
        "score = model.evaluate(ds_val, steps = len(val_df)/BATCH, verbose = 0)\n",
        "print('Val loss:', score[0])\n",
        "print('Val accuracy:', score[1])"
      ],
      "metadata": {
        "execution": {
          "iopub.status.busy": "2022-11-01T14:38:50.898082Z",
          "iopub.execute_input": "2022-11-01T14:38:50.898457Z",
          "iopub.status.idle": "2022-11-01T14:39:03.015302Z",
          "shell.execute_reply.started": "2022-11-01T14:38:50.898421Z",
          "shell.execute_reply": "2022-11-01T14:39:03.014299Z"
        },
        "trusted": true,
        "id": "8PsPEJx08JQo",
        "outputId": "f3ec00c1-4c9e-4f63-928c-62b7c03fae03"
      },
      "execution_count": null,
      "outputs": [
        {
          "name": "stdout",
          "text": "Val loss: 0.13104258477687836\nVal accuracy: 0.9492337107658386\n",
          "output_type": "stream"
        }
      ],
      "id": "8PsPEJx08JQo"
    },
    {
      "cell_type": "code",
      "source": [
        "score = model.evaluate(ds_test, steps = len(df_test), verbose = 0)\n",
        "\n",
        "print('Test loss:', score[0])\n",
        "print('Test accuracy:', score[1])"
      ],
      "metadata": {
        "execution": {
          "iopub.status.busy": "2022-11-01T14:39:03.020214Z",
          "iopub.execute_input": "2022-11-01T14:39:03.020500Z",
          "iopub.status.idle": "2022-11-01T14:39:14.396186Z",
          "shell.execute_reply.started": "2022-11-01T14:39:03.020475Z",
          "shell.execute_reply": "2022-11-01T14:39:14.394936Z"
        },
        "trusted": true,
        "id": "JijwPb4L8JQp",
        "outputId": "7eb12297-d49d-4928-bf76-9b2fb68fa85d"
      },
      "execution_count": null,
      "outputs": [
        {
          "name": "stdout",
          "text": "Test loss: 0.6089237928390503\nTest accuracy: 0.7980769276618958\n",
          "output_type": "stream"
        }
      ],
      "id": "JijwPb4L8JQp"
    },
    {
      "cell_type": "markdown",
      "source": [
        "----------------------------\n",
        "## ResNet"
      ],
      "metadata": {
        "id": "Med18WpS8JQp"
      },
      "id": "Med18WpS8JQp"
    },
    {
      "cell_type": "code",
      "source": [
        "base_model = tf.keras.applications.ResNet152V2(\n",
        "    weights='imagenet',\n",
        "    input_shape=(IMG_SIZE, IMG_SIZE, 3),\n",
        "    include_top=False)\n",
        "\n",
        "base_model.trainable = False\n",
        "\n",
        "def get_pretrained():\n",
        "    \n",
        "    #Input shape = [width, height, color channels]\n",
        "    inputs = layers.Input(shape=(IMG_SIZE, IMG_SIZE, 3))\n",
        "    \n",
        "    x = base_model(inputs)\n",
        "\n",
        "    # Head\n",
        "    x = layers.GlobalAveragePooling2D()(x)\n",
        "    x = layers.Dense(128, activation='relu')(x)\n",
        "    x = layers.Dropout(0.1)(x)\n",
        "    \n",
        "    #Final Layer (Output)\n",
        "    output = layers.Dense(1, activation='sigmoid')(x)\n",
        "    \n",
        "    model = keras.Model(inputs=[inputs], outputs=output)\n",
        "    \n",
        "    return model"
      ],
      "metadata": {
        "execution": {
          "iopub.status.busy": "2022-11-01T14:39:14.397727Z",
          "iopub.execute_input": "2022-11-01T14:39:14.398080Z",
          "iopub.status.idle": "2022-11-01T14:39:19.083705Z",
          "shell.execute_reply.started": "2022-11-01T14:39:14.398045Z",
          "shell.execute_reply": "2022-11-01T14:39:19.082728Z"
        },
        "trusted": true,
        "id": "8yANCr_E8JQp",
        "outputId": "00203666-516c-40f4-88f4-5a18ed63a71c"
      },
      "execution_count": null,
      "outputs": [
        {
          "name": "stdout",
          "text": "Downloading data from https://storage.googleapis.com/tensorflow/keras-applications/resnet/resnet152v2_weights_tf_dim_ordering_tf_kernels_notop.h5\n234553344/234545216 [==============================] - 1s 0us/step\n234561536/234545216 [==============================] - 1s 0us/step\n",
          "output_type": "stream"
        }
      ],
      "id": "8yANCr_E8JQp"
    },
    {
      "cell_type": "code",
      "source": [
        "keras.backend.clear_session()\n",
        "\n",
        "model_pretrained = get_pretrained()\n",
        "model_pretrained.compile(loss='binary_crossentropy'\n",
        "              , optimizer = keras.optimizers.Adam(learning_rate=5e-5), metrics='binary_accuracy')\n",
        "\n",
        "model_pretrained.summary()"
      ],
      "metadata": {
        "execution": {
          "iopub.status.busy": "2022-11-01T14:39:19.085012Z",
          "iopub.execute_input": "2022-11-01T14:39:19.085362Z",
          "iopub.status.idle": "2022-11-01T14:39:20.172002Z",
          "shell.execute_reply.started": "2022-11-01T14:39:19.085328Z",
          "shell.execute_reply": "2022-11-01T14:39:20.171012Z"
        },
        "trusted": true,
        "id": "1II1k7Ep8JQq",
        "outputId": "51ff8db1-3cf5-4c8e-93f1-6d6562fbd6ad"
      },
      "execution_count": null,
      "outputs": [
        {
          "name": "stdout",
          "text": "Model: \"model\"\n_________________________________________________________________\nLayer (type)                 Output Shape              Param #   \n=================================================================\ninput_1 (InputLayer)         [(None, 224, 224, 3)]     0         \n_________________________________________________________________\nresnet152v2 (Functional)     (None, 7, 7, 2048)        58331648  \n_________________________________________________________________\nglobal_average_pooling2d (Gl (None, 2048)              0         \n_________________________________________________________________\ndense (Dense)                (None, 128)               262272    \n_________________________________________________________________\ndropout (Dropout)            (None, 128)               0         \n_________________________________________________________________\ndense_1 (Dense)              (None, 1)                 129       \n=================================================================\nTotal params: 58,594,049\nTrainable params: 262,401\nNon-trainable params: 58,331,648\n_________________________________________________________________\n",
          "output_type": "stream"
        }
      ],
      "id": "1II1k7Ep8JQq"
    },
    {
      "cell_type": "code",
      "source": [
        "history = model_pretrained.fit(ds_train,\n",
        "          batch_size = BATCH, epochs = 50,\n",
        "          validation_data=ds_val,\n",
        "          callbacks=[early_stopping, plateau],\n",
        "          steps_per_epoch=(len(train_df)/BATCH),\n",
        "          validation_steps=(len(val_df)/BATCH));"
      ],
      "metadata": {
        "_kg_hide-output": true,
        "execution": {
          "iopub.status.busy": "2022-11-01T14:39:20.173422Z",
          "iopub.execute_input": "2022-11-01T14:39:20.174006Z",
          "iopub.status.idle": "2022-11-01T15:29:24.029427Z",
          "shell.execute_reply.started": "2022-11-01T14:39:20.173968Z",
          "shell.execute_reply": "2022-11-01T15:29:24.028441Z"
        },
        "trusted": true,
        "id": "NrOo3cAR8JQq",
        "outputId": "f5a2f96b-e297-484d-d4bc-8f582a074aa9"
      },
      "execution_count": null,
      "outputs": [
        {
          "name": "stdout",
          "text": "Epoch 1/50\n130/130 [==============================] - 116s 826ms/step - loss: 0.4334 - binary_accuracy: 0.8025 - val_loss: 0.2386 - val_binary_accuracy: 0.9138\nEpoch 2/50\n130/130 [==============================] - 103s 793ms/step - loss: 0.2122 - binary_accuracy: 0.9178 - val_loss: 0.1806 - val_binary_accuracy: 0.9330\nEpoch 3/50\n130/130 [==============================] - 110s 842ms/step - loss: 0.1819 - binary_accuracy: 0.9293 - val_loss: 0.1558 - val_binary_accuracy: 0.9416\nEpoch 4/50\n130/130 [==============================] - 112s 860ms/step - loss: 0.1547 - binary_accuracy: 0.9446 - val_loss: 0.1404 - val_binary_accuracy: 0.9511\nEpoch 5/50\n130/130 [==============================] - 117s 901ms/step - loss: 0.1429 - binary_accuracy: 0.9509 - val_loss: 0.1250 - val_binary_accuracy: 0.9540\nEpoch 6/50\n130/130 [==============================] - 103s 791ms/step - loss: 0.1346 - binary_accuracy: 0.9521 - val_loss: 0.1186 - val_binary_accuracy: 0.9569\nEpoch 7/50\n130/130 [==============================] - 103s 792ms/step - loss: 0.1254 - binary_accuracy: 0.9564 - val_loss: 0.1120 - val_binary_accuracy: 0.9598\nEpoch 8/50\n130/130 [==============================] - 103s 787ms/step - loss: 0.1220 - binary_accuracy: 0.9561 - val_loss: 0.1174 - val_binary_accuracy: 0.9607\nEpoch 9/50\n130/130 [==============================] - 101s 774ms/step - loss: 0.1149 - binary_accuracy: 0.9588 - val_loss: 0.0998 - val_binary_accuracy: 0.9646\nEpoch 11/50\n130/130 [==============================] - 100s 771ms/step - loss: 0.1094 - binary_accuracy: 0.9564 - val_loss: 0.1047 - val_binary_accuracy: 0.9646\nEpoch 12/50\n130/130 [==============================] - 102s 781ms/step - loss: 0.1086 - binary_accuracy: 0.9602 - val_loss: 0.1320 - val_binary_accuracy: 0.9483\n\nEpoch 00012: ReduceLROnPlateau reducing learning rate to 9.999999747378752e-06.\nEpoch 13/50\n130/130 [==============================] - 106s 818ms/step - loss: 0.1040 - binary_accuracy: 0.9640 - val_loss: 0.1039 - val_binary_accuracy: 0.9626\nEpoch 14/50\n130/130 [==============================] - 106s 810ms/step - loss: 0.0973 - binary_accuracy: 0.9648 - val_loss: 0.0992 - val_binary_accuracy: 0.9655\nEpoch 15/50\n130/130 [==============================] - 105s 801ms/step - loss: 0.1034 - binary_accuracy: 0.9624 - val_loss: 0.0988 - val_binary_accuracy: 0.9655\nEpoch 16/50\n130/130 [==============================] - 105s 803ms/step - loss: 0.0928 - binary_accuracy: 0.9672 - val_loss: 0.0976 - val_binary_accuracy: 0.9655\nEpoch 17/50\n130/130 [==============================] - 102s 784ms/step - loss: 0.0978 - binary_accuracy: 0.9640 - val_loss: 0.0965 - val_binary_accuracy: 0.9655\nEpoch 18/50\n130/130 [==============================] - 103s 789ms/step - loss: 0.1027 - binary_accuracy: 0.9638 - val_loss: 0.0997 - val_binary_accuracy: 0.9655\nEpoch 19/50\n130/130 [==============================] - 124s 949ms/step - loss: 0.1019 - binary_accuracy: 0.9645 - val_loss: 0.0980 - val_binary_accuracy: 0.9655\n\nEpoch 00019: ReduceLROnPlateau reducing learning rate to 1.9999999494757505e-06.\nEpoch 20/50\n130/130 [==============================] - 125s 961ms/step - loss: 0.1017 - binary_accuracy: 0.9607 - val_loss: 0.0974 - val_binary_accuracy: 0.9655\nEpoch 21/50\n130/130 [==============================] - 106s 812ms/step - loss: 0.1017 - binary_accuracy: 0.9648 - val_loss: 0.0965 - val_binary_accuracy: 0.9655\n\nEpoch 00021: ReduceLROnPlateau reducing learning rate to 3.999999989900971e-07.\nEpoch 22/50\n130/130 [==============================] - 103s 793ms/step - loss: 0.0963 - binary_accuracy: 0.9648 - val_loss: 0.0963 - val_binary_accuracy: 0.9655\nEpoch 23/50\n130/130 [==============================] - 103s 793ms/step - loss: 0.0981 - binary_accuracy: 0.9645 - val_loss: 0.0963 - val_binary_accuracy: 0.9655\nEpoch 24/50\n130/130 [==============================] - 104s 801ms/step - loss: 0.0942 - binary_accuracy: 0.9674 - val_loss: 0.0964 - val_binary_accuracy: 0.9655\n\nEpoch 00024: ReduceLROnPlateau reducing learning rate to 8.00000009348878e-08.\nEpoch 25/50\n130/130 [==============================] - 115s 884ms/step - loss: 0.0924 - binary_accuracy: 0.9698 - val_loss: 0.0964 - val_binary_accuracy: 0.9655\nEpoch 26/50\n130/130 [==============================] - 103s 789ms/step - loss: 0.0978 - binary_accuracy: 0.9638 - val_loss: 0.0964 - val_binary_accuracy: 0.9655\n\nEpoch 00026: ReduceLROnPlateau reducing learning rate to 1.5999999902760466e-08.\nEpoch 27/50\n130/130 [==============================] - 105s 808ms/step - loss: 0.0948 - binary_accuracy: 0.9650 - val_loss: 0.0964 - val_binary_accuracy: 0.9655\nEpoch 28/50\n130/130 [==============================] - 105s 803ms/step - loss: 0.0953 - binary_accuracy: 0.9681 - val_loss: 0.0965 - val_binary_accuracy: 0.9655\n\nEpoch 00028: ReduceLROnPlateau reducing learning rate to 3.1999999094978194e-09.\n",
          "output_type": "stream"
        }
      ],
      "id": "NrOo3cAR8JQq"
    },
    {
      "cell_type": "code",
      "source": [
        "fig, ax = plt.subplots(figsize=(20,8))\n",
        "sns.lineplot(x = history.epoch, y = history.history['loss'])\n",
        "sns.lineplot(x = history.epoch, y = history.history['val_loss'])\n",
        "ax.set_title('Learning Curve (Loss)')\n",
        "ax.set_ylabel('Loss')\n",
        "ax.set_xlabel('Epoch')\n",
        "ax.set_ylim(0, 0.5)\n",
        "ax.legend(['train', 'val'], loc='best')\n",
        "plt.show()"
      ],
      "metadata": {
        "execution": {
          "iopub.status.busy": "2022-11-01T15:29:24.030984Z",
          "iopub.execute_input": "2022-11-01T15:29:24.031344Z",
          "iopub.status.idle": "2022-11-01T15:30:01.216523Z",
          "shell.execute_reply.started": "2022-11-01T15:29:24.031308Z",
          "shell.execute_reply": "2022-11-01T15:30:01.215531Z"
        },
        "trusted": true,
        "id": "CHwkq-oD8JQr",
        "outputId": "a80690d2-bd8c-4bc7-d2fc-c9107ab1e502"
      },
      "execution_count": null,
      "outputs": [
        {
          "output_type": "display_data",
          "data": {
            "text/plain": "<Figure size 1440x576 with 1 Axes>",
            "image/png": "[encoded data removed]"
          },
          "metadata": {
            "needs_background": "light"
          }
        }
      ],
      "id": "CHwkq-oD8JQr"
    },
    {
      "cell_type": "code",
      "source": [
        "fig, ax = plt.subplots(figsize=(20,8))\n",
        "sns.lineplot(x = history.epoch, y = history.history['binary_accuracy'])\n",
        "sns.lineplot(x = history.epoch, y = history.history['val_binary_accuracy'])\n",
        "ax.set_title('Learning Curve (Accuracy)')\n",
        "ax.set_ylabel('Accuracy')\n",
        "ax.set_xlabel('Epoch')\n",
        "ax.set_ylim(0.80, 1.0)\n",
        "ax.legend(['train', 'val'], loc='best')\n",
        "plt.show()"
      ],
      "metadata": {
        "execution": {
          "iopub.status.busy": "2022-11-01T15:30:01.218098Z",
          "iopub.execute_input": "2022-11-01T15:30:01.218470Z",
          "iopub.status.idle": "2022-11-01T15:30:01.485447Z",
          "shell.execute_reply.started": "2022-11-01T15:30:01.218435Z",
          "shell.execute_reply": "2022-11-01T15:30:01.484502Z"
        },
        "trusted": true,
        "id": "TmTgfGN68JQr",
        "outputId": "931317e7-32e2-4238-805c-2f702a9a177a"
      },
      "execution_count": null,
      "outputs": [
        {
          "output_type": "display_data",
          "data": {
            "text/plain": "<Figure size 1440x576 with 1 Axes>",
            "image/png": "[encoded data removed]"
          },
          "metadata": {
            "needs_background": "light"
          }
        }
      ],
      "id": "TmTgfGN68JQr"
    },
    {
      "cell_type": "code",
      "source": [
        "score = model_pretrained.evaluate(ds_val, steps = len(val_df)/BATCH, verbose = 0)\n",
        "print('Val loss:', score[0])\n",
        "print('Val accuracy:', score[1])"
      ],
      "metadata": {
        "execution": {
          "iopub.status.busy": "2022-11-01T15:30:01.487081Z",
          "iopub.execute_input": "2022-11-01T15:30:01.488055Z",
          "iopub.status.idle": "2022-11-01T15:30:15.006198Z",
          "shell.execute_reply.started": "2022-11-01T15:30:01.488015Z",
          "shell.execute_reply": "2022-11-01T15:30:15.005164Z"
        },
        "trusted": true,
        "id": "xX_1Vbd88JQs",
        "outputId": "8c6f5fec-a8db-48f2-8eae-738d04a621d9"
      },
      "execution_count": null,
      "outputs": [
        {
          "name": "stdout",
          "text": "Val loss: 0.09628243744373322\nVal accuracy: 0.9655172228813171\n",
          "output_type": "stream"
        }
      ],
      "id": "xX_1Vbd88JQs"
    },
    {
      "cell_type": "code",
      "source": [
        "score = model_pretrained.evaluate(ds_test, steps = len(df_test), verbose = 0)\n",
        "print('Test loss:', score[0])\n",
        "print('Test accuracy:', score[1])"
      ],
      "metadata": {
        "execution": {
          "iopub.status.busy": "2022-11-01T15:30:15.007947Z",
          "iopub.execute_input": "2022-11-01T15:30:15.008714Z",
          "iopub.status.idle": "2022-11-01T15:30:33.512217Z",
          "shell.execute_reply.started": "2022-11-01T15:30:15.008675Z",
          "shell.execute_reply": "2022-11-01T15:30:33.511282Z"
        },
        "trusted": true,
        "id": "Fu_wGs778JQs",
        "outputId": "5becf00e-34c0-4b4e-96c8-52a74b305955"
      },
      "execution_count": null,
      "outputs": [
        {
          "name": "stdout",
          "text": "Test loss: 0.4116911292076111\nTest accuracy: 0.8477563858032227\n",
          "output_type": "stream"
        }
      ],
      "id": "Fu_wGs778JQs"
    },
    {
      "cell_type": "markdown",
      "source": [
        "-------------------------\n",
        "## Fine Tuning"
      ],
      "metadata": {
        "id": "wMn8mpB18JQt"
      },
      "id": "wMn8mpB18JQt"
    },
    {
      "cell_type": "code",
      "source": [
        "base_model.trainable = True\n",
        "\n",
        "# Freeze all layers except for the\n",
        "for layer in base_model.layers[:-20]:\n",
        "    layer.trainable = False"
      ],
      "metadata": {
        "execution": {
          "iopub.status.busy": "2022-11-01T15:30:33.513857Z",
          "iopub.execute_input": "2022-11-01T15:30:33.514178Z",
          "iopub.status.idle": "2022-11-01T15:30:33.554017Z",
          "shell.execute_reply.started": "2022-11-01T15:30:33.514139Z",
          "shell.execute_reply": "2022-11-01T15:30:33.552934Z"
        },
        "trusted": true,
        "id": "fCt1wEN_8JQt"
      },
      "execution_count": null,
      "outputs": [],
      "id": "fCt1wEN_8JQt"
    },
    {
      "cell_type": "code",
      "source": [
        "# Check which layers are tuneable (trainable)\n",
        "for layer_number, layer in enumerate(base_model.layers):\n",
        "    print(layer_number, layer.name, layer.trainable)"
      ],
      "metadata": {
        "execution": {
          "iopub.status.busy": "2022-11-01T15:30:33.555771Z",
          "iopub.execute_input": "2022-11-01T15:30:33.556211Z",
          "iopub.status.idle": "2022-11-01T15:30:33.574246Z",
          "shell.execute_reply.started": "2022-11-01T15:30:33.556171Z",
          "shell.execute_reply": "2022-11-01T15:30:33.573023Z"
        },
        "_kg_hide-output": true,
        "collapsed": true,
        "jupyter": {
          "outputs_hidden": true
        },
        "trusted": true,
        "id": "-aHiMvPW8JQt",
        "outputId": "76689ee5-32fd-425d-8f5b-d8041e43f8db"
      },
      "execution_count": null,
      "outputs": [
        {
          "name": "stdout",
          "text": "0 input_2 False\n1 conv1_pad False\n2 conv1_conv False\n3 pool1_pad False\n4 pool1_pool False\n5 conv2_block1_preact_bn False\n6 conv2_block1_preact_relu False\n7 conv2_block1_1_conv False\n8 conv2_block1_1_bn False\n9 conv2_block1_1_relu False\n10 conv2_block1_2_pad False\n11 conv2_block1_2_conv False\n12 conv2_block1_2_bn False\n13 conv2_block1_2_relu False\n14 conv2_block1_0_conv False\n15 conv2_block1_3_conv False\n16 conv2_block1_out False\n17 conv2_block2_preact_bn False\n18 conv2_block2_preact_relu False\n19 conv2_block2_1_conv False\n20 conv2_block2_1_bn False\n21 conv2_block2_1_relu False\n22 conv2_block2_2_pad False\n23 conv2_block2_2_conv False\n24 conv2_block2_2_bn False\n25 conv2_block2_2_relu False\n26 conv2_block2_3_conv False\n27 conv2_block2_out False\n28 conv2_block3_preact_bn False\n29 conv2_block3_preact_relu False\n30 conv2_block3_1_conv False\n31 conv2_block3_1_bn False\n32 conv2_block3_1_relu False\n33 conv2_block3_2_pad False\n34 conv2_block3_2_conv False\n35 conv2_block3_2_bn False\n36 conv2_block3_2_relu False\n37 max_pooling2d_3 False\n38 conv2_block3_3_conv False\n39 conv2_block3_out False\n40 conv3_block1_preact_bn False\n41 conv3_block1_preact_relu False\n42 conv3_block1_1_conv False\n43 conv3_block1_1_bn False\n44 conv3_block1_1_relu False\n45 conv3_block1_2_pad False\n46 conv3_block1_2_conv False\n47 conv3_block1_2_bn False\n48 conv3_block1_2_relu False\n49 conv3_block1_0_conv False\n50 conv3_block1_3_conv False\n51 conv3_block1_out False\n52 conv3_block2_preact_bn False\n53 conv3_block2_preact_relu False\n54 conv3_block2_1_conv False\n55 conv3_block2_1_bn False\n56 conv3_block2_1_relu False\n57 conv3_block2_2_pad False\n58 conv3_block2_2_conv False\n59 conv3_block2_2_bn False\n60 conv3_block2_2_relu False\n61 conv3_block2_3_conv False\n62 conv3_block2_out False\n63 conv3_block3_preact_bn False\n64 conv3_block3_preact_relu False\n65 conv3_block3_1_conv False\n66 conv3_block3_1_bn False\n67 conv3_block3_1_relu False\n68 conv3_block3_2_pad False\n69 conv3_block3_2_conv False\n70 conv3_block3_2_bn False\n71 conv3_block3_2_relu False\n72 conv3_block3_3_conv False\n73 conv3_block3_out False\n74 conv3_block4_preact_bn False\n75 conv3_block4_preact_relu False\n76 conv3_block4_1_conv False\n77 conv3_block4_1_bn False\n78 conv3_block4_1_relu False\n79 conv3_block4_2_pad False\n80 conv3_block4_2_conv False\n81 conv3_block4_2_bn False\n82 conv3_block4_2_relu False\n83 conv3_block4_3_conv False\n84 conv3_block4_out False\n85 conv3_block5_preact_bn False\n86 conv3_block5_preact_relu False\n87 conv3_block5_1_conv False\n88 conv3_block5_1_bn False\n89 conv3_block5_1_relu False\n90 conv3_block5_2_pad False\n91 conv3_block5_2_conv False\n92 conv3_block5_2_bn False\n93 conv3_block5_2_relu False\n94 conv3_block5_3_conv False\n95 conv3_block5_out False\n96 conv3_block6_preact_bn False\n97 conv3_block6_preact_relu False\n98 conv3_block6_1_conv False\n99 conv3_block6_1_bn False\n100 conv3_block6_1_relu False\n101 conv3_block6_2_pad False\n102 conv3_block6_2_conv False\n103 conv3_block6_2_bn False\n104 conv3_block6_2_relu False\n105 conv3_block6_3_conv False\n106 conv3_block6_out False\n107 conv3_block7_preact_bn False\n108 conv3_block7_preact_relu False\n109 conv3_block7_1_conv False\n110 conv3_block7_1_bn False\n111 conv3_block7_1_relu False\n112 conv3_block7_2_pad False\n113 conv3_block7_2_conv False\n114 conv3_block7_2_bn False\n115 conv3_block7_2_relu False\n116 conv3_block7_3_conv False\n117 conv3_block7_out False\n118 conv3_block8_preact_bn False\n119 conv3_block8_preact_relu False\n120 conv3_block8_1_conv False\n121 conv3_block8_1_bn False\n122 conv3_block8_1_relu False\n123 conv3_block8_2_pad False\n124 conv3_block8_2_conv False\n125 conv3_block8_2_bn False\n126 conv3_block8_2_relu False\n127 max_pooling2d_4 False\n128 conv3_block8_3_conv False\n129 conv3_block8_out False\n130 conv4_block1_preact_bn False\n131 conv4_block1_preact_relu False\n132 conv4_block1_1_conv False\n133 conv4_block1_1_bn False\n134 conv4_block1_1_relu False\n135 conv4_block1_2_pad False\n136 conv4_block1_2_conv False\n137 conv4_block1_2_bn False\n138 conv4_block1_2_relu False\n139 conv4_block1_0_conv False\n140 conv4_block1_3_conv False\n141 conv4_block1_out False\n142 conv4_block2_preact_bn False\n143 conv4_block2_preact_relu False\n144 conv4_block2_1_conv False\n145 conv4_block2_1_bn False\n146 conv4_block2_1_relu False\n147 conv4_block2_2_pad False\n148 conv4_block2_2_conv False\n149 conv4_block2_2_bn False\n150 conv4_block2_2_relu False\n151 conv4_block2_3_conv False\n152 conv4_block2_out False\n153 conv4_block3_preact_bn False\n154 conv4_block3_preact_relu False\n155 conv4_block3_1_conv False\n156 conv4_block3_1_bn False\n157 conv4_block3_1_relu False\n158 conv4_block3_2_pad False\n159 conv4_block3_2_conv False\n160 conv4_block3_2_bn False\n161 conv4_block3_2_relu False\n162 conv4_block3_3_conv False\n163 conv4_block3_out False\n164 conv4_block4_preact_bn False\n165 conv4_block4_preact_relu False\n166 conv4_block4_1_conv False\n167 conv4_block4_1_bn False\n168 conv4_block4_1_relu False\n169 conv4_block4_2_pad False\n170 conv4_block4_2_conv False\n171 conv4_block4_2_bn False\n172 conv4_block4_2_relu False\n173 conv4_block4_3_conv False\n174 conv4_block4_out False\n175 conv4_block5_preact_bn False\n176 conv4_block5_preact_relu False\n177 conv4_block5_1_conv False\n178 conv4_block5_1_bn False\n179 conv4_block5_1_relu False\n180 conv4_block5_2_pad False\n181 conv4_block5_2_conv False\n182 conv4_block5_2_bn False\n183 conv4_block5_2_relu False\n184 conv4_block5_3_conv False\n185 conv4_block5_out False\n186 conv4_block6_preact_bn False\n187 conv4_block6_preact_relu False\n188 conv4_block6_1_conv False\n189 conv4_block6_1_bn False\n190 conv4_block6_1_relu False\n191 conv4_block6_2_pad False\n192 conv4_block6_2_conv False\n193 conv4_block6_2_bn False\n194 conv4_block6_2_relu False\n195 conv4_block6_3_conv False\n196 conv4_block6_out False\n197 conv4_block7_preact_bn False\n198 conv4_block7_preact_relu False\n199 conv4_block7_1_conv False\n200 conv4_block7_1_bn False\n201 conv4_block7_1_relu False\n202 conv4_block7_2_pad False\n203 conv4_block7_2_conv False\n204 conv4_block7_2_bn False\n205 conv4_block7_2_relu False\n206 conv4_block7_3_conv False\n207 conv4_block7_out False\n208 conv4_block8_preact_bn False\n209 conv4_block8_preact_relu False\n210 conv4_block8_1_conv False\n211 conv4_block8_1_bn False\n212 conv4_block8_1_relu False\n213 conv4_block8_2_pad False\n214 conv4_block8_2_conv False\n215 conv4_block8_2_bn False\n216 conv4_block8_2_relu False\n217 conv4_block8_3_conv False\n218 conv4_block8_out False\n219 conv4_block9_preact_bn False\n220 conv4_block9_preact_relu False\n221 conv4_block9_1_conv False\n222 conv4_block9_1_bn False\n223 conv4_block9_1_relu False\n224 conv4_block9_2_pad False\n225 conv4_block9_2_conv False\n226 conv4_block9_2_bn False\n227 conv4_block9_2_relu False\n228 conv4_block9_3_conv False\n229 conv4_block9_out False\n230 conv4_block10_preact_bn False\n231 conv4_block10_preact_relu False\n232 conv4_block10_1_conv False\n233 conv4_block10_1_bn False\n234 conv4_block10_1_relu False\n235 conv4_block10_2_pad False\n236 conv4_block10_2_conv False\n237 conv4_block10_2_bn False\n238 conv4_block10_2_relu False\n239 conv4_block10_3_conv False\n240 conv4_block10_out False\n241 conv4_block11_preact_bn False\n242 conv4_block11_preact_relu False\n243 conv4_block11_1_conv False\n244 conv4_block11_1_bn False\n245 conv4_block11_1_relu False\n246 conv4_block11_2_pad False\n247 conv4_block11_2_conv False\n248 conv4_block11_2_bn False\n249 conv4_block11_2_relu False\n250 conv4_block11_3_conv False\n251 conv4_block11_out False\n252 conv4_block12_preact_bn False\n253 conv4_block12_preact_relu False\n254 conv4_block12_1_conv False\n255 conv4_block12_1_bn False\n256 conv4_block12_1_relu False\n257 conv4_block12_2_pad False\n258 conv4_block12_2_conv False\n259 conv4_block12_2_bn False\n260 conv4_block12_2_relu False\n261 conv4_block12_3_conv False\n262 conv4_block12_out False\n263 conv4_block13_preact_bn False\n264 conv4_block13_preact_relu False\n265 conv4_block13_1_conv False\n266 conv4_block13_1_bn False\n267 conv4_block13_1_relu False\n268 conv4_block13_2_pad False\n269 conv4_block13_2_conv False\n270 conv4_block13_2_bn False\n271 conv4_block13_2_relu False\n272 conv4_block13_3_conv False\n273 conv4_block13_out False\n274 conv4_block14_preact_bn False\n275 conv4_block14_preact_relu False\n276 conv4_block14_1_conv False\n277 conv4_block14_1_bn False\n278 conv4_block14_1_relu False\n279 conv4_block14_2_pad False\n280 conv4_block14_2_conv False\n281 conv4_block14_2_bn False\n282 conv4_block14_2_relu False\n283 conv4_block14_3_conv False\n284 conv4_block14_out False\n285 conv4_block15_preact_bn False\n286 conv4_block15_preact_relu False\n287 conv4_block15_1_conv False\n288 conv4_block15_1_bn False\n289 conv4_block15_1_relu False\n290 conv4_block15_2_pad False\n291 conv4_block15_2_conv False\n292 conv4_block15_2_bn False\n293 conv4_block15_2_relu False\n294 conv4_block15_3_conv False\n295 conv4_block15_out False\n296 conv4_block16_preact_bn False\n297 conv4_block16_preact_relu False\n298 conv4_block16_1_conv False\n299 conv4_block16_1_bn False\n300 conv4_block16_1_relu False\n301 conv4_block16_2_pad False\n302 conv4_block16_2_conv False\n303 conv4_block16_2_bn False\n304 conv4_block16_2_relu False\n305 conv4_block16_3_conv False\n306 conv4_block16_out False\n307 conv4_block17_preact_bn False\n308 conv4_block17_preact_relu False\n309 conv4_block17_1_conv False\n310 conv4_block17_1_bn False\n311 conv4_block17_1_relu False\n312 conv4_block17_2_pad False\n313 conv4_block17_2_conv False\n314 conv4_block17_2_bn False\n315 conv4_block17_2_relu False\n316 conv4_block17_3_conv False\n317 conv4_block17_out False\n318 conv4_block18_preact_bn False\n319 conv4_block18_preact_relu False\n320 conv4_block18_1_conv False\n321 conv4_block18_1_bn False\n322 conv4_block18_1_relu False\n323 conv4_block18_2_pad False\n324 conv4_block18_2_conv False\n325 conv4_block18_2_bn False\n326 conv4_block18_2_relu False\n327 conv4_block18_3_conv False\n328 conv4_block18_out False\n329 conv4_block19_preact_bn False\n330 conv4_block19_preact_relu False\n331 conv4_block19_1_conv False\n332 conv4_block19_1_bn False\n333 conv4_block19_1_relu False\n334 conv4_block19_2_pad False\n335 conv4_block19_2_conv False\n336 conv4_block19_2_bn False\n337 conv4_block19_2_relu False\n338 conv4_block19_3_conv False\n339 conv4_block19_out False\n340 conv4_block20_preact_bn False\n341 conv4_block20_preact_relu False\n342 conv4_block20_1_conv False\n343 conv4_block20_1_bn False\n344 conv4_block20_1_relu False\n345 conv4_block20_2_pad False\n346 conv4_block20_2_conv False\n347 conv4_block20_2_bn False\n348 conv4_block20_2_relu False\n349 conv4_block20_3_conv False\n350 conv4_block20_out False\n351 conv4_block21_preact_bn False\n352 conv4_block21_preact_relu False\n353 conv4_block21_1_conv False\n354 conv4_block21_1_bn False\n355 conv4_block21_1_relu False\n356 conv4_block21_2_pad False\n357 conv4_block21_2_conv False\n358 conv4_block21_2_bn False\n359 conv4_block21_2_relu False\n360 conv4_block21_3_conv False\n361 conv4_block21_out False\n362 conv4_block22_preact_bn False\n363 conv4_block22_preact_relu False\n364 conv4_block22_1_conv False\n365 conv4_block22_1_bn False\n366 conv4_block22_1_relu False\n367 conv4_block22_2_pad False\n368 conv4_block22_2_conv False\n369 conv4_block22_2_bn False\n370 conv4_block22_2_relu False\n371 conv4_block22_3_conv False\n372 conv4_block22_out False\n373 conv4_block23_preact_bn False\n374 conv4_block23_preact_relu False\n375 conv4_block23_1_conv False\n376 conv4_block23_1_bn False\n377 conv4_block23_1_relu False\n378 conv4_block23_2_pad False\n379 conv4_block23_2_conv False\n380 conv4_block23_2_bn False\n381 conv4_block23_2_relu False\n382 conv4_block23_3_conv False\n383 conv4_block23_out False\n384 conv4_block24_preact_bn False\n385 conv4_block24_preact_relu False\n386 conv4_block24_1_conv False\n387 conv4_block24_1_bn False\n388 conv4_block24_1_relu False\n389 conv4_block24_2_pad False\n390 conv4_block24_2_conv False\n391 conv4_block24_2_bn False\n392 conv4_block24_2_relu False\n393 conv4_block24_3_conv False\n394 conv4_block24_out False\n395 conv4_block25_preact_bn False\n396 conv4_block25_preact_relu False\n397 conv4_block25_1_conv False\n398 conv4_block25_1_bn False\n399 conv4_block25_1_relu False\n400 conv4_block25_2_pad False\n401 conv4_block25_2_conv False\n402 conv4_block25_2_bn False\n403 conv4_block25_2_relu False\n404 conv4_block25_3_conv False\n405 conv4_block25_out False\n406 conv4_block26_preact_bn False\n407 conv4_block26_preact_relu False\n408 conv4_block26_1_conv False\n409 conv4_block26_1_bn False\n410 conv4_block26_1_relu False\n411 conv4_block26_2_pad False\n412 conv4_block26_2_conv False\n413 conv4_block26_2_bn False\n414 conv4_block26_2_relu False\n415 conv4_block26_3_conv False\n416 conv4_block26_out False\n417 conv4_block27_preact_bn False\n418 conv4_block27_preact_relu False\n419 conv4_block27_1_conv False\n420 conv4_block27_1_bn False\n421 conv4_block27_1_relu False\n422 conv4_block27_2_pad False\n423 conv4_block27_2_conv False\n424 conv4_block27_2_bn False\n425 conv4_block27_2_relu False\n426 conv4_block27_3_conv False\n427 conv4_block27_out False\n428 conv4_block28_preact_bn False\n429 conv4_block28_preact_relu False\n430 conv4_block28_1_conv False\n431 conv4_block28_1_bn False\n432 conv4_block28_1_relu False\n433 conv4_block28_2_pad False\n434 conv4_block28_2_conv False\n435 conv4_block28_2_bn False\n436 conv4_block28_2_relu False\n437 conv4_block28_3_conv False\n438 conv4_block28_out False\n439 conv4_block29_preact_bn False\n440 conv4_block29_preact_relu False\n441 conv4_block29_1_conv False\n442 conv4_block29_1_bn False\n443 conv4_block29_1_relu False\n444 conv4_block29_2_pad False\n445 conv4_block29_2_conv False\n446 conv4_block29_2_bn False\n447 conv4_block29_2_relu False\n448 conv4_block29_3_conv False\n449 conv4_block29_out False\n450 conv4_block30_preact_bn False\n451 conv4_block30_preact_relu False\n452 conv4_block30_1_conv False\n453 conv4_block30_1_bn False\n454 conv4_block30_1_relu False\n455 conv4_block30_2_pad False\n456 conv4_block30_2_conv False\n457 conv4_block30_2_bn False\n458 conv4_block30_2_relu False\n459 conv4_block30_3_conv False\n460 conv4_block30_out False\n461 conv4_block31_preact_bn False\n462 conv4_block31_preact_relu False\n463 conv4_block31_1_conv False\n464 conv4_block31_1_bn False\n465 conv4_block31_1_relu False\n466 conv4_block31_2_pad False\n467 conv4_block31_2_conv False\n468 conv4_block31_2_bn False\n469 conv4_block31_2_relu False\n470 conv4_block31_3_conv False\n471 conv4_block31_out False\n472 conv4_block32_preact_bn False\n473 conv4_block32_preact_relu False\n474 conv4_block32_1_conv False\n475 conv4_block32_1_bn False\n476 conv4_block32_1_relu False\n477 conv4_block32_2_pad False\n478 conv4_block32_2_conv False\n479 conv4_block32_2_bn False\n480 conv4_block32_2_relu False\n481 conv4_block32_3_conv False\n482 conv4_block32_out False\n483 conv4_block33_preact_bn False\n484 conv4_block33_preact_relu False\n485 conv4_block33_1_conv False\n486 conv4_block33_1_bn False\n487 conv4_block33_1_relu False\n488 conv4_block33_2_pad False\n489 conv4_block33_2_conv False\n490 conv4_block33_2_bn False\n491 conv4_block33_2_relu False\n492 conv4_block33_3_conv False\n493 conv4_block33_out False\n494 conv4_block34_preact_bn False\n495 conv4_block34_preact_relu False\n496 conv4_block34_1_conv False\n497 conv4_block34_1_bn False\n498 conv4_block34_1_relu False\n499 conv4_block34_2_pad False\n500 conv4_block34_2_conv False\n501 conv4_block34_2_bn False\n502 conv4_block34_2_relu False\n503 conv4_block34_3_conv False\n504 conv4_block34_out False\n505 conv4_block35_preact_bn False\n506 conv4_block35_preact_relu False\n507 conv4_block35_1_conv False\n508 conv4_block35_1_bn False\n509 conv4_block35_1_relu False\n510 conv4_block35_2_pad False\n511 conv4_block35_2_conv False\n512 conv4_block35_2_bn False\n513 conv4_block35_2_relu False\n514 conv4_block35_3_conv False\n515 conv4_block35_out False\n516 conv4_block36_preact_bn False\n517 conv4_block36_preact_relu False\n518 conv4_block36_1_conv False\n519 conv4_block36_1_bn False\n520 conv4_block36_1_relu False\n521 conv4_block36_2_pad False\n522 conv4_block36_2_conv False\n523 conv4_block36_2_bn False\n524 conv4_block36_2_relu False\n525 max_pooling2d_5 False\n526 conv4_block36_3_conv False\n527 conv4_block36_out False\n528 conv5_block1_preact_bn False\n529 conv5_block1_preact_relu False\n530 conv5_block1_1_conv False\n531 conv5_block1_1_bn False\n532 conv5_block1_1_relu False\n533 conv5_block1_2_pad False\n534 conv5_block1_2_conv False\n535 conv5_block1_2_bn False\n536 conv5_block1_2_relu False\n537 conv5_block1_0_conv False\n538 conv5_block1_3_conv False\n539 conv5_block1_out False\n540 conv5_block2_preact_bn False\n541 conv5_block2_preact_relu False\n542 conv5_block2_1_conv False\n543 conv5_block2_1_bn False\n544 conv5_block2_1_relu True\n545 conv5_block2_2_pad True\n546 conv5_block2_2_conv True\n547 conv5_block2_2_bn True\n548 conv5_block2_2_relu True\n549 conv5_block2_3_conv True\n550 conv5_block2_out True\n551 conv5_block3_preact_bn True\n552 conv5_block3_preact_relu True\n553 conv5_block3_1_conv True\n554 conv5_block3_1_bn True\n555 conv5_block3_1_relu True\n556 conv5_block3_2_pad True\n557 conv5_block3_2_conv True\n558 conv5_block3_2_bn True\n559 conv5_block3_2_relu True\n560 conv5_block3_3_conv True\n561 conv5_block3_out True\n562 post_bn True\n563 post_relu True\n",
          "output_type": "stream"
        }
      ],
      "id": "-aHiMvPW8JQt"
    },
    {
      "cell_type": "code",
      "source": [
        "history = model_pretrained.fit(ds_train,\n",
        "          batch_size = BATCH, epochs = 50,\n",
        "          validation_data=ds_val,\n",
        "          callbacks=[early_stopping, plateau],\n",
        "          steps_per_epoch=(len(train_df)/BATCH),\n",
        "          validation_steps=(len(val_df)/BATCH));"
      ],
      "metadata": {
        "execution": {
          "iopub.status.busy": "2022-11-01T15:30:33.575704Z",
          "iopub.execute_input": "2022-11-01T15:30:33.576724Z",
          "iopub.status.idle": "2022-11-01T15:41:03.628822Z",
          "shell.execute_reply.started": "2022-11-01T15:30:33.576672Z",
          "shell.execute_reply": "2022-11-01T15:41:03.627826Z"
        },
        "trusted": true,
        "id": "PRAmn2fu8JQt",
        "outputId": "5a1e4b31-b09b-48db-8aa3-a3cb371ed6b4"
      },
      "execution_count": null,
      "outputs": [
        {
          "name": "stdout",
          "text": "Epoch 1/50\n130/130 [==============================] - 104s 800ms/step - loss: 0.0943 - binary_accuracy: 0.9676 - val_loss: 0.0963 - val_binary_accuracy: 0.9655\nEpoch 2/50\n130/130 [==============================] - 103s 790ms/step - loss: 0.0942 - binary_accuracy: 0.9674 - val_loss: 0.0963 - val_binary_accuracy: 0.9655\nEpoch 3/50\n130/130 [==============================] - 102s 785ms/step - loss: 0.0977 - binary_accuracy: 0.9650 - val_loss: 0.0963 - val_binary_accuracy: 0.9655\n\nEpoch 00003: ReduceLROnPlateau reducing learning rate to 6.399999641359955e-10.\nEpoch 4/50\n130/130 [==============================] - 102s 781ms/step - loss: 0.1024 - binary_accuracy: 0.9636 - val_loss: 0.0963 - val_binary_accuracy: 0.9655\nEpoch 5/50\n130/130 [==============================] - 114s 877ms/step - loss: 0.0956 - binary_accuracy: 0.9686 - val_loss: 0.0963 - val_binary_accuracy: 0.9655\n\nEpoch 00005: ReduceLROnPlateau reducing learning rate to 1.27999988386307e-10.\nEpoch 6/50\n130/130 [==============================] - 103s 786ms/step - loss: 0.1018 - binary_accuracy: 0.9645 - val_loss: 0.0963 - val_binary_accuracy: 0.9655\n",
          "output_type": "stream"
        }
      ],
      "id": "PRAmn2fu8JQt"
    },
    {
      "cell_type": "code",
      "source": [
        "fig, ax = plt.subplots(figsize=(20,8))\n",
        "sns.lineplot(x = history.epoch, y = history.history['loss'])\n",
        "sns.lineplot(x = history.epoch, y = history.history['val_loss'])\n",
        "ax.set_title('Learning Curve (Loss)')\n",
        "ax.set_ylabel('Loss')\n",
        "ax.set_xlabel('Epoch')\n",
        "ax.set_ylim(0, 0.3)\n",
        "ax.legend(['train', 'val'], loc='best')\n",
        "plt.show()"
      ],
      "metadata": {
        "execution": {
          "iopub.status.busy": "2022-11-01T15:41:03.630351Z",
          "iopub.execute_input": "2022-11-01T15:41:03.630730Z",
          "iopub.status.idle": "2022-11-01T15:41:03.883106Z",
          "shell.execute_reply.started": "2022-11-01T15:41:03.630693Z",
          "shell.execute_reply": "2022-11-01T15:41:03.882204Z"
        },
        "trusted": true,
        "id": "RWVns5Ow8JQu",
        "outputId": "21a10978-8897-4ab2-980c-f08f25659558"
      },
      "execution_count": null,
      "outputs": [
        {
          "output_type": "display_data",
          "data": {
            "text/plain": "<Figure size 1440x576 with 1 Axes>",
            "image/png": "[encoded data removed]"
          },
          "metadata": {
            "needs_background": "light"
          }
        }
      ],
      "id": "RWVns5Ow8JQu"
    },
    {
      "cell_type": "code",
      "source": [
        "fig, ax = plt.subplots(figsize=(20,8))\n",
        "sns.lineplot(x = history.epoch, y = history.history['binary_accuracy'])\n",
        "sns.lineplot(x = history.epoch, y = history.history['val_binary_accuracy'])\n",
        "ax.set_title('Learning Curve (Accuracy)')\n",
        "ax.set_ylabel('Accuracy')\n",
        "ax.set_xlabel('Epoch')\n",
        "ax.set_ylim(0.90, 1.0)\n",
        "ax.legend(['train', 'val'], loc='best')\n",
        "plt.show()"
      ],
      "metadata": {
        "execution": {
          "iopub.status.busy": "2022-11-01T15:41:03.884636Z",
          "iopub.execute_input": "2022-11-01T15:41:03.885223Z",
          "iopub.status.idle": "2022-11-01T15:41:04.129441Z",
          "shell.execute_reply.started": "2022-11-01T15:41:03.885185Z",
          "shell.execute_reply": "2022-11-01T15:41:04.128519Z"
        },
        "trusted": true,
        "id": "5u1E_Xuh8JQu",
        "outputId": "8db91de4-76c9-46aa-9a97-f434d6eb6d09"
      },
      "execution_count": null,
      "outputs": [
        {
          "output_type": "display_data",
          "data": {
            "text/plain": "<Figure size 1440x576 with 1 Axes>",
            "image/png": "[encoded data removed]"
          },
          "metadata": {
            "needs_background": "light"
          }
        }
      ],
      "id": "5u1E_Xuh8JQu"
    },
    {
      "cell_type": "code",
      "source": [
        "score = model_pretrained.evaluate(ds_val, steps = len(val_df)/BATCH, verbose = 0)\n",
        "print('Val loss:', score[0])\n",
        "print('Val accuracy:', score[1])"
      ],
      "metadata": {
        "execution": {
          "iopub.status.busy": "2022-11-01T15:41:04.130825Z",
          "iopub.execute_input": "2022-11-01T15:41:04.131450Z",
          "iopub.status.idle": "2022-11-01T15:41:17.521569Z",
          "shell.execute_reply.started": "2022-11-01T15:41:04.131412Z",
          "shell.execute_reply": "2022-11-01T15:41:17.520516Z"
        },
        "trusted": true,
        "id": "kPaNF3rn8JQv",
        "outputId": "4c43b40c-8d86-4ec2-8da4-1d2ea829ad58"
      },
      "execution_count": null,
      "outputs": [
        {
          "name": "stdout",
          "text": "Val loss: 0.0962836742401123\nVal accuracy: 0.9655172228813171\n",
          "output_type": "stream"
        }
      ],
      "id": "kPaNF3rn8JQv"
    },
    {
      "cell_type": "code",
      "source": [
        "score = model_pretrained.evaluate(ds_test, steps = len(df_test), verbose = 0)\n",
        "print('Test loss:', score[0])\n",
        "print('Test accuracy:', score[1])"
      ],
      "metadata": {
        "execution": {
          "iopub.status.busy": "2022-11-01T15:41:17.523322Z",
          "iopub.execute_input": "2022-11-01T15:41:17.524018Z",
          "iopub.status.idle": "2022-11-01T15:41:35.841334Z",
          "shell.execute_reply.started": "2022-11-01T15:41:17.523979Z",
          "shell.execute_reply": "2022-11-01T15:41:35.840277Z"
        },
        "trusted": true,
        "id": "dXCLewfw8JQv",
        "outputId": "5ebe5c46-6280-4f8e-aeb3-6662c038a90a"
      },
      "execution_count": null,
      "outputs": [
        {
          "name": "stdout",
          "text": "Test loss: 0.4116835594177246\nTest accuracy: 0.8477563858032227\n",
          "output_type": "stream"
        }
      ],
      "id": "dXCLewfw8JQv"
    },
    {
      "cell_type": "markdown",
      "source": [
        "----------------------------\n",
        "## Evaluation"
      ],
      "metadata": {
        "id": "_53r5mK48JQv"
      },
      "id": "_53r5mK48JQv"
    },
    {
      "cell_type": "code",
      "source": [
        "num_label = {'Normal': 0, 'Pneumonia' : 1}\n",
        "Y_test = df_test['class'].copy().map(num_label).astype('int')"
      ],
      "metadata": {
        "execution": {
          "iopub.status.busy": "2022-11-01T15:41:35.842926Z",
          "iopub.execute_input": "2022-11-01T15:41:35.843276Z",
          "iopub.status.idle": "2022-11-01T15:41:35.849439Z",
          "shell.execute_reply.started": "2022-11-01T15:41:35.843241Z",
          "shell.execute_reply": "2022-11-01T15:41:35.848430Z"
        },
        "trusted": true,
        "id": "MTJaqYBq8JQv"
      },
      "execution_count": null,
      "outputs": [],
      "id": "MTJaqYBq8JQv"
    },
    {
      "cell_type": "code",
      "source": [
        "ds_test.reset()\n",
        "predictions = model_pretrained.predict(ds_test, steps=len(ds_test), verbose=0)\n",
        "pred_labels= np.where(predictions>0.5, 1, 0)"
      ],
      "metadata": {
        "execution": {
          "iopub.status.busy": "2022-11-01T15:41:35.851002Z",
          "iopub.execute_input": "2022-11-01T15:41:35.851642Z",
          "iopub.status.idle": "2022-11-01T15:41:54.906127Z",
          "shell.execute_reply.started": "2022-11-01T15:41:35.851584Z",
          "shell.execute_reply": "2022-11-01T15:41:54.905059Z"
        },
        "trusted": true,
        "id": "8lBw9ewM8JQw"
      },
      "execution_count": null,
      "outputs": [],
      "id": "8lBw9ewM8JQw"
    },
    {
      "cell_type": "code",
      "source": [
        "print(\"Test Accuracy: \", accuracy_score(Y_test, pred_labels))"
      ],
      "metadata": {
        "execution": {
          "iopub.status.busy": "2022-11-01T15:41:54.908023Z",
          "iopub.execute_input": "2022-11-01T15:41:54.908454Z",
          "iopub.status.idle": "2022-11-01T15:41:54.916920Z",
          "shell.execute_reply.started": "2022-11-01T15:41:54.908418Z",
          "shell.execute_reply": "2022-11-01T15:41:54.915920Z"
        },
        "trusted": true,
        "id": "cdW7u6pP8JQw",
        "outputId": "62631c3b-0a60-47ba-950d-7dcc07547b55"
      },
      "execution_count": null,
      "outputs": [
        {
          "name": "stdout",
          "text": "Test Accuracy:  0.8477564102564102\n",
          "output_type": "stream"
        }
      ],
      "id": "cdW7u6pP8JQw"
    },
    {
      "cell_type": "code",
      "source": [
        "confusion_matrix = metrics.confusion_matrix(Y_test, pred_labels)\n",
        "sns.heatmap(confusion_matrix, annot=True, fmt=\"d\")\n",
        "\n",
        "plt.xlabel(\"Predicted Label\", fontsize= 12)\n",
        "plt.ylabel(\"True Label\", fontsize= 12)\n",
        "\n",
        "plt.show()"
      ],
      "metadata": {
        "execution": {
          "iopub.status.busy": "2022-11-01T15:41:54.918207Z",
          "iopub.execute_input": "2022-11-01T15:41:54.920861Z",
          "iopub.status.idle": "2022-11-01T15:41:55.141527Z",
          "shell.execute_reply.started": "2022-11-01T15:41:54.920823Z",
          "shell.execute_reply": "2022-11-01T15:41:55.140590Z"
        },
        "trusted": true,
        "id": "o-rM9TYQ8JQw",
        "outputId": "34d803d0-1d5f-4591-d001-5ceb50e27327"
      },
      "execution_count": null,
      "outputs": [
        {
          "output_type": "display_data",
          "data": {
            "text/plain": "<Figure size 432x288 with 2 Axes>",
            "image/png": "[encoded data removed]"
          },
          "metadata": {
            "needs_background": "light"
          }
        }
      ],
      "id": "o-rM9TYQ8JQw"
    },
    {
      "cell_type": "code",
      "source": [
        "print(classification_report(Y_test, pred_labels, target_names = ['Pneumonia (Class 0)','Normal (Class 1)']))"
      ],
      "metadata": {
        "execution": {
          "iopub.status.busy": "2022-11-01T15:41:55.142935Z",
          "iopub.execute_input": "2022-11-01T15:41:55.143907Z",
          "iopub.status.idle": "2022-11-01T15:41:55.155307Z",
          "shell.execute_reply.started": "2022-11-01T15:41:55.143871Z",
          "shell.execute_reply": "2022-11-01T15:41:55.154228Z"
        },
        "trusted": true,
        "id": "UGTMA1Lj8JQw",
        "outputId": "504e2553-7a43-4c8a-a0ae-9f465596dc3b"
      },
      "execution_count": null,
      "outputs": [
        {
          "name": "stdout",
          "text": "                     precision    recall  f1-score   support\n\nPneumonia (Class 0)       0.95      0.63      0.76       234\n   Normal (Class 1)       0.81      0.98      0.89       390\n\n           accuracy                           0.85       624\n          macro avg       0.88      0.80      0.82       624\n       weighted avg       0.86      0.85      0.84       624\n\n",
          "output_type": "stream"
        }
      ],
      "id": "UGTMA1Lj8JQw"
    },
    {
      "cell_type": "markdown",
      "source": [
        "----------------------------\n",
        "## Thank You "
      ],
      "metadata": {
        "id": "9ITrI5dv8JQx"
      },
      "id": "9ITrI5dv8JQx"
    }
  ]
}