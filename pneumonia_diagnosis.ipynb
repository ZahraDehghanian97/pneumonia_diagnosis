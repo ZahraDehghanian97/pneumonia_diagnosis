{
  "cells": [
    {
      "cell_type": "markdown",
      "metadata": {
        "id": "view-in-github",
        "colab_type": "text"
      },
      "source": [
        "<a href=\"https://colab.research.google.com/github/zahraDehghanian97/pneumonia_dignosis/blob/master/pneumonia_diagnosis.ipynb\" target=\"_parent\"><img src=\"https://colab.research.google.com/assets/colab-badge.svg\" alt=\"Open In Colab\"/></a>"
      ]
    },
    {
      "cell_type": "code",
      "source": [
        "!pip install tf-explain"
      ],
      "metadata": {
        "colab": {
          "base_uri": "https://localhost:8080/"
        },
        "id": "KlBpS2sQ404X",
        "outputId": "484b4771-ded9-42da-a4f7-800d196765ef"
      },
      "execution_count": 84,
      "outputs": [
        {
          "output_type": "stream",
          "name": "stdout",
          "text": [
            "Looking in indexes: https://pypi.org/simple, https://us-python.pkg.dev/colab-wheels/public/simple/\n",
            "Requirement already satisfied: tf-explain in /usr/local/lib/python3.7/dist-packages (0.3.1)\n"
          ]
        }
      ]
    },
    {
      "cell_type": "code",
      "execution_count": 85,
      "metadata": {
        "colab": {
          "base_uri": "https://localhost:8080/",
          "height": 17
        },
        "id": "CrC_DELihIjv",
        "outputId": "678bc7e8-0989-4d20-9d4b-54bdebc4cb58"
      },
      "outputs": [
        {
          "output_type": "display_data",
          "data": {
            "text/html": [
              "        <script type=\"text/javascript\">\n",
              "        window.PlotlyConfig = {MathJaxConfig: 'local'};\n",
              "        if (window.MathJax) {MathJax.Hub.Config({SVG: {font: \"STIX-Web\"}});}\n",
              "        if (typeof require !== 'undefined') {\n",
              "        require.undef(\"plotly\");\n",
              "        requirejs.config({\n",
              "            paths: {\n",
              "                'plotly': ['https://cdn.plot.ly/plotly-2.8.3.min']\n",
              "            }\n",
              "        });\n",
              "        require(['plotly'], function(Plotly) {\n",
              "            window._Plotly = Plotly;\n",
              "        });\n",
              "        }\n",
              "        </script>\n",
              "        "
            ]
          },
          "metadata": {}
        }
      ],
      "source": [
        "import pandas as pd       \n",
        "import numpy as np\n",
        "import matplotlib.pyplot as plt\n",
        "import seaborn as sns\n",
        "import plotly.offline as py\n",
        "py.init_notebook_mode(connected=True)\n",
        "import plotly.graph_objs as go\n",
        "import plotly.tools as tls\n",
        "import plotly.figure_factory as ff\n",
        "import keras\n",
        "from keras.models import Sequential\n",
        "from keras.layers import Dense, Conv2D , MaxPool2D , Flatten , Dropout , BatchNormalization\n",
        "from keras.callbacks import ReduceLROnPlateau\n",
        "from keras.preprocessing.image import ImageDataGenerator\n",
        "from sklearn.model_selection import train_test_split\n",
        "from sklearn.metrics import classification_report,confusion_matrix\n",
        "from sklearn.model_selection import train_test_split\n",
        "from sklearn import metrics\n",
        "from sklearn.metrics import accuracy_score\n",
        "import tensorflow as tf\n",
        "from tensorflow import keras\n",
        "from tensorflow.keras import layers\n",
        "from tensorflow.keras import callbacks\n",
        "from tensorflow.keras.models import Model\n",
        "from tensorflow.keras.preprocessing.image import ImageDataGenerator\n",
        "import cv2\n",
        "import warnings\n",
        "warnings.filterwarnings('ignore')\n",
        "import random\n",
        "import os\n",
        "import glob\n",
        "from numpy.random import seed\n",
        "from tensorflow.random import set_seed\n",
        "\n",
        "seed(42)\n",
        "random.seed(42)\n",
        "os.environ['PYTHONHASHSEED'] = str(42)\n",
        "os.environ['TF_DETERMINISTIC_OPS'] = '1'\n",
        "set_seed(42)"
      ]
    },
    {
      "cell_type": "markdown",
      "metadata": {
        "id": "JEb9FWY8h35t"
      },
      "source": [
        "#Download data"
      ]
    },
    {
      "cell_type": "code",
      "source": [
        " ! pip install -q kaggle"
      ],
      "metadata": {
        "id": "QTCCWe-sgdGI"
      },
      "execution_count": 86,
      "outputs": []
    },
    {
      "cell_type": "code",
      "execution_count": 87,
      "metadata": {
        "colab": {
          "base_uri": "https://localhost:8080/",
          "height": 38
        },
        "id": "q2oALHINaT-0",
        "outputId": "3ee3ae80-8f16-4150-bd66-b00b4052399f"
      },
      "outputs": [
        {
          "output_type": "display_data",
          "data": {
            "text/plain": [
              "<IPython.core.display.HTML object>"
            ],
            "text/html": [
              "\n",
              "     <input type=\"file\" id=\"files-98679181-f25b-4f8e-b55c-bd5aab7da29c\" name=\"files[]\" multiple disabled\n",
              "        style=\"border:none\" />\n",
              "     <output id=\"result-98679181-f25b-4f8e-b55c-bd5aab7da29c\">\n",
              "      Upload widget is only available when the cell has been executed in the\n",
              "      current browser session. Please rerun this cell to enable.\n",
              "      </output>\n",
              "      <script>// Copyright 2017 Google LLC\n",
              "//\n",
              "// Licensed under the Apache License, Version 2.0 (the \"License\");\n",
              "// you may not use this file except in compliance with the License.\n",
              "// You may obtain a copy of the License at\n",
              "//\n",
              "//      http://www.apache.org/licenses/LICENSE-2.0\n",
              "//\n",
              "// Unless required by applicable law or agreed to in writing, software\n",
              "// distributed under the License is distributed on an \"AS IS\" BASIS,\n",
              "// WITHOUT WARRANTIES OR CONDITIONS OF ANY KIND, either express or implied.\n",
              "// See the License for the specific language governing permissions and\n",
              "// limitations under the License.\n",
              "\n",
              "/**\n",
              " * @fileoverview Helpers for google.colab Python module.\n",
              " */\n",
              "(function(scope) {\n",
              "function span(text, styleAttributes = {}) {\n",
              "  const element = document.createElement('span');\n",
              "  element.textContent = text;\n",
              "  for (const key of Object.keys(styleAttributes)) {\n",
              "    element.style[key] = styleAttributes[key];\n",
              "  }\n",
              "  return element;\n",
              "}\n",
              "\n",
              "// Max number of bytes which will be uploaded at a time.\n",
              "const MAX_PAYLOAD_SIZE = 100 * 1024;\n",
              "\n",
              "function _uploadFiles(inputId, outputId) {\n",
              "  const steps = uploadFilesStep(inputId, outputId);\n",
              "  const outputElement = document.getElementById(outputId);\n",
              "  // Cache steps on the outputElement to make it available for the next call\n",
              "  // to uploadFilesContinue from Python.\n",
              "  outputElement.steps = steps;\n",
              "\n",
              "  return _uploadFilesContinue(outputId);\n",
              "}\n",
              "\n",
              "// This is roughly an async generator (not supported in the browser yet),\n",
              "// where there are multiple asynchronous steps and the Python side is going\n",
              "// to poll for completion of each step.\n",
              "// This uses a Promise to block the python side on completion of each step,\n",
              "// then passes the result of the previous step as the input to the next step.\n",
              "function _uploadFilesContinue(outputId) {\n",
              "  const outputElement = document.getElementById(outputId);\n",
              "  const steps = outputElement.steps;\n",
              "\n",
              "  const next = steps.next(outputElement.lastPromiseValue);\n",
              "  return Promise.resolve(next.value.promise).then((value) => {\n",
              "    // Cache the last promise value to make it available to the next\n",
              "    // step of the generator.\n",
              "    outputElement.lastPromiseValue = value;\n",
              "    return next.value.response;\n",
              "  });\n",
              "}\n",
              "\n",
              "/**\n",
              " * Generator function which is called between each async step of the upload\n",
              " * process.\n",
              " * @param {string} inputId Element ID of the input file picker element.\n",
              " * @param {string} outputId Element ID of the output display.\n",
              " * @return {!Iterable<!Object>} Iterable of next steps.\n",
              " */\n",
              "function* uploadFilesStep(inputId, outputId) {\n",
              "  const inputElement = document.getElementById(inputId);\n",
              "  inputElement.disabled = false;\n",
              "\n",
              "  const outputElement = document.getElementById(outputId);\n",
              "  outputElement.innerHTML = '';\n",
              "\n",
              "  const pickedPromise = new Promise((resolve) => {\n",
              "    inputElement.addEventListener('change', (e) => {\n",
              "      resolve(e.target.files);\n",
              "    });\n",
              "  });\n",
              "\n",
              "  const cancel = document.createElement('button');\n",
              "  inputElement.parentElement.appendChild(cancel);\n",
              "  cancel.textContent = 'Cancel upload';\n",
              "  const cancelPromise = new Promise((resolve) => {\n",
              "    cancel.onclick = () => {\n",
              "      resolve(null);\n",
              "    };\n",
              "  });\n",
              "\n",
              "  // Wait for the user to pick the files.\n",
              "  const files = yield {\n",
              "    promise: Promise.race([pickedPromise, cancelPromise]),\n",
              "    response: {\n",
              "      action: 'starting',\n",
              "    }\n",
              "  };\n",
              "\n",
              "  cancel.remove();\n",
              "\n",
              "  // Disable the input element since further picks are not allowed.\n",
              "  inputElement.disabled = true;\n",
              "\n",
              "  if (!files) {\n",
              "    return {\n",
              "      response: {\n",
              "        action: 'complete',\n",
              "      }\n",
              "    };\n",
              "  }\n",
              "\n",
              "  for (const file of files) {\n",
              "    const li = document.createElement('li');\n",
              "    li.append(span(file.name, {fontWeight: 'bold'}));\n",
              "    li.append(span(\n",
              "        `(${file.type || 'n/a'}) - ${file.size} bytes, ` +\n",
              "        `last modified: ${\n",
              "            file.lastModifiedDate ? file.lastModifiedDate.toLocaleDateString() :\n",
              "                                    'n/a'} - `));\n",
              "    const percent = span('0% done');\n",
              "    li.appendChild(percent);\n",
              "\n",
              "    outputElement.appendChild(li);\n",
              "\n",
              "    const fileDataPromise = new Promise((resolve) => {\n",
              "      const reader = new FileReader();\n",
              "      reader.onload = (e) => {\n",
              "        resolve(e.target.result);\n",
              "      };\n",
              "      reader.readAsArrayBuffer(file);\n",
              "    });\n",
              "    // Wait for the data to be ready.\n",
              "    let fileData = yield {\n",
              "      promise: fileDataPromise,\n",
              "      response: {\n",
              "        action: 'continue',\n",
              "      }\n",
              "    };\n",
              "\n",
              "    // Use a chunked sending to avoid message size limits. See b/62115660.\n",
              "    let position = 0;\n",
              "    do {\n",
              "      const length = Math.min(fileData.byteLength - position, MAX_PAYLOAD_SIZE);\n",
              "      const chunk = new Uint8Array(fileData, position, length);\n",
              "      position += length;\n",
              "\n",
              "      const base64 = btoa(String.fromCharCode.apply(null, chunk));\n",
              "      yield {\n",
              "        response: {\n",
              "          action: 'append',\n",
              "          file: file.name,\n",
              "          data: base64,\n",
              "        },\n",
              "      };\n",
              "\n",
              "      let percentDone = fileData.byteLength === 0 ?\n",
              "          100 :\n",
              "          Math.round((position / fileData.byteLength) * 100);\n",
              "      percent.textContent = `${percentDone}% done`;\n",
              "\n",
              "    } while (position < fileData.byteLength);\n",
              "  }\n",
              "\n",
              "  // All done.\n",
              "  yield {\n",
              "    response: {\n",
              "      action: 'complete',\n",
              "    }\n",
              "  };\n",
              "}\n",
              "\n",
              "scope.google = scope.google || {};\n",
              "scope.google.colab = scope.google.colab || {};\n",
              "scope.google.colab._files = {\n",
              "  _uploadFiles,\n",
              "  _uploadFilesContinue,\n",
              "};\n",
              "})(self);\n",
              "</script> "
            ]
          },
          "metadata": {}
        }
      ],
      "source": [
        "from google.colab import files\n",
        "uploaded = files.upload()"
      ]
    },
    {
      "cell_type": "code",
      "execution_count": 88,
      "metadata": {
        "colab": {
          "base_uri": "https://localhost:8080/"
        },
        "id": "z4IeRUojai-g",
        "outputId": "b896f615-ae19-4d8e-ed53-431bfe43f035"
      },
      "outputs": [
        {
          "output_type": "stream",
          "name": "stdout",
          "text": [
            "mkdir: cannot create directory ‘/root/.kaggle’: File exists\n"
          ]
        }
      ],
      "source": [
        "!mkdir ~/.kaggle\n",
        "!cp kaggle.json ~/.kaggle/\n",
        "!chmod 600 /root/.kaggle/kaggle.json"
      ]
    },
    {
      "cell_type": "code",
      "execution_count": 89,
      "metadata": {
        "colab": {
          "base_uri": "https://localhost:8080/"
        },
        "id": "eenS33yxakvk",
        "outputId": "65684362-9fbd-428f-b9f6-ebb1611bb558"
      },
      "outputs": [
        {
          "output_type": "stream",
          "name": "stdout",
          "text": [
            "chest-xray-pneumonia.zip: Skipping, found more recently modified local copy (use --force to force download)\n"
          ]
        }
      ],
      "source": [
        "# download dataset <owner>/<dataset-name>\n",
        "!kaggle datasets download paultimothymooney/chest-xray-pneumonia"
      ]
    },
    {
      "cell_type": "code",
      "execution_count": 90,
      "metadata": {
        "colab": {
          "base_uri": "https://localhost:8080/"
        },
        "id": "fJjiu0rPaymV",
        "outputId": "b0c7b83b-72dc-4008-aafd-e72a5a414a2d"
      },
      "outputs": [
        {
          "output_type": "stream",
          "name": "stdout",
          "text": [
            "Archive:  /content/chest-xray-pneumonia.zip\n",
            "replace chest_xray/__MACOSX/._chest_xray? [y]es, [n]o, [A]ll, [N]one, [r]ename: n\n",
            "replace chest_xray/__MACOSX/chest_xray/._.DS_Store? [y]es, [n]o, [A]ll, [N]one, [r]ename: n\n",
            "replace chest_xray/__MACOSX/chest_xray/._test? [y]es, [n]o, [A]ll, [N]one, [r]ename: N\n",
            "N\n"
          ]
        }
      ],
      "source": [
        "!unzip /content/chest-xray-pneumonia.zip"
      ]
    },
    {
      "cell_type": "code",
      "execution_count": null,
      "metadata": {
        "id": "XaiLmci7QQmc"
      },
      "outputs": [],
      "source": [
        "IMG_SIZE = 100\n",
        "BATCH = 32\n",
        "SEED = 42"
      ]
    },
    {
      "cell_type": "markdown",
      "metadata": {
        "id": "dzCKNs8aiCpG"
      },
      "source": [
        "#Reading data"
      ]
    },
    {
      "cell_type": "code",
      "execution_count": null,
      "metadata": {
        "id": "3feRLjQ6RTV9"
      },
      "outputs": [],
      "source": [
        "main_path = \"/content/chest_xray/chest_xray\"\n",
        "train_path = os.path.join(main_path,\"train\")\n",
        "test_path=os.path.join(main_path,\"test\")\n",
        "val_path=os.path.join(main_path,\"val\")\n",
        "\n",
        "train_normal = glob.glob(train_path+\"/NORMAL/*.jpeg\")\n",
        "train_pneumonia = glob.glob(train_path+\"/PNEUMONIA/*.jpeg\")\n",
        "test_normal = glob.glob(test_path+\"/NORMAL/*.jpeg\")\n",
        "test_pneumonia = glob.glob(test_path+\"/PNEUMONIA/*.jpeg\")\n",
        "val_normal = glob.glob(val_path+\"/NORMAL/*.jpeg\")\n",
        "val_pneumonia = glob.glob(val_path+\"/PNEUMONIA/*.jpeg\")"
      ]
    },
    {
      "cell_type": "code",
      "execution_count": null,
      "metadata": {
        "id": "0w9IG_ivRWhu"
      },
      "outputs": [],
      "source": [
        "train_list = [x for x in train_normal]\n",
        "train_list.extend([x for x in train_pneumonia])\n",
        "df_train = pd.DataFrame(np.concatenate([['Normal']*len(train_normal) , ['Pneumonia']*len(train_pneumonia)]), columns = ['class'])\n",
        "df_train['image'] = [x for x in train_list]\n",
        "\n",
        "test_list = [x for x in test_normal]\n",
        "test_list.extend([x for x in test_pneumonia])\n",
        "df_test = pd.DataFrame(np.concatenate([['Normal']*len(test_normal) , ['Pneumonia']*len(test_pneumonia)]), columns = ['class'])\n",
        "df_test['image'] = [x for x in test_list]\n",
        "\n",
        "val_list = [x for x in val_normal]\n",
        "val_list.extend([x for x in val_pneumonia])\n",
        "df_val = pd.DataFrame(np.concatenate([['Normal']*len(val_normal) , ['Pneumonia']*len(val_pneumonia)]), columns = ['class'])\n",
        "df_val['image'] = [x for x in val_list]\n",
        "\n"
      ]
    },
    {
      "cell_type": "markdown",
      "metadata": {
        "id": "yO3pu8DkiTC-"
      },
      "source": [
        "#Previewing the images"
      ]
    },
    {
      "cell_type": "code",
      "execution_count": null,
      "metadata": {
        "id": "LoHjXTMPRy9e"
      },
      "outputs": [],
      "source": [
        "print('Train Set - Normal')\n",
        "\n",
        "plt.figure(figsize=(12,12))\n",
        "\n",
        "for i in range(0, 3):\n",
        "    plt.subplot(3,4,i + 1)\n",
        "    img = cv2.imread(train_normal[i])\n",
        "    img = cv2.resize(img, (244,244))\n",
        "    plt.imshow(img)\n",
        "    plt.axis(\"off\")\n",
        "\n",
        "plt.tight_layout()\n",
        "\n",
        "plt.show()\n",
        "\n",
        "\n",
        "print('Train Set - Pneumonia')\n",
        "\n",
        "plt.figure(figsize=(12,12))\n",
        "\n",
        "for i in range(0, 3):\n",
        "    plt.subplot(3,4,i + 1)\n",
        "    img = cv2.imread(train_pneumonia[i])\n",
        "    img = cv2.resize(img, (244,244))\n",
        "    plt.imshow(img)\n",
        "    plt.axis(\"off\")\n",
        "\n",
        "plt.tight_layout()\n",
        "\n",
        "plt.show()"
      ]
    },
    {
      "cell_type": "markdown",
      "metadata": {
        "id": "JKgvzEaLiZ-v"
      },
      "source": [
        "sampling to speed up"
      ]
    },
    {
      "cell_type": "code",
      "execution_count": null,
      "metadata": {
        "id": "Fj3u8dE0RzqH"
      },
      "outputs": [],
      "source": [
        "# df = df_train.sample(frac=0.05)\n",
        "\n",
        "# df_train, df_val = train_test_split(df, test_size = 0.20, random_state = SEED, stratify = df['class'])\n",
        "\n"
      ]
    },
    {
      "cell_type": "markdown",
      "metadata": {
        "id": "ZM94fuQOinGC"
      },
      "source": [
        "#Data Augmentation"
      ]
    },
    {
      "cell_type": "code",
      "execution_count": null,
      "metadata": {
        "id": "BZHOJBEVR2PQ"
      },
      "outputs": [],
      "source": [
        "train_datagen = ImageDataGenerator(rescale=1/255.,\n",
        "                                  zoom_range = 0.1,\n",
        "                                  width_shift_range = 0.1,\n",
        "                                  height_shift_range = 0.1)\n",
        "\n",
        "val_datagen = ImageDataGenerator(rescale=1/255.)\n",
        "\n",
        "ds_train = train_datagen.flow_from_dataframe(df_train,\n",
        "                                             x_col = 'image',\n",
        "                                             y_col = 'class',\n",
        "                                             target_size = (IMG_SIZE, IMG_SIZE),\n",
        "                                             class_mode = 'binary',\n",
        "                                             batch_size = BATCH,\n",
        "                                             seed = SEED)\n",
        "\n",
        "ds_val = val_datagen.flow_from_dataframe(df_val,\n",
        "                                            x_col = 'image',\n",
        "                                            y_col = 'class',\n",
        "                                            target_size = (IMG_SIZE, IMG_SIZE),\n",
        "                                            class_mode = 'binary',\n",
        "                                            batch_size = BATCH,\n",
        "                                            seed = SEED)\n",
        "\n",
        "ds_test = val_datagen.flow_from_dataframe(df_test,\n",
        "                                            x_col = 'image',\n",
        "                                            y_col = 'class',\n",
        "                                            target_size = (IMG_SIZE, IMG_SIZE),\n",
        "                                            class_mode = 'binary',\n",
        "                                            batch_size = 1,\n",
        "                                            shuffle = False)\n",
        "\n"
      ]
    },
    {
      "cell_type": "code",
      "source": [
        "val_df_1 = val_datagen.flow_from_dataframe(df_val,\n",
        "                                            x_col = 'image',\n",
        "                                            y_col = 'class',\n",
        "                                            target_size = (IMG_SIZE, IMG_SIZE),\n",
        "                                            class_mode = 'binary',\n",
        "                                            batch_size = 1,\n",
        "                                            seed = SEED)"
      ],
      "metadata": {
        "id": "9Jfybqcvoh-p"
      },
      "execution_count": null,
      "outputs": []
    },
    {
      "cell_type": "code",
      "source": [
        "val = []\n",
        "for i in range(len(val_df_1.labels)):\n",
        "  val.append(val_df_1.next()[0][0])\n",
        "val"
      ],
      "metadata": {
        "id": "nqQ3FnzCokI7"
      },
      "execution_count": null,
      "outputs": []
    },
    {
      "cell_type": "markdown",
      "metadata": {
        "id": "J5AhghM3iudL"
      },
      "source": [
        "#Callbacks"
      ]
    },
    {
      "cell_type": "code",
      "execution_count": null,
      "metadata": {
        "id": "-gf3bnWYR5_W"
      },
      "outputs": [],
      "source": [
        "from tf_explain.callbacks.grad_cam import GradCAMCallback\n",
        "\n",
        "early_stopping = callbacks.EarlyStopping(\n",
        "    monitor='val_loss',\n",
        "    patience=5,\n",
        "    min_delta=1e-7,\n",
        "    restore_best_weights=True,\n",
        ")\n",
        "\n",
        "plateau = callbacks.ReduceLROnPlateau(\n",
        "    monitor='val_loss',\n",
        "    factor = 0.2,                                     \n",
        "    patience = 2,                                   \n",
        "    min_delt = 1e-7,                                \n",
        "    cooldown = 0,                               \n",
        "    verbose = 1\n",
        ") \n",
        "gradcam =     GradCAMCallback(\n",
        "        validation_data=(val, val_df_1.labels),\n",
        "        layer_name=\"input_1\",\n",
        "        class_index= 0,\n",
        "        output_dir='content',\n",
        "    )\n"
      ]
    },
    {
      "cell_type": "markdown",
      "metadata": {
        "id": "h904VSnFi6Jc"
      },
      "source": [
        "#Resnet"
      ]
    },
    {
      "cell_type": "code",
      "execution_count": null,
      "metadata": {
        "id": "p3zMtG6hi90D"
      },
      "outputs": [],
      "source": [
        "base_model = tf.keras.applications.ResNet152V2(\n",
        "    weights='imagenet',\n",
        "    input_shape=(IMG_SIZE, IMG_SIZE, 3),\n",
        "    include_top=False)\n",
        "\n",
        "base_model.trainable = False\n",
        "\n",
        "def get_pretrained():\n",
        "    \n",
        "    #Input shape = [width, height, color channels]\n",
        "    inputs = layers.Input(shape=(IMG_SIZE, IMG_SIZE, 3))\n",
        "    \n",
        "    x = base_model(inputs)\n",
        "\n",
        "    # Head\n",
        "    x = layers.GlobalAveragePooling2D()(x)\n",
        "    x = layers.Dense(128, activation='relu')(x)\n",
        "    x = layers.Dropout(0.1)(x)\n",
        "    \n",
        "    #Final Layer (Output)\n",
        "    output = layers.Dense(1, activation='sigmoid')(x)\n",
        "    \n",
        "    model = keras.Model(inputs=[inputs], outputs=output)\n",
        "    \n",
        "    return model"
      ]
    },
    {
      "cell_type": "code",
      "execution_count": null,
      "metadata": {
        "id": "mA3Y1nj9jGxI"
      },
      "outputs": [],
      "source": [
        "keras.backend.clear_session()\n",
        "\n",
        "model_pretrained = get_pretrained()\n",
        "model_pretrained.compile(loss='binary_crossentropy'\n",
        "              , optimizer = keras.optimizers.Adam(learning_rate=5e-5), metrics='binary_accuracy')\n",
        "\n",
        "model_pretrained.summary()"
      ]
    },
    {
      "cell_type": "code",
      "execution_count": 102,
      "metadata": {
        "id": "olJT70bOjHyY",
        "colab": {
          "base_uri": "https://localhost:8080/"
        },
        "outputId": "49c55101-11df-4bc5-96d9-bfacb9d9ad3a"
      },
      "outputs": [
        {
          "output_type": "stream",
          "name": "stdout",
          "text": [
            "Epoch 1/50\n",
            "7/6 [================================] - ETA: 0s - loss: 0.8160 - binary_accuracy: 0.6250"
          ]
        },
        {
          "output_type": "stream",
          "name": "stderr",
          "text": [
            "WARNING:tensorflow:Your input ran out of data; interrupting training. Make sure that your dataset or generator can generate at least `steps_per_epoch * epochs` batches (in this case, 1.65625 batches). You may need to use the repeat() function when building your dataset.\n"
          ]
        },
        {
          "output_type": "stream",
          "name": "stdout",
          "text": [
            "\b\b\b\b\b\b\b\b\b\b\b\b\b\b\b\b\b\b\b\b\b\b\b\b\b\b\b\b\b\b\b\b\b\b\b\b\b\b\b\b\b\b\b\b\b\b\b\b\b\b\b\b\b\b\b\b\b\b\b\b\b\b\b\b\b\b\b\b\b\b\b\b\b\b\b\b\b\b\b\b\b\b\b\b\b\b\b\b\b\r6/6 [==============================] - 65s 1s/step - loss: 0.8160 - binary_accuracy: 0.6250 - val_loss: 0.7900 - val_binary_accuracy: 0.6250 - lr: 5.0000e-05\n",
            "Epoch 2/50\n",
            "7/6 [================================] - ETA: 0s - loss: 0.5747 - binary_accuracy: 0.7411"
          ]
        },
        {
          "output_type": "stream",
          "name": "stderr",
          "text": [
            "WARNING:tensorflow:Early stopping conditioned on metric `val_loss` which is not available. Available metrics are: loss,binary_accuracy\n",
            "WARNING:tensorflow:Learning rate reduction is conditioned on metric `val_loss` which is not available. Available metrics are: loss,binary_accuracy,lr\n"
          ]
        },
        {
          "output_type": "stream",
          "name": "stdout",
          "text": [
            "\b\b\b\b\b\b\b\b\b\b\b\b\b\b\b\b\b\b\b\b\b\b\b\b\b\b\b\b\b\b\b\b\b\b\b\b\b\b\b\b\b\b\b\b\b\b\b\b\b\b\b\b\b\b\b\b\b\b\b\b\b\b\b\b\b\b\b\b\b\b\b\b\b\b\b\b\b\b\b\b\b\b\b\b\b\b\b\b\b\r6/6 [==============================] - 3s 495ms/step - loss: 0.5747 - binary_accuracy: 0.7411 - lr: 5.0000e-05\n",
            "Epoch 3/50\n",
            "7/6 [================================] - ETA: 0s - loss: 0.5109 - binary_accuracy: 0.7321"
          ]
        },
        {
          "output_type": "stream",
          "name": "stderr",
          "text": [
            "WARNING:tensorflow:Early stopping conditioned on metric `val_loss` which is not available. Available metrics are: loss,binary_accuracy\n",
            "WARNING:tensorflow:Learning rate reduction is conditioned on metric `val_loss` which is not available. Available metrics are: loss,binary_accuracy,lr\n"
          ]
        },
        {
          "output_type": "stream",
          "name": "stdout",
          "text": [
            "\b\b\b\b\b\b\b\b\b\b\b\b\b\b\b\b\b\b\b\b\b\b\b\b\b\b\b\b\b\b\b\b\b\b\b\b\b\b\b\b\b\b\b\b\b\b\b\b\b\b\b\b\b\b\b\b\b\b\b\b\b\b\b\b\b\b\b\b\b\b\b\b\b\b\b\b\b\b\b\b\b\b\b\b\b\b\b\b\b\r6/6 [==============================] - 3s 505ms/step - loss: 0.5109 - binary_accuracy: 0.7321 - lr: 5.0000e-05\n",
            "Epoch 4/50\n",
            "7/6 [================================] - ETA: 0s - loss: 0.4200 - binary_accuracy: 0.8214"
          ]
        },
        {
          "output_type": "stream",
          "name": "stderr",
          "text": [
            "WARNING:tensorflow:Early stopping conditioned on metric `val_loss` which is not available. Available metrics are: loss,binary_accuracy\n",
            "WARNING:tensorflow:Learning rate reduction is conditioned on metric `val_loss` which is not available. Available metrics are: loss,binary_accuracy,lr\n"
          ]
        },
        {
          "output_type": "stream",
          "name": "stdout",
          "text": [
            "\b\b\b\b\b\b\b\b\b\b\b\b\b\b\b\b\b\b\b\b\b\b\b\b\b\b\b\b\b\b\b\b\b\b\b\b\b\b\b\b\b\b\b\b\b\b\b\b\b\b\b\b\b\b\b\b\b\b\b\b\b\b\b\b\b\b\b\b\b\b\b\b\b\b\b\b\b\b\b\b\b\b\b\b\b\b\b\b\b\r6/6 [==============================] - 3s 460ms/step - loss: 0.4200 - binary_accuracy: 0.8214 - lr: 5.0000e-05\n",
            "Epoch 5/50\n",
            "7/6 [================================] - ETA: 0s - loss: 0.4025 - binary_accuracy: 0.8170"
          ]
        },
        {
          "output_type": "stream",
          "name": "stderr",
          "text": [
            "WARNING:tensorflow:Early stopping conditioned on metric `val_loss` which is not available. Available metrics are: loss,binary_accuracy\n",
            "WARNING:tensorflow:Learning rate reduction is conditioned on metric `val_loss` which is not available. Available metrics are: loss,binary_accuracy,lr\n"
          ]
        },
        {
          "output_type": "stream",
          "name": "stdout",
          "text": [
            "\b\b\b\b\b\b\b\b\b\b\b\b\b\b\b\b\b\b\b\b\b\b\b\b\b\b\b\b\b\b\b\b\b\b\b\b\b\b\b\b\b\b\b\b\b\b\b\b\b\b\b\b\b\b\b\b\b\b\b\b\b\b\b\b\b\b\b\b\b\b\b\b\b\b\b\b\b\b\b\b\b\b\b\b\b\b\b\b\b\r6/6 [==============================] - 3s 488ms/step - loss: 0.4025 - binary_accuracy: 0.8170 - lr: 5.0000e-05\n",
            "Epoch 6/50\n",
            "7/6 [================================] - ETA: 0s - loss: 0.3976 - binary_accuracy: 0.8259"
          ]
        },
        {
          "output_type": "stream",
          "name": "stderr",
          "text": [
            "WARNING:tensorflow:Early stopping conditioned on metric `val_loss` which is not available. Available metrics are: loss,binary_accuracy\n",
            "WARNING:tensorflow:Learning rate reduction is conditioned on metric `val_loss` which is not available. Available metrics are: loss,binary_accuracy,lr\n"
          ]
        },
        {
          "output_type": "stream",
          "name": "stdout",
          "text": [
            "\b\b\b\b\b\b\b\b\b\b\b\b\b\b\b\b\b\b\b\b\b\b\b\b\b\b\b\b\b\b\b\b\b\b\b\b\b\b\b\b\b\b\b\b\b\b\b\b\b\b\b\b\b\b\b\b\b\b\b\b\b\b\b\b\b\b\b\b\b\b\b\b\b\b\b\b\b\b\b\b\b\b\b\b\b\b\b\b\b\r6/6 [==============================] - 3s 490ms/step - loss: 0.3976 - binary_accuracy: 0.8259 - lr: 5.0000e-05\n",
            "Epoch 7/50\n",
            "7/6 [================================] - ETA: 0s - loss: 0.3332 - binary_accuracy: 0.8527"
          ]
        },
        {
          "output_type": "stream",
          "name": "stderr",
          "text": [
            "WARNING:tensorflow:Early stopping conditioned on metric `val_loss` which is not available. Available metrics are: loss,binary_accuracy\n",
            "WARNING:tensorflow:Learning rate reduction is conditioned on metric `val_loss` which is not available. Available metrics are: loss,binary_accuracy,lr\n"
          ]
        },
        {
          "output_type": "stream",
          "name": "stdout",
          "text": [
            "\b\b\b\b\b\b\b\b\b\b\b\b\b\b\b\b\b\b\b\b\b\b\b\b\b\b\b\b\b\b\b\b\b\b\b\b\b\b\b\b\b\b\b\b\b\b\b\b\b\b\b\b\b\b\b\b\b\b\b\b\b\b\b\b\b\b\b\b\b\b\b\b\b\b\b\b\b\b\b\b\b\b\b\b\b\b\b\b\b\r6/6 [==============================] - 3s 473ms/step - loss: 0.3332 - binary_accuracy: 0.8527 - lr: 5.0000e-05\n",
            "Epoch 8/50\n",
            "7/6 [================================] - ETA: 0s - loss: 0.3918 - binary_accuracy: 0.8214"
          ]
        },
        {
          "output_type": "stream",
          "name": "stderr",
          "text": [
            "WARNING:tensorflow:Early stopping conditioned on metric `val_loss` which is not available. Available metrics are: loss,binary_accuracy\n",
            "WARNING:tensorflow:Learning rate reduction is conditioned on metric `val_loss` which is not available. Available metrics are: loss,binary_accuracy,lr\n"
          ]
        },
        {
          "output_type": "stream",
          "name": "stdout",
          "text": [
            "\b\b\b\b\b\b\b\b\b\b\b\b\b\b\b\b\b\b\b\b\b\b\b\b\b\b\b\b\b\b\b\b\b\b\b\b\b\b\b\b\b\b\b\b\b\b\b\b\b\b\b\b\b\b\b\b\b\b\b\b\b\b\b\b\b\b\b\b\b\b\b\b\b\b\b\b\b\b\b\b\b\b\b\b\b\b\b\b\b\r6/6 [==============================] - 3s 516ms/step - loss: 0.3918 - binary_accuracy: 0.8214 - lr: 5.0000e-05\n",
            "Epoch 9/50\n",
            "7/6 [================================] - ETA: 0s - loss: 0.2910 - binary_accuracy: 0.8839"
          ]
        },
        {
          "output_type": "stream",
          "name": "stderr",
          "text": [
            "WARNING:tensorflow:Early stopping conditioned on metric `val_loss` which is not available. Available metrics are: loss,binary_accuracy\n",
            "WARNING:tensorflow:Learning rate reduction is conditioned on metric `val_loss` which is not available. Available metrics are: loss,binary_accuracy,lr\n"
          ]
        },
        {
          "output_type": "stream",
          "name": "stdout",
          "text": [
            "\b\b\b\b\b\b\b\b\b\b\b\b\b\b\b\b\b\b\b\b\b\b\b\b\b\b\b\b\b\b\b\b\b\b\b\b\b\b\b\b\b\b\b\b\b\b\b\b\b\b\b\b\b\b\b\b\b\b\b\b\b\b\b\b\b\b\b\b\b\b\b\b\b\b\b\b\b\b\b\b\b\b\b\b\b\b\b\b\b\r6/6 [==============================] - 3s 492ms/step - loss: 0.2910 - binary_accuracy: 0.8839 - lr: 5.0000e-05\n",
            "Epoch 10/50\n",
            "7/6 [================================] - ETA: 0s - loss: 0.2810 - binary_accuracy: 0.8795"
          ]
        },
        {
          "output_type": "stream",
          "name": "stderr",
          "text": [
            "WARNING:tensorflow:Early stopping conditioned on metric `val_loss` which is not available. Available metrics are: loss,binary_accuracy\n",
            "WARNING:tensorflow:Learning rate reduction is conditioned on metric `val_loss` which is not available. Available metrics are: loss,binary_accuracy,lr\n"
          ]
        },
        {
          "output_type": "stream",
          "name": "stdout",
          "text": [
            "\b\b\b\b\b\b\b\b\b\b\b\b\b\b\b\b\b\b\b\b\b\b\b\b\b\b\b\b\b\b\b\b\b\b\b\b\b\b\b\b\b\b\b\b\b\b\b\b\b\b\b\b\b\b\b\b\b\b\b\b\b\b\b\b\b\b\b\b\b\b\b\b\b\b\b\b\b\b\b\b\b\b\b\b\b\b\b\b\b\r6/6 [==============================] - 3s 475ms/step - loss: 0.2810 - binary_accuracy: 0.8795 - lr: 5.0000e-05\n",
            "Epoch 11/50\n",
            "7/6 [================================] - ETA: 0s - loss: 0.2560 - binary_accuracy: 0.8884"
          ]
        },
        {
          "output_type": "stream",
          "name": "stderr",
          "text": [
            "WARNING:tensorflow:Early stopping conditioned on metric `val_loss` which is not available. Available metrics are: loss,binary_accuracy\n",
            "WARNING:tensorflow:Learning rate reduction is conditioned on metric `val_loss` which is not available. Available metrics are: loss,binary_accuracy,lr\n"
          ]
        },
        {
          "output_type": "stream",
          "name": "stdout",
          "text": [
            "\b\b\b\b\b\b\b\b\b\b\b\b\b\b\b\b\b\b\b\b\b\b\b\b\b\b\b\b\b\b\b\b\b\b\b\b\b\b\b\b\b\b\b\b\b\b\b\b\b\b\b\b\b\b\b\b\b\b\b\b\b\b\b\b\b\b\b\b\b\b\b\b\b\b\b\b\b\b\b\b\b\b\b\b\b\b\b\b\b\r6/6 [==============================] - 3s 478ms/step - loss: 0.2560 - binary_accuracy: 0.8884 - lr: 5.0000e-05\n",
            "Epoch 12/50\n",
            "7/6 [================================] - ETA: 0s - loss: 0.3625 - binary_accuracy: 0.8348"
          ]
        },
        {
          "output_type": "stream",
          "name": "stderr",
          "text": [
            "WARNING:tensorflow:Early stopping conditioned on metric `val_loss` which is not available. Available metrics are: loss,binary_accuracy\n",
            "WARNING:tensorflow:Learning rate reduction is conditioned on metric `val_loss` which is not available. Available metrics are: loss,binary_accuracy,lr\n"
          ]
        },
        {
          "output_type": "stream",
          "name": "stdout",
          "text": [
            "\b\b\b\b\b\b\b\b\b\b\b\b\b\b\b\b\b\b\b\b\b\b\b\b\b\b\b\b\b\b\b\b\b\b\b\b\b\b\b\b\b\b\b\b\b\b\b\b\b\b\b\b\b\b\b\b\b\b\b\b\b\b\b\b\b\b\b\b\b\b\b\b\b\b\b\b\b\b\b\b\b\b\b\b\b\b\b\b\b\r6/6 [==============================] - 3s 528ms/step - loss: 0.3625 - binary_accuracy: 0.8348 - lr: 5.0000e-05\n",
            "Epoch 13/50\n",
            "7/6 [================================] - ETA: 0s - loss: 0.3055 - binary_accuracy: 0.8839"
          ]
        },
        {
          "output_type": "stream",
          "name": "stderr",
          "text": [
            "WARNING:tensorflow:Early stopping conditioned on metric `val_loss` which is not available. Available metrics are: loss,binary_accuracy\n",
            "WARNING:tensorflow:Learning rate reduction is conditioned on metric `val_loss` which is not available. Available metrics are: loss,binary_accuracy,lr\n"
          ]
        },
        {
          "output_type": "stream",
          "name": "stdout",
          "text": [
            "\b\b\b\b\b\b\b\b\b\b\b\b\b\b\b\b\b\b\b\b\b\b\b\b\b\b\b\b\b\b\b\b\b\b\b\b\b\b\b\b\b\b\b\b\b\b\b\b\b\b\b\b\b\b\b\b\b\b\b\b\b\b\b\b\b\b\b\b\b\b\b\b\b\b\b\b\b\b\b\b\b\b\b\b\b\b\b\b\b\r6/6 [==============================] - 3s 493ms/step - loss: 0.3055 - binary_accuracy: 0.8839 - lr: 5.0000e-05\n",
            "Epoch 14/50\n",
            "7/6 [================================] - ETA: 0s - loss: 0.2572 - binary_accuracy: 0.8705"
          ]
        },
        {
          "output_type": "stream",
          "name": "stderr",
          "text": [
            "WARNING:tensorflow:Early stopping conditioned on metric `val_loss` which is not available. Available metrics are: loss,binary_accuracy\n",
            "WARNING:tensorflow:Learning rate reduction is conditioned on metric `val_loss` which is not available. Available metrics are: loss,binary_accuracy,lr\n"
          ]
        },
        {
          "output_type": "stream",
          "name": "stdout",
          "text": [
            "\b\b\b\b\b\b\b\b\b\b\b\b\b\b\b\b\b\b\b\b\b\b\b\b\b\b\b\b\b\b\b\b\b\b\b\b\b\b\b\b\b\b\b\b\b\b\b\b\b\b\b\b\b\b\b\b\b\b\b\b\b\b\b\b\b\b\b\b\b\b\b\b\b\b\b\b\b\b\b\b\b\b\b\b\b\b\b\b\b\r6/6 [==============================] - 3s 489ms/step - loss: 0.2572 - binary_accuracy: 0.8705 - lr: 5.0000e-05\n",
            "Epoch 15/50\n",
            "7/6 [================================] - ETA: 0s - loss: 0.2363 - binary_accuracy: 0.9018"
          ]
        },
        {
          "output_type": "stream",
          "name": "stderr",
          "text": [
            "WARNING:tensorflow:Early stopping conditioned on metric `val_loss` which is not available. Available metrics are: loss,binary_accuracy\n",
            "WARNING:tensorflow:Learning rate reduction is conditioned on metric `val_loss` which is not available. Available metrics are: loss,binary_accuracy,lr\n"
          ]
        },
        {
          "output_type": "stream",
          "name": "stdout",
          "text": [
            "\b\b\b\b\b\b\b\b\b\b\b\b\b\b\b\b\b\b\b\b\b\b\b\b\b\b\b\b\b\b\b\b\b\b\b\b\b\b\b\b\b\b\b\b\b\b\b\b\b\b\b\b\b\b\b\b\b\b\b\b\b\b\b\b\b\b\b\b\b\b\b\b\b\b\b\b\b\b\b\b\b\b\b\b\b\b\b\b\b\r6/6 [==============================] - 3s 511ms/step - loss: 0.2363 - binary_accuracy: 0.9018 - lr: 5.0000e-05\n",
            "Epoch 16/50\n",
            "7/6 [================================] - ETA: 0s - loss: 0.2340 - binary_accuracy: 0.8929"
          ]
        },
        {
          "output_type": "stream",
          "name": "stderr",
          "text": [
            "WARNING:tensorflow:Early stopping conditioned on metric `val_loss` which is not available. Available metrics are: loss,binary_accuracy\n",
            "WARNING:tensorflow:Learning rate reduction is conditioned on metric `val_loss` which is not available. Available metrics are: loss,binary_accuracy,lr\n"
          ]
        },
        {
          "output_type": "stream",
          "name": "stdout",
          "text": [
            "\b\b\b\b\b\b\b\b\b\b\b\b\b\b\b\b\b\b\b\b\b\b\b\b\b\b\b\b\b\b\b\b\b\b\b\b\b\b\b\b\b\b\b\b\b\b\b\b\b\b\b\b\b\b\b\b\b\b\b\b\b\b\b\b\b\b\b\b\b\b\b\b\b\b\b\b\b\b\b\b\b\b\b\b\b\b\b\b\b\r6/6 [==============================] - 3s 506ms/step - loss: 0.2340 - binary_accuracy: 0.8929 - lr: 5.0000e-05\n",
            "Epoch 17/50\n",
            "7/6 [================================] - ETA: 0s - loss: 0.2408 - binary_accuracy: 0.9018"
          ]
        },
        {
          "output_type": "stream",
          "name": "stderr",
          "text": [
            "WARNING:tensorflow:Early stopping conditioned on metric `val_loss` which is not available. Available metrics are: loss,binary_accuracy\n",
            "WARNING:tensorflow:Learning rate reduction is conditioned on metric `val_loss` which is not available. Available metrics are: loss,binary_accuracy,lr\n"
          ]
        },
        {
          "output_type": "stream",
          "name": "stdout",
          "text": [
            "\b\b\b\b\b\b\b\b\b\b\b\b\b\b\b\b\b\b\b\b\b\b\b\b\b\b\b\b\b\b\b\b\b\b\b\b\b\b\b\b\b\b\b\b\b\b\b\b\b\b\b\b\b\b\b\b\b\b\b\b\b\b\b\b\b\b\b\b\b\b\b\b\b\b\b\b\b\b\b\b\b\b\b\b\b\b\b\b\b\r6/6 [==============================] - 3s 480ms/step - loss: 0.2408 - binary_accuracy: 0.9018 - lr: 5.0000e-05\n",
            "Epoch 18/50\n",
            "7/6 [================================] - ETA: 0s - loss: 0.3199 - binary_accuracy: 0.8661"
          ]
        },
        {
          "output_type": "stream",
          "name": "stderr",
          "text": [
            "WARNING:tensorflow:Early stopping conditioned on metric `val_loss` which is not available. Available metrics are: loss,binary_accuracy\n",
            "WARNING:tensorflow:Learning rate reduction is conditioned on metric `val_loss` which is not available. Available metrics are: loss,binary_accuracy,lr\n"
          ]
        },
        {
          "output_type": "stream",
          "name": "stdout",
          "text": [
            "\b\b\b\b\b\b\b\b\b\b\b\b\b\b\b\b\b\b\b\b\b\b\b\b\b\b\b\b\b\b\b\b\b\b\b\b\b\b\b\b\b\b\b\b\b\b\b\b\b\b\b\b\b\b\b\b\b\b\b\b\b\b\b\b\b\b\b\b\b\b\b\b\b\b\b\b\b\b\b\b\b\b\b\b\b\b\b\b\b\r6/6 [==============================] - 3s 530ms/step - loss: 0.3199 - binary_accuracy: 0.8661 - lr: 5.0000e-05\n",
            "Epoch 19/50\n",
            "7/6 [================================] - ETA: 0s - loss: 0.2806 - binary_accuracy: 0.8616"
          ]
        },
        {
          "output_type": "stream",
          "name": "stderr",
          "text": [
            "WARNING:tensorflow:Early stopping conditioned on metric `val_loss` which is not available. Available metrics are: loss,binary_accuracy\n",
            "WARNING:tensorflow:Learning rate reduction is conditioned on metric `val_loss` which is not available. Available metrics are: loss,binary_accuracy,lr\n"
          ]
        },
        {
          "output_type": "stream",
          "name": "stdout",
          "text": [
            "\b\b\b\b\b\b\b\b\b\b\b\b\b\b\b\b\b\b\b\b\b\b\b\b\b\b\b\b\b\b\b\b\b\b\b\b\b\b\b\b\b\b\b\b\b\b\b\b\b\b\b\b\b\b\b\b\b\b\b\b\b\b\b\b\b\b\b\b\b\b\b\b\b\b\b\b\b\b\b\b\b\b\b\b\b\b\b\b\b\r6/6 [==============================] - 4s 568ms/step - loss: 0.2806 - binary_accuracy: 0.8616 - lr: 5.0000e-05\n",
            "Epoch 20/50\n",
            "7/6 [================================] - ETA: 0s - loss: 0.2070 - binary_accuracy: 0.9420"
          ]
        },
        {
          "output_type": "stream",
          "name": "stderr",
          "text": [
            "WARNING:tensorflow:Early stopping conditioned on metric `val_loss` which is not available. Available metrics are: loss,binary_accuracy\n",
            "WARNING:tensorflow:Learning rate reduction is conditioned on metric `val_loss` which is not available. Available metrics are: loss,binary_accuracy,lr\n"
          ]
        },
        {
          "output_type": "stream",
          "name": "stdout",
          "text": [
            "\b\b\b\b\b\b\b\b\b\b\b\b\b\b\b\b\b\b\b\b\b\b\b\b\b\b\b\b\b\b\b\b\b\b\b\b\b\b\b\b\b\b\b\b\b\b\b\b\b\b\b\b\b\b\b\b\b\b\b\b\b\b\b\b\b\b\b\b\b\b\b\b\b\b\b\b\b\b\b\b\b\b\b\b\b\b\b\b\b\r6/6 [==============================] - 3s 484ms/step - loss: 0.2070 - binary_accuracy: 0.9420 - lr: 5.0000e-05\n",
            "Epoch 21/50\n",
            "7/6 [================================] - ETA: 0s - loss: 0.2503 - binary_accuracy: 0.8973"
          ]
        },
        {
          "output_type": "stream",
          "name": "stderr",
          "text": [
            "WARNING:tensorflow:Early stopping conditioned on metric `val_loss` which is not available. Available metrics are: loss,binary_accuracy\n",
            "WARNING:tensorflow:Learning rate reduction is conditioned on metric `val_loss` which is not available. Available metrics are: loss,binary_accuracy,lr\n"
          ]
        },
        {
          "output_type": "stream",
          "name": "stdout",
          "text": [
            "\b\b\b\b\b\b\b\b\b\b\b\b\b\b\b\b\b\b\b\b\b\b\b\b\b\b\b\b\b\b\b\b\b\b\b\b\b\b\b\b\b\b\b\b\b\b\b\b\b\b\b\b\b\b\b\b\b\b\b\b\b\b\b\b\b\b\b\b\b\b\b\b\b\b\b\b\b\b\b\b\b\b\b\b\b\b\b\b\b\r6/6 [==============================] - 3s 513ms/step - loss: 0.2503 - binary_accuracy: 0.8973 - lr: 5.0000e-05\n",
            "Epoch 22/50\n",
            "7/6 [================================] - ETA: 0s - loss: 0.3133 - binary_accuracy: 0.8929"
          ]
        },
        {
          "output_type": "stream",
          "name": "stderr",
          "text": [
            "WARNING:tensorflow:Early stopping conditioned on metric `val_loss` which is not available. Available metrics are: loss,binary_accuracy\n",
            "WARNING:tensorflow:Learning rate reduction is conditioned on metric `val_loss` which is not available. Available metrics are: loss,binary_accuracy,lr\n"
          ]
        },
        {
          "output_type": "stream",
          "name": "stdout",
          "text": [
            "\b\b\b\b\b\b\b\b\b\b\b\b\b\b\b\b\b\b\b\b\b\b\b\b\b\b\b\b\b\b\b\b\b\b\b\b\b\b\b\b\b\b\b\b\b\b\b\b\b\b\b\b\b\b\b\b\b\b\b\b\b\b\b\b\b\b\b\b\b\b\b\b\b\b\b\b\b\b\b\b\b\b\b\b\b\b\b\b\b\r6/6 [==============================] - 3s 493ms/step - loss: 0.3133 - binary_accuracy: 0.8929 - lr: 5.0000e-05\n",
            "Epoch 23/50\n",
            "7/6 [================================] - ETA: 0s - loss: 0.2445 - binary_accuracy: 0.8839"
          ]
        },
        {
          "output_type": "stream",
          "name": "stderr",
          "text": [
            "WARNING:tensorflow:Early stopping conditioned on metric `val_loss` which is not available. Available metrics are: loss,binary_accuracy\n",
            "WARNING:tensorflow:Learning rate reduction is conditioned on metric `val_loss` which is not available. Available metrics are: loss,binary_accuracy,lr\n"
          ]
        },
        {
          "output_type": "stream",
          "name": "stdout",
          "text": [
            "\b\b\b\b\b\b\b\b\b\b\b\b\b\b\b\b\b\b\b\b\b\b\b\b\b\b\b\b\b\b\b\b\b\b\b\b\b\b\b\b\b\b\b\b\b\b\b\b\b\b\b\b\b\b\b\b\b\b\b\b\b\b\b\b\b\b\b\b\b\b\b\b\b\b\b\b\b\b\b\b\b\b\b\b\b\b\b\b\b\r6/6 [==============================] - 3s 504ms/step - loss: 0.2445 - binary_accuracy: 0.8839 - lr: 5.0000e-05\n",
            "Epoch 24/50\n",
            "7/6 [================================] - ETA: 0s - loss: 0.2576 - binary_accuracy: 0.8884"
          ]
        },
        {
          "output_type": "stream",
          "name": "stderr",
          "text": [
            "WARNING:tensorflow:Early stopping conditioned on metric `val_loss` which is not available. Available metrics are: loss,binary_accuracy\n",
            "WARNING:tensorflow:Learning rate reduction is conditioned on metric `val_loss` which is not available. Available metrics are: loss,binary_accuracy,lr\n"
          ]
        },
        {
          "output_type": "stream",
          "name": "stdout",
          "text": [
            "\b\b\b\b\b\b\b\b\b\b\b\b\b\b\b\b\b\b\b\b\b\b\b\b\b\b\b\b\b\b\b\b\b\b\b\b\b\b\b\b\b\b\b\b\b\b\b\b\b\b\b\b\b\b\b\b\b\b\b\b\b\b\b\b\b\b\b\b\b\b\b\b\b\b\b\b\b\b\b\b\b\b\b\b\b\b\b\b\b\r6/6 [==============================] - 3s 507ms/step - loss: 0.2576 - binary_accuracy: 0.8884 - lr: 5.0000e-05\n",
            "Epoch 25/50\n",
            "7/6 [================================] - ETA: 0s - loss: 0.2864 - binary_accuracy: 0.8705"
          ]
        },
        {
          "output_type": "stream",
          "name": "stderr",
          "text": [
            "WARNING:tensorflow:Early stopping conditioned on metric `val_loss` which is not available. Available metrics are: loss,binary_accuracy\n",
            "WARNING:tensorflow:Learning rate reduction is conditioned on metric `val_loss` which is not available. Available metrics are: loss,binary_accuracy,lr\n"
          ]
        },
        {
          "output_type": "stream",
          "name": "stdout",
          "text": [
            "\b\b\b\b\b\b\b\b\b\b\b\b\b\b\b\b\b\b\b\b\b\b\b\b\b\b\b\b\b\b\b\b\b\b\b\b\b\b\b\b\b\b\b\b\b\b\b\b\b\b\b\b\b\b\b\b\b\b\b\b\b\b\b\b\b\b\b\b\b\b\b\b\b\b\b\b\b\b\b\b\b\b\b\b\b\b\b\b\b\r6/6 [==============================] - 3s 503ms/step - loss: 0.2864 - binary_accuracy: 0.8705 - lr: 5.0000e-05\n",
            "Epoch 26/50\n",
            "7/6 [================================] - ETA: 0s - loss: 0.1829 - binary_accuracy: 0.9196"
          ]
        },
        {
          "output_type": "stream",
          "name": "stderr",
          "text": [
            "WARNING:tensorflow:Early stopping conditioned on metric `val_loss` which is not available. Available metrics are: loss,binary_accuracy\n",
            "WARNING:tensorflow:Learning rate reduction is conditioned on metric `val_loss` which is not available. Available metrics are: loss,binary_accuracy,lr\n"
          ]
        },
        {
          "output_type": "stream",
          "name": "stdout",
          "text": [
            "\b\b\b\b\b\b\b\b\b\b\b\b\b\b\b\b\b\b\b\b\b\b\b\b\b\b\b\b\b\b\b\b\b\b\b\b\b\b\b\b\b\b\b\b\b\b\b\b\b\b\b\b\b\b\b\b\b\b\b\b\b\b\b\b\b\b\b\b\b\b\b\b\b\b\b\b\b\b\b\b\b\b\b\b\b\b\b\b\b\r6/6 [==============================] - 3s 471ms/step - loss: 0.1829 - binary_accuracy: 0.9196 - lr: 5.0000e-05\n",
            "Epoch 27/50\n",
            "7/6 [================================] - ETA: 0s - loss: 0.1871 - binary_accuracy: 0.9286"
          ]
        },
        {
          "output_type": "stream",
          "name": "stderr",
          "text": [
            "WARNING:tensorflow:Early stopping conditioned on metric `val_loss` which is not available. Available metrics are: loss,binary_accuracy\n",
            "WARNING:tensorflow:Learning rate reduction is conditioned on metric `val_loss` which is not available. Available metrics are: loss,binary_accuracy,lr\n"
          ]
        },
        {
          "output_type": "stream",
          "name": "stdout",
          "text": [
            "\b\b\b\b\b\b\b\b\b\b\b\b\b\b\b\b\b\b\b\b\b\b\b\b\b\b\b\b\b\b\b\b\b\b\b\b\b\b\b\b\b\b\b\b\b\b\b\b\b\b\b\b\b\b\b\b\b\b\b\b\b\b\b\b\b\b\b\b\b\b\b\b\b\b\b\b\b\b\b\b\b\b\b\b\b\b\b\b\b\r6/6 [==============================] - 3s 507ms/step - loss: 0.1871 - binary_accuracy: 0.9286 - lr: 5.0000e-05\n",
            "Epoch 28/50\n",
            "7/6 [================================] - ETA: 0s - loss: 0.1836 - binary_accuracy: 0.9152"
          ]
        },
        {
          "output_type": "stream",
          "name": "stderr",
          "text": [
            "WARNING:tensorflow:Early stopping conditioned on metric `val_loss` which is not available. Available metrics are: loss,binary_accuracy\n",
            "WARNING:tensorflow:Learning rate reduction is conditioned on metric `val_loss` which is not available. Available metrics are: loss,binary_accuracy,lr\n"
          ]
        },
        {
          "output_type": "stream",
          "name": "stdout",
          "text": [
            "\b\b\b\b\b\b\b\b\b\b\b\b\b\b\b\b\b\b\b\b\b\b\b\b\b\b\b\b\b\b\b\b\b\b\b\b\b\b\b\b\b\b\b\b\b\b\b\b\b\b\b\b\b\b\b\b\b\b\b\b\b\b\b\b\b\b\b\b\b\b\b\b\b\b\b\b\b\b\b\b\b\b\b\b\b\b\b\b\b\r6/6 [==============================] - 3s 500ms/step - loss: 0.1836 - binary_accuracy: 0.9152 - lr: 5.0000e-05\n",
            "Epoch 29/50\n",
            "7/6 [================================] - ETA: 0s - loss: 0.2524 - binary_accuracy: 0.8795"
          ]
        },
        {
          "output_type": "stream",
          "name": "stderr",
          "text": [
            "WARNING:tensorflow:Early stopping conditioned on metric `val_loss` which is not available. Available metrics are: loss,binary_accuracy\n",
            "WARNING:tensorflow:Learning rate reduction is conditioned on metric `val_loss` which is not available. Available metrics are: loss,binary_accuracy,lr\n"
          ]
        },
        {
          "output_type": "stream",
          "name": "stdout",
          "text": [
            "\b\b\b\b\b\b\b\b\b\b\b\b\b\b\b\b\b\b\b\b\b\b\b\b\b\b\b\b\b\b\b\b\b\b\b\b\b\b\b\b\b\b\b\b\b\b\b\b\b\b\b\b\b\b\b\b\b\b\b\b\b\b\b\b\b\b\b\b\b\b\b\b\b\b\b\b\b\b\b\b\b\b\b\b\b\b\b\b\b\r6/6 [==============================] - 3s 500ms/step - loss: 0.2524 - binary_accuracy: 0.8795 - lr: 5.0000e-05\n",
            "Epoch 30/50\n",
            "7/6 [================================] - ETA: 0s - loss: 0.1742 - binary_accuracy: 0.9464"
          ]
        },
        {
          "output_type": "stream",
          "name": "stderr",
          "text": [
            "WARNING:tensorflow:Early stopping conditioned on metric `val_loss` which is not available. Available metrics are: loss,binary_accuracy\n",
            "WARNING:tensorflow:Learning rate reduction is conditioned on metric `val_loss` which is not available. Available metrics are: loss,binary_accuracy,lr\n"
          ]
        },
        {
          "output_type": "stream",
          "name": "stdout",
          "text": [
            "\b\b\b\b\b\b\b\b\b\b\b\b\b\b\b\b\b\b\b\b\b\b\b\b\b\b\b\b\b\b\b\b\b\b\b\b\b\b\b\b\b\b\b\b\b\b\b\b\b\b\b\b\b\b\b\b\b\b\b\b\b\b\b\b\b\b\b\b\b\b\b\b\b\b\b\b\b\b\b\b\b\b\b\b\b\b\b\b\b\r6/6 [==============================] - 3s 476ms/step - loss: 0.1742 - binary_accuracy: 0.9464 - lr: 5.0000e-05\n",
            "Epoch 31/50\n",
            "7/6 [================================] - ETA: 0s - loss: 0.1751 - binary_accuracy: 0.9152"
          ]
        },
        {
          "output_type": "stream",
          "name": "stderr",
          "text": [
            "WARNING:tensorflow:Early stopping conditioned on metric `val_loss` which is not available. Available metrics are: loss,binary_accuracy\n",
            "WARNING:tensorflow:Learning rate reduction is conditioned on metric `val_loss` which is not available. Available metrics are: loss,binary_accuracy,lr\n"
          ]
        },
        {
          "output_type": "stream",
          "name": "stdout",
          "text": [
            "\b\b\b\b\b\b\b\b\b\b\b\b\b\b\b\b\b\b\b\b\b\b\b\b\b\b\b\b\b\b\b\b\b\b\b\b\b\b\b\b\b\b\b\b\b\b\b\b\b\b\b\b\b\b\b\b\b\b\b\b\b\b\b\b\b\b\b\b\b\b\b\b\b\b\b\b\b\b\b\b\b\b\b\b\b\b\b\b\b\r6/6 [==============================] - 3s 485ms/step - loss: 0.1751 - binary_accuracy: 0.9152 - lr: 5.0000e-05\n",
            "Epoch 32/50\n",
            "7/6 [================================] - ETA: 0s - loss: 0.1870 - binary_accuracy: 0.9375"
          ]
        },
        {
          "output_type": "stream",
          "name": "stderr",
          "text": [
            "WARNING:tensorflow:Early stopping conditioned on metric `val_loss` which is not available. Available metrics are: loss,binary_accuracy\n",
            "WARNING:tensorflow:Learning rate reduction is conditioned on metric `val_loss` which is not available. Available metrics are: loss,binary_accuracy,lr\n"
          ]
        },
        {
          "output_type": "stream",
          "name": "stdout",
          "text": [
            "\b\b\b\b\b\b\b\b\b\b\b\b\b\b\b\b\b\b\b\b\b\b\b\b\b\b\b\b\b\b\b\b\b\b\b\b\b\b\b\b\b\b\b\b\b\b\b\b\b\b\b\b\b\b\b\b\b\b\b\b\b\b\b\b\b\b\b\b\b\b\b\b\b\b\b\b\b\b\b\b\b\b\b\b\b\b\b\b\b\r6/6 [==============================] - 3s 481ms/step - loss: 0.1870 - binary_accuracy: 0.9375 - lr: 5.0000e-05\n",
            "Epoch 33/50\n",
            "7/6 [================================] - ETA: 0s - loss: 0.2506 - binary_accuracy: 0.9152"
          ]
        },
        {
          "output_type": "stream",
          "name": "stderr",
          "text": [
            "WARNING:tensorflow:Early stopping conditioned on metric `val_loss` which is not available. Available metrics are: loss,binary_accuracy\n",
            "WARNING:tensorflow:Learning rate reduction is conditioned on metric `val_loss` which is not available. Available metrics are: loss,binary_accuracy,lr\n"
          ]
        },
        {
          "output_type": "stream",
          "name": "stdout",
          "text": [
            "\b\b\b\b\b\b\b\b\b\b\b\b\b\b\b\b\b\b\b\b\b\b\b\b\b\b\b\b\b\b\b\b\b\b\b\b\b\b\b\b\b\b\b\b\b\b\b\b\b\b\b\b\b\b\b\b\b\b\b\b\b\b\b\b\b\b\b\b\b\b\b\b\b\b\b\b\b\b\b\b\b\b\b\b\b\b\b\b\b\r6/6 [==============================] - 3s 481ms/step - loss: 0.2506 - binary_accuracy: 0.9152 - lr: 5.0000e-05\n",
            "Epoch 34/50\n",
            "7/6 [================================] - ETA: 0s - loss: 0.1673 - binary_accuracy: 0.9375"
          ]
        },
        {
          "output_type": "stream",
          "name": "stderr",
          "text": [
            "WARNING:tensorflow:Early stopping conditioned on metric `val_loss` which is not available. Available metrics are: loss,binary_accuracy\n",
            "WARNING:tensorflow:Learning rate reduction is conditioned on metric `val_loss` which is not available. Available metrics are: loss,binary_accuracy,lr\n"
          ]
        },
        {
          "output_type": "stream",
          "name": "stdout",
          "text": [
            "\b\b\b\b\b\b\b\b\b\b\b\b\b\b\b\b\b\b\b\b\b\b\b\b\b\b\b\b\b\b\b\b\b\b\b\b\b\b\b\b\b\b\b\b\b\b\b\b\b\b\b\b\b\b\b\b\b\b\b\b\b\b\b\b\b\b\b\b\b\b\b\b\b\b\b\b\b\b\b\b\b\b\b\b\b\b\b\b\b\r6/6 [==============================] - 3s 478ms/step - loss: 0.1673 - binary_accuracy: 0.9375 - lr: 5.0000e-05\n",
            "Epoch 35/50\n",
            "7/6 [================================] - ETA: 0s - loss: 0.2121 - binary_accuracy: 0.9062"
          ]
        },
        {
          "output_type": "stream",
          "name": "stderr",
          "text": [
            "WARNING:tensorflow:Early stopping conditioned on metric `val_loss` which is not available. Available metrics are: loss,binary_accuracy\n",
            "WARNING:tensorflow:Learning rate reduction is conditioned on metric `val_loss` which is not available. Available metrics are: loss,binary_accuracy,lr\n"
          ]
        },
        {
          "output_type": "stream",
          "name": "stdout",
          "text": [
            "\b\b\b\b\b\b\b\b\b\b\b\b\b\b\b\b\b\b\b\b\b\b\b\b\b\b\b\b\b\b\b\b\b\b\b\b\b\b\b\b\b\b\b\b\b\b\b\b\b\b\b\b\b\b\b\b\b\b\b\b\b\b\b\b\b\b\b\b\b\b\b\b\b\b\b\b\b\b\b\b\b\b\b\b\b\b\b\b\b\r6/6 [==============================] - 3s 491ms/step - loss: 0.2121 - binary_accuracy: 0.9062 - lr: 5.0000e-05\n",
            "Epoch 36/50\n",
            "7/6 [================================] - ETA: 0s - loss: 0.2115 - binary_accuracy: 0.9241"
          ]
        },
        {
          "output_type": "stream",
          "name": "stderr",
          "text": [
            "WARNING:tensorflow:Early stopping conditioned on metric `val_loss` which is not available. Available metrics are: loss,binary_accuracy\n",
            "WARNING:tensorflow:Learning rate reduction is conditioned on metric `val_loss` which is not available. Available metrics are: loss,binary_accuracy,lr\n"
          ]
        },
        {
          "output_type": "stream",
          "name": "stdout",
          "text": [
            "\b\b\b\b\b\b\b\b\b\b\b\b\b\b\b\b\b\b\b\b\b\b\b\b\b\b\b\b\b\b\b\b\b\b\b\b\b\b\b\b\b\b\b\b\b\b\b\b\b\b\b\b\b\b\b\b\b\b\b\b\b\b\b\b\b\b\b\b\b\b\b\b\b\b\b\b\b\b\b\b\b\b\b\b\b\b\b\b\b\r6/6 [==============================] - 3s 459ms/step - loss: 0.2115 - binary_accuracy: 0.9241 - lr: 5.0000e-05\n",
            "Epoch 37/50\n",
            "7/6 [================================] - ETA: 0s - loss: 0.2271 - binary_accuracy: 0.9107"
          ]
        },
        {
          "output_type": "stream",
          "name": "stderr",
          "text": [
            "WARNING:tensorflow:Early stopping conditioned on metric `val_loss` which is not available. Available metrics are: loss,binary_accuracy\n",
            "WARNING:tensorflow:Learning rate reduction is conditioned on metric `val_loss` which is not available. Available metrics are: loss,binary_accuracy,lr\n"
          ]
        },
        {
          "output_type": "stream",
          "name": "stdout",
          "text": [
            "\b\b\b\b\b\b\b\b\b\b\b\b\b\b\b\b\b\b\b\b\b\b\b\b\b\b\b\b\b\b\b\b\b\b\b\b\b\b\b\b\b\b\b\b\b\b\b\b\b\b\b\b\b\b\b\b\b\b\b\b\b\b\b\b\b\b\b\b\b\b\b\b\b\b\b\b\b\b\b\b\b\b\b\b\b\b\b\b\b\r6/6 [==============================] - 3s 485ms/step - loss: 0.2271 - binary_accuracy: 0.9107 - lr: 5.0000e-05\n",
            "Epoch 38/50\n",
            "7/6 [================================] - ETA: 0s - loss: 0.2961 - binary_accuracy: 0.8929"
          ]
        },
        {
          "output_type": "stream",
          "name": "stderr",
          "text": [
            "WARNING:tensorflow:Early stopping conditioned on metric `val_loss` which is not available. Available metrics are: loss,binary_accuracy\n",
            "WARNING:tensorflow:Learning rate reduction is conditioned on metric `val_loss` which is not available. Available metrics are: loss,binary_accuracy,lr\n"
          ]
        },
        {
          "output_type": "stream",
          "name": "stdout",
          "text": [
            "\b\b\b\b\b\b\b\b\b\b\b\b\b\b\b\b\b\b\b\b\b\b\b\b\b\b\b\b\b\b\b\b\b\b\b\b\b\b\b\b\b\b\b\b\b\b\b\b\b\b\b\b\b\b\b\b\b\b\b\b\b\b\b\b\b\b\b\b\b\b\b\b\b\b\b\b\b\b\b\b\b\b\b\b\b\b\b\b\b\r6/6 [==============================] - 3s 478ms/step - loss: 0.2961 - binary_accuracy: 0.8929 - lr: 5.0000e-05\n",
            "Epoch 39/50\n",
            "7/6 [================================] - ETA: 0s - loss: 0.1656 - binary_accuracy: 0.9420"
          ]
        },
        {
          "output_type": "stream",
          "name": "stderr",
          "text": [
            "WARNING:tensorflow:Early stopping conditioned on metric `val_loss` which is not available. Available metrics are: loss,binary_accuracy\n",
            "WARNING:tensorflow:Learning rate reduction is conditioned on metric `val_loss` which is not available. Available metrics are: loss,binary_accuracy,lr\n"
          ]
        },
        {
          "output_type": "stream",
          "name": "stdout",
          "text": [
            "\b\b\b\b\b\b\b\b\b\b\b\b\b\b\b\b\b\b\b\b\b\b\b\b\b\b\b\b\b\b\b\b\b\b\b\b\b\b\b\b\b\b\b\b\b\b\b\b\b\b\b\b\b\b\b\b\b\b\b\b\b\b\b\b\b\b\b\b\b\b\b\b\b\b\b\b\b\b\b\b\b\b\b\b\b\b\b\b\b\r6/6 [==============================] - 3s 484ms/step - loss: 0.1656 - binary_accuracy: 0.9420 - lr: 5.0000e-05\n",
            "Epoch 40/50\n",
            "7/6 [================================] - ETA: 0s - loss: 0.2334 - binary_accuracy: 0.9018"
          ]
        },
        {
          "output_type": "stream",
          "name": "stderr",
          "text": [
            "WARNING:tensorflow:Early stopping conditioned on metric `val_loss` which is not available. Available metrics are: loss,binary_accuracy\n",
            "WARNING:tensorflow:Learning rate reduction is conditioned on metric `val_loss` which is not available. Available metrics are: loss,binary_accuracy,lr\n"
          ]
        },
        {
          "output_type": "stream",
          "name": "stdout",
          "text": [
            "\b\b\b\b\b\b\b\b\b\b\b\b\b\b\b\b\b\b\b\b\b\b\b\b\b\b\b\b\b\b\b\b\b\b\b\b\b\b\b\b\b\b\b\b\b\b\b\b\b\b\b\b\b\b\b\b\b\b\b\b\b\b\b\b\b\b\b\b\b\b\b\b\b\b\b\b\b\b\b\b\b\b\b\b\b\b\b\b\b\r6/6 [==============================] - 3s 513ms/step - loss: 0.2334 - binary_accuracy: 0.9018 - lr: 5.0000e-05\n",
            "Epoch 41/50\n",
            "7/6 [================================] - ETA: 0s - loss: 0.1961 - binary_accuracy: 0.9196"
          ]
        },
        {
          "output_type": "stream",
          "name": "stderr",
          "text": [
            "WARNING:tensorflow:Early stopping conditioned on metric `val_loss` which is not available. Available metrics are: loss,binary_accuracy\n",
            "WARNING:tensorflow:Learning rate reduction is conditioned on metric `val_loss` which is not available. Available metrics are: loss,binary_accuracy,lr\n"
          ]
        },
        {
          "output_type": "stream",
          "name": "stdout",
          "text": [
            "\b\b\b\b\b\b\b\b\b\b\b\b\b\b\b\b\b\b\b\b\b\b\b\b\b\b\b\b\b\b\b\b\b\b\b\b\b\b\b\b\b\b\b\b\b\b\b\b\b\b\b\b\b\b\b\b\b\b\b\b\b\b\b\b\b\b\b\b\b\b\b\b\b\b\b\b\b\b\b\b\b\b\b\b\b\b\b\b\b\r6/6 [==============================] - 3s 510ms/step - loss: 0.1961 - binary_accuracy: 0.9196 - lr: 5.0000e-05\n",
            "Epoch 42/50\n",
            "7/6 [================================] - ETA: 0s - loss: 0.2171 - binary_accuracy: 0.9152"
          ]
        },
        {
          "output_type": "stream",
          "name": "stderr",
          "text": [
            "WARNING:tensorflow:Early stopping conditioned on metric `val_loss` which is not available. Available metrics are: loss,binary_accuracy\n",
            "WARNING:tensorflow:Learning rate reduction is conditioned on metric `val_loss` which is not available. Available metrics are: loss,binary_accuracy,lr\n"
          ]
        },
        {
          "output_type": "stream",
          "name": "stdout",
          "text": [
            "\b\b\b\b\b\b\b\b\b\b\b\b\b\b\b\b\b\b\b\b\b\b\b\b\b\b\b\b\b\b\b\b\b\b\b\b\b\b\b\b\b\b\b\b\b\b\b\b\b\b\b\b\b\b\b\b\b\b\b\b\b\b\b\b\b\b\b\b\b\b\b\b\b\b\b\b\b\b\b\b\b\b\b\b\b\b\b\b\b\r6/6 [==============================] - 3s 480ms/step - loss: 0.2171 - binary_accuracy: 0.9152 - lr: 5.0000e-05\n",
            "Epoch 43/50\n",
            "7/6 [================================] - ETA: 0s - loss: 0.1990 - binary_accuracy: 0.9286"
          ]
        },
        {
          "output_type": "stream",
          "name": "stderr",
          "text": [
            "WARNING:tensorflow:Early stopping conditioned on metric `val_loss` which is not available. Available metrics are: loss,binary_accuracy\n",
            "WARNING:tensorflow:Learning rate reduction is conditioned on metric `val_loss` which is not available. Available metrics are: loss,binary_accuracy,lr\n"
          ]
        },
        {
          "output_type": "stream",
          "name": "stdout",
          "text": [
            "\b\b\b\b\b\b\b\b\b\b\b\b\b\b\b\b\b\b\b\b\b\b\b\b\b\b\b\b\b\b\b\b\b\b\b\b\b\b\b\b\b\b\b\b\b\b\b\b\b\b\b\b\b\b\b\b\b\b\b\b\b\b\b\b\b\b\b\b\b\b\b\b\b\b\b\b\b\b\b\b\b\b\b\b\b\b\b\b\b\r6/6 [==============================] - 3s 471ms/step - loss: 0.1990 - binary_accuracy: 0.9286 - lr: 5.0000e-05\n",
            "Epoch 44/50\n",
            "7/6 [================================] - ETA: 0s - loss: 0.2023 - binary_accuracy: 0.9062"
          ]
        },
        {
          "output_type": "stream",
          "name": "stderr",
          "text": [
            "WARNING:tensorflow:Early stopping conditioned on metric `val_loss` which is not available. Available metrics are: loss,binary_accuracy\n",
            "WARNING:tensorflow:Learning rate reduction is conditioned on metric `val_loss` which is not available. Available metrics are: loss,binary_accuracy,lr\n"
          ]
        },
        {
          "output_type": "stream",
          "name": "stdout",
          "text": [
            "\b\b\b\b\b\b\b\b\b\b\b\b\b\b\b\b\b\b\b\b\b\b\b\b\b\b\b\b\b\b\b\b\b\b\b\b\b\b\b\b\b\b\b\b\b\b\b\b\b\b\b\b\b\b\b\b\b\b\b\b\b\b\b\b\b\b\b\b\b\b\b\b\b\b\b\b\b\b\b\b\b\b\b\b\b\b\b\b\b\r6/6 [==============================] - 3s 514ms/step - loss: 0.2023 - binary_accuracy: 0.9062 - lr: 5.0000e-05\n",
            "Epoch 45/50\n",
            "7/6 [================================] - ETA: 0s - loss: 0.2080 - binary_accuracy: 0.9196"
          ]
        },
        {
          "output_type": "stream",
          "name": "stderr",
          "text": [
            "WARNING:tensorflow:Early stopping conditioned on metric `val_loss` which is not available. Available metrics are: loss,binary_accuracy\n",
            "WARNING:tensorflow:Learning rate reduction is conditioned on metric `val_loss` which is not available. Available metrics are: loss,binary_accuracy,lr\n"
          ]
        },
        {
          "output_type": "stream",
          "name": "stdout",
          "text": [
            "\b\b\b\b\b\b\b\b\b\b\b\b\b\b\b\b\b\b\b\b\b\b\b\b\b\b\b\b\b\b\b\b\b\b\b\b\b\b\b\b\b\b\b\b\b\b\b\b\b\b\b\b\b\b\b\b\b\b\b\b\b\b\b\b\b\b\b\b\b\b\b\b\b\b\b\b\b\b\b\b\b\b\b\b\b\b\b\b\b\r6/6 [==============================] - 4s 561ms/step - loss: 0.2080 - binary_accuracy: 0.9196 - lr: 5.0000e-05\n",
            "Epoch 46/50\n",
            "7/6 [================================] - ETA: 0s - loss: 0.1738 - binary_accuracy: 0.9062"
          ]
        },
        {
          "output_type": "stream",
          "name": "stderr",
          "text": [
            "WARNING:tensorflow:Early stopping conditioned on metric `val_loss` which is not available. Available metrics are: loss,binary_accuracy\n",
            "WARNING:tensorflow:Learning rate reduction is conditioned on metric `val_loss` which is not available. Available metrics are: loss,binary_accuracy,lr\n"
          ]
        },
        {
          "output_type": "stream",
          "name": "stdout",
          "text": [
            "\b\b\b\b\b\b\b\b\b\b\b\b\b\b\b\b\b\b\b\b\b\b\b\b\b\b\b\b\b\b\b\b\b\b\b\b\b\b\b\b\b\b\b\b\b\b\b\b\b\b\b\b\b\b\b\b\b\b\b\b\b\b\b\b\b\b\b\b\b\b\b\b\b\b\b\b\b\b\b\b\b\b\b\b\b\b\b\b\b\r6/6 [==============================] - 3s 474ms/step - loss: 0.1738 - binary_accuracy: 0.9062 - lr: 5.0000e-05\n",
            "Epoch 47/50\n",
            "7/6 [================================] - ETA: 0s - loss: 0.2679 - binary_accuracy: 0.8973"
          ]
        },
        {
          "output_type": "stream",
          "name": "stderr",
          "text": [
            "WARNING:tensorflow:Early stopping conditioned on metric `val_loss` which is not available. Available metrics are: loss,binary_accuracy\n",
            "WARNING:tensorflow:Learning rate reduction is conditioned on metric `val_loss` which is not available. Available metrics are: loss,binary_accuracy,lr\n"
          ]
        },
        {
          "output_type": "stream",
          "name": "stdout",
          "text": [
            "\b\b\b\b\b\b\b\b\b\b\b\b\b\b\b\b\b\b\b\b\b\b\b\b\b\b\b\b\b\b\b\b\b\b\b\b\b\b\b\b\b\b\b\b\b\b\b\b\b\b\b\b\b\b\b\b\b\b\b\b\b\b\b\b\b\b\b\b\b\b\b\b\b\b\b\b\b\b\b\b\b\b\b\b\b\b\b\b\b\r6/6 [==============================] - 3s 483ms/step - loss: 0.2679 - binary_accuracy: 0.8973 - lr: 5.0000e-05\n",
            "Epoch 48/50\n",
            "7/6 [================================] - ETA: 0s - loss: 0.1887 - binary_accuracy: 0.9152"
          ]
        },
        {
          "output_type": "stream",
          "name": "stderr",
          "text": [
            "WARNING:tensorflow:Early stopping conditioned on metric `val_loss` which is not available. Available metrics are: loss,binary_accuracy\n",
            "WARNING:tensorflow:Learning rate reduction is conditioned on metric `val_loss` which is not available. Available metrics are: loss,binary_accuracy,lr\n"
          ]
        },
        {
          "output_type": "stream",
          "name": "stdout",
          "text": [
            "\b\b\b\b\b\b\b\b\b\b\b\b\b\b\b\b\b\b\b\b\b\b\b\b\b\b\b\b\b\b\b\b\b\b\b\b\b\b\b\b\b\b\b\b\b\b\b\b\b\b\b\b\b\b\b\b\b\b\b\b\b\b\b\b\b\b\b\b\b\b\b\b\b\b\b\b\b\b\b\b\b\b\b\b\b\b\b\b\b\r6/6 [==============================] - 3s 511ms/step - loss: 0.1887 - binary_accuracy: 0.9152 - lr: 5.0000e-05\n",
            "Epoch 49/50\n",
            "7/6 [================================] - ETA: 0s - loss: 0.2046 - binary_accuracy: 0.9286"
          ]
        },
        {
          "output_type": "stream",
          "name": "stderr",
          "text": [
            "WARNING:tensorflow:Early stopping conditioned on metric `val_loss` which is not available. Available metrics are: loss,binary_accuracy\n",
            "WARNING:tensorflow:Learning rate reduction is conditioned on metric `val_loss` which is not available. Available metrics are: loss,binary_accuracy,lr\n"
          ]
        },
        {
          "output_type": "stream",
          "name": "stdout",
          "text": [
            "\b\b\b\b\b\b\b\b\b\b\b\b\b\b\b\b\b\b\b\b\b\b\b\b\b\b\b\b\b\b\b\b\b\b\b\b\b\b\b\b\b\b\b\b\b\b\b\b\b\b\b\b\b\b\b\b\b\b\b\b\b\b\b\b\b\b\b\b\b\b\b\b\b\b\b\b\b\b\b\b\b\b\b\b\b\b\b\b\b\r6/6 [==============================] - 3s 490ms/step - loss: 0.2046 - binary_accuracy: 0.9286 - lr: 5.0000e-05\n",
            "Epoch 50/50\n",
            "7/6 [================================] - ETA: 0s - loss: 0.2289 - binary_accuracy: 0.9196"
          ]
        },
        {
          "output_type": "stream",
          "name": "stderr",
          "text": [
            "WARNING:tensorflow:Early stopping conditioned on metric `val_loss` which is not available. Available metrics are: loss,binary_accuracy\n",
            "WARNING:tensorflow:Learning rate reduction is conditioned on metric `val_loss` which is not available. Available metrics are: loss,binary_accuracy,lr\n"
          ]
        },
        {
          "output_type": "stream",
          "name": "stdout",
          "text": [
            "\b\b\b\b\b\b\b\b\b\b\b\b\b\b\b\b\b\b\b\b\b\b\b\b\b\b\b\b\b\b\b\b\b\b\b\b\b\b\b\b\b\b\b\b\b\b\b\b\b\b\b\b\b\b\b\b\b\b\b\b\b\b\b\b\b\b\b\b\b\b\b\b\b\b\b\b\b\b\b\b\b\b\b\b\b\b\b\b\b\r6/6 [==============================] - 3s 497ms/step - loss: 0.2289 - binary_accuracy: 0.9196 - lr: 5.0000e-05\n"
          ]
        }
      ],
      "source": [
        "history = model_pretrained.fit(ds_train,\n",
        "          batch_size = BATCH, epochs = 50,\n",
        "          validation_data=ds_val,\n",
        "          callbacks=[early_stopping, plateau],#,gradcam],\n",
        "          steps_per_epoch=(float(len(train_df)/BATCH)),\n",
        "          validation_steps=(float(len(val_df)/BATCH)));"
      ]
    },
    {
      "cell_type": "code",
      "execution_count": 104,
      "metadata": {
        "id": "X1PUtgiGjKig",
        "colab": {
          "base_uri": "https://localhost:8080/",
          "height": 381
        },
        "outputId": "1896326c-9184-47cc-fcde-5566c027846c"
      },
      "outputs": [
        {
          "output_type": "display_data",
          "data": {
            "text/plain": [
              "<Figure size 1440x576 with 1 Axes>"
            ],
            "image/png": "[encoded data removed]"
          },
          "metadata": {
            "needs_background": "light"
          }
        }
      ],
      "source": [
        "fig, ax = plt.subplots(figsize=(20,8))\n",
        "sns.lineplot(x = history.epoch, y = history.history['loss'])\n",
        "# sns.lineplot(x = history.epoch, y = history.history['val_loss'])\n",
        "ax.set_title('Learning Curve (Loss)')\n",
        "ax.set_ylabel('Loss')\n",
        "ax.set_xlabel('Epoch')\n",
        "ax.set_ylim(0, 0.5)\n",
        "ax.legend(['train', 'val'], loc='best')\n",
        "plt.show()"
      ]
    },
    {
      "cell_type": "code",
      "execution_count": 106,
      "metadata": {
        "id": "vXH6ddHojMxp",
        "colab": {
          "base_uri": "https://localhost:8080/",
          "height": 377
        },
        "outputId": "dcc9aa33-cb2e-48e3-b5a2-7ca2c16fd2f0"
      },
      "outputs": [
        {
          "output_type": "display_data",
          "data": {
            "text/plain": [
              "<Figure size 1440x576 with 1 Axes>"
            ],
            "image/png": "[encoded data removed]"
          },
          "metadata": {
            "needs_background": "light"
          }
        }
      ],
      "source": [
        "fig, ax = plt.subplots(figsize=(20,8))\n",
        "sns.lineplot(x = history.epoch, y = history.history['binary_accuracy'])\n",
        "# sns.lineplot(x = history.epoch, y = history.history['val_binary_accuracy'])\n",
        "ax.set_title('Learning Curve (Accuracy)')\n",
        "ax.set_ylabel('Accuracy')\n",
        "ax.set_xlabel('Epoch')\n",
        "ax.set_ylim(0.80, 1.0)\n",
        "ax.legend(['train', 'val'], loc='best')\n",
        "plt.show()"
      ]
    },
    {
      "cell_type": "code",
      "execution_count": 107,
      "metadata": {
        "id": "FZLiXrO3jPf2",
        "colab": {
          "base_uri": "https://localhost:8080/"
        },
        "outputId": "a0a9a7ae-7405-4f21-b145-42af542acb12"
      },
      "outputs": [
        {
          "output_type": "stream",
          "name": "stderr",
          "text": [
            "WARNING:tensorflow:Your input ran out of data; interrupting training. Make sure that your dataset or generator can generate at least `steps_per_epoch * epochs` batches (in this case, 1.65625 batches). You may need to use the repeat() function when building your dataset.\n"
          ]
        },
        {
          "output_type": "stream",
          "name": "stdout",
          "text": [
            "Val loss: 0.3304332494735718\n",
            "Val accuracy: 0.875\n"
          ]
        }
      ],
      "source": [
        "score = model_pretrained.evaluate(ds_val, steps = len(val_df)/BATCH, verbose = 0)\n",
        "print('Val loss:', score[0])\n",
        "print('Val accuracy:', score[1])"
      ]
    },
    {
      "cell_type": "code",
      "execution_count": 108,
      "metadata": {
        "id": "X-R2C5pYjSaD",
        "colab": {
          "base_uri": "https://localhost:8080/"
        },
        "outputId": "3f98e790-f4f1-45cc-aa25-0b405b5bf140"
      },
      "outputs": [
        {
          "output_type": "stream",
          "name": "stdout",
          "text": [
            "Test loss: 0.467965304851532\n",
            "Test accuracy: 0.8108974099159241\n"
          ]
        }
      ],
      "source": [
        "score = model_pretrained.evaluate(ds_test, steps = len(df_test), verbose = 0)\n",
        "print('Test loss:', score[0])\n",
        "print('Test accuracy:', score[1])"
      ]
    },
    {
      "cell_type": "markdown",
      "metadata": {
        "id": "BX2XFXlDjXB2"
      },
      "source": [
        "#Fine Tuning"
      ]
    },
    {
      "cell_type": "code",
      "execution_count": 109,
      "metadata": {
        "id": "RGggRdKnjasm"
      },
      "outputs": [],
      "source": [
        "base_model.trainable = True\n",
        "\n",
        "# Freeze all layers except for the\n",
        "for layer in base_model.layers[:-20]:\n",
        "    layer.trainable = False"
      ]
    },
    {
      "cell_type": "code",
      "execution_count": 110,
      "metadata": {
        "id": "IEgHQ7oNjcOS",
        "colab": {
          "base_uri": "https://localhost:8080/"
        },
        "outputId": "7f2a62b1-4c15-467a-9aa3-627853ebf801"
      },
      "outputs": [
        {
          "output_type": "stream",
          "name": "stdout",
          "text": [
            "0 input_2 False\n",
            "1 conv1_pad False\n",
            "2 conv1_conv False\n",
            "3 pool1_pad False\n",
            "4 pool1_pool False\n",
            "5 conv2_block1_preact_bn False\n",
            "6 conv2_block1_preact_relu False\n",
            "7 conv2_block1_1_conv False\n",
            "8 conv2_block1_1_bn False\n",
            "9 conv2_block1_1_relu False\n",
            "10 conv2_block1_2_pad False\n",
            "11 conv2_block1_2_conv False\n",
            "12 conv2_block1_2_bn False\n",
            "13 conv2_block1_2_relu False\n",
            "14 conv2_block1_0_conv False\n",
            "15 conv2_block1_3_conv False\n",
            "16 conv2_block1_out False\n",
            "17 conv2_block2_preact_bn False\n",
            "18 conv2_block2_preact_relu False\n",
            "19 conv2_block2_1_conv False\n",
            "20 conv2_block2_1_bn False\n",
            "21 conv2_block2_1_relu False\n",
            "22 conv2_block2_2_pad False\n",
            "23 conv2_block2_2_conv False\n",
            "24 conv2_block2_2_bn False\n",
            "25 conv2_block2_2_relu False\n",
            "26 conv2_block2_3_conv False\n",
            "27 conv2_block2_out False\n",
            "28 conv2_block3_preact_bn False\n",
            "29 conv2_block3_preact_relu False\n",
            "30 conv2_block3_1_conv False\n",
            "31 conv2_block3_1_bn False\n",
            "32 conv2_block3_1_relu False\n",
            "33 conv2_block3_2_pad False\n",
            "34 conv2_block3_2_conv False\n",
            "35 conv2_block3_2_bn False\n",
            "36 conv2_block3_2_relu False\n",
            "37 max_pooling2d False\n",
            "38 conv2_block3_3_conv False\n",
            "39 conv2_block3_out False\n",
            "40 conv3_block1_preact_bn False\n",
            "41 conv3_block1_preact_relu False\n",
            "42 conv3_block1_1_conv False\n",
            "43 conv3_block1_1_bn False\n",
            "44 conv3_block1_1_relu False\n",
            "45 conv3_block1_2_pad False\n",
            "46 conv3_block1_2_conv False\n",
            "47 conv3_block1_2_bn False\n",
            "48 conv3_block1_2_relu False\n",
            "49 conv3_block1_0_conv False\n",
            "50 conv3_block1_3_conv False\n",
            "51 conv3_block1_out False\n",
            "52 conv3_block2_preact_bn False\n",
            "53 conv3_block2_preact_relu False\n",
            "54 conv3_block2_1_conv False\n",
            "55 conv3_block2_1_bn False\n",
            "56 conv3_block2_1_relu False\n",
            "57 conv3_block2_2_pad False\n",
            "58 conv3_block2_2_conv False\n",
            "59 conv3_block2_2_bn False\n",
            "60 conv3_block2_2_relu False\n",
            "61 conv3_block2_3_conv False\n",
            "62 conv3_block2_out False\n",
            "63 conv3_block3_preact_bn False\n",
            "64 conv3_block3_preact_relu False\n",
            "65 conv3_block3_1_conv False\n",
            "66 conv3_block3_1_bn False\n",
            "67 conv3_block3_1_relu False\n",
            "68 conv3_block3_2_pad False\n",
            "69 conv3_block3_2_conv False\n",
            "70 conv3_block3_2_bn False\n",
            "71 conv3_block3_2_relu False\n",
            "72 conv3_block3_3_conv False\n",
            "73 conv3_block3_out False\n",
            "74 conv3_block4_preact_bn False\n",
            "75 conv3_block4_preact_relu False\n",
            "76 conv3_block4_1_conv False\n",
            "77 conv3_block4_1_bn False\n",
            "78 conv3_block4_1_relu False\n",
            "79 conv3_block4_2_pad False\n",
            "80 conv3_block4_2_conv False\n",
            "81 conv3_block4_2_bn False\n",
            "82 conv3_block4_2_relu False\n",
            "83 conv3_block4_3_conv False\n",
            "84 conv3_block4_out False\n",
            "85 conv3_block5_preact_bn False\n",
            "86 conv3_block5_preact_relu False\n",
            "87 conv3_block5_1_conv False\n",
            "88 conv3_block5_1_bn False\n",
            "89 conv3_block5_1_relu False\n",
            "90 conv3_block5_2_pad False\n",
            "91 conv3_block5_2_conv False\n",
            "92 conv3_block5_2_bn False\n",
            "93 conv3_block5_2_relu False\n",
            "94 conv3_block5_3_conv False\n",
            "95 conv3_block5_out False\n",
            "96 conv3_block6_preact_bn False\n",
            "97 conv3_block6_preact_relu False\n",
            "98 conv3_block6_1_conv False\n",
            "99 conv3_block6_1_bn False\n",
            "100 conv3_block6_1_relu False\n",
            "101 conv3_block6_2_pad False\n",
            "102 conv3_block6_2_conv False\n",
            "103 conv3_block6_2_bn False\n",
            "104 conv3_block6_2_relu False\n",
            "105 conv3_block6_3_conv False\n",
            "106 conv3_block6_out False\n",
            "107 conv3_block7_preact_bn False\n",
            "108 conv3_block7_preact_relu False\n",
            "109 conv3_block7_1_conv False\n",
            "110 conv3_block7_1_bn False\n",
            "111 conv3_block7_1_relu False\n",
            "112 conv3_block7_2_pad False\n",
            "113 conv3_block7_2_conv False\n",
            "114 conv3_block7_2_bn False\n",
            "115 conv3_block7_2_relu False\n",
            "116 conv3_block7_3_conv False\n",
            "117 conv3_block7_out False\n",
            "118 conv3_block8_preact_bn False\n",
            "119 conv3_block8_preact_relu False\n",
            "120 conv3_block8_1_conv False\n",
            "121 conv3_block8_1_bn False\n",
            "122 conv3_block8_1_relu False\n",
            "123 conv3_block8_2_pad False\n",
            "124 conv3_block8_2_conv False\n",
            "125 conv3_block8_2_bn False\n",
            "126 conv3_block8_2_relu False\n",
            "127 max_pooling2d_1 False\n",
            "128 conv3_block8_3_conv False\n",
            "129 conv3_block8_out False\n",
            "130 conv4_block1_preact_bn False\n",
            "131 conv4_block1_preact_relu False\n",
            "132 conv4_block1_1_conv False\n",
            "133 conv4_block1_1_bn False\n",
            "134 conv4_block1_1_relu False\n",
            "135 conv4_block1_2_pad False\n",
            "136 conv4_block1_2_conv False\n",
            "137 conv4_block1_2_bn False\n",
            "138 conv4_block1_2_relu False\n",
            "139 conv4_block1_0_conv False\n",
            "140 conv4_block1_3_conv False\n",
            "141 conv4_block1_out False\n",
            "142 conv4_block2_preact_bn False\n",
            "143 conv4_block2_preact_relu False\n",
            "144 conv4_block2_1_conv False\n",
            "145 conv4_block2_1_bn False\n",
            "146 conv4_block2_1_relu False\n",
            "147 conv4_block2_2_pad False\n",
            "148 conv4_block2_2_conv False\n",
            "149 conv4_block2_2_bn False\n",
            "150 conv4_block2_2_relu False\n",
            "151 conv4_block2_3_conv False\n",
            "152 conv4_block2_out False\n",
            "153 conv4_block3_preact_bn False\n",
            "154 conv4_block3_preact_relu False\n",
            "155 conv4_block3_1_conv False\n",
            "156 conv4_block3_1_bn False\n",
            "157 conv4_block3_1_relu False\n",
            "158 conv4_block3_2_pad False\n",
            "159 conv4_block3_2_conv False\n",
            "160 conv4_block3_2_bn False\n",
            "161 conv4_block3_2_relu False\n",
            "162 conv4_block3_3_conv False\n",
            "163 conv4_block3_out False\n",
            "164 conv4_block4_preact_bn False\n",
            "165 conv4_block4_preact_relu False\n",
            "166 conv4_block4_1_conv False\n",
            "167 conv4_block4_1_bn False\n",
            "168 conv4_block4_1_relu False\n",
            "169 conv4_block4_2_pad False\n",
            "170 conv4_block4_2_conv False\n",
            "171 conv4_block4_2_bn False\n",
            "172 conv4_block4_2_relu False\n",
            "173 conv4_block4_3_conv False\n",
            "174 conv4_block4_out False\n",
            "175 conv4_block5_preact_bn False\n",
            "176 conv4_block5_preact_relu False\n",
            "177 conv4_block5_1_conv False\n",
            "178 conv4_block5_1_bn False\n",
            "179 conv4_block5_1_relu False\n",
            "180 conv4_block5_2_pad False\n",
            "181 conv4_block5_2_conv False\n",
            "182 conv4_block5_2_bn False\n",
            "183 conv4_block5_2_relu False\n",
            "184 conv4_block5_3_conv False\n",
            "185 conv4_block5_out False\n",
            "186 conv4_block6_preact_bn False\n",
            "187 conv4_block6_preact_relu False\n",
            "188 conv4_block6_1_conv False\n",
            "189 conv4_block6_1_bn False\n",
            "190 conv4_block6_1_relu False\n",
            "191 conv4_block6_2_pad False\n",
            "192 conv4_block6_2_conv False\n",
            "193 conv4_block6_2_bn False\n",
            "194 conv4_block6_2_relu False\n",
            "195 conv4_block6_3_conv False\n",
            "196 conv4_block6_out False\n",
            "197 conv4_block7_preact_bn False\n",
            "198 conv4_block7_preact_relu False\n",
            "199 conv4_block7_1_conv False\n",
            "200 conv4_block7_1_bn False\n",
            "201 conv4_block7_1_relu False\n",
            "202 conv4_block7_2_pad False\n",
            "203 conv4_block7_2_conv False\n",
            "204 conv4_block7_2_bn False\n",
            "205 conv4_block7_2_relu False\n",
            "206 conv4_block7_3_conv False\n",
            "207 conv4_block7_out False\n",
            "208 conv4_block8_preact_bn False\n",
            "209 conv4_block8_preact_relu False\n",
            "210 conv4_block8_1_conv False\n",
            "211 conv4_block8_1_bn False\n",
            "212 conv4_block8_1_relu False\n",
            "213 conv4_block8_2_pad False\n",
            "214 conv4_block8_2_conv False\n",
            "215 conv4_block8_2_bn False\n",
            "216 conv4_block8_2_relu False\n",
            "217 conv4_block8_3_conv False\n",
            "218 conv4_block8_out False\n",
            "219 conv4_block9_preact_bn False\n",
            "220 conv4_block9_preact_relu False\n",
            "221 conv4_block9_1_conv False\n",
            "222 conv4_block9_1_bn False\n",
            "223 conv4_block9_1_relu False\n",
            "224 conv4_block9_2_pad False\n",
            "225 conv4_block9_2_conv False\n",
            "226 conv4_block9_2_bn False\n",
            "227 conv4_block9_2_relu False\n",
            "228 conv4_block9_3_conv False\n",
            "229 conv4_block9_out False\n",
            "230 conv4_block10_preact_bn False\n",
            "231 conv4_block10_preact_relu False\n",
            "232 conv4_block10_1_conv False\n",
            "233 conv4_block10_1_bn False\n",
            "234 conv4_block10_1_relu False\n",
            "235 conv4_block10_2_pad False\n",
            "236 conv4_block10_2_conv False\n",
            "237 conv4_block10_2_bn False\n",
            "238 conv4_block10_2_relu False\n",
            "239 conv4_block10_3_conv False\n",
            "240 conv4_block10_out False\n",
            "241 conv4_block11_preact_bn False\n",
            "242 conv4_block11_preact_relu False\n",
            "243 conv4_block11_1_conv False\n",
            "244 conv4_block11_1_bn False\n",
            "245 conv4_block11_1_relu False\n",
            "246 conv4_block11_2_pad False\n",
            "247 conv4_block11_2_conv False\n",
            "248 conv4_block11_2_bn False\n",
            "249 conv4_block11_2_relu False\n",
            "250 conv4_block11_3_conv False\n",
            "251 conv4_block11_out False\n",
            "252 conv4_block12_preact_bn False\n",
            "253 conv4_block12_preact_relu False\n",
            "254 conv4_block12_1_conv False\n",
            "255 conv4_block12_1_bn False\n",
            "256 conv4_block12_1_relu False\n",
            "257 conv4_block12_2_pad False\n",
            "258 conv4_block12_2_conv False\n",
            "259 conv4_block12_2_bn False\n",
            "260 conv4_block12_2_relu False\n",
            "261 conv4_block12_3_conv False\n",
            "262 conv4_block12_out False\n",
            "263 conv4_block13_preact_bn False\n",
            "264 conv4_block13_preact_relu False\n",
            "265 conv4_block13_1_conv False\n",
            "266 conv4_block13_1_bn False\n",
            "267 conv4_block13_1_relu False\n",
            "268 conv4_block13_2_pad False\n",
            "269 conv4_block13_2_conv False\n",
            "270 conv4_block13_2_bn False\n",
            "271 conv4_block13_2_relu False\n",
            "272 conv4_block13_3_conv False\n",
            "273 conv4_block13_out False\n",
            "274 conv4_block14_preact_bn False\n",
            "275 conv4_block14_preact_relu False\n",
            "276 conv4_block14_1_conv False\n",
            "277 conv4_block14_1_bn False\n",
            "278 conv4_block14_1_relu False\n",
            "279 conv4_block14_2_pad False\n",
            "280 conv4_block14_2_conv False\n",
            "281 conv4_block14_2_bn False\n",
            "282 conv4_block14_2_relu False\n",
            "283 conv4_block14_3_conv False\n",
            "284 conv4_block14_out False\n",
            "285 conv4_block15_preact_bn False\n",
            "286 conv4_block15_preact_relu False\n",
            "287 conv4_block15_1_conv False\n",
            "288 conv4_block15_1_bn False\n",
            "289 conv4_block15_1_relu False\n",
            "290 conv4_block15_2_pad False\n",
            "291 conv4_block15_2_conv False\n",
            "292 conv4_block15_2_bn False\n",
            "293 conv4_block15_2_relu False\n",
            "294 conv4_block15_3_conv False\n",
            "295 conv4_block15_out False\n",
            "296 conv4_block16_preact_bn False\n",
            "297 conv4_block16_preact_relu False\n",
            "298 conv4_block16_1_conv False\n",
            "299 conv4_block16_1_bn False\n",
            "300 conv4_block16_1_relu False\n",
            "301 conv4_block16_2_pad False\n",
            "302 conv4_block16_2_conv False\n",
            "303 conv4_block16_2_bn False\n",
            "304 conv4_block16_2_relu False\n",
            "305 conv4_block16_3_conv False\n",
            "306 conv4_block16_out False\n",
            "307 conv4_block17_preact_bn False\n",
            "308 conv4_block17_preact_relu False\n",
            "309 conv4_block17_1_conv False\n",
            "310 conv4_block17_1_bn False\n",
            "311 conv4_block17_1_relu False\n",
            "312 conv4_block17_2_pad False\n",
            "313 conv4_block17_2_conv False\n",
            "314 conv4_block17_2_bn False\n",
            "315 conv4_block17_2_relu False\n",
            "316 conv4_block17_3_conv False\n",
            "317 conv4_block17_out False\n",
            "318 conv4_block18_preact_bn False\n",
            "319 conv4_block18_preact_relu False\n",
            "320 conv4_block18_1_conv False\n",
            "321 conv4_block18_1_bn False\n",
            "322 conv4_block18_1_relu False\n",
            "323 conv4_block18_2_pad False\n",
            "324 conv4_block18_2_conv False\n",
            "325 conv4_block18_2_bn False\n",
            "326 conv4_block18_2_relu False\n",
            "327 conv4_block18_3_conv False\n",
            "328 conv4_block18_out False\n",
            "329 conv4_block19_preact_bn False\n",
            "330 conv4_block19_preact_relu False\n",
            "331 conv4_block19_1_conv False\n",
            "332 conv4_block19_1_bn False\n",
            "333 conv4_block19_1_relu False\n",
            "334 conv4_block19_2_pad False\n",
            "335 conv4_block19_2_conv False\n",
            "336 conv4_block19_2_bn False\n",
            "337 conv4_block19_2_relu False\n",
            "338 conv4_block19_3_conv False\n",
            "339 conv4_block19_out False\n",
            "340 conv4_block20_preact_bn False\n",
            "341 conv4_block20_preact_relu False\n",
            "342 conv4_block20_1_conv False\n",
            "343 conv4_block20_1_bn False\n",
            "344 conv4_block20_1_relu False\n",
            "345 conv4_block20_2_pad False\n",
            "346 conv4_block20_2_conv False\n",
            "347 conv4_block20_2_bn False\n",
            "348 conv4_block20_2_relu False\n",
            "349 conv4_block20_3_conv False\n",
            "350 conv4_block20_out False\n",
            "351 conv4_block21_preact_bn False\n",
            "352 conv4_block21_preact_relu False\n",
            "353 conv4_block21_1_conv False\n",
            "354 conv4_block21_1_bn False\n",
            "355 conv4_block21_1_relu False\n",
            "356 conv4_block21_2_pad False\n",
            "357 conv4_block21_2_conv False\n",
            "358 conv4_block21_2_bn False\n",
            "359 conv4_block21_2_relu False\n",
            "360 conv4_block21_3_conv False\n",
            "361 conv4_block21_out False\n",
            "362 conv4_block22_preact_bn False\n",
            "363 conv4_block22_preact_relu False\n",
            "364 conv4_block22_1_conv False\n",
            "365 conv4_block22_1_bn False\n",
            "366 conv4_block22_1_relu False\n",
            "367 conv4_block22_2_pad False\n",
            "368 conv4_block22_2_conv False\n",
            "369 conv4_block22_2_bn False\n",
            "370 conv4_block22_2_relu False\n",
            "371 conv4_block22_3_conv False\n",
            "372 conv4_block22_out False\n",
            "373 conv4_block23_preact_bn False\n",
            "374 conv4_block23_preact_relu False\n",
            "375 conv4_block23_1_conv False\n",
            "376 conv4_block23_1_bn False\n",
            "377 conv4_block23_1_relu False\n",
            "378 conv4_block23_2_pad False\n",
            "379 conv4_block23_2_conv False\n",
            "380 conv4_block23_2_bn False\n",
            "381 conv4_block23_2_relu False\n",
            "382 conv4_block23_3_conv False\n",
            "383 conv4_block23_out False\n",
            "384 conv4_block24_preact_bn False\n",
            "385 conv4_block24_preact_relu False\n",
            "386 conv4_block24_1_conv False\n",
            "387 conv4_block24_1_bn False\n",
            "388 conv4_block24_1_relu False\n",
            "389 conv4_block24_2_pad False\n",
            "390 conv4_block24_2_conv False\n",
            "391 conv4_block24_2_bn False\n",
            "392 conv4_block24_2_relu False\n",
            "393 conv4_block24_3_conv False\n",
            "394 conv4_block24_out False\n",
            "395 conv4_block25_preact_bn False\n",
            "396 conv4_block25_preact_relu False\n",
            "397 conv4_block25_1_conv False\n",
            "398 conv4_block25_1_bn False\n",
            "399 conv4_block25_1_relu False\n",
            "400 conv4_block25_2_pad False\n",
            "401 conv4_block25_2_conv False\n",
            "402 conv4_block25_2_bn False\n",
            "403 conv4_block25_2_relu False\n",
            "404 conv4_block25_3_conv False\n",
            "405 conv4_block25_out False\n",
            "406 conv4_block26_preact_bn False\n",
            "407 conv4_block26_preact_relu False\n",
            "408 conv4_block26_1_conv False\n",
            "409 conv4_block26_1_bn False\n",
            "410 conv4_block26_1_relu False\n",
            "411 conv4_block26_2_pad False\n",
            "412 conv4_block26_2_conv False\n",
            "413 conv4_block26_2_bn False\n",
            "414 conv4_block26_2_relu False\n",
            "415 conv4_block26_3_conv False\n",
            "416 conv4_block26_out False\n",
            "417 conv4_block27_preact_bn False\n",
            "418 conv4_block27_preact_relu False\n",
            "419 conv4_block27_1_conv False\n",
            "420 conv4_block27_1_bn False\n",
            "421 conv4_block27_1_relu False\n",
            "422 conv4_block27_2_pad False\n",
            "423 conv4_block27_2_conv False\n",
            "424 conv4_block27_2_bn False\n",
            "425 conv4_block27_2_relu False\n",
            "426 conv4_block27_3_conv False\n",
            "427 conv4_block27_out False\n",
            "428 conv4_block28_preact_bn False\n",
            "429 conv4_block28_preact_relu False\n",
            "430 conv4_block28_1_conv False\n",
            "431 conv4_block28_1_bn False\n",
            "432 conv4_block28_1_relu False\n",
            "433 conv4_block28_2_pad False\n",
            "434 conv4_block28_2_conv False\n",
            "435 conv4_block28_2_bn False\n",
            "436 conv4_block28_2_relu False\n",
            "437 conv4_block28_3_conv False\n",
            "438 conv4_block28_out False\n",
            "439 conv4_block29_preact_bn False\n",
            "440 conv4_block29_preact_relu False\n",
            "441 conv4_block29_1_conv False\n",
            "442 conv4_block29_1_bn False\n",
            "443 conv4_block29_1_relu False\n",
            "444 conv4_block29_2_pad False\n",
            "445 conv4_block29_2_conv False\n",
            "446 conv4_block29_2_bn False\n",
            "447 conv4_block29_2_relu False\n",
            "448 conv4_block29_3_conv False\n",
            "449 conv4_block29_out False\n",
            "450 conv4_block30_preact_bn False\n",
            "451 conv4_block30_preact_relu False\n",
            "452 conv4_block30_1_conv False\n",
            "453 conv4_block30_1_bn False\n",
            "454 conv4_block30_1_relu False\n",
            "455 conv4_block30_2_pad False\n",
            "456 conv4_block30_2_conv False\n",
            "457 conv4_block30_2_bn False\n",
            "458 conv4_block30_2_relu False\n",
            "459 conv4_block30_3_conv False\n",
            "460 conv4_block30_out False\n",
            "461 conv4_block31_preact_bn False\n",
            "462 conv4_block31_preact_relu False\n",
            "463 conv4_block31_1_conv False\n",
            "464 conv4_block31_1_bn False\n",
            "465 conv4_block31_1_relu False\n",
            "466 conv4_block31_2_pad False\n",
            "467 conv4_block31_2_conv False\n",
            "468 conv4_block31_2_bn False\n",
            "469 conv4_block31_2_relu False\n",
            "470 conv4_block31_3_conv False\n",
            "471 conv4_block31_out False\n",
            "472 conv4_block32_preact_bn False\n",
            "473 conv4_block32_preact_relu False\n",
            "474 conv4_block32_1_conv False\n",
            "475 conv4_block32_1_bn False\n",
            "476 conv4_block32_1_relu False\n",
            "477 conv4_block32_2_pad False\n",
            "478 conv4_block32_2_conv False\n",
            "479 conv4_block32_2_bn False\n",
            "480 conv4_block32_2_relu False\n",
            "481 conv4_block32_3_conv False\n",
            "482 conv4_block32_out False\n",
            "483 conv4_block33_preact_bn False\n",
            "484 conv4_block33_preact_relu False\n",
            "485 conv4_block33_1_conv False\n",
            "486 conv4_block33_1_bn False\n",
            "487 conv4_block33_1_relu False\n",
            "488 conv4_block33_2_pad False\n",
            "489 conv4_block33_2_conv False\n",
            "490 conv4_block33_2_bn False\n",
            "491 conv4_block33_2_relu False\n",
            "492 conv4_block33_3_conv False\n",
            "493 conv4_block33_out False\n",
            "494 conv4_block34_preact_bn False\n",
            "495 conv4_block34_preact_relu False\n",
            "496 conv4_block34_1_conv False\n",
            "497 conv4_block34_1_bn False\n",
            "498 conv4_block34_1_relu False\n",
            "499 conv4_block34_2_pad False\n",
            "500 conv4_block34_2_conv False\n",
            "501 conv4_block34_2_bn False\n",
            "502 conv4_block34_2_relu False\n",
            "503 conv4_block34_3_conv False\n",
            "504 conv4_block34_out False\n",
            "505 conv4_block35_preact_bn False\n",
            "506 conv4_block35_preact_relu False\n",
            "507 conv4_block35_1_conv False\n",
            "508 conv4_block35_1_bn False\n",
            "509 conv4_block35_1_relu False\n",
            "510 conv4_block35_2_pad False\n",
            "511 conv4_block35_2_conv False\n",
            "512 conv4_block35_2_bn False\n",
            "513 conv4_block35_2_relu False\n",
            "514 conv4_block35_3_conv False\n",
            "515 conv4_block35_out False\n",
            "516 conv4_block36_preact_bn False\n",
            "517 conv4_block36_preact_relu False\n",
            "518 conv4_block36_1_conv False\n",
            "519 conv4_block36_1_bn False\n",
            "520 conv4_block36_1_relu False\n",
            "521 conv4_block36_2_pad False\n",
            "522 conv4_block36_2_conv False\n",
            "523 conv4_block36_2_bn False\n",
            "524 conv4_block36_2_relu False\n",
            "525 max_pooling2d_2 False\n",
            "526 conv4_block36_3_conv False\n",
            "527 conv4_block36_out False\n",
            "528 conv5_block1_preact_bn False\n",
            "529 conv5_block1_preact_relu False\n",
            "530 conv5_block1_1_conv False\n",
            "531 conv5_block1_1_bn False\n",
            "532 conv5_block1_1_relu False\n",
            "533 conv5_block1_2_pad False\n",
            "534 conv5_block1_2_conv False\n",
            "535 conv5_block1_2_bn False\n",
            "536 conv5_block1_2_relu False\n",
            "537 conv5_block1_0_conv False\n",
            "538 conv5_block1_3_conv False\n",
            "539 conv5_block1_out False\n",
            "540 conv5_block2_preact_bn False\n",
            "541 conv5_block2_preact_relu False\n",
            "542 conv5_block2_1_conv False\n",
            "543 conv5_block2_1_bn False\n",
            "544 conv5_block2_1_relu True\n",
            "545 conv5_block2_2_pad True\n",
            "546 conv5_block2_2_conv True\n",
            "547 conv5_block2_2_bn True\n",
            "548 conv5_block2_2_relu True\n",
            "549 conv5_block2_3_conv True\n",
            "550 conv5_block2_out True\n",
            "551 conv5_block3_preact_bn True\n",
            "552 conv5_block3_preact_relu True\n",
            "553 conv5_block3_1_conv True\n",
            "554 conv5_block3_1_bn True\n",
            "555 conv5_block3_1_relu True\n",
            "556 conv5_block3_2_pad True\n",
            "557 conv5_block3_2_conv True\n",
            "558 conv5_block3_2_bn True\n",
            "559 conv5_block3_2_relu True\n",
            "560 conv5_block3_3_conv True\n",
            "561 conv5_block3_out True\n",
            "562 post_bn True\n",
            "563 post_relu True\n"
          ]
        }
      ],
      "source": [
        "# Check which layers are tuneable (trainable)\n",
        "for layer_number, layer in enumerate(base_model.layers):\n",
        "    print(layer_number, layer.name, layer.trainable)"
      ]
    },
    {
      "cell_type": "code",
      "execution_count": 111,
      "metadata": {
        "id": "o7f2xviojdBv",
        "colab": {
          "base_uri": "https://localhost:8080/"
        },
        "outputId": "cd802f4d-3cf9-4bbc-835d-1b86ac162fcf"
      },
      "outputs": [
        {
          "output_type": "stream",
          "name": "stdout",
          "text": [
            "Epoch 1/50\n",
            "7/6 [================================] - ETA: 0s - loss: 0.1634 - binary_accuracy: 0.9196"
          ]
        },
        {
          "output_type": "stream",
          "name": "stderr",
          "text": [
            "WARNING:tensorflow:Your input ran out of data; interrupting training. Make sure that your dataset or generator can generate at least `steps_per_epoch * epochs` batches (in this case, 1.65625 batches). You may need to use the repeat() function when building your dataset.\n"
          ]
        },
        {
          "output_type": "stream",
          "name": "stdout",
          "text": [
            "\b\b\b\b\b\b\b\b\b\b\b\b\b\b\b\b\b\b\b\b\b\b\b\b\b\b\b\b\b\b\b\b\b\b\b\b\b\b\b\b\b\b\b\b\b\b\b\b\b\b\b\b\b\b\b\b\b\b\b\b\b\b\b\b\b\b\b\b\b\b\b\b\b\b\b\b\b\b\b\b\b\b\b\b\b\b\b\b\b\r6/6 [==============================] - 4s 696ms/step - loss: 0.1634 - binary_accuracy: 0.9196 - val_loss: 0.4148 - val_binary_accuracy: 0.8125 - lr: 5.0000e-05\n",
            "Epoch 2/50\n",
            "7/6 [================================] - ETA: 0s - loss: 0.2286 - binary_accuracy: 0.9107"
          ]
        },
        {
          "output_type": "stream",
          "name": "stderr",
          "text": [
            "WARNING:tensorflow:Early stopping conditioned on metric `val_loss` which is not available. Available metrics are: loss,binary_accuracy\n",
            "WARNING:tensorflow:Learning rate reduction is conditioned on metric `val_loss` which is not available. Available metrics are: loss,binary_accuracy,lr\n"
          ]
        },
        {
          "output_type": "stream",
          "name": "stdout",
          "text": [
            "\b\b\b\b\b\b\b\b\b\b\b\b\b\b\b\b\b\b\b\b\b\b\b\b\b\b\b\b\b\b\b\b\b\b\b\b\b\b\b\b\b\b\b\b\b\b\b\b\b\b\b\b\b\b\b\b\b\b\b\b\b\b\b\b\b\b\b\b\b\b\b\b\b\b\b\b\b\b\b\b\b\b\b\b\b\b\b\b\b\r6/6 [==============================] - 3s 521ms/step - loss: 0.2286 - binary_accuracy: 0.9107 - lr: 5.0000e-05\n",
            "Epoch 3/50\n",
            "7/6 [================================] - ETA: 0s - loss: 0.2314 - binary_accuracy: 0.9107"
          ]
        },
        {
          "output_type": "stream",
          "name": "stderr",
          "text": [
            "WARNING:tensorflow:Early stopping conditioned on metric `val_loss` which is not available. Available metrics are: loss,binary_accuracy\n",
            "WARNING:tensorflow:Learning rate reduction is conditioned on metric `val_loss` which is not available. Available metrics are: loss,binary_accuracy,lr\n"
          ]
        },
        {
          "output_type": "stream",
          "name": "stdout",
          "text": [
            "\b\b\b\b\b\b\b\b\b\b\b\b\b\b\b\b\b\b\b\b\b\b\b\b\b\b\b\b\b\b\b\b\b\b\b\b\b\b\b\b\b\b\b\b\b\b\b\b\b\b\b\b\b\b\b\b\b\b\b\b\b\b\b\b\b\b\b\b\b\b\b\b\b\b\b\b\b\b\b\b\b\b\b\b\b\b\b\b\b\r6/6 [==============================] - 3s 486ms/step - loss: 0.2314 - binary_accuracy: 0.9107 - lr: 5.0000e-05\n",
            "Epoch 4/50\n",
            "7/6 [================================] - ETA: 0s - loss: 0.2930 - binary_accuracy: 0.8750"
          ]
        },
        {
          "output_type": "stream",
          "name": "stderr",
          "text": [
            "WARNING:tensorflow:Early stopping conditioned on metric `val_loss` which is not available. Available metrics are: loss,binary_accuracy\n",
            "WARNING:tensorflow:Learning rate reduction is conditioned on metric `val_loss` which is not available. Available metrics are: loss,binary_accuracy,lr\n"
          ]
        },
        {
          "output_type": "stream",
          "name": "stdout",
          "text": [
            "\b\b\b\b\b\b\b\b\b\b\b\b\b\b\b\b\b\b\b\b\b\b\b\b\b\b\b\b\b\b\b\b\b\b\b\b\b\b\b\b\b\b\b\b\b\b\b\b\b\b\b\b\b\b\b\b\b\b\b\b\b\b\b\b\b\b\b\b\b\b\b\b\b\b\b\b\b\b\b\b\b\b\b\b\b\b\b\b\b\r6/6 [==============================] - 3s 523ms/step - loss: 0.2930 - binary_accuracy: 0.8750 - lr: 5.0000e-05\n",
            "Epoch 5/50\n",
            "7/6 [================================] - ETA: 0s - loss: 0.1251 - binary_accuracy: 0.9464"
          ]
        },
        {
          "output_type": "stream",
          "name": "stderr",
          "text": [
            "WARNING:tensorflow:Early stopping conditioned on metric `val_loss` which is not available. Available metrics are: loss,binary_accuracy\n",
            "WARNING:tensorflow:Learning rate reduction is conditioned on metric `val_loss` which is not available. Available metrics are: loss,binary_accuracy,lr\n"
          ]
        },
        {
          "output_type": "stream",
          "name": "stdout",
          "text": [
            "\b\b\b\b\b\b\b\b\b\b\b\b\b\b\b\b\b\b\b\b\b\b\b\b\b\b\b\b\b\b\b\b\b\b\b\b\b\b\b\b\b\b\b\b\b\b\b\b\b\b\b\b\b\b\b\b\b\b\b\b\b\b\b\b\b\b\b\b\b\b\b\b\b\b\b\b\b\b\b\b\b\b\b\b\b\b\b\b\b\r6/6 [==============================] - 3s 485ms/step - loss: 0.1251 - binary_accuracy: 0.9464 - lr: 5.0000e-05\n",
            "Epoch 6/50\n",
            "7/6 [================================] - ETA: 0s - loss: 0.1879 - binary_accuracy: 0.9286"
          ]
        },
        {
          "output_type": "stream",
          "name": "stderr",
          "text": [
            "WARNING:tensorflow:Early stopping conditioned on metric `val_loss` which is not available. Available metrics are: loss,binary_accuracy\n",
            "WARNING:tensorflow:Learning rate reduction is conditioned on metric `val_loss` which is not available. Available metrics are: loss,binary_accuracy,lr\n"
          ]
        },
        {
          "output_type": "stream",
          "name": "stdout",
          "text": [
            "\b\b\b\b\b\b\b\b\b\b\b\b\b\b\b\b\b\b\b\b\b\b\b\b\b\b\b\b\b\b\b\b\b\b\b\b\b\b\b\b\b\b\b\b\b\b\b\b\b\b\b\b\b\b\b\b\b\b\b\b\b\b\b\b\b\b\b\b\b\b\b\b\b\b\b\b\b\b\b\b\b\b\b\b\b\b\b\b\b\r6/6 [==============================] - 3s 502ms/step - loss: 0.1879 - binary_accuracy: 0.9286 - lr: 5.0000e-05\n",
            "Epoch 7/50\n",
            "7/6 [================================] - ETA: 0s - loss: 0.3103 - binary_accuracy: 0.8750"
          ]
        },
        {
          "output_type": "stream",
          "name": "stderr",
          "text": [
            "WARNING:tensorflow:Early stopping conditioned on metric `val_loss` which is not available. Available metrics are: loss,binary_accuracy\n",
            "WARNING:tensorflow:Learning rate reduction is conditioned on metric `val_loss` which is not available. Available metrics are: loss,binary_accuracy,lr\n"
          ]
        },
        {
          "output_type": "stream",
          "name": "stdout",
          "text": [
            "\b\b\b\b\b\b\b\b\b\b\b\b\b\b\b\b\b\b\b\b\b\b\b\b\b\b\b\b\b\b\b\b\b\b\b\b\b\b\b\b\b\b\b\b\b\b\b\b\b\b\b\b\b\b\b\b\b\b\b\b\b\b\b\b\b\b\b\b\b\b\b\b\b\b\b\b\b\b\b\b\b\b\b\b\b\b\b\b\b\r6/6 [==============================] - 3s 533ms/step - loss: 0.3103 - binary_accuracy: 0.8750 - lr: 5.0000e-05\n",
            "Epoch 8/50\n",
            "7/6 [================================] - ETA: 0s - loss: 0.1229 - binary_accuracy: 0.9554"
          ]
        },
        {
          "output_type": "stream",
          "name": "stderr",
          "text": [
            "WARNING:tensorflow:Early stopping conditioned on metric `val_loss` which is not available. Available metrics are: loss,binary_accuracy\n",
            "WARNING:tensorflow:Learning rate reduction is conditioned on metric `val_loss` which is not available. Available metrics are: loss,binary_accuracy,lr\n"
          ]
        },
        {
          "output_type": "stream",
          "name": "stdout",
          "text": [
            "\b\b\b\b\b\b\b\b\b\b\b\b\b\b\b\b\b\b\b\b\b\b\b\b\b\b\b\b\b\b\b\b\b\b\b\b\b\b\b\b\b\b\b\b\b\b\b\b\b\b\b\b\b\b\b\b\b\b\b\b\b\b\b\b\b\b\b\b\b\b\b\b\b\b\b\b\b\b\b\b\b\b\b\b\b\b\b\b\b\r6/6 [==============================] - 3s 470ms/step - loss: 0.1229 - binary_accuracy: 0.9554 - lr: 5.0000e-05\n",
            "Epoch 9/50\n",
            "7/6 [================================] - ETA: 0s - loss: 0.2204 - binary_accuracy: 0.9062"
          ]
        },
        {
          "output_type": "stream",
          "name": "stderr",
          "text": [
            "WARNING:tensorflow:Early stopping conditioned on metric `val_loss` which is not available. Available metrics are: loss,binary_accuracy\n",
            "WARNING:tensorflow:Learning rate reduction is conditioned on metric `val_loss` which is not available. Available metrics are: loss,binary_accuracy,lr\n"
          ]
        },
        {
          "output_type": "stream",
          "name": "stdout",
          "text": [
            "\b\b\b\b\b\b\b\b\b\b\b\b\b\b\b\b\b\b\b\b\b\b\b\b\b\b\b\b\b\b\b\b\b\b\b\b\b\b\b\b\b\b\b\b\b\b\b\b\b\b\b\b\b\b\b\b\b\b\b\b\b\b\b\b\b\b\b\b\b\b\b\b\b\b\b\b\b\b\b\b\b\b\b\b\b\b\b\b\b\r6/6 [==============================] - 3s 486ms/step - loss: 0.2204 - binary_accuracy: 0.9062 - lr: 5.0000e-05\n",
            "Epoch 10/50\n",
            "7/6 [================================] - ETA: 0s - loss: 0.1429 - binary_accuracy: 0.9598"
          ]
        },
        {
          "output_type": "stream",
          "name": "stderr",
          "text": [
            "WARNING:tensorflow:Early stopping conditioned on metric `val_loss` which is not available. Available metrics are: loss,binary_accuracy\n",
            "WARNING:tensorflow:Learning rate reduction is conditioned on metric `val_loss` which is not available. Available metrics are: loss,binary_accuracy,lr\n"
          ]
        },
        {
          "output_type": "stream",
          "name": "stdout",
          "text": [
            "\b\b\b\b\b\b\b\b\b\b\b\b\b\b\b\b\b\b\b\b\b\b\b\b\b\b\b\b\b\b\b\b\b\b\b\b\b\b\b\b\b\b\b\b\b\b\b\b\b\b\b\b\b\b\b\b\b\b\b\b\b\b\b\b\b\b\b\b\b\b\b\b\b\b\b\b\b\b\b\b\b\b\b\b\b\b\b\b\b\r6/6 [==============================] - 3s 490ms/step - loss: 0.1429 - binary_accuracy: 0.9598 - lr: 5.0000e-05\n",
            "Epoch 11/50\n",
            "7/6 [================================] - ETA: 0s - loss: 0.2137 - binary_accuracy: 0.9152"
          ]
        },
        {
          "output_type": "stream",
          "name": "stderr",
          "text": [
            "WARNING:tensorflow:Early stopping conditioned on metric `val_loss` which is not available. Available metrics are: loss,binary_accuracy\n",
            "WARNING:tensorflow:Learning rate reduction is conditioned on metric `val_loss` which is not available. Available metrics are: loss,binary_accuracy,lr\n"
          ]
        },
        {
          "output_type": "stream",
          "name": "stdout",
          "text": [
            "\b\b\b\b\b\b\b\b\b\b\b\b\b\b\b\b\b\b\b\b\b\b\b\b\b\b\b\b\b\b\b\b\b\b\b\b\b\b\b\b\b\b\b\b\b\b\b\b\b\b\b\b\b\b\b\b\b\b\b\b\b\b\b\b\b\b\b\b\b\b\b\b\b\b\b\b\b\b\b\b\b\b\b\b\b\b\b\b\b\r6/6 [==============================] - 3s 478ms/step - loss: 0.2137 - binary_accuracy: 0.9152 - lr: 5.0000e-05\n",
            "Epoch 12/50\n",
            "7/6 [================================] - ETA: 0s - loss: 0.1775 - binary_accuracy: 0.9241"
          ]
        },
        {
          "output_type": "stream",
          "name": "stderr",
          "text": [
            "WARNING:tensorflow:Early stopping conditioned on metric `val_loss` which is not available. Available metrics are: loss,binary_accuracy\n",
            "WARNING:tensorflow:Learning rate reduction is conditioned on metric `val_loss` which is not available. Available metrics are: loss,binary_accuracy,lr\n"
          ]
        },
        {
          "output_type": "stream",
          "name": "stdout",
          "text": [
            "\b\b\b\b\b\b\b\b\b\b\b\b\b\b\b\b\b\b\b\b\b\b\b\b\b\b\b\b\b\b\b\b\b\b\b\b\b\b\b\b\b\b\b\b\b\b\b\b\b\b\b\b\b\b\b\b\b\b\b\b\b\b\b\b\b\b\b\b\b\b\b\b\b\b\b\b\b\b\b\b\b\b\b\b\b\b\b\b\b\r6/6 [==============================] - 3s 504ms/step - loss: 0.1775 - binary_accuracy: 0.9241 - lr: 5.0000e-05\n",
            "Epoch 13/50\n",
            "7/6 [================================] - ETA: 0s - loss: 0.2345 - binary_accuracy: 0.8884"
          ]
        },
        {
          "output_type": "stream",
          "name": "stderr",
          "text": [
            "WARNING:tensorflow:Early stopping conditioned on metric `val_loss` which is not available. Available metrics are: loss,binary_accuracy\n",
            "WARNING:tensorflow:Learning rate reduction is conditioned on metric `val_loss` which is not available. Available metrics are: loss,binary_accuracy,lr\n"
          ]
        },
        {
          "output_type": "stream",
          "name": "stdout",
          "text": [
            "\b\b\b\b\b\b\b\b\b\b\b\b\b\b\b\b\b\b\b\b\b\b\b\b\b\b\b\b\b\b\b\b\b\b\b\b\b\b\b\b\b\b\b\b\b\b\b\b\b\b\b\b\b\b\b\b\b\b\b\b\b\b\b\b\b\b\b\b\b\b\b\b\b\b\b\b\b\b\b\b\b\b\b\b\b\b\b\b\b\r6/6 [==============================] - 3s 484ms/step - loss: 0.2345 - binary_accuracy: 0.8884 - lr: 5.0000e-05\n",
            "Epoch 14/50\n",
            "7/6 [================================] - ETA: 0s - loss: 0.2767 - binary_accuracy: 0.8839"
          ]
        },
        {
          "output_type": "stream",
          "name": "stderr",
          "text": [
            "WARNING:tensorflow:Early stopping conditioned on metric `val_loss` which is not available. Available metrics are: loss,binary_accuracy\n",
            "WARNING:tensorflow:Learning rate reduction is conditioned on metric `val_loss` which is not available. Available metrics are: loss,binary_accuracy,lr\n"
          ]
        },
        {
          "output_type": "stream",
          "name": "stdout",
          "text": [
            "\b\b\b\b\b\b\b\b\b\b\b\b\b\b\b\b\b\b\b\b\b\b\b\b\b\b\b\b\b\b\b\b\b\b\b\b\b\b\b\b\b\b\b\b\b\b\b\b\b\b\b\b\b\b\b\b\b\b\b\b\b\b\b\b\b\b\b\b\b\b\b\b\b\b\b\b\b\b\b\b\b\b\b\b\b\b\b\b\b\r6/6 [==============================] - 3s 523ms/step - loss: 0.2767 - binary_accuracy: 0.8839 - lr: 5.0000e-05\n",
            "Epoch 15/50\n",
            "7/6 [================================] - ETA: 0s - loss: 0.1605 - binary_accuracy: 0.9375"
          ]
        },
        {
          "output_type": "stream",
          "name": "stderr",
          "text": [
            "WARNING:tensorflow:Early stopping conditioned on metric `val_loss` which is not available. Available metrics are: loss,binary_accuracy\n",
            "WARNING:tensorflow:Learning rate reduction is conditioned on metric `val_loss` which is not available. Available metrics are: loss,binary_accuracy,lr\n"
          ]
        },
        {
          "output_type": "stream",
          "name": "stdout",
          "text": [
            "\b\b\b\b\b\b\b\b\b\b\b\b\b\b\b\b\b\b\b\b\b\b\b\b\b\b\b\b\b\b\b\b\b\b\b\b\b\b\b\b\b\b\b\b\b\b\b\b\b\b\b\b\b\b\b\b\b\b\b\b\b\b\b\b\b\b\b\b\b\b\b\b\b\b\b\b\b\b\b\b\b\b\b\b\b\b\b\b\b\r6/6 [==============================] - 3s 488ms/step - loss: 0.1605 - binary_accuracy: 0.9375 - lr: 5.0000e-05\n",
            "Epoch 16/50\n",
            "7/6 [================================] - ETA: 0s - loss: 0.1753 - binary_accuracy: 0.9330"
          ]
        },
        {
          "output_type": "stream",
          "name": "stderr",
          "text": [
            "WARNING:tensorflow:Early stopping conditioned on metric `val_loss` which is not available. Available metrics are: loss,binary_accuracy\n",
            "WARNING:tensorflow:Learning rate reduction is conditioned on metric `val_loss` which is not available. Available metrics are: loss,binary_accuracy,lr\n"
          ]
        },
        {
          "output_type": "stream",
          "name": "stdout",
          "text": [
            "\b\b\b\b\b\b\b\b\b\b\b\b\b\b\b\b\b\b\b\b\b\b\b\b\b\b\b\b\b\b\b\b\b\b\b\b\b\b\b\b\b\b\b\b\b\b\b\b\b\b\b\b\b\b\b\b\b\b\b\b\b\b\b\b\b\b\b\b\b\b\b\b\b\b\b\b\b\b\b\b\b\b\b\b\b\b\b\b\b\r6/6 [==============================] - 3s 500ms/step - loss: 0.1753 - binary_accuracy: 0.9330 - lr: 5.0000e-05\n",
            "Epoch 17/50\n",
            "7/6 [================================] - ETA: 0s - loss: 0.1712 - binary_accuracy: 0.9241"
          ]
        },
        {
          "output_type": "stream",
          "name": "stderr",
          "text": [
            "WARNING:tensorflow:Early stopping conditioned on metric `val_loss` which is not available. Available metrics are: loss,binary_accuracy\n",
            "WARNING:tensorflow:Learning rate reduction is conditioned on metric `val_loss` which is not available. Available metrics are: loss,binary_accuracy,lr\n"
          ]
        },
        {
          "output_type": "stream",
          "name": "stdout",
          "text": [
            "\b\b\b\b\b\b\b\b\b\b\b\b\b\b\b\b\b\b\b\b\b\b\b\b\b\b\b\b\b\b\b\b\b\b\b\b\b\b\b\b\b\b\b\b\b\b\b\b\b\b\b\b\b\b\b\b\b\b\b\b\b\b\b\b\b\b\b\b\b\b\b\b\b\b\b\b\b\b\b\b\b\b\b\b\b\b\b\b\b\r6/6 [==============================] - 3s 502ms/step - loss: 0.1712 - binary_accuracy: 0.9241 - lr: 5.0000e-05\n",
            "Epoch 18/50\n",
            "7/6 [================================] - ETA: 0s - loss: 0.1613 - binary_accuracy: 0.9152"
          ]
        },
        {
          "output_type": "stream",
          "name": "stderr",
          "text": [
            "WARNING:tensorflow:Early stopping conditioned on metric `val_loss` which is not available. Available metrics are: loss,binary_accuracy\n",
            "WARNING:tensorflow:Learning rate reduction is conditioned on metric `val_loss` which is not available. Available metrics are: loss,binary_accuracy,lr\n"
          ]
        },
        {
          "output_type": "stream",
          "name": "stdout",
          "text": [
            "\b\b\b\b\b\b\b\b\b\b\b\b\b\b\b\b\b\b\b\b\b\b\b\b\b\b\b\b\b\b\b\b\b\b\b\b\b\b\b\b\b\b\b\b\b\b\b\b\b\b\b\b\b\b\b\b\b\b\b\b\b\b\b\b\b\b\b\b\b\b\b\b\b\b\b\b\b\b\b\b\b\b\b\b\b\b\b\b\b\r6/6 [==============================] - 3s 493ms/step - loss: 0.1613 - binary_accuracy: 0.9152 - lr: 5.0000e-05\n",
            "Epoch 19/50\n",
            "7/6 [================================] - ETA: 0s - loss: 0.1729 - binary_accuracy: 0.9375"
          ]
        },
        {
          "output_type": "stream",
          "name": "stderr",
          "text": [
            "WARNING:tensorflow:Early stopping conditioned on metric `val_loss` which is not available. Available metrics are: loss,binary_accuracy\n",
            "WARNING:tensorflow:Learning rate reduction is conditioned on metric `val_loss` which is not available. Available metrics are: loss,binary_accuracy,lr\n"
          ]
        },
        {
          "output_type": "stream",
          "name": "stdout",
          "text": [
            "\b\b\b\b\b\b\b\b\b\b\b\b\b\b\b\b\b\b\b\b\b\b\b\b\b\b\b\b\b\b\b\b\b\b\b\b\b\b\b\b\b\b\b\b\b\b\b\b\b\b\b\b\b\b\b\b\b\b\b\b\b\b\b\b\b\b\b\b\b\b\b\b\b\b\b\b\b\b\b\b\b\b\b\b\b\b\b\b\b\r6/6 [==============================] - 4s 599ms/step - loss: 0.1729 - binary_accuracy: 0.9375 - lr: 5.0000e-05\n",
            "Epoch 20/50\n",
            "7/6 [================================] - ETA: 0s - loss: 0.1626 - binary_accuracy: 0.9375"
          ]
        },
        {
          "output_type": "stream",
          "name": "stderr",
          "text": [
            "WARNING:tensorflow:Early stopping conditioned on metric `val_loss` which is not available. Available metrics are: loss,binary_accuracy\n",
            "WARNING:tensorflow:Learning rate reduction is conditioned on metric `val_loss` which is not available. Available metrics are: loss,binary_accuracy,lr\n"
          ]
        },
        {
          "output_type": "stream",
          "name": "stdout",
          "text": [
            "\b\b\b\b\b\b\b\b\b\b\b\b\b\b\b\b\b\b\b\b\b\b\b\b\b\b\b\b\b\b\b\b\b\b\b\b\b\b\b\b\b\b\b\b\b\b\b\b\b\b\b\b\b\b\b\b\b\b\b\b\b\b\b\b\b\b\b\b\b\b\b\b\b\b\b\b\b\b\b\b\b\b\b\b\b\b\b\b\b\r6/6 [==============================] - 3s 471ms/step - loss: 0.1626 - binary_accuracy: 0.9375 - lr: 5.0000e-05\n",
            "Epoch 21/50\n",
            "7/6 [================================] - ETA: 0s - loss: 0.1368 - binary_accuracy: 0.9286"
          ]
        },
        {
          "output_type": "stream",
          "name": "stderr",
          "text": [
            "WARNING:tensorflow:Early stopping conditioned on metric `val_loss` which is not available. Available metrics are: loss,binary_accuracy\n",
            "WARNING:tensorflow:Learning rate reduction is conditioned on metric `val_loss` which is not available. Available metrics are: loss,binary_accuracy,lr\n"
          ]
        },
        {
          "output_type": "stream",
          "name": "stdout",
          "text": [
            "\b\b\b\b\b\b\b\b\b\b\b\b\b\b\b\b\b\b\b\b\b\b\b\b\b\b\b\b\b\b\b\b\b\b\b\b\b\b\b\b\b\b\b\b\b\b\b\b\b\b\b\b\b\b\b\b\b\b\b\b\b\b\b\b\b\b\b\b\b\b\b\b\b\b\b\b\b\b\b\b\b\b\b\b\b\b\b\b\b\r6/6 [==============================] - 3s 503ms/step - loss: 0.1368 - binary_accuracy: 0.9286 - lr: 5.0000e-05\n",
            "Epoch 22/50\n",
            "7/6 [================================] - ETA: 0s - loss: 0.1723 - binary_accuracy: 0.9286"
          ]
        },
        {
          "output_type": "stream",
          "name": "stderr",
          "text": [
            "WARNING:tensorflow:Early stopping conditioned on metric `val_loss` which is not available. Available metrics are: loss,binary_accuracy\n",
            "WARNING:tensorflow:Learning rate reduction is conditioned on metric `val_loss` which is not available. Available metrics are: loss,binary_accuracy,lr\n"
          ]
        },
        {
          "output_type": "stream",
          "name": "stdout",
          "text": [
            "\b\b\b\b\b\b\b\b\b\b\b\b\b\b\b\b\b\b\b\b\b\b\b\b\b\b\b\b\b\b\b\b\b\b\b\b\b\b\b\b\b\b\b\b\b\b\b\b\b\b\b\b\b\b\b\b\b\b\b\b\b\b\b\b\b\b\b\b\b\b\b\b\b\b\b\b\b\b\b\b\b\b\b\b\b\b\b\b\b\r6/6 [==============================] - 3s 473ms/step - loss: 0.1723 - binary_accuracy: 0.9286 - lr: 5.0000e-05\n",
            "Epoch 23/50\n",
            "7/6 [================================] - ETA: 0s - loss: 0.2039 - binary_accuracy: 0.9107"
          ]
        },
        {
          "output_type": "stream",
          "name": "stderr",
          "text": [
            "WARNING:tensorflow:Early stopping conditioned on metric `val_loss` which is not available. Available metrics are: loss,binary_accuracy\n",
            "WARNING:tensorflow:Learning rate reduction is conditioned on metric `val_loss` which is not available. Available metrics are: loss,binary_accuracy,lr\n"
          ]
        },
        {
          "output_type": "stream",
          "name": "stdout",
          "text": [
            "\b\b\b\b\b\b\b\b\b\b\b\b\b\b\b\b\b\b\b\b\b\b\b\b\b\b\b\b\b\b\b\b\b\b\b\b\b\b\b\b\b\b\b\b\b\b\b\b\b\b\b\b\b\b\b\b\b\b\b\b\b\b\b\b\b\b\b\b\b\b\b\b\b\b\b\b\b\b\b\b\b\b\b\b\b\b\b\b\b\r6/6 [==============================] - 3s 477ms/step - loss: 0.2039 - binary_accuracy: 0.9107 - lr: 5.0000e-05\n",
            "Epoch 24/50\n",
            "7/6 [================================] - ETA: 0s - loss: 0.2032 - binary_accuracy: 0.9420"
          ]
        },
        {
          "output_type": "stream",
          "name": "stderr",
          "text": [
            "WARNING:tensorflow:Early stopping conditioned on metric `val_loss` which is not available. Available metrics are: loss,binary_accuracy\n",
            "WARNING:tensorflow:Learning rate reduction is conditioned on metric `val_loss` which is not available. Available metrics are: loss,binary_accuracy,lr\n"
          ]
        },
        {
          "output_type": "stream",
          "name": "stdout",
          "text": [
            "\b\b\b\b\b\b\b\b\b\b\b\b\b\b\b\b\b\b\b\b\b\b\b\b\b\b\b\b\b\b\b\b\b\b\b\b\b\b\b\b\b\b\b\b\b\b\b\b\b\b\b\b\b\b\b\b\b\b\b\b\b\b\b\b\b\b\b\b\b\b\b\b\b\b\b\b\b\b\b\b\b\b\b\b\b\b\b\b\b\r6/6 [==============================] - 3s 463ms/step - loss: 0.2032 - binary_accuracy: 0.9420 - lr: 5.0000e-05\n",
            "Epoch 25/50\n",
            "7/6 [================================] - ETA: 0s - loss: 0.2131 - binary_accuracy: 0.9152"
          ]
        },
        {
          "output_type": "stream",
          "name": "stderr",
          "text": [
            "WARNING:tensorflow:Early stopping conditioned on metric `val_loss` which is not available. Available metrics are: loss,binary_accuracy\n",
            "WARNING:tensorflow:Learning rate reduction is conditioned on metric `val_loss` which is not available. Available metrics are: loss,binary_accuracy,lr\n"
          ]
        },
        {
          "output_type": "stream",
          "name": "stdout",
          "text": [
            "\b\b\b\b\b\b\b\b\b\b\b\b\b\b\b\b\b\b\b\b\b\b\b\b\b\b\b\b\b\b\b\b\b\b\b\b\b\b\b\b\b\b\b\b\b\b\b\b\b\b\b\b\b\b\b\b\b\b\b\b\b\b\b\b\b\b\b\b\b\b\b\b\b\b\b\b\b\b\b\b\b\b\b\b\b\b\b\b\b\r6/6 [==============================] - 3s 493ms/step - loss: 0.2131 - binary_accuracy: 0.9152 - lr: 5.0000e-05\n",
            "Epoch 26/50\n",
            "7/6 [================================] - ETA: 0s - loss: 0.1844 - binary_accuracy: 0.9286"
          ]
        },
        {
          "output_type": "stream",
          "name": "stderr",
          "text": [
            "WARNING:tensorflow:Early stopping conditioned on metric `val_loss` which is not available. Available metrics are: loss,binary_accuracy\n",
            "WARNING:tensorflow:Learning rate reduction is conditioned on metric `val_loss` which is not available. Available metrics are: loss,binary_accuracy,lr\n"
          ]
        },
        {
          "output_type": "stream",
          "name": "stdout",
          "text": [
            "\b\b\b\b\b\b\b\b\b\b\b\b\b\b\b\b\b\b\b\b\b\b\b\b\b\b\b\b\b\b\b\b\b\b\b\b\b\b\b\b\b\b\b\b\b\b\b\b\b\b\b\b\b\b\b\b\b\b\b\b\b\b\b\b\b\b\b\b\b\b\b\b\b\b\b\b\b\b\b\b\b\b\b\b\b\b\b\b\b\r6/6 [==============================] - 3s 517ms/step - loss: 0.1844 - binary_accuracy: 0.9286 - lr: 5.0000e-05\n",
            "Epoch 27/50\n",
            "7/6 [================================] - ETA: 0s - loss: 0.1408 - binary_accuracy: 0.9375"
          ]
        },
        {
          "output_type": "stream",
          "name": "stderr",
          "text": [
            "WARNING:tensorflow:Early stopping conditioned on metric `val_loss` which is not available. Available metrics are: loss,binary_accuracy\n",
            "WARNING:tensorflow:Learning rate reduction is conditioned on metric `val_loss` which is not available. Available metrics are: loss,binary_accuracy,lr\n"
          ]
        },
        {
          "output_type": "stream",
          "name": "stdout",
          "text": [
            "\b\b\b\b\b\b\b\b\b\b\b\b\b\b\b\b\b\b\b\b\b\b\b\b\b\b\b\b\b\b\b\b\b\b\b\b\b\b\b\b\b\b\b\b\b\b\b\b\b\b\b\b\b\b\b\b\b\b\b\b\b\b\b\b\b\b\b\b\b\b\b\b\b\b\b\b\b\b\b\b\b\b\b\b\b\b\b\b\b\r6/6 [==============================] - 3s 461ms/step - loss: 0.1408 - binary_accuracy: 0.9375 - lr: 5.0000e-05\n",
            "Epoch 28/50\n",
            "7/6 [================================] - ETA: 0s - loss: 0.1751 - binary_accuracy: 0.9241"
          ]
        },
        {
          "output_type": "stream",
          "name": "stderr",
          "text": [
            "WARNING:tensorflow:Early stopping conditioned on metric `val_loss` which is not available. Available metrics are: loss,binary_accuracy\n",
            "WARNING:tensorflow:Learning rate reduction is conditioned on metric `val_loss` which is not available. Available metrics are: loss,binary_accuracy,lr\n"
          ]
        },
        {
          "output_type": "stream",
          "name": "stdout",
          "text": [
            "\b\b\b\b\b\b\b\b\b\b\b\b\b\b\b\b\b\b\b\b\b\b\b\b\b\b\b\b\b\b\b\b\b\b\b\b\b\b\b\b\b\b\b\b\b\b\b\b\b\b\b\b\b\b\b\b\b\b\b\b\b\b\b\b\b\b\b\b\b\b\b\b\b\b\b\b\b\b\b\b\b\b\b\b\b\b\b\b\b\r6/6 [==============================] - 3s 478ms/step - loss: 0.1751 - binary_accuracy: 0.9241 - lr: 5.0000e-05\n",
            "Epoch 29/50\n",
            "7/6 [================================] - ETA: 0s - loss: 0.1670 - binary_accuracy: 0.9375"
          ]
        },
        {
          "output_type": "stream",
          "name": "stderr",
          "text": [
            "WARNING:tensorflow:Early stopping conditioned on metric `val_loss` which is not available. Available metrics are: loss,binary_accuracy\n",
            "WARNING:tensorflow:Learning rate reduction is conditioned on metric `val_loss` which is not available. Available metrics are: loss,binary_accuracy,lr\n"
          ]
        },
        {
          "output_type": "stream",
          "name": "stdout",
          "text": [
            "\b\b\b\b\b\b\b\b\b\b\b\b\b\b\b\b\b\b\b\b\b\b\b\b\b\b\b\b\b\b\b\b\b\b\b\b\b\b\b\b\b\b\b\b\b\b\b\b\b\b\b\b\b\b\b\b\b\b\b\b\b\b\b\b\b\b\b\b\b\b\b\b\b\b\b\b\b\b\b\b\b\b\b\b\b\b\b\b\b\r6/6 [==============================] - 3s 503ms/step - loss: 0.1670 - binary_accuracy: 0.9375 - lr: 5.0000e-05\n",
            "Epoch 30/50\n",
            "7/6 [================================] - ETA: 0s - loss: 0.1612 - binary_accuracy: 0.9420"
          ]
        },
        {
          "output_type": "stream",
          "name": "stderr",
          "text": [
            "WARNING:tensorflow:Early stopping conditioned on metric `val_loss` which is not available. Available metrics are: loss,binary_accuracy\n",
            "WARNING:tensorflow:Learning rate reduction is conditioned on metric `val_loss` which is not available. Available metrics are: loss,binary_accuracy,lr\n"
          ]
        },
        {
          "output_type": "stream",
          "name": "stdout",
          "text": [
            "\b\b\b\b\b\b\b\b\b\b\b\b\b\b\b\b\b\b\b\b\b\b\b\b\b\b\b\b\b\b\b\b\b\b\b\b\b\b\b\b\b\b\b\b\b\b\b\b\b\b\b\b\b\b\b\b\b\b\b\b\b\b\b\b\b\b\b\b\b\b\b\b\b\b\b\b\b\b\b\b\b\b\b\b\b\b\b\b\b\r6/6 [==============================] - 3s 488ms/step - loss: 0.1612 - binary_accuracy: 0.9420 - lr: 5.0000e-05\n",
            "Epoch 31/50\n",
            "7/6 [================================] - ETA: 0s - loss: 0.2442 - binary_accuracy: 0.9018"
          ]
        },
        {
          "output_type": "stream",
          "name": "stderr",
          "text": [
            "WARNING:tensorflow:Early stopping conditioned on metric `val_loss` which is not available. Available metrics are: loss,binary_accuracy\n",
            "WARNING:tensorflow:Learning rate reduction is conditioned on metric `val_loss` which is not available. Available metrics are: loss,binary_accuracy,lr\n"
          ]
        },
        {
          "output_type": "stream",
          "name": "stdout",
          "text": [
            "\b\b\b\b\b\b\b\b\b\b\b\b\b\b\b\b\b\b\b\b\b\b\b\b\b\b\b\b\b\b\b\b\b\b\b\b\b\b\b\b\b\b\b\b\b\b\b\b\b\b\b\b\b\b\b\b\b\b\b\b\b\b\b\b\b\b\b\b\b\b\b\b\b\b\b\b\b\b\b\b\b\b\b\b\b\b\b\b\b\r6/6 [==============================] - 3s 499ms/step - loss: 0.2442 - binary_accuracy: 0.9018 - lr: 5.0000e-05\n",
            "Epoch 32/50\n",
            "7/6 [================================] - ETA: 0s - loss: 0.2047 - binary_accuracy: 0.9152"
          ]
        },
        {
          "output_type": "stream",
          "name": "stderr",
          "text": [
            "WARNING:tensorflow:Early stopping conditioned on metric `val_loss` which is not available. Available metrics are: loss,binary_accuracy\n",
            "WARNING:tensorflow:Learning rate reduction is conditioned on metric `val_loss` which is not available. Available metrics are: loss,binary_accuracy,lr\n"
          ]
        },
        {
          "output_type": "stream",
          "name": "stdout",
          "text": [
            "\b\b\b\b\b\b\b\b\b\b\b\b\b\b\b\b\b\b\b\b\b\b\b\b\b\b\b\b\b\b\b\b\b\b\b\b\b\b\b\b\b\b\b\b\b\b\b\b\b\b\b\b\b\b\b\b\b\b\b\b\b\b\b\b\b\b\b\b\b\b\b\b\b\b\b\b\b\b\b\b\b\b\b\b\b\b\b\b\b\r6/6 [==============================] - 3s 486ms/step - loss: 0.2047 - binary_accuracy: 0.9152 - lr: 5.0000e-05\n",
            "Epoch 33/50\n",
            "7/6 [================================] - ETA: 0s - loss: 0.1687 - binary_accuracy: 0.9196"
          ]
        },
        {
          "output_type": "stream",
          "name": "stderr",
          "text": [
            "WARNING:tensorflow:Early stopping conditioned on metric `val_loss` which is not available. Available metrics are: loss,binary_accuracy\n",
            "WARNING:tensorflow:Learning rate reduction is conditioned on metric `val_loss` which is not available. Available metrics are: loss,binary_accuracy,lr\n"
          ]
        },
        {
          "output_type": "stream",
          "name": "stdout",
          "text": [
            "\b\b\b\b\b\b\b\b\b\b\b\b\b\b\b\b\b\b\b\b\b\b\b\b\b\b\b\b\b\b\b\b\b\b\b\b\b\b\b\b\b\b\b\b\b\b\b\b\b\b\b\b\b\b\b\b\b\b\b\b\b\b\b\b\b\b\b\b\b\b\b\b\b\b\b\b\b\b\b\b\b\b\b\b\b\b\b\b\b\r6/6 [==============================] - 3s 480ms/step - loss: 0.1687 - binary_accuracy: 0.9196 - lr: 5.0000e-05\n",
            "Epoch 34/50\n",
            "7/6 [================================] - ETA: 0s - loss: 0.1901 - binary_accuracy: 0.9286"
          ]
        },
        {
          "output_type": "stream",
          "name": "stderr",
          "text": [
            "WARNING:tensorflow:Early stopping conditioned on metric `val_loss` which is not available. Available metrics are: loss,binary_accuracy\n",
            "WARNING:tensorflow:Learning rate reduction is conditioned on metric `val_loss` which is not available. Available metrics are: loss,binary_accuracy,lr\n"
          ]
        },
        {
          "output_type": "stream",
          "name": "stdout",
          "text": [
            "\b\b\b\b\b\b\b\b\b\b\b\b\b\b\b\b\b\b\b\b\b\b\b\b\b\b\b\b\b\b\b\b\b\b\b\b\b\b\b\b\b\b\b\b\b\b\b\b\b\b\b\b\b\b\b\b\b\b\b\b\b\b\b\b\b\b\b\b\b\b\b\b\b\b\b\b\b\b\b\b\b\b\b\b\b\b\b\b\b\r6/6 [==============================] - 3s 531ms/step - loss: 0.1901 - binary_accuracy: 0.9286 - lr: 5.0000e-05\n",
            "Epoch 35/50\n",
            "7/6 [================================] - ETA: 0s - loss: 0.1535 - binary_accuracy: 0.9420"
          ]
        },
        {
          "output_type": "stream",
          "name": "stderr",
          "text": [
            "WARNING:tensorflow:Early stopping conditioned on metric `val_loss` which is not available. Available metrics are: loss,binary_accuracy\n",
            "WARNING:tensorflow:Learning rate reduction is conditioned on metric `val_loss` which is not available. Available metrics are: loss,binary_accuracy,lr\n"
          ]
        },
        {
          "output_type": "stream",
          "name": "stdout",
          "text": [
            "\b\b\b\b\b\b\b\b\b\b\b\b\b\b\b\b\b\b\b\b\b\b\b\b\b\b\b\b\b\b\b\b\b\b\b\b\b\b\b\b\b\b\b\b\b\b\b\b\b\b\b\b\b\b\b\b\b\b\b\b\b\b\b\b\b\b\b\b\b\b\b\b\b\b\b\b\b\b\b\b\b\b\b\b\b\b\b\b\b\r6/6 [==============================] - 3s 489ms/step - loss: 0.1535 - binary_accuracy: 0.9420 - lr: 5.0000e-05\n",
            "Epoch 36/50\n",
            "7/6 [================================] - ETA: 0s - loss: 0.1446 - binary_accuracy: 0.9464"
          ]
        },
        {
          "output_type": "stream",
          "name": "stderr",
          "text": [
            "WARNING:tensorflow:Early stopping conditioned on metric `val_loss` which is not available. Available metrics are: loss,binary_accuracy\n",
            "WARNING:tensorflow:Learning rate reduction is conditioned on metric `val_loss` which is not available. Available metrics are: loss,binary_accuracy,lr\n"
          ]
        },
        {
          "output_type": "stream",
          "name": "stdout",
          "text": [
            "\b\b\b\b\b\b\b\b\b\b\b\b\b\b\b\b\b\b\b\b\b\b\b\b\b\b\b\b\b\b\b\b\b\b\b\b\b\b\b\b\b\b\b\b\b\b\b\b\b\b\b\b\b\b\b\b\b\b\b\b\b\b\b\b\b\b\b\b\b\b\b\b\b\b\b\b\b\b\b\b\b\b\b\b\b\b\b\b\b\r6/6 [==============================] - 3s 492ms/step - loss: 0.1446 - binary_accuracy: 0.9464 - lr: 5.0000e-05\n",
            "Epoch 37/50\n",
            "7/6 [================================] - ETA: 0s - loss: 0.1787 - binary_accuracy: 0.9286"
          ]
        },
        {
          "output_type": "stream",
          "name": "stderr",
          "text": [
            "WARNING:tensorflow:Early stopping conditioned on metric `val_loss` which is not available. Available metrics are: loss,binary_accuracy\n",
            "WARNING:tensorflow:Learning rate reduction is conditioned on metric `val_loss` which is not available. Available metrics are: loss,binary_accuracy,lr\n"
          ]
        },
        {
          "output_type": "stream",
          "name": "stdout",
          "text": [
            "\b\b\b\b\b\b\b\b\b\b\b\b\b\b\b\b\b\b\b\b\b\b\b\b\b\b\b\b\b\b\b\b\b\b\b\b\b\b\b\b\b\b\b\b\b\b\b\b\b\b\b\b\b\b\b\b\b\b\b\b\b\b\b\b\b\b\b\b\b\b\b\b\b\b\b\b\b\b\b\b\b\b\b\b\b\b\b\b\b\r6/6 [==============================] - 3s 479ms/step - loss: 0.1787 - binary_accuracy: 0.9286 - lr: 5.0000e-05\n",
            "Epoch 38/50\n",
            "7/6 [================================] - ETA: 0s - loss: 0.1318 - binary_accuracy: 0.9554"
          ]
        },
        {
          "output_type": "stream",
          "name": "stderr",
          "text": [
            "WARNING:tensorflow:Early stopping conditioned on metric `val_loss` which is not available. Available metrics are: loss,binary_accuracy\n",
            "WARNING:tensorflow:Learning rate reduction is conditioned on metric `val_loss` which is not available. Available metrics are: loss,binary_accuracy,lr\n"
          ]
        },
        {
          "output_type": "stream",
          "name": "stdout",
          "text": [
            "\b\b\b\b\b\b\b\b\b\b\b\b\b\b\b\b\b\b\b\b\b\b\b\b\b\b\b\b\b\b\b\b\b\b\b\b\b\b\b\b\b\b\b\b\b\b\b\b\b\b\b\b\b\b\b\b\b\b\b\b\b\b\b\b\b\b\b\b\b\b\b\b\b\b\b\b\b\b\b\b\b\b\b\b\b\b\b\b\b\r6/6 [==============================] - 3s 455ms/step - loss: 0.1318 - binary_accuracy: 0.9554 - lr: 5.0000e-05\n",
            "Epoch 39/50\n",
            "7/6 [================================] - ETA: 0s - loss: 0.1510 - binary_accuracy: 0.9464"
          ]
        },
        {
          "output_type": "stream",
          "name": "stderr",
          "text": [
            "WARNING:tensorflow:Early stopping conditioned on metric `val_loss` which is not available. Available metrics are: loss,binary_accuracy\n",
            "WARNING:tensorflow:Learning rate reduction is conditioned on metric `val_loss` which is not available. Available metrics are: loss,binary_accuracy,lr\n"
          ]
        },
        {
          "output_type": "stream",
          "name": "stdout",
          "text": [
            "\b\b\b\b\b\b\b\b\b\b\b\b\b\b\b\b\b\b\b\b\b\b\b\b\b\b\b\b\b\b\b\b\b\b\b\b\b\b\b\b\b\b\b\b\b\b\b\b\b\b\b\b\b\b\b\b\b\b\b\b\b\b\b\b\b\b\b\b\b\b\b\b\b\b\b\b\b\b\b\b\b\b\b\b\b\b\b\b\b\r6/6 [==============================] - 3s 497ms/step - loss: 0.1510 - binary_accuracy: 0.9464 - lr: 5.0000e-05\n",
            "Epoch 40/50\n",
            "7/6 [================================] - ETA: 0s - loss: 0.1603 - binary_accuracy: 0.9152"
          ]
        },
        {
          "output_type": "stream",
          "name": "stderr",
          "text": [
            "WARNING:tensorflow:Early stopping conditioned on metric `val_loss` which is not available. Available metrics are: loss,binary_accuracy\n",
            "WARNING:tensorflow:Learning rate reduction is conditioned on metric `val_loss` which is not available. Available metrics are: loss,binary_accuracy,lr\n"
          ]
        },
        {
          "output_type": "stream",
          "name": "stdout",
          "text": [
            "\b\b\b\b\b\b\b\b\b\b\b\b\b\b\b\b\b\b\b\b\b\b\b\b\b\b\b\b\b\b\b\b\b\b\b\b\b\b\b\b\b\b\b\b\b\b\b\b\b\b\b\b\b\b\b\b\b\b\b\b\b\b\b\b\b\b\b\b\b\b\b\b\b\b\b\b\b\b\b\b\b\b\b\b\b\b\b\b\b\r6/6 [==============================] - 3s 496ms/step - loss: 0.1603 - binary_accuracy: 0.9152 - lr: 5.0000e-05\n",
            "Epoch 41/50\n",
            "7/6 [================================] - ETA: 0s - loss: 0.1629 - binary_accuracy: 0.9241"
          ]
        },
        {
          "output_type": "stream",
          "name": "stderr",
          "text": [
            "WARNING:tensorflow:Early stopping conditioned on metric `val_loss` which is not available. Available metrics are: loss,binary_accuracy\n",
            "WARNING:tensorflow:Learning rate reduction is conditioned on metric `val_loss` which is not available. Available metrics are: loss,binary_accuracy,lr\n"
          ]
        },
        {
          "output_type": "stream",
          "name": "stdout",
          "text": [
            "\b\b\b\b\b\b\b\b\b\b\b\b\b\b\b\b\b\b\b\b\b\b\b\b\b\b\b\b\b\b\b\b\b\b\b\b\b\b\b\b\b\b\b\b\b\b\b\b\b\b\b\b\b\b\b\b\b\b\b\b\b\b\b\b\b\b\b\b\b\b\b\b\b\b\b\b\b\b\b\b\b\b\b\b\b\b\b\b\b\r6/6 [==============================] - 3s 477ms/step - loss: 0.1629 - binary_accuracy: 0.9241 - lr: 5.0000e-05\n",
            "Epoch 42/50\n",
            "7/6 [================================] - ETA: 0s - loss: 0.1548 - binary_accuracy: 0.9464"
          ]
        },
        {
          "output_type": "stream",
          "name": "stderr",
          "text": [
            "WARNING:tensorflow:Early stopping conditioned on metric `val_loss` which is not available. Available metrics are: loss,binary_accuracy\n",
            "WARNING:tensorflow:Learning rate reduction is conditioned on metric `val_loss` which is not available. Available metrics are: loss,binary_accuracy,lr\n"
          ]
        },
        {
          "output_type": "stream",
          "name": "stdout",
          "text": [
            "\b\b\b\b\b\b\b\b\b\b\b\b\b\b\b\b\b\b\b\b\b\b\b\b\b\b\b\b\b\b\b\b\b\b\b\b\b\b\b\b\b\b\b\b\b\b\b\b\b\b\b\b\b\b\b\b\b\b\b\b\b\b\b\b\b\b\b\b\b\b\b\b\b\b\b\b\b\b\b\b\b\b\b\b\b\b\b\b\b\r6/6 [==============================] - 3s 488ms/step - loss: 0.1548 - binary_accuracy: 0.9464 - lr: 5.0000e-05\n",
            "Epoch 43/50\n",
            "7/6 [================================] - ETA: 0s - loss: 0.2092 - binary_accuracy: 0.9196"
          ]
        },
        {
          "output_type": "stream",
          "name": "stderr",
          "text": [
            "WARNING:tensorflow:Early stopping conditioned on metric `val_loss` which is not available. Available metrics are: loss,binary_accuracy\n",
            "WARNING:tensorflow:Learning rate reduction is conditioned on metric `val_loss` which is not available. Available metrics are: loss,binary_accuracy,lr\n"
          ]
        },
        {
          "output_type": "stream",
          "name": "stdout",
          "text": [
            "\b\b\b\b\b\b\b\b\b\b\b\b\b\b\b\b\b\b\b\b\b\b\b\b\b\b\b\b\b\b\b\b\b\b\b\b\b\b\b\b\b\b\b\b\b\b\b\b\b\b\b\b\b\b\b\b\b\b\b\b\b\b\b\b\b\b\b\b\b\b\b\b\b\b\b\b\b\b\b\b\b\b\b\b\b\b\b\b\b\r6/6 [==============================] - 3s 534ms/step - loss: 0.2092 - binary_accuracy: 0.9196 - lr: 5.0000e-05\n",
            "Epoch 44/50\n",
            "7/6 [================================] - ETA: 0s - loss: 0.1762 - binary_accuracy: 0.9241"
          ]
        },
        {
          "output_type": "stream",
          "name": "stderr",
          "text": [
            "WARNING:tensorflow:Early stopping conditioned on metric `val_loss` which is not available. Available metrics are: loss,binary_accuracy\n",
            "WARNING:tensorflow:Learning rate reduction is conditioned on metric `val_loss` which is not available. Available metrics are: loss,binary_accuracy,lr\n"
          ]
        },
        {
          "output_type": "stream",
          "name": "stdout",
          "text": [
            "\b\b\b\b\b\b\b\b\b\b\b\b\b\b\b\b\b\b\b\b\b\b\b\b\b\b\b\b\b\b\b\b\b\b\b\b\b\b\b\b\b\b\b\b\b\b\b\b\b\b\b\b\b\b\b\b\b\b\b\b\b\b\b\b\b\b\b\b\b\b\b\b\b\b\b\b\b\b\b\b\b\b\b\b\b\b\b\b\b\r6/6 [==============================] - 3s 521ms/step - loss: 0.1762 - binary_accuracy: 0.9241 - lr: 5.0000e-05\n",
            "Epoch 45/50\n",
            "7/6 [================================] - ETA: 0s - loss: 0.1394 - binary_accuracy: 0.9464"
          ]
        },
        {
          "output_type": "stream",
          "name": "stderr",
          "text": [
            "WARNING:tensorflow:Early stopping conditioned on metric `val_loss` which is not available. Available metrics are: loss,binary_accuracy\n",
            "WARNING:tensorflow:Learning rate reduction is conditioned on metric `val_loss` which is not available. Available metrics are: loss,binary_accuracy,lr\n"
          ]
        },
        {
          "output_type": "stream",
          "name": "stdout",
          "text": [
            "\b\b\b\b\b\b\b\b\b\b\b\b\b\b\b\b\b\b\b\b\b\b\b\b\b\b\b\b\b\b\b\b\b\b\b\b\b\b\b\b\b\b\b\b\b\b\b\b\b\b\b\b\b\b\b\b\b\b\b\b\b\b\b\b\b\b\b\b\b\b\b\b\b\b\b\b\b\b\b\b\b\b\b\b\b\b\b\b\b\r6/6 [==============================] - 3s 485ms/step - loss: 0.1394 - binary_accuracy: 0.9464 - lr: 5.0000e-05\n",
            "Epoch 46/50\n",
            "7/6 [================================] - ETA: 0s - loss: 0.1813 - binary_accuracy: 0.9152"
          ]
        },
        {
          "output_type": "stream",
          "name": "stderr",
          "text": [
            "WARNING:tensorflow:Early stopping conditioned on metric `val_loss` which is not available. Available metrics are: loss,binary_accuracy\n",
            "WARNING:tensorflow:Learning rate reduction is conditioned on metric `val_loss` which is not available. Available metrics are: loss,binary_accuracy,lr\n"
          ]
        },
        {
          "output_type": "stream",
          "name": "stdout",
          "text": [
            "\b\b\b\b\b\b\b\b\b\b\b\b\b\b\b\b\b\b\b\b\b\b\b\b\b\b\b\b\b\b\b\b\b\b\b\b\b\b\b\b\b\b\b\b\b\b\b\b\b\b\b\b\b\b\b\b\b\b\b\b\b\b\b\b\b\b\b\b\b\b\b\b\b\b\b\b\b\b\b\b\b\b\b\b\b\b\b\b\b\r6/6 [==============================] - 3s 509ms/step - loss: 0.1813 - binary_accuracy: 0.9152 - lr: 5.0000e-05\n",
            "Epoch 47/50\n",
            "7/6 [================================] - ETA: 0s - loss: 0.1247 - binary_accuracy: 0.9554"
          ]
        },
        {
          "output_type": "stream",
          "name": "stderr",
          "text": [
            "WARNING:tensorflow:Early stopping conditioned on metric `val_loss` which is not available. Available metrics are: loss,binary_accuracy\n",
            "WARNING:tensorflow:Learning rate reduction is conditioned on metric `val_loss` which is not available. Available metrics are: loss,binary_accuracy,lr\n"
          ]
        },
        {
          "output_type": "stream",
          "name": "stdout",
          "text": [
            "\b\b\b\b\b\b\b\b\b\b\b\b\b\b\b\b\b\b\b\b\b\b\b\b\b\b\b\b\b\b\b\b\b\b\b\b\b\b\b\b\b\b\b\b\b\b\b\b\b\b\b\b\b\b\b\b\b\b\b\b\b\b\b\b\b\b\b\b\b\b\b\b\b\b\b\b\b\b\b\b\b\b\b\b\b\b\b\b\b\r6/6 [==============================] - 6s 903ms/step - loss: 0.1247 - binary_accuracy: 0.9554 - lr: 5.0000e-05\n",
            "Epoch 48/50\n",
            "7/6 [================================] - ETA: 0s - loss: 0.2056 - binary_accuracy: 0.9241"
          ]
        },
        {
          "output_type": "stream",
          "name": "stderr",
          "text": [
            "WARNING:tensorflow:Early stopping conditioned on metric `val_loss` which is not available. Available metrics are: loss,binary_accuracy\n",
            "WARNING:tensorflow:Learning rate reduction is conditioned on metric `val_loss` which is not available. Available metrics are: loss,binary_accuracy,lr\n"
          ]
        },
        {
          "output_type": "stream",
          "name": "stdout",
          "text": [
            "\b\b\b\b\b\b\b\b\b\b\b\b\b\b\b\b\b\b\b\b\b\b\b\b\b\b\b\b\b\b\b\b\b\b\b\b\b\b\b\b\b\b\b\b\b\b\b\b\b\b\b\b\b\b\b\b\b\b\b\b\b\b\b\b\b\b\b\b\b\b\b\b\b\b\b\b\b\b\b\b\b\b\b\b\b\b\b\b\b\r6/6 [==============================] - 3s 513ms/step - loss: 0.2056 - binary_accuracy: 0.9241 - lr: 5.0000e-05\n",
            "Epoch 49/50\n",
            "7/6 [================================] - ETA: 0s - loss: 0.1784 - binary_accuracy: 0.9196"
          ]
        },
        {
          "output_type": "stream",
          "name": "stderr",
          "text": [
            "WARNING:tensorflow:Early stopping conditioned on metric `val_loss` which is not available. Available metrics are: loss,binary_accuracy\n",
            "WARNING:tensorflow:Learning rate reduction is conditioned on metric `val_loss` which is not available. Available metrics are: loss,binary_accuracy,lr\n"
          ]
        },
        {
          "output_type": "stream",
          "name": "stdout",
          "text": [
            "\b\b\b\b\b\b\b\b\b\b\b\b\b\b\b\b\b\b\b\b\b\b\b\b\b\b\b\b\b\b\b\b\b\b\b\b\b\b\b\b\b\b\b\b\b\b\b\b\b\b\b\b\b\b\b\b\b\b\b\b\b\b\b\b\b\b\b\b\b\b\b\b\b\b\b\b\b\b\b\b\b\b\b\b\b\b\b\b\b\r6/6 [==============================] - 3s 513ms/step - loss: 0.1784 - binary_accuracy: 0.9196 - lr: 5.0000e-05\n",
            "Epoch 50/50\n",
            "7/6 [================================] - ETA: 0s - loss: 0.1702 - binary_accuracy: 0.9330"
          ]
        },
        {
          "output_type": "stream",
          "name": "stderr",
          "text": [
            "WARNING:tensorflow:Early stopping conditioned on metric `val_loss` which is not available. Available metrics are: loss,binary_accuracy\n",
            "WARNING:tensorflow:Learning rate reduction is conditioned on metric `val_loss` which is not available. Available metrics are: loss,binary_accuracy,lr\n"
          ]
        },
        {
          "output_type": "stream",
          "name": "stdout",
          "text": [
            "\b\b\b\b\b\b\b\b\b\b\b\b\b\b\b\b\b\b\b\b\b\b\b\b\b\b\b\b\b\b\b\b\b\b\b\b\b\b\b\b\b\b\b\b\b\b\b\b\b\b\b\b\b\b\b\b\b\b\b\b\b\b\b\b\b\b\b\b\b\b\b\b\b\b\b\b\b\b\b\b\b\b\b\b\b\b\b\b\b\r6/6 [==============================] - 3s 465ms/step - loss: 0.1702 - binary_accuracy: 0.9330 - lr: 5.0000e-05\n"
          ]
        }
      ],
      "source": [
        "history = model_pretrained.fit(ds_train,\n",
        "          batch_size = BATCH, epochs = 50,\n",
        "          validation_data=ds_val,\n",
        "          callbacks=[early_stopping, plateau],\n",
        "          steps_per_epoch=(len(train_df)/BATCH),\n",
        "          validation_steps=(len(val_df)/BATCH));"
      ]
    },
    {
      "cell_type": "code",
      "execution_count": 113,
      "metadata": {
        "id": "uC9uAjJ-jeUX",
        "colab": {
          "base_uri": "https://localhost:8080/",
          "height": 379
        },
        "outputId": "714d7d97-feb5-47aa-84f2-e7e5764e86aa"
      },
      "outputs": [
        {
          "output_type": "display_data",
          "data": {
            "text/plain": [
              "<Figure size 1440x576 with 1 Axes>"
            ],
            "image/png": "[encoded data removed]"
          },
          "metadata": {
            "needs_background": "light"
          }
        }
      ],
      "source": [
        "fig, ax = plt.subplots(figsize=(20,8))\n",
        "sns.lineplot(x = history.epoch, y = history.history['loss'])\n",
        "# sns.lineplot(x = history.epoch, y = history.history['val_loss'])\n",
        "ax.set_title('Learning Curve (Loss)')\n",
        "ax.set_ylabel('Loss')\n",
        "ax.set_xlabel('Epoch')\n",
        "ax.set_ylim(0, 0.3)\n",
        "ax.legend(['train', 'val'], loc='best')\n",
        "plt.show()\n"
      ]
    },
    {
      "cell_type": "code",
      "execution_count": 114,
      "metadata": {
        "id": "oudD7bReju6O",
        "colab": {
          "base_uri": "https://localhost:8080/",
          "height": 379
        },
        "outputId": "5312fec9-9af1-40a5-e149-53b4001c53c7"
      },
      "outputs": [
        {
          "output_type": "display_data",
          "data": {
            "text/plain": [
              "<Figure size 1440x576 with 1 Axes>"
            ],
            "image/png": "[encoded data removed]"
          },
          "metadata": {
            "needs_background": "light"
          }
        }
      ],
      "source": [
        "fig, ax = plt.subplots(figsize=(20,8))\n",
        "sns.lineplot(x = history.epoch, y = history.history['binary_accuracy'])\n",
        "# sns.lineplot(x = history.epoch, y = history.history['val_binary_accuracy'])\n",
        "ax.set_title('Learning Curve (Accuracy)')\n",
        "ax.set_ylabel('Accuracy')\n",
        "ax.set_xlabel('Epoch')\n",
        "ax.set_ylim(0.90, 1.0)\n",
        "ax.legend(['train', 'val'], loc='best')\n",
        "plt.show()"
      ]
    },
    {
      "cell_type": "code",
      "execution_count": 115,
      "metadata": {
        "id": "_SQFQS7oj3u9",
        "colab": {
          "base_uri": "https://localhost:8080/"
        },
        "outputId": "abe5cac2-e4d4-454b-f340-25b228522b8f"
      },
      "outputs": [
        {
          "output_type": "stream",
          "name": "stderr",
          "text": [
            "WARNING:tensorflow:Your input ran out of data; interrupting training. Make sure that your dataset or generator can generate at least `steps_per_epoch * epochs` batches (in this case, 1.65625 batches). You may need to use the repeat() function when building your dataset.\n"
          ]
        },
        {
          "output_type": "stream",
          "name": "stdout",
          "text": [
            "Val loss: 0.46333953738212585\n",
            "Val accuracy: 0.8125\n"
          ]
        }
      ],
      "source": [
        "score = model_pretrained.evaluate(ds_val, steps = len(val_df)/BATCH, verbose = 0)\n",
        "print('Val loss:', score[0])\n",
        "print('Val accuracy:', score[1])"
      ]
    },
    {
      "cell_type": "code",
      "execution_count": 116,
      "metadata": {
        "id": "gB8dnSoLj646",
        "colab": {
          "base_uri": "https://localhost:8080/"
        },
        "outputId": "b8daec9d-0102-4417-d877-a985b0ed8483"
      },
      "outputs": [
        {
          "output_type": "stream",
          "name": "stdout",
          "text": [
            "Test loss: 0.4706278145313263\n",
            "Test accuracy: 0.8108974099159241\n"
          ]
        }
      ],
      "source": [
        "score = model_pretrained.evaluate(ds_test, steps = len(df_test), verbose = 0)\n",
        "print('Test loss:', score[0])\n",
        "print('Test accuracy:', score[1])"
      ]
    },
    {
      "cell_type": "markdown",
      "metadata": {
        "id": "GgrjSw07kBib"
      },
      "source": [
        "#Evaluation"
      ]
    },
    {
      "cell_type": "code",
      "execution_count": 117,
      "metadata": {
        "id": "m-AumY8skGzG"
      },
      "outputs": [],
      "source": [
        "num_label = {'Normal': 0, 'Pneumonia' : 1}\n",
        "Y_test = df_test['class'].copy().map(num_label).astype('int')"
      ]
    },
    {
      "cell_type": "code",
      "execution_count": 118,
      "metadata": {
        "id": "QqEUHLMYkKp_"
      },
      "outputs": [],
      "source": [
        "ds_test.reset()\n",
        "predictions = model_pretrained.predict(ds_test, steps=len(ds_test), verbose=0)\n",
        "pred_labels= np.where(predictions>0.5, 1, 0)"
      ]
    },
    {
      "cell_type": "code",
      "execution_count": 119,
      "metadata": {
        "id": "ZdZSKGnFkTSY",
        "colab": {
          "base_uri": "https://localhost:8080/"
        },
        "outputId": "ea592ce1-5e17-4d4b-b29b-f7bffd001b11"
      },
      "outputs": [
        {
          "output_type": "stream",
          "name": "stdout",
          "text": [
            "Test Accuracy:  0.8108974358974359\n"
          ]
        }
      ],
      "source": [
        "print(\"Test Accuracy: \", accuracy_score(Y_test, pred_labels))"
      ]
    },
    {
      "cell_type": "code",
      "execution_count": 120,
      "metadata": {
        "id": "-C2VmTPFkLmh",
        "colab": {
          "base_uri": "https://localhost:8080/",
          "height": 282
        },
        "outputId": "109c972c-7df8-4283-d23a-abc753ca5697"
      },
      "outputs": [
        {
          "output_type": "display_data",
          "data": {
            "text/plain": [
              "<Figure size 432x288 with 2 Axes>"
            ],
            "image/png": "[encoded data removed]"
          },
          "metadata": {
            "needs_background": "light"
          }
        }
      ],
      "source": [
        "confusion_matrix = metrics.confusion_matrix(Y_test, pred_labels)\n",
        "sns.heatmap(confusion_matrix, annot=True, fmt=\"d\")\n",
        "\n",
        "plt.xlabel(\"Predicted Label\", fontsize= 12)\n",
        "plt.ylabel(\"True Label\", fontsize= 12)\n",
        "\n",
        "plt.show()\n",
        "\n"
      ]
    },
    {
      "cell_type": "code",
      "execution_count": 121,
      "metadata": {
        "id": "5D1jhqhwkXVE",
        "colab": {
          "base_uri": "https://localhost:8080/"
        },
        "outputId": "ad956399-1136-4307-abff-dc110cbabfc7"
      },
      "outputs": [
        {
          "output_type": "stream",
          "name": "stdout",
          "text": [
            "                     precision    recall  f1-score   support\n",
            "\n",
            "Pneumonia (Class 0)       0.86      0.59      0.70       234\n",
            "   Normal (Class 1)       0.79      0.94      0.86       390\n",
            "\n",
            "           accuracy                           0.81       624\n",
            "          macro avg       0.83      0.77      0.78       624\n",
            "       weighted avg       0.82      0.81      0.80       624\n",
            "\n"
          ]
        }
      ],
      "source": [
        "print(classification_report(Y_test, pred_labels, target_names = ['Pneumonia (Class 0)','Normal (Class 1)']))"
      ]
    }
  ],
  "metadata": {
    "colab": {
      "provenance": [],
      "collapsed_sections": [
        "BX2XFXlDjXB2"
      ],
      "include_colab_link": true
    },
    "kernelspec": {
      "display_name": "Python 3",
      "name": "python3"
    },
    "language_info": {
      "name": "python"
    },
    "accelerator": "GPU",
    "gpuClass": "standard"
  },
  "nbformat": 4,
  "nbformat_minor": 0
}