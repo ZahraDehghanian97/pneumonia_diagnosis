{
 "nbformat": 4,
 "nbformat_minor": 0,
 "metadata": {
  "colab": {
   "name": "DDQN.ipynb",
   "provenance": []
  },
  "kernelspec": {
   "name": "python3",
   "display_name": "Python 3"
  },
  "language_info": {
   "name": "python"
  },
  "accelerator": "GPU",
  "gpuClass": "standard"
 },
 "cells": [
  {
   "cell_type": "markdown",
   "source": [
    "<div align=center>\n",
    "\t\t\n",
    "<p></p>\n",
    "<p></p>\n",
    "<font size=5>\n",
    "In the Name of God\n",
    "<font/>\n",
    "<p></p>\n",
    " <br/>\n",
    "    <br/>\n",
    "    <br/>\n",
    "<font color=#FF7500>\n",
    "Sharif University of Technology - Departmenet of Computer Engineering\n",
    "</font>\n",
    "<p></p>\n",
    "<font color=blue>\n",
    "Intelligent Analysis of\n",
    "Biomedical Images - Dr. Mohammad Hossein Rohban\n",
    "</font>\n",
    "<br/>\n",
    "<br/>\n",
    "Fall 2022\n",
    "\n",
    "</div>\n",
    "\n",
    "<hr/>\n",
    "\t\t<div align=center>\n",
    "\t\t    <font color=red size=6>\n",
    "\t\t\t    <br />\n",
    "Practical Assignment \n",
    "            \t<br/>\n",
    "\t\t\t</font>\n",
    "    <br/>\n",
    "    <br/>\n",
    "<font size=4>\n",
    "\t\t\t<br/><br/>\n",
    "Deadline:  Aban 16\n",
    "                <br/><b>\n",
    "              Cheating is Strongly Prohibited\n",
    "                </b><br/><br/>\n",
    "                <font color=red>\n",
    "Please run all the cells.\n",
    "     </font>\n",
    "</font>\n",
    "                <br/>\n",
    "    </div>"
   ],
   "metadata": {
    "id": "g1oDLRBPTnOt"
   }
  },
  {
   "cell_type": "markdown",
   "metadata": {
    "id": "xyAJO9HTfZ5y"
   },
   "source": [
    "# Personal Data\n"
   ]
  },
  {
   "cell_type": "code",
   "execution_count": null,
   "metadata": {
    "id": "nNmw4nhFfZ5z"
   },
   "outputs": [],
   "source": [
    "# Set your student number\n",
    "student_number = 98000000\n",
    "Name = ''\n",
    "Last_Name = ''"
   ]
  },
  {
   "cell_type": "markdown",
   "metadata": {
    "id": "5ZX6zn8ofZ50"
   },
   "source": [
    "# Rules\n",
    "- You are not allowed to use provided codes that can be found on the internet.\n",
    "- Do not hesitate to ask questions on Quera, if you have any."
   ]
  },
  {
   "cell_type": "markdown",
   "source": [
    "In this problem, you are asked to implement a Residual Neural Network for the X-ray images. You can use either Pytorch or Tensorflow. However, the library suggested in part D is implemented using Tensorflow, and it will be easier to use Tensorflow."
   ],
   "metadata": {
    "id": "42VDE8xJT4GU"
   }
  },
  {
   "cell_type": "markdown",
   "source": [
    "# A) Preprocess (5 points):"
   ],
   "metadata": {
    "collapsed": false
   }
  },
  {
   "cell_type": "markdown",
   "source": [
    "Import the libraries.\n"
   ],
   "metadata": {
    "id": "oECbPx8FTsUA"
   }
  },
  {
   "cell_type": "code",
   "source": [],
   "metadata": {
    "id": "uXw5NEiQK72N",
    "pycharm": {
     "name": "#%%\n"
    }
   },
   "execution_count": null,
   "outputs": []
  },
  {
   "cell_type": "markdown",
   "source": [
    "First mount to your Colab."
   ],
   "metadata": {
    "id": "irfvrM3FUcbd"
   }
  },
  {
   "cell_type": "code",
   "source": [],
   "metadata": {
    "id": "aSqldjofUbyZ"
   },
   "execution_count": null,
   "outputs": []
  },
  {
   "cell_type": "markdown",
   "source": [
    "Now download the dataset from [here](https://www.kaggle.com/datasets/paultimothymooney/chest-xray-pneumonia), and upload them to the same folder as this Google Colab is located. (1 point)"
   ],
   "metadata": {
    "id": "hrhkzMspUfVS"
   }
  },
  {
   "cell_type": "code",
   "source": [],
   "metadata": {
    "id": "2VtpkHNyiqRK"
   },
   "execution_count": null,
   "outputs": []
  },
  {
   "cell_type": "markdown",
   "source": [
    "Load the data. (1 point)\n",
    "\n",
    "Hint: See this [link](https://pytorch.org/tutorials/beginner/basics/data_tutorial.html)."
   ],
   "metadata": {
    "collapsed": false
   }
  },
  {
   "cell_type": "code",
   "execution_count": null,
   "outputs": [],
   "source": [],
   "metadata": {
    "collapsed": false,
    "pycharm": {
     "name": "#%%\n"
    }
   }
  },
  {
   "cell_type": "markdown",
   "source": [
    "Make the data ready for the training. Use data augmentation and transformation. (3 points)\n",
    "\n",
    "Hint: see this [link](https://pytorch.org/vision/stable/transforms.html)."
   ],
   "metadata": {
    "id": "hx4m59MvU2DV"
   }
  },
  {
   "cell_type": "code",
   "execution_count": null,
   "outputs": [],
   "source": [],
   "metadata": {
    "collapsed": false,
    "pycharm": {
     "name": "#%%\n"
    }
   }
  },
  {
   "cell_type": "markdown",
   "source": [
    "# B) Model (25 + 5 points):"
   ],
   "metadata": {
    "id": "9sLt799aVo7h"
   }
  },
  {
   "cell_type": "markdown",
   "source": [
    "Implement the model. (5 points)\n",
    "You can read about the residual neural networks in this [paper] (https://arxiv.org/abs/1512.03385).\n"
   ],
   "metadata": {
    "id": "P0kq3RMMVeIT"
   }
  },
  {
   "cell_type": "code",
   "source": [],
   "metadata": {
    "id": "tUrUoQF3K8yz"
   },
   "execution_count": null,
   "outputs": []
  },
  {
   "cell_type": "markdown",
   "source": [
    "Describe what the advantages of this network are over the other others. (5 points)"
   ],
   "metadata": {
    "collapsed": false
   }
  },
  {
   "cell_type": "markdown",
   "source": [],
   "metadata": {
    "collapsed": false,
    "pycharm": {
     "name": "#%% md\n"
    }
   }
  },
  {
   "cell_type": "markdown",
   "source": [
    "Use transfer leaning. (5 points)"
   ],
   "metadata": {
    "collapsed": false
   }
  },
  {
   "cell_type": "code",
   "execution_count": null,
   "outputs": [],
   "source": [],
   "metadata": {
    "collapsed": false,
    "pycharm": {
     "name": "#%%\n"
    }
   }
  },
  {
   "cell_type": "markdown",
   "source": [
    "Train the model. (5 points)"
   ],
   "metadata": {
    "id": "FL88xi4CVspF"
   }
  },
  {
   "cell_type": "code",
   "execution_count": null,
   "outputs": [],
   "source": [],
   "metadata": {
    "collapsed": false,
    "pycharm": {
     "name": "#%%\n"
    }
   }
  },
  {
   "cell_type": "markdown",
   "source": [
    "Evaluate your model. Use valid evaluation metrics for it. Analyze the results. (evaluation metrics: 5 points, analysis: 5 points, logical results: 5 points)"
   ],
   "metadata": {
    "id": "27bwT15lkGIH"
   }
  },
  {
   "cell_type": "code",
   "source": [],
   "metadata": {
    "collapsed": false,
    "pycharm": {
     "name": "#%%\n"
    }
   },
   "execution_count": null,
   "outputs": []
  },
  {
   "cell_type": "markdown",
   "source": [],
   "metadata": {
    "collapsed": false,
    "pycharm": {
     "name": "#%% md\n"
    }
   }
  },
  {
   "cell_type": "markdown",
   "source": [
    "# C) Data balancing (5 points)"
   ],
   "metadata": {
    "collapsed": false
   }
  },
  {
   "cell_type": "markdown",
   "source": [
    "Explain what you can do to balance the data (if it is imbalanced) or avoid overfitting. (2 points)"
   ],
   "metadata": {
    "collapsed": false
   }
  },
  {
   "cell_type": "markdown",
   "source": [],
   "metadata": {
    "collapsed": false
   }
  },
  {
   "cell_type": "markdown",
   "source": [
    "Implement your idea. (3 points)"
   ],
   "metadata": {
    "collapsed": false
   }
  },
  {
   "cell_type": "code",
   "execution_count": null,
   "outputs": [],
   "source": [],
   "metadata": {
    "collapsed": false,
    "pycharm": {
     "name": "#%%\n"
    }
   }
  },
  {
   "cell_type": "markdown",
   "source": [
    "# D) Interpretation (15 points)\n"
   ],
   "metadata": {
    "collapsed": false
   }
  },
  {
   "cell_type": "markdown",
   "source": [
    "Read about interpretability. Describe what the interpretation of the neural networks is. (5 points)"
   ],
   "metadata": {
    "collapsed": false
   }
  },
  {
   "cell_type": "markdown",
   "source": [
    "Read about interpretation methods in this [paper](https://arxiv.org/abs/1710.10547) or any other resources. Decide which interpretation method you will use, and explain it. (5 points)"
   ],
   "metadata": {
    "collapsed": false
   }
  },
  {
   "cell_type": "markdown",
   "source": [],
   "metadata": {
    "collapsed": false,
    "pycharm": {
     "name": "#%% md\n"
    }
   }
  },
  {
   "cell_type": "markdown",
   "source": [
    "Implement the method and visualize the output of 10 input images. You may use any available libraries for this matter. You may want to check out [this link](https://github.com/sicara/tf-explain). (5 points)"
   ],
   "metadata": {
    "collapsed": false
   }
  },
  {
   "cell_type": "code",
   "execution_count": null,
   "outputs": [],
   "source": [],
   "metadata": {
    "collapsed": false,
    "pycharm": {
     "name": "#%%\n"
    }
   }
  },
  {
   "cell_type": "markdown",
   "source": [
    "# Resources"
   ],
   "metadata": {
    "id": "RdSVkhn5RW6A"
   }
  },
  {
   "cell_type": "markdown",
   "source": [
    "Specify other resources (if any) you used for this question."
   ],
   "metadata": {
    "id": "PWJLNU6BRbql"
   }
  }
 ]
}